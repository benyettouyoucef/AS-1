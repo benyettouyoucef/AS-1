{
 "cells": [
  {
   "cell_type": "markdown",
   "metadata": {
    "toc": "true"
   },
   "source": [
    "# Table of Contents\n",
    " <p><div class=\"lev1 toc-item\"><a href=\"#An-Introduction-to-Torch-Framework\" data-toc-modified-id=\"An-Introduction-to-Torch-Framework-1\"><span class=\"toc-item-num\">1&nbsp;&nbsp;</span>An Introduction to Torch Framework</a></div><div class=\"lev2 toc-item\"><a href=\"#Context\" data-toc-modified-id=\"Context-1.1\"><span class=\"toc-item-num\">1.1&nbsp;&nbsp;</span>Context</a></div><div class=\"lev2 toc-item\"><a href=\"#In-a-nutshell-:\" data-toc-modified-id=\"In-a-nutshell-:-1.2\"><span class=\"toc-item-num\">1.2&nbsp;&nbsp;</span>In a nutshell :</a></div><div class=\"lev1 toc-item\"><a href=\"#Implementations\" data-toc-modified-id=\"Implementations-2\"><span class=\"toc-item-num\">2&nbsp;&nbsp;</span>Implementations</a></div>"
   ]
  },
  {
   "cell_type": "markdown",
   "metadata": {},
   "source": [
    "# An Introduction to Torch Framework"
   ]
  },
  {
   "cell_type": "markdown",
   "metadata": {},
   "source": [
    "## Context\n",
    "\n",
    "* **Institution** Pierre & Marie Curie Sorbonne University\n",
    "* **Master DAC** Machine Learning and Deep Learning\n",
    "* **Professors** Patrick Gallinari, Ludovic Denoyer, Nicolas Baskiotis\n",
    "* **Students** : Youcef Benyettou & David Panou"
   ]
  },
  {
   "cell_type": "markdown",
   "metadata": {},
   "source": [
    "This notebook follows the instructions given in _\"Guide LUA\"_ written by **Prof. Denoyer** and **Prof. Baskiotis** at UPMC.\n",
    "Its intent is to allow the newcomers to get into LUA parametric models."
   ]
  },
  {
   "cell_type": "markdown",
   "metadata": {},
   "source": [
    "## In a nutshell : \n",
    "1. A loss can :\n",
    "    * Can calculate its value by comparing the output for a given input \n",
    "    * Can compute its derivative for a given entry data point\n",
    "2. A module can :\n",
    "    * Can compute it's output for a given input (using its forward method)\n",
    "    * Can update its gradient using its entry value and is delta (i.e the derivative of its error for a given output which is transmitted by the following module  loss)\n",
    "    * Can compute its delta (the derivative of its error compared to ..)\n"
   ]
  },
  {
   "cell_type": "markdown",
   "metadata": {},
   "source": [
    "# Implementations"
   ]
  },
  {
   "cell_type": "code",
   "execution_count": null,
   "metadata": {
    "collapsed": true
   },
   "outputs": [],
   "source": []
  },
  {
   "cell_type": "code",
   "execution_count": null,
   "metadata": {
    "collapsed": true
   },
   "outputs": [],
   "source": []
  },
  {
   "cell_type": "code",
   "execution_count": null,
   "metadata": {
    "collapsed": true
   },
   "outputs": [],
   "source": []
  },
  {
   "cell_type": "code",
   "execution_count": null,
   "metadata": {
    "collapsed": true
   },
   "outputs": [],
   "source": []
  },
  {
   "cell_type": "code",
   "execution_count": null,
   "metadata": {
    "collapsed": true
   },
   "outputs": [],
   "source": []
  },
  {
   "cell_type": "code",
   "execution_count": null,
   "metadata": {
    "collapsed": true
   },
   "outputs": [],
   "source": []
  },
  {
   "cell_type": "code",
   "execution_count": null,
   "metadata": {
    "collapsed": true
   },
   "outputs": [],
   "source": []
  },
  {
   "cell_type": "code",
   "execution_count": null,
   "metadata": {
    "collapsed": true
   },
   "outputs": [],
   "source": []
  },
  {
   "cell_type": "code",
   "execution_count": null,
   "metadata": {
    "collapsed": true
   },
   "outputs": [],
   "source": []
  },
  {
   "cell_type": "code",
   "execution_count": null,
   "metadata": {
    "collapsed": true
   },
   "outputs": [],
   "source": []
  },
  {
   "cell_type": "code",
   "execution_count": null,
   "metadata": {
    "collapsed": true
   },
   "outputs": [],
   "source": []
  }
 ],
 "metadata": {
  "kernelspec": {
   "display_name": "iTorch",
   "language": "lua",
   "name": "itorch"
  },
  "language_info": {
   "name": "lua",
   "version": "20100"
  },
  "latex_envs": {
   "bibliofile": "biblio.bib",
   "cite_by": "apalike",
   "current_citInitial": 1,
   "eqLabelWithNumbers": true,
   "eqNumInitial": 0
  },
  "nav_menu": {},
  "toc": {
   "navigate_menu": true,
   "number_sections": true,
   "sideBar": true,
   "threshold": 6,
   "toc_cell": true,
   "toc_section_display": "block",
   "toc_window_display": false
  }
 },
 "nbformat": 4,
 "nbformat_minor": 0
}
