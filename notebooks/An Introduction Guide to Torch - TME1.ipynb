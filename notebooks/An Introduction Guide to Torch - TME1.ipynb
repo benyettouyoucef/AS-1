{
 "cells": [
  {
   "cell_type": "markdown",
   "metadata": {
    "toc": "true"
   },
   "source": [
    "# Table of Contents\n",
    " <p><div class=\"lev1 toc-item\"><a href=\"#An-Introduction-to-Torch-Framework\" data-toc-modified-id=\"An-Introduction-to-Torch-Framework-1\"><span class=\"toc-item-num\">1&nbsp;&nbsp;</span>An Introduction to Torch Framework</a></div><div class=\"lev2 toc-item\"><a href=\"#Context\" data-toc-modified-id=\"Context-1.1\"><span class=\"toc-item-num\">1.1&nbsp;&nbsp;</span>Context</a></div><div class=\"lev2 toc-item\"><a href=\"#In-a-nutshell-:\" data-toc-modified-id=\"In-a-nutshell-:-1.2\"><span class=\"toc-item-num\">1.2&nbsp;&nbsp;</span>In a nutshell :</a></div><div class=\"lev1 toc-item\"><a href=\"#Implementations\" data-toc-modified-id=\"Implementations-2\"><span class=\"toc-item-num\">2&nbsp;&nbsp;</span>Implementations</a></div><div class=\"lev2 toc-item\"><a href=\"#Loading-the-required-modules\" data-toc-modified-id=\"Loading-the-required-modules-2.1\"><span class=\"toc-item-num\">2.1&nbsp;&nbsp;</span>Loading the required modules</a></div><div class=\"lev2 toc-item\"><a href=\"#Initiallizing-default-parameters\" data-toc-modified-id=\"Initiallizing-default-parameters-2.2\"><span class=\"toc-item-num\">2.2&nbsp;&nbsp;</span>Initiallizing default parameters</a></div><div class=\"lev2 toc-item\"><a href=\"#Linear-Models---Overview\" data-toc-modified-id=\"Linear-Models---Overview-2.3\"><span class=\"toc-item-num\">2.3&nbsp;&nbsp;</span>Linear Models - Overview</a></div><div class=\"lev3 toc-item\"><a href=\"#Linear-Models-:-definition\" data-toc-modified-id=\"Linear-Models-:-definition-2.3.1\"><span class=\"toc-item-num\">2.3.1&nbsp;&nbsp;</span>Linear Models : definition</a></div><div class=\"lev3 toc-item\"><a href=\"#Fitting-linear-model\" data-toc-modified-id=\"Fitting-linear-model-2.3.2\"><span class=\"toc-item-num\">2.3.2&nbsp;&nbsp;</span>Fitting linear model</a></div>"
   ]
  },
  {
   "cell_type": "markdown",
   "metadata": {},
   "source": [
    "# An Introduction to Torch Framework"
   ]
  },
  {
   "cell_type": "markdown",
   "metadata": {},
   "source": [
    "## Context\n",
    "\n",
    "* **Institution** Pierre & Marie Curie Sorbonne University\n",
    "* **Master DAC** Machine Learning and Deep Learning\n",
    "* **Professors** Patrick Gallinari, Ludovic Denoyer, Nicolas Baskiotis\n",
    "* **Students** : Youcef Benyettou & David Panou"
   ]
  },
  {
   "cell_type": "markdown",
   "metadata": {},
   "source": [
    "This notebook follows the instructions given in _\"Guide LUA\"_ written by **Prof. Denoyer** and **Prof. Baskiotis** at UPMC.\n",
    "Its intent is to allow the newcomers to get into LUA parametric models."
   ]
  },
  {
   "cell_type": "markdown",
   "metadata": {},
   "source": [
    "## In a nutshell : \n",
    "1. A loss can :\n",
    "    * Can calculate its value by comparing the output for a given input \n",
    "    * Can compute its derivative for a given entry data point\n",
    "2. A module can :\n",
    "    * Can compute it's output for a given input (using its forward method)\n",
    "    * Can update its gradient using its entry value and is delta (i.e the derivative of its error for a given output which is transmitted by the following module  loss)\n",
    "    * Can compute its delta (the derivative of its error compared to ..)\n"
   ]
  },
  {
   "cell_type": "markdown",
   "metadata": {},
   "source": [
    "# Implementations"
   ]
  },
  {
   "cell_type": "markdown",
   "metadata": {
    "ExecuteTime": {
     "end_time": "2016-10-01T15:04:42",
     "start_time": "2016-10-01T22:04:42.555Z"
    }
   },
   "source": [
    "## Loading the required modules"
   ]
  },
  {
   "cell_type": "code",
   "execution_count": 40,
   "metadata": {
    "ExecuteTime": {
     "end_time": "2016-10-01T16:34:39",
     "start_time": "2016-10-01T23:34:39.401Z"
    },
    "collapsed": false
   },
   "outputs": [],
   "source": [
    "require 'nn'\n",
    "require 'gnuplot'\n",
    "require 'tools'"
   ]
  },
  {
   "cell_type": "markdown",
   "metadata": {
    "ExecuteTime": {
     "end_time": "2016-10-01T16:34:55",
     "start_time": "2016-10-01T23:34:55.565Z"
    }
   },
   "source": [
    "## Initiallizing default parameters"
   ]
  },
  {
   "cell_type": "code",
   "execution_count": 166,
   "metadata": {
    "ExecuteTime": {
     "end_time": "2016-10-01T17:13:58",
     "start_time": "2016-10-02T00:13:58.565Z"
    },
    "collapsed": true
   },
   "outputs": [],
   "source": [
    "-- 1: Create a artificial dataset\n",
    "DIMENSION=2 -- Entry dataset features dimensions\n",
    "n_points=1000 -- Number of samples\n",
    "  \n",
    "-- We create two gaussians\n",
    "mean_positive=torch.Tensor(DIMENSION):fill(1); \n",
    "var_positive=1.0\n",
    "\n",
    "mean_negative=torch.Tensor(DIMENSION):fill(-1); \n",
    "var_negative=1.0\n",
    "\n",
    "xs=torch.Tensor(n_points,DIMENSION)\n",
    "ys=torch.Tensor(n_points,1)\n",
    "for i=1,n_points/2 do  xs[i]:copy(torch.randn(DIMENSION)*var_positive+mean_positive); ys[i][1]=1 end\n",
    "for i=n_points/2+1,n_points do xs[i]:copy(torch.randn(DIMENSION)*var_negative+mean_negative); ys[i][1]=-1 end\n",
    "   "
   ]
  },
  {
   "cell_type": "markdown",
   "metadata": {
    "ExecuteTime": {
     "end_time": "2016-10-01T15:07:09",
     "start_time": "2016-10-01T22:07:09.793Z"
    }
   },
   "source": [
    "## Linear Models - Overview"
   ]
  },
  {
   "cell_type": "markdown",
   "metadata": {},
   "source": [
    "### Linear Models : definition\n",
    "A linear model is defined by the following equation :\n",
    "\n",
    "$$ \\hat{Y} = \\hat{\\beta_{0}} + \\sum_{j=1}^{p}X_{j}*\\hat{\\beta_{j}}$$\n",
    "\n",
    "With the $\\beta$ vector being the model parameters.  This can be noted by the following vector product  : $$ \\hat{Y} = \\beta^T X$$ \n",
    "\n",
    "By design, linear models makes **huge** structural assumption about the data at hand. Thus sometimes, prediction power can be lowered but is very stable.\n",
    "\n",
    "Such a discussion is about the **bias-variance dilemma** that is reminded at the end of this notebook.\n",
    "\n",
    "### Fitting linear model\n",
    "\n",
    "Linear models are usually fitted using the parameter combination that minimize the **Residual Sum of Square** _(RSS)_ parameter.\n",
    "\n",
    "$$ RSS(\\beta) = \\sum_{i=0}^{N}(y_{i}-x^{T}_{i}\\beta)^2$$"
   ]
  },
  {
   "cell_type": "code",
   "execution_count": 199,
   "metadata": {
    "ExecuteTime": {
     "end_time": "2016-10-01T17:21:20",
     "start_time": "2016-10-02T00:21:20.889Z"
    },
    "collapsed": false
   },
   "outputs": [],
   "source": [
    "-- 2 : Creation of the model\n",
    "model = nn.Linear(2,1)\n",
    "criterion = nn.MSECriterion()\n",
    "model:zeroGradParameters() -- Here, we are setting the cummulative of the gradients parameters to be equal to 0\n",
    "model:reset()"
   ]
  },
  {
   "cell_type": "code",
   "execution_count": 200,
   "metadata": {
    "ExecuteTime": {
     "end_time": "2016-10-01T17:21:21",
     "start_time": "2016-10-02T00:21:21.023Z"
    },
    "collapsed": false
   },
   "outputs": [
    {
     "ename": "[string \"-- 3 : Boucle d'apprentissage...\"]:10: function arguments expected near 'local'",
     "evalue": "",
     "output_type": "error",
     "traceback": [
      "[string \"-- 3 : Boucle d'apprentissage...\"]:10: function arguments expected near 'local'"
     ]
    }
   ],
   "source": [
    "-- 3 : Boucle d'apprentissage\n",
    "local learning_rate= torch.random(0,10)/10000\n",
    "local maxEpoch = 2\n",
    "local all_losses={}\n",
    "for iteration=1,maxEpoch do\n",
    "    model:zeroGradParameters()\n",
    "    ------ Evaluation de la loss moyenne \n",
    "    loss=0\n",
    "    ---- calcul de la loss moyenne \n",
    "    all_losses[iteration]=loss  --stockage de la loss moyenne (pour dessin)\n",
    "    -- version gradient stochastique\n",
    "    -- TODO\n",
    "    -- version gradient batch\n",
    "    -- TODO\n",
    "    -- plot de la frontiere ou plot du loss (utiliser l'un ou l'autre)\n",
    "    --plot(xs,ys,model,100)  -- uniquement si DIMENSION=2\n",
    "gnuplot.plot(torch.Tensor(all_losses)) \n",
    "end"
   ]
  },
  {
   "cell_type": "code",
   "execution_count": 48,
   "metadata": {
    "ExecuteTime": {
     "end_time": "2016-10-01T16:46:45",
     "start_time": "2016-10-01T23:46:45.413Z"
    },
    "collapsed": false
   },
   "outputs": [],
   "source": [
    "Y = torch.Tensor(50,1)\n",
    "for i=1,50 do Y[i]=i end\n",
    "x = torch.Tensor(50,1)"
   ]
  },
  {
   "cell_type": "code",
   "execution_count": 87,
   "metadata": {
    "ExecuteTime": {
     "end_time": "2016-10-01T16:49:59",
     "start_time": "2016-10-01T23:49:59.634Z"
    },
    "collapsed": false
   },
   "outputs": [
    {
     "ename": "...rs/david/torch/install/share/lua/5.1/gnuplot/gnuplot.lua:613: bad argument #2 to 'format' (number expected, got userdata)\nstack traceback:\n\t[C]: in function 'format'\n\t...rs/david/torch/install/share/lua/5.1/gnuplot/gnuplot.lua:613: in function 'gnuplot_string'\n\t...rs/david/torch/install/share/lua/5.1/gnuplot/gnuplot.lua:835: in function 'gnulplot'\n\t...rs/david/torch/install/share/lua/5.1/gnuplot/gnuplot.lua:976: in function 'f'\n\t[string \"local f = function() return gnuplot.plot(Y,to...\"]:1: in main chunk\n\t[C]: in function 'xpcall'\n\t/Users/david/torch/install/share/lua/5.1/itorch/main.lua:179: in function </Users/david/torch/install/share/lua/5.1/itorch/main.lua:143>\n\t/Users/david/torch/install/share/lua/5.1/lzmq/poller.lua:75: in function 'poll'\n\t/Users/david/torch/install/share/lua/5.1/lzmq/impl/loop.lua:307: in function 'poll'\n\t/Users/david/torch/install/share/lua/5.1/lzmq/impl/loop.lua:325: in function 'sleep_ex'\n\t/Users/david/torch/install/share/lua/5.1/lzmq/impl/loop.lua:370: in function 'start'\n\t/Users/david/torch/install/share/lua/5.1/itorch/main.lua:350: in main chunk\n\t[C]: in function 'require'\n\t(command line):1: in main chunk\n\t[C]: at 0x010eaa4bd0",
     "evalue": "",
     "output_type": "error",
     "traceback": [
      "...rs/david/torch/install/share/lua/5.1/gnuplot/gnuplot.lua:613: bad argument #2 to 'format' (number expected, got userdata)\nstack traceback:\n\t[C]: in function 'format'\n\t...rs/david/torch/install/share/lua/5.1/gnuplot/gnuplot.lua:613: in function 'gnuplot_string'\n\t...rs/david/torch/install/share/lua/5.1/gnuplot/gnuplot.lua:835: in function 'gnulplot'\n\t...rs/david/torch/install/share/lua/5.1/gnuplot/gnuplot.lua:976: in function 'f'\n\t[string \"local f = function() return gnuplot.plot(Y,to...\"]:1: in main chunk\n\t[C]: in function 'xpcall'\n\t/Users/david/torch/install/share/lua/5.1/itorch/main.lua:179: in function </Users/david/torch/install/share/lua/5.1/itorch/main.lua:143>\n\t/Users/david/torch/install/share/lua/5.1/lzmq/poller.lua:75: in function 'poll'\n\t/Users/david/torch/install/share/lua/5.1/lzmq/impl/loop.lua:307: in function 'poll'\n\t/Users/david/torch/install/share/lua/5.1/lzmq/impl/loop.lua:325: in function 'sleep_ex'\n\t/Users/david/torch/install/share/lua/5.1/lzmq/impl/loop.lua:370: in function 'start'\n\t/Users/david/torch/install/share/lua/5.1/itorch/main.lua:350: in main chunk\n\t[C]: in function 'require'\n\t(command line):1: in main chunk\n\t[C]: at 0x010eaa4bd0"
     ]
    }
   ],
   "source": [
    "gnuplot.plot(Y,)"
   ]
  },
  {
   "cell_type": "code",
   "execution_count": null,
   "metadata": {
    "collapsed": true
   },
   "outputs": [],
   "source": []
  },
  {
   "cell_type": "code",
   "execution_count": null,
   "metadata": {
    "collapsed": true
   },
   "outputs": [],
   "source": []
  },
  {
   "cell_type": "code",
   "execution_count": null,
   "metadata": {
    "collapsed": true
   },
   "outputs": [],
   "source": []
  },
  {
   "cell_type": "code",
   "execution_count": null,
   "metadata": {
    "collapsed": true
   },
   "outputs": [],
   "source": []
  }
 ],
 "metadata": {
  "kernelspec": {
   "display_name": "iTorch",
   "language": "lua",
   "name": "itorch"
  },
  "language_info": {
   "name": "lua",
   "version": "20100"
  },
  "latex_envs": {
   "bibliofile": "biblio.bib",
   "cite_by": "apalike",
   "current_citInitial": 1,
   "eqLabelWithNumbers": true,
   "eqNumInitial": 0
  },
  "nav_menu": {},
  "toc": {
   "navigate_menu": true,
   "number_sections": true,
   "sideBar": true,
   "threshold": 6,
   "toc_cell": true,
   "toc_section_display": "block",
   "toc_window_display": false
  }
 },
 "nbformat": 4,
 "nbformat_minor": 0
}
