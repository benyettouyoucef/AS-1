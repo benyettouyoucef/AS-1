{
 "cells": [
  {
   "cell_type": "markdown",
   "metadata": {
    "toc": "true"
   },
   "source": [
    "# Table of Contents\n",
    " <p><div class=\"lev1 toc-item\"><a href=\"#Data-loading\" data-toc-modified-id=\"Data-loading-1\"><span class=\"toc-item-num\">1&nbsp;&nbsp;</span>Data loading</a></div><div class=\"lev2 toc-item\"><a href=\"#Shuffling-the-dataset-using-a-loop\" data-toc-modified-id=\"Shuffling-the-dataset-using-a-loop-1.1\"><span class=\"toc-item-num\">1.1&nbsp;&nbsp;</span>Shuffling the dataset using a loop</a></div><div class=\"lev2 toc-item\"><a href=\"#Accuracy-implementation\" data-toc-modified-id=\"Accuracy-implementation-1.2\"><span class=\"toc-item-num\">1.2&nbsp;&nbsp;</span>Accuracy implementation</a></div><div class=\"lev2 toc-item\"><a href=\"#Batch-and-Stochastic-Gradient-Descent\" data-toc-modified-id=\"Batch-and-Stochastic-Gradient-Descent-1.3\"><span class=\"toc-item-num\">1.3&nbsp;&nbsp;</span>Batch and Stochastic Gradient Descent</a></div><div class=\"lev3 toc-item\"><a href=\"#Batch-Gradient-Descent\" data-toc-modified-id=\"Batch-Gradient-Descent-1.3.1\"><span class=\"toc-item-num\">1.3.1&nbsp;&nbsp;</span>Batch Gradient Descent</a></div><div class=\"lev2 toc-item\"><a href=\"#Visualization--\" data-toc-modified-id=\"Visualization---1.4\"><span class=\"toc-item-num\">1.4&nbsp;&nbsp;</span>Visualization -</a></div><div class=\"lev2 toc-item\"><a href=\"#Stochastic-Gradient\" data-toc-modified-id=\"Stochastic-Gradient-1.5\"><span class=\"toc-item-num\">1.5&nbsp;&nbsp;</span>Stochastic Gradient</a></div><div class=\"lev1 toc-item\"><a href=\"#Train---Test\" data-toc-modified-id=\"Train---Test-2\"><span class=\"toc-item-num\">2&nbsp;&nbsp;</span>Train - Test</a></div><div class=\"lev1 toc-item\"><a href=\"#Deeper-than-Train---Test\" data-toc-modified-id=\"Deeper-than-Train---Test-3\"><span class=\"toc-item-num\">3&nbsp;&nbsp;</span>Deeper than Train - Test</a></div>"
   ]
  },
  {
   "cell_type": "markdown",
   "metadata": {
    "ExecuteTime": {
     "start_time": "2016-10-13T22:10:40.750Z"
    },
    "collapsed": true,
    "run_control": {
     "marked": false
    }
   },
   "source": [
    "# Data loading"
   ]
  },
  {
   "cell_type": "markdown",
   "metadata": {
    "ExecuteTime": {
     "end_time": "2016-10-14T00:31:15",
     "start_time": "2016-10-13T22:31:15.032Z"
    }
   },
   "source": [
    "First we are about to write down a script that adapt the mnist dataset to our needs, meaning :\n",
    "\n",
    "* Transform mnist dataset into a 60000 x 784 instead of a 60000 x 28 x 28 tensor\n",
    "* Normalize data between 0 and 1\n",
    "* Return as shuffled version of the dataset with the corresponding labels, renaming classes as -1 or +1.\n",
    "\n",
    "We will then consider two classes of the mnist dataset to make our classification task."
   ]
  },
  {
   "cell_type": "code",
   "execution_count": 2,
   "metadata": {
    "ExecuteTime": {
     "end_time": "2016-10-23T22:53:16",
     "start_time": "2016-10-23T20:53:16.789Z"
    },
    "collapsed": true
   },
   "outputs": [],
   "source": [
    "-- Data initialization"
   ]
  },
  {
   "cell_type": "code",
   "execution_count": 3,
   "metadata": {
    "ExecuteTime": {
     "end_time": "2016-10-23T22:53:17",
     "start_time": "2016-10-23T20:53:16.989Z"
    },
    "collapsed": true
   },
   "outputs": [],
   "source": [
    "mnist = require 'mnist'\n",
    "require 'nn';\n",
    "train = mnist.traindataset()\n",
    "labels = train.label"
   ]
  },
  {
   "cell_type": "code",
   "execution_count": 4,
   "metadata": {
    "ExecuteTime": {
     "end_time": "2016-10-23T22:53:17",
     "start_time": "2016-10-23T20:53:16.993Z"
    },
    "collapsed": true
   },
   "outputs": [],
   "source": [
    "reshaped_data = torch.reshape(train.data, 60000,784)"
   ]
  },
  {
   "cell_type": "markdown",
   "metadata": {
    "ExecuteTime": {
     "end_time": "2016-10-14T14:57:20",
     "start_time": "2016-10-14T12:57:20.741Z"
    }
   },
   "source": [
    "## Shuffling the dataset using a loop"
   ]
  },
  {
   "cell_type": "code",
   "execution_count": 5,
   "metadata": {
    "ExecuteTime": {
     "end_time": "2016-10-23T22:53:17",
     "start_time": "2016-10-23T20:53:17.494Z"
    },
    "collapsed": true
   },
   "outputs": [],
   "source": [
    "function mnist_munging(data,labels)\n",
    "    -- We are going to time the script. It is a good habit to have.\n",
    "    timer = torch.Timer()    \n",
    "    times = {}\n",
    "    times[\"reshaping\"]  = timer:time().real\n",
    "    -- Reshaping and normalizing\n",
    "    local reshaped_data = reshaped_data:double()\n",
    "    reshaped_data = reshaped_data/torch.max(reshaped_data)\n",
    "    times[\"reshaping\"] = timer:time().real - times[\"reshaping\"]\n",
    "    print(\"times : \")\n",
    "    print(times)\n",
    "    return reshaped_data\n",
    "end"
   ]
  },
  {
   "cell_type": "code",
   "execution_count": 6,
   "metadata": {
    "ExecuteTime": {
     "end_time": "2016-10-23T22:53:17",
     "start_time": "2016-10-23T20:53:17.648Z"
    },
    "collapsed": false
   },
   "outputs": [],
   "source": [
    "function classify_training_examples(reshaped_data,labels)\n",
    "    -- Now we will gather the training examples by labels.\n",
    "    timer = torch.Timer()    \n",
    "    times = {}\n",
    "    times[\"classifying\"]  = timer:time().real\n",
    "    -- basic type checking  -- TODO Doesn't work right now.\n",
    "    if type(labels) == nil then\n",
    "        return \"please provide some good labels\"\n",
    "    end\n",
    "    \n",
    "    -- We create the appropriate tensors in order to stock the training examples\n",
    "    local classified_examples = {}    \n",
    "    for i=0,9 do\n",
    "        classified_examples[i] = {}\n",
    "        classified_examples[i][\"data\"] = {} \n",
    "        classified_examples[i][\"count\"] = 0\n",
    "    end\n",
    "    \n",
    "    for i=1,(#reshaped_data)[1] do\n",
    "        classified_examples[labels[i]][\"count\"] = classified_examples[labels[i]][\"count\"] + 1\n",
    "        classified_examples[labels[i]]['data'][classified_examples[labels[i]][\"count\"]] = reshaped_data[i]\n",
    "    end\n",
    "    times[\"classifying\"] = timer:time().real - times[\"classifying\"]\n",
    "    print(\"times : \")\n",
    "    print(times)\n",
    "    return classified_examples\n",
    "end"
   ]
  },
  {
   "cell_type": "code",
   "execution_count": 7,
   "metadata": {
    "ExecuteTime": {
     "end_time": "2016-10-23T22:53:17",
     "start_time": "2016-10-23T20:53:17.657Z"
    },
    "collapsed": false
   },
   "outputs": [],
   "source": [
    "function convert_to_tensor(data_table)\n",
    "    -- This method convert the data type from a table to a Tensor\n",
    "    local result_tensor = torch.Tensor(#data_table,784)\n",
    "    for i=1,#data_table do\n",
    "        result_tensor[i] = data_table[i]\n",
    "    end\n",
    "    return result_tensor\n",
    "end\n",
    "\n",
    "function get_target_classes(classified_dataset,class_1,class_2)\n",
    "    times = {}\n",
    "    timer = torch.Timer()\n",
    "    times[\"global\"] = timer:time().real\n",
    "    \n",
    "    --This method returns the targeted classes if they are included into the classes existing in the dataset.\n",
    "    print(\"# of example of class \".. class_1 .. \" : \" .. classified_dataset[class_1].count)\n",
    "    print(\"# of example of class \" .. class_2 .. \" : \" .. classified_dataset[class_2].count)\n",
    "    \n",
    "    -- We then create a dataset containing all the data with the correct label\n",
    "    \n",
    "    local trainset = {}\n",
    "    \n",
    "    local look_up_trainset = {}\n",
    "    -- filling up with class_1 examples \n",
    "    for i=1,classified_dataset[class_1].count do \n",
    "        look_up_trainset[i] = {}\n",
    "        look_up_trainset[i][\"data\"] = classified_dataset[class_1].data[i]\n",
    "        look_up_trainset[i][\"labels\"] = class_1\n",
    "    end\n",
    "    -- filling up with class_1 examples \n",
    "    for i=1,classified_dataset[class_2].count do \n",
    "        look_up_trainset[classified_dataset[class_1].count+i] = {}\n",
    "        look_up_trainset[classified_dataset[class_1].count+i][\"data\"] = classified_dataset[class_2].data[i]\n",
    "        look_up_trainset[classified_dataset[class_1].count+i][\"labels\"] = class_2\n",
    "    end\n",
    "    \n",
    "    times[\"look_up_building\"] = timer:time().real - times[\"global\"]\n",
    "    times[\"global\"] = timer:time().real\n",
    "    \n",
    "    -- We then shuffle the lookup trainset and the labels using the same permutation\n",
    "    total = classified_dataset[class_1].count + classified_dataset[class_2].count\n",
    "    -- permutation template\n",
    "    perm = torch.randperm(total)    \n",
    "    \n",
    "    local shuffled_trainset = {}\n",
    "    shuffled_trainset[\"data\"] = {}\n",
    "    shuffled_trainset[\"labels\"] = {}\n",
    "    \n",
    "    for i=1,total do \n",
    "       table.insert(shuffled_trainset[\"data\"],torch.Tensor(look_up_trainset[perm[i]][\"data\"]))\n",
    "        if look_up_trainset[perm[i]][\"labels\"] == class_1 then\n",
    "            shuffled_trainset[\"labels\"][i] = 1\n",
    "        else \n",
    "            shuffled_trainset[\"labels\"][i] = -1\n",
    "        end\n",
    "    end\n",
    "    shuffled_trainset[\"labels\"] = torch.Tensor(shuffled_trainset[\"labels\"])\n",
    "    shuffled_trainset[\"data\"] = convert_to_tensor(shuffled_trainset[\"data\"])\n",
    "\n",
    "    times[\"shuffling\"] = timer:time().real - times[\"global\"]\n",
    "    -- Adding metatable with __index function allowing heritage from torch\n",
    "    \n",
    "    \n",
    "    setmetatable(shuffled_trainset,\n",
    "    {__index = function(t, i)\n",
    "                return {t.data[i], t.labels[i]}\n",
    "               end})\n",
    "    function shuffled_trainset:size()\n",
    "        return self.data:size()\n",
    "    end\n",
    "    \n",
    "    print(\"times : \")\n",
    "    print(times)\n",
    "    return shuffled_trainset\n",
    "end"
   ]
  },
  {
   "cell_type": "code",
   "execution_count": 8,
   "metadata": {
    "ExecuteTime": {
     "end_time": "2016-10-23T22:53:21",
     "start_time": "2016-10-23T20:53:17.664Z"
    },
    "collapsed": false,
    "scrolled": false
   },
   "outputs": [
    {
     "data": {
      "text/plain": [
       "times : \t\n",
       "{\n",
       "  reshaping : 2.5700118541718\n",
       "}\n"
      ]
     },
     "execution_count": 8,
     "metadata": {},
     "output_type": "execute_result"
    },
    {
     "data": {
      "text/plain": [
       "times : \t\n",
       "{\n",
       "  classifying : 0.72749781608582\n",
       "}\n",
       "# of example of class 0 : 5923\t\n",
       "# of example of class 3 : 6131\t\n"
      ]
     },
     "execution_count": 8,
     "metadata": {},
     "output_type": "execute_result"
    },
    {
     "data": {
      "text/plain": [
       "times : \t\n",
       "{\n",
       "  look_up_building : 0.0042030811309814\n",
       "  global : 0.0042128562927246\n",
       "  shuffling : 0.69526505470276\n",
       "}\n"
      ]
     },
     "execution_count": 8,
     "metadata": {},
     "output_type": "execute_result"
    }
   ],
   "source": [
    "reshaped_data = mnist_munging(mnist.traindataset().data,mnist.traindataset().label)\n",
    "classified_data = classify_training_examples(reshaped_data,labels)\n",
    "training_set = get_target_classes(classified_data,0,3)"
   ]
  },
  {
   "cell_type": "code",
   "execution_count": 9,
   "metadata": {
    "ExecuteTime": {
     "end_time": "2016-10-23T22:53:21",
     "start_time": "2016-10-23T20:53:17.678Z"
    },
    "collapsed": true
   },
   "outputs": [],
   "source": [
    "function mnist_pipeline(class_1,class_2)\n",
    "    reshaped_data = mnist_munging(mnist.traindataset().data,mnist.traindataset().label)\n",
    "    classified_data = classify_training_examples(reshaped_data,labels)\n",
    "    training_set = get_target_classes(classified_data,class_1,class_2)\n",
    "    return training_set\n",
    "end"
   ]
  },
  {
   "cell_type": "markdown",
   "metadata": {
    "ExecuteTime": {
     "end_time": "2016-10-17T11:27:12",
     "start_time": "2016-10-17T09:27:12.436Z"
    }
   },
   "source": [
    "As you can see we used a lot of loops during our algorithm. In Python, coding this way would not have been the optimal way.. But in LUA it is!\n",
    "Loops are optimized so we will use and abuse them."
   ]
  },
  {
   "cell_type": "markdown",
   "metadata": {},
   "source": [
    "## Accuracy implementation"
   ]
  },
  {
   "cell_type": "markdown",
   "metadata": {},
   "source": [
    "We are about to implement a accuracy function that takes two arguments : first a list of prediction and second a list of the correct predictions and computes the prediction *accuracy* following the given formula : $$Acc =  \\frac{t_p + t_n}{t_p + f_p + f_n + t_n}$$\n",
    "\n",
    "\n",
    "With : \n",
    "$t_p$ and $t_n$ : Correctly labeled items\n",
    "$f_p$ and $f_n$ : Not correctly labeled items\n",
    "\n",
    "This seems plausible, since there are two actual classes in our classification problem, and our classifier attempts to label them  correctly. This is precisely the effectiveness measure often used for evaluating machine learning classification problems.\n",
    "\n",
    "We will later see that Accuracy might not be the best error evaluation method we have at hand. "
   ]
  },
  {
   "cell_type": "code",
   "execution_count": 10,
   "metadata": {
    "ExecuteTime": {
     "end_time": "2016-10-23T22:53:25",
     "start_time": "2016-10-23T20:53:20.595Z"
    },
    "collapsed": false
   },
   "outputs": [
    {
     "data": {
      "text/plain": [
       "times : \t\n",
       "{\n",
       "  reshaping : 2.3850400447845\n",
       "}\n"
      ]
     },
     "execution_count": 10,
     "metadata": {},
     "output_type": "execute_result"
    },
    {
     "data": {
      "text/plain": [
       "times : \t\n",
       "{\n",
       "  classifying : 0.39362597465515\n",
       "}\n",
       "# of example of class 1 : 6742\t\n",
       "# of example of class 3 : 6131\t\n"
      ]
     },
     "execution_count": 10,
     "metadata": {},
     "output_type": "execute_result"
    },
    {
     "data": {
      "text/plain": [
       "times : \t\n",
       "{\n",
       "  look_up_building : 0.0035409927368164\n",
       "  global : 0.0035498142242432\n",
       "  shuffling : 0.33586311340332\n",
       "}\n"
      ]
     },
     "execution_count": 10,
     "metadata": {},
     "output_type": "execute_result"
    }
   ],
   "source": [
    "reshaped_data = mnist_munging(mnist.traindataset().data,mnist.traindataset().label)\n",
    "classified_data = classify_training_examples(reshaped_data,labels)\n",
    "training_set = get_target_classes(classified_data,1,3)"
   ]
  },
  {
   "cell_type": "code",
   "execution_count": 11,
   "metadata": {
    "ExecuteTime": {
     "end_time": "2016-10-23T22:53:29",
     "start_time": "2016-10-23T20:53:20.606Z"
    },
    "collapsed": false
   },
   "outputs": [],
   "source": [
    "-- Trying accuracy with fake labels prediction\n",
    "fake_predictions = torch.sign(torch.randn(#training_set[\"data\"]))"
   ]
  },
  {
   "cell_type": "code",
   "execution_count": 12,
   "metadata": {
    "ExecuteTime": {
     "end_time": "2016-10-23T22:53:29",
     "start_time": "2016-10-23T20:53:20.619Z"
    },
    "collapsed": true
   },
   "outputs": [],
   "source": [
    "function accuracy(output,labels)\n",
    "    -- This method computes the accuracy of a set of prediction y, compared to some expected labels\n",
    "    local pred_signs = torch.sign(output)\n",
    "    local correct_classification = torch.cmul(pred_signs,labels)\n",
    "    --local eval_params = torch.Tensor(1):fill(1):double()\n",
    "    return torch.mean(correct_classification:eq(1):double())\n",
    "end"
   ]
  },
  {
   "cell_type": "markdown",
   "metadata": {
    "ExecuteTime": {
     "end_time": "2016-10-17T09:59:03",
     "start_time": "2016-10-17T07:59:03.836Z"
    }
   },
   "source": [
    "## Batch and Stochastic Gradient Descent"
   ]
  },
  {
   "cell_type": "markdown",
   "metadata": {},
   "source": [
    "As we specified in [this paper](../tme1/presentation/Gradient_Descent_Optimization Techniques.pdf), there are several different version of Gradient Descent. We distinguish two main versions of Gradient Descent algorithms :\n",
    "\n",
    "1. The **Batch** gradient Descent : Which is a version of Gradient Descent that takes all the training examples and optimize the model parameters all at once.\n",
    "1. The **Stochastic** gradient Descent, that update the model parameters and updates them using the training examples one by one."
   ]
  },
  {
   "cell_type": "markdown",
   "metadata": {},
   "source": [
    "### Batch Gradient Descent"
   ]
  },
  {
   "cell_type": "code",
   "execution_count": 13,
   "metadata": {
    "ExecuteTime": {
     "end_time": "2016-10-23T22:53:29",
     "start_time": "2016-10-23T20:53:21.107Z"
    },
    "collapsed": true,
    "run_control": {
     "marked": true
    }
   },
   "outputs": [],
   "source": [
    "-- Here, we are setting the cummulative of the gradients parameters to be equal to 0\n",
    "\n",
    "-- Well, might as well define a method so that we don't have to type it all the time\n",
    "function train_batch(params)\n",
    "    if params.times == nil then params.times = {} end\n",
    "\n",
    "    model = params.model or nn.Linear(params.training_set:size()[2],1)\n",
    "    criterion = params.criterion or nn.MSECriterion()\n",
    "    maxEpoch =  params.maxEpoch or 50\n",
    "\n",
    "    model:zeroGradParameters()\n",
    "    model:reset()\n",
    "    \n",
    "    --model\n",
    "    timer = torch.Timer()\n",
    "    params.times[\"batch_training\"] = timer:time().real\n",
    "    -- for k,_ in pairs(params) do print(k) end\n",
    "    --assert(params.data ~= nil, 'please provide correct structure for the training set (i.e. training_set.data ~= nil)')\n",
    "    --assert(params.labels ~= nil, 'please provide correct structure for the training set (i.e. training_set.labels ~= nil)')\n",
    "    local batch_loss = {}    \n",
    "    batch_loss[\"iteration\"]= {}\n",
    "    batch_loss['training'] = {}\n",
    "    batch_loss[\"accuracy\"] = {}\n",
    "    for iteration=1,maxEpoch do\n",
    "\n",
    "        model:zeroGradParameters()\n",
    "        local loss = 0\n",
    "        output = model:forward(params.training_set.data)\n",
    "        loss = criterion:forward(output,params.training_set.labels) --/params[\"training_set\"]:size()[1]\n",
    "        model:backward(params.training_set.data,criterion:backward(model.output,params.training_set.labels))\n",
    "        updated_parameters = model:updateParameters(learning_rate)\n",
    "        \n",
    "        -- for prints\n",
    "        table.insert(batch_loss[\"accuracy\"],accuracy(output,params.training_set[\"labels\"]))\n",
    "        table.insert(batch_loss[\"iteration\"],iteration)\n",
    "        table.insert(batch_loss[\"training\"],loss)\n",
    "    end\n",
    "    times[\"batch_training\"] = timer:time().real - params.times[\"batch_training\"]\n",
    "    print(\"times\")\n",
    "    print(times)\n",
    "    return batch_loss\n",
    "end"
   ]
  },
  {
   "cell_type": "code",
   "execution_count": 14,
   "metadata": {
    "ExecuteTime": {
     "end_time": "2016-10-23T22:53:29",
     "start_time": "2016-10-23T20:53:21.111Z"
    },
    "collapsed": false,
    "run_control": {
     "marked": true
    }
   },
   "outputs": [],
   "source": [
    "--- Standard declaration\n",
    "learning_rate= torch.random(1,10)/10000 -- We put a random weight parameter in this.\n",
    "maxEpoch = 50\n",
    "\n",
    "-- Batch parameters \n",
    "batch_params = {}\n",
    "batch_params[\"learning_rate\"] = learning_rate\n",
    "batch_params[\"maxEpoch\"] = 500\n",
    "batch_params[\"training_set\"] = training_set\n",
    "batch_params[\"model\"] = nn.Linear(training_set:size()[2],1)"
   ]
  },
  {
   "cell_type": "code",
   "execution_count": 15,
   "metadata": {
    "ExecuteTime": {
     "end_time": "2016-10-23T22:54:06",
     "start_time": "2016-10-23T20:53:21.124Z"
    },
    "collapsed": false,
    "run_control": {
     "marked": true
    }
   },
   "outputs": [
    {
     "data": {
      "text/plain": [
       "times\t\n",
       "{\n",
       "  look_up_building : 0.0035409927368164\n",
       "  global : 0.0035498142242432\n",
       "  batch_training : 37.601534128189\n",
       "  shuffling : 0.33586311340332\n",
       "}\n"
      ]
     },
     "execution_count": 15,
     "metadata": {},
     "output_type": "execute_result"
    }
   ],
   "source": [
    "batch_loss = train_batch(batch_params)"
   ]
  },
  {
   "cell_type": "markdown",
   "metadata": {},
   "source": [
    "## Visualization - "
   ]
  },
  {
   "cell_type": "code",
   "execution_count": 16,
   "metadata": {
    "ExecuteTime": {
     "end_time": "2016-10-23T22:54:07",
     "start_time": "2016-10-23T20:53:21.594Z"
    },
    "collapsed": true,
    "run_control": {
     "marked": false
    }
   },
   "outputs": [],
   "source": [
    "require 'gnuplot'\n",
    "--require 'tools'\n",
    "Plot = require 'itorch.Plot'"
   ]
  },
  {
   "cell_type": "code",
   "execution_count": 17,
   "metadata": {
    "ExecuteTime": {
     "end_time": "2016-10-23T22:54:07",
     "start_time": "2016-10-23T20:53:21.607Z"
    },
    "collapsed": false,
    "run_control": {
     "marked": true
    }
   },
   "outputs": [
    {
     "data": {
      "text/html": [
       "<script type=\"text/javascript\">\n",
       "$(function() {\n",
       "    if (typeof (window._bokeh_onload_callbacks) === \"undefined\"){\n",
       "  window._bokeh_onload_callbacks = [];\n",
       "    }\n",
       "    function load_lib(url, callback){\n",
       "  window._bokeh_onload_callbacks.push(callback);\n",
       "  if (window._bokeh_is_loading){\n",
       "      console.log(\"Bokeh: BokehJS is being loaded, scheduling callback at\", new Date());\n",
       "      return null;\n",
       "  }\n",
       "  console.log(\"Bokeh: BokehJS not loaded, scheduling load and callback at\", new Date());\n",
       "  window._bokeh_is_loading = true;\n",
       "  var s = document.createElement('script');\n",
       "  s.src = url;\n",
       "  s.async = true;\n",
       "  s.onreadystatechange = s.onload = function(){\n",
       "      Bokeh.embed.inject_css(\"https://cdn.pydata.org/bokeh-0.7.0.min.css\");\n",
       "      window._bokeh_onload_callbacks.forEach(function(callback){callback()});\n",
       "  };\n",
       "  s.onerror = function(){\n",
       "      console.warn(\"failed to load library \" + url);\n",
       "  };\n",
       "  document.getElementsByTagName(\"head\")[0].appendChild(s);\n",
       "    }\n",
       "\n",
       "    bokehjs_url = \"https://cdn.pydata.org/bokeh-0.7.0.min.js\"\n",
       "\n",
       "    var elt = document.getElementById(\"54fb40ed-43a2-470e-c73d-0ef9f3665fbd\");\n",
       "    if(elt==null) {\n",
       "  console.log(\"Bokeh: ERROR: autoload.js configured with elementid '54fb40ed-43a2-470e-c73d-0ef9f3665fbd'\"\n",
       "        + \"but no matching script tag was found. \")\n",
       "  return false;\n",
       "    }\n",
       "\n",
       "    if(typeof(Bokeh) !== \"undefined\") {\n",
       "  console.log(\"Bokeh: BokehJS loaded, going straight to plotting\");\n",
       "  var modelid = \"c743e878-2950-4f7e-cfc8-7835840a558a\";\n",
       "  var modeltype = \"Plot\";\n",
       "  var all_models = [{\"id\":\"80916607-4ec3-4111-c1ce-45221464354c\",\"type\":\"ColumnDataSource\",\"attributes\":{\"data\":{\"y\":[0.32447758875165,0.34723840596598,0.37015458712033,0.39563427328517,0.42290064476035,0.45350734094617,0.4820943059116,0.51743960226831,0.54695875087392,0.57608948962946,0.60436572671483,0.6305445506098,0.65866542375515,0.68391206400994,0.70721665501437,0.72958906237862,0.7494756467024,0.76687640798571,0.78404412335897,0.79981356327196,0.81573836712499,0.82995416763769,0.84401460421036,0.85566689971258,0.86716383127476,0.87664103161656,0.88572982210829,0.89497397654005,0.90305290142158,0.90794686553251,0.91408374116368,0.91858929542453,0.92309484968539,0.92721199409617,0.93008622698672,0.93334886972734,0.93591237473782,0.93855356171833,0.94026256505865,0.94243766021906,0.94406898158937,0.94593334886973,0.94756467024004,0.94872989979026,0.95043890313058,0.95230327041094,0.95323545405111,0.95440068360134,0.95502213936145,0.95564359512157,0.95642041482172,0.95696418861182,0.95797405422202,0.95859550998213,0.95929464771227,0.96030451332246,0.96077060514255,0.96115901499262,0.96131437893265,0.96146974287268,0.96178047075274,0.9620911986328,0.96224656257283,0.96247960848287,0.96255729045289,0.96271265439292,0.96302338227297,0.96341179212305,0.96364483803309,0.96380020197312,0.96403324788317,0.9641886118232,0.9641886118232,0.96434397576323,0.96449933970325,0.96481006758331,0.96504311349336,0.9652761594034,0.96535384137342,0.96558688728346,0.96597529713354,0.96605297910355,0.96613066107356,0.96628602501359,0.96644138895362,0.96644138895362,0.96644138895362,0.96659675289365,0.96667443486367,0.9668297988037,0.96690748077371,0.96706284471374,0.96706284471374,0.96729589062379,0.9673735725938,0.96745125456382,0.96752893653383,0.96760661850385,0.96760661850385,0.96776198244387,0.96783966441389,0.96776198244387,0.96776198244387,0.9679173463839,0.9679173463839,0.96807271032393,0.96807271032393,0.96807271032393,0.96822807426396,0.96822807426396,0.96830575623398,0.96838343820399,0.96838343820399,0.96838343820399,0.96853880214402,0.96853880214402,0.96861648411404,0.96861648411404,0.96869416608405,0.96884953002408,0.96908257593413,0.96916025790414,0.96939330381418,0.96931562184417,0.96931562184417,0.96931562184417,0.96931562184417,0.96939330381418,0.96939330381418,0.96939330381418,0.96939330381418,0.9694709857842,0.9694709857842,0.96954866775421,0.96962634972423,0.96970403169424,0.9694709857842,0.96954866775421,0.96970403169424,0.96970403169424,0.96978171366426,0.96978171366426,0.9700147595743,0.9700147595743,0.97009244154432,0.97017012351433,0.97009244154432,0.97009244154432,0.97009244154432,0.97009244154432,0.97024780548435,0.97024780548435,0.97024780548435,0.97024780548435,0.97032548745436,0.97040316942438,0.97040316942438,0.97040316942438,0.97040316942438,0.97048085139439,0.97048085139439,0.97048085139439,0.97048085139439,0.97063621533442,0.97063621533442,0.97071389730444,0.97071389730444,0.97071389730444,0.97071389730444,0.97071389730444,0.97079157927445,0.97079157927445,0.97079157927445,0.97079157927445,0.97079157927445,0.97086926124447,0.97086926124447,0.97086926124447,0.97086926124447,0.97086926124447,0.97086926124447,0.97086926124447,0.97086926124447,0.97086926124447,0.97094694321448,0.97102462518449,0.97094694321448,0.97094694321448,0.97094694321448,0.97094694321448,0.97086926124447,0.97086926124447,0.97094694321448,0.97094694321448,0.97102462518449,0.97110230715451,0.97110230715451,0.97117998912452,0.97117998912452,0.97117998912452,0.97117998912452,0.97117998912452,0.97117998912452,0.97117998912452,0.97125767109454,0.97133535306455,0.97141303503457,0.97141303503457,0.97141303503457,0.9715683989746,0.9715683989746,0.97164608094461,0.97164608094461,0.97172376291463,0.97172376291463,0.97172376291463,0.97172376291463,0.97172376291463,0.97172376291463,0.97172376291463,0.97187912685466,0.97187912685466,0.97187912685466,0.97187912685466,0.97187912685466,0.97187912685466,0.97195680882467,0.97195680882467,0.97195680882467,0.97203449079469,0.97203449079469,0.9721121727647,0.9721121727647,0.9721121727647,0.97226753670473,0.97226753670473,0.97226753670473,0.97226753670473,0.97226753670473,0.97234521867475,0.97234521867475,0.97234521867475,0.97234521867475,0.97234521867475,0.97234521867475,0.97234521867475,0.97250058261478,0.97257826458479,0.9726559465548,0.9726559465548,0.9726559465548,0.97273362852482,0.97273362852482,0.97281131049483,0.97288899246485,0.97288899246485,0.97288899246485,0.97288899246485,0.97296667443486,0.97296667443486,0.97296667443486,0.97296667443486,0.97296667443486,0.97296667443486,0.97296667443486,0.97296667443486,0.97304435640488,0.97304435640488,0.97304435640488,0.97304435640488,0.97304435640488,0.97312203837489,0.97312203837489,0.97312203837489,0.97304435640488,0.97304435640488,0.97304435640488,0.97304435640488,0.97304435640488,0.97304435640488,0.97312203837489,0.97312203837489,0.97312203837489,0.97312203837489,0.97312203837489,0.97319972034491,0.97319972034491,0.97319972034491,0.97319972034491,0.97319972034491,0.97319972034491,0.97319972034491,0.97319972034491,0.97327740231492,0.97327740231492,0.97327740231492,0.97327740231492,0.97327740231492,0.97327740231492,0.97327740231492,0.97327740231492,0.97327740231492,0.97327740231492,0.97335508428494,0.97335508428494,0.97351044822497,0.97358813019498,0.97358813019498,0.97358813019498,0.97358813019498,0.97358813019498,0.97358813019498,0.97358813019498,0.973665812165,0.973665812165,0.973665812165,0.973665812165,0.973665812165,0.973665812165,0.973665812165,0.973665812165,0.973665812165,0.973665812165,0.973665812165,0.973665812165,0.97374349413501,0.97374349413501,0.97374349413501,0.97374349413501,0.97382117610503,0.97382117610503,0.97382117610503,0.97382117610503,0.97382117610503,0.97382117610503,0.97382117610503,0.97382117610503,0.97382117610503,0.97382117610503,0.97382117610503,0.97382117610503,0.97389885807504,0.97389885807504,0.97389885807504,0.97389885807504,0.97389885807504,0.97397654004506,0.97397654004506,0.97397654004506,0.97397654004506,0.97397654004506,0.97397654004506,0.97397654004506,0.97397654004506,0.97397654004506,0.97397654004506,0.97397654004506,0.97397654004506,0.97413190398509,0.97413190398509,0.97405422201507,0.97405422201507,0.97397654004506,0.97405422201507,0.97413190398509,0.97413190398509,0.97428726792511,0.97428726792511,0.97436494989513,0.97436494989513,0.97436494989513,0.97436494989513,0.97436494989513,0.97436494989513,0.97436494989513,0.97436494989513,0.97436494989513,0.97436494989513,0.97436494989513,0.97444263186514,0.97444263186514,0.97444263186514,0.97452031383516,0.97467567777519,0.97467567777519,0.97467567777519,0.97467567777519,0.97467567777519,0.97467567777519,0.97467567777519,0.97467567777519,0.97467567777519,0.97467567777519,0.97467567777519,0.97467567777519,0.97467567777519,0.97467567777519,0.97467567777519,0.97467567777519,0.97467567777519,0.97467567777519,0.97467567777519,0.97467567777519,0.97467567777519,0.97467567777519,0.97467567777519,0.97467567777519,0.97467567777519,0.97467567777519,0.9747533597452,0.97483104171522,0.97483104171522,0.97483104171522,0.97483104171522,0.97483104171522,0.97483104171522,0.97483104171522,0.97483104171522,0.97483104171522,0.97483104171522,0.97483104171522,0.97498640565525,0.97498640565525,0.97498640565525,0.97506408762526,0.97506408762526,0.97506408762526,0.97506408762526,0.97506408762526,0.97506408762526,0.97506408762526,0.97506408762526,0.97506408762526,0.97498640565525,0.97498640565525,0.97498640565525,0.97498640565525,0.97498640565525,0.97498640565525,0.97498640565525,0.97498640565525,0.97498640565525,0.97498640565525,0.97498640565525,0.97498640565525,0.97506408762526,0.97506408762526,0.97506408762526,0.97506408762526,0.97506408762526,0.97506408762526,0.97506408762526,0.97506408762526,0.97506408762526,0.97506408762526,0.97506408762526,0.97514176959528,0.97521945156529,0.97521945156529,0.97521945156529,0.97521945156529,0.97521945156529,0.97521945156529,0.97521945156529,0.97521945156529,0.97529713353531,0.97529713353531,0.97529713353531,0.97529713353531,0.97529713353531,0.97545249747534,0.97545249747534,0.97545249747534,0.97553017944535,0.97553017944535,0.97553017944535,0.97553017944535,0.97553017944535,0.97553017944535,0.97553017944535,0.97560786141537,0.97560786141537,0.97560786141537,0.97560786141537,0.97560786141537,0.97560786141537,0.97560786141537,0.97560786141537,0.97560786141537,0.97560786141537,0.97560786141537,0.97560786141537,0.97560786141537,0.97560786141537,0.97568554338538,0.97568554338538,0.97568554338538,0.97568554338538,0.97568554338538,0.97568554338538],\"x\":[1,2,3,4,5,6,7,8,9,10,11,12,13,14,15,16,17,18,19,20,21,22,23,24,25,26,27,28,29,30,31,32,33,34,35,36,37,38,39,40,41,42,43,44,45,46,47,48,49,50,51,52,53,54,55,56,57,58,59,60,61,62,63,64,65,66,67,68,69,70,71,72,73,74,75,76,77,78,79,80,81,82,83,84,85,86,87,88,89,90,91,92,93,94,95,96,97,98,99,100,101,102,103,104,105,106,107,108,109,110,111,112,113,114,115,116,117,118,119,120,121,122,123,124,125,126,127,128,129,130,131,132,133,134,135,136,137,138,139,140,141,142,143,144,145,146,147,148,149,150,151,152,153,154,155,156,157,158,159,160,161,162,163,164,165,166,167,168,169,170,171,172,173,174,175,176,177,178,179,180,181,182,183,184,185,186,187,188,189,190,191,192,193,194,195,196,197,198,199,200,201,202,203,204,205,206,207,208,209,210,211,212,213,214,215,216,217,218,219,220,221,222,223,224,225,226,227,228,229,230,231,232,233,234,235,236,237,238,239,240,241,242,243,244,245,246,247,248,249,250,251,252,253,254,255,256,257,258,259,260,261,262,263,264,265,266,267,268,269,270,271,272,273,274,275,276,277,278,279,280,281,282,283,284,285,286,287,288,289,290,291,292,293,294,295,296,297,298,299,300,301,302,303,304,305,306,307,308,309,310,311,312,313,314,315,316,317,318,319,320,321,322,323,324,325,326,327,328,329,330,331,332,333,334,335,336,337,338,339,340,341,342,343,344,345,346,347,348,349,350,351,352,353,354,355,356,357,358,359,360,361,362,363,364,365,366,367,368,369,370,371,372,373,374,375,376,377,378,379,380,381,382,383,384,385,386,387,388,389,390,391,392,393,394,395,396,397,398,399,400,401,402,403,404,405,406,407,408,409,410,411,412,413,414,415,416,417,418,419,420,421,422,423,424,425,426,427,428,429,430,431,432,433,434,435,436,437,438,439,440,441,442,443,444,445,446,447,448,449,450,451,452,453,454,455,456,457,458,459,460,461,462,463,464,465,466,467,468,469,470,471,472,473,474,475,476,477,478,479,480,481,482,483,484,485,486,487,488,489,490,491,492,493,494,495,496,497,498,499,500]},\"column_names\":[\"y\",\"x\"],\"cont_ranges\":{},\"discrete_ranges\":{},\"selected\":[],\"id\":\"80916607-4ec3-4111-c1ce-45221464354c\",\"doc\":null,\"tags\":[]}},{\"id\":\"38bd9b0b-8d2c-432c-c33c-6353b5ddd497\",\"type\":\"Circle\",\"attributes\":{\"fill_alpha\":{\"units\":\"data\",\"value\":0.2},\"line_alpha\":{\"units\":\"data\",\"value\":1},\"doc\":null,\"size\":{\"units\":\"screen\",\"value\":10},\"fill_color\":{\"value\":\"red\"},\"line_color\":{\"value\":\"red\"},\"x\":{\"units\":\"data\",\"field\":\"x\"},\"id\":\"38bd9b0b-8d2c-432c-c33c-6353b5ddd497\",\"y\":{\"units\":\"data\",\"field\":\"y\"},\"tags\":[]}},{\"id\":\"38e71985-908a-4f41-cfdb-a4f2127a8589\",\"type\":\"Circle\",\"attributes\":{\"fill_alpha\":{\"units\":\"data\",\"value\":0.2},\"line_alpha\":{\"units\":\"data\",\"value\":1},\"doc\":null,\"size\":{\"units\":\"screen\",\"value\":10},\"fill_color\":{\"value\":\"red\"},\"line_color\":{\"value\":\"red\"},\"x\":{\"units\":\"data\",\"field\":\"x\"},\"id\":\"38e71985-908a-4f41-cfdb-a4f2127a8589\",\"y\":{\"units\":\"data\",\"field\":\"y\"},\"tags\":[]}},{\"id\":\"fb1c0a8c-3974-4ba7-cb54-d027d9fce98f\",\"type\":\"GlyphRenderer\",\"attributes\":{\"name\":null,\"nonselection_glyph\":{\"type\":\"Circle\",\"id\":\"38e71985-908a-4f41-cfdb-a4f2127a8589\"},\"doc\":null,\"server_data_source\":null,\"data_source\":{\"type\":\"ColumnDataSource\",\"id\":\"80916607-4ec3-4111-c1ce-45221464354c\"},\"glyph\":{\"type\":\"Circle\",\"id\":\"38bd9b0b-8d2c-432c-c33c-6353b5ddd497\"},\"selection_glyph\":null,\"id\":\"fb1c0a8c-3974-4ba7-cb54-d027d9fce98f\",\"tags\":[]}},{\"id\":\"3d45818a-b5bc-48e0-c871-129881dfe385\",\"type\":\"ColumnDataSource\",\"attributes\":{\"data\":{\"y\":[1.1582173961224,1.1361213350708,1.1147748258627,1.0941310408148,1.0741472490968,1.0547844229757,1.0360068826684,1.0177819760011,1.0000797894488,0.98287288746865,0.96613607734017,0.94984619700434,0.93398192363767,0.918523600922,0.90345308317078,0.88875359465411,0.87440960262814,0.86040670272133,0.84673151546316,0.8333715928601,0.82031533403188,0.80755190901792,0.79507118995183,0.78286368888046,0.77092050157556,0.75923325675015,0.74779407014946,0.73659550303881,0.72563052465746,0.7148924782501,0.70437505032583,0.69407224282885,0.68397834793627,0.67408792522633,0.66439578098574,0.65489694944729,0.6455866757699,0.63646040059116,0.62751374599969,0.61874250278921,0.61014261887003,0.60171018872576,0.59344144381423,0.58533274382118,0.57738056868471,0.56958151131618,0.56193227095061,0.55442964706634,0.54707053381946,0.53985191494391,0.53277085907289,0.52582451544183,0.51901010993653,0.51232494145429,0.50576637854842,0.49933185632976,0.49301887360127,0.48682499020415,0.48074782455588,0.47478505136282,0.46893439949129,0.46319364998281,0.45756063420073,0.45203323209631,0.44660937058381,0.44128702201509,0.43606420274493,0.43093897177938,0.42590942950004,0.42097371645798,0.41613001223127,0.41137653434124,0.40671153722247,0.40213331124231,0.3976401817661,0.39323050826447,0.38890268345959,0.38465513250753,0.38048631221389,0.37639471028062,0.37237884458157,0.368437262465,0.36456854008114,0.36077128173322,0.35704411925046,0.35338571138168,0.34979474320826,0.34626992557533,0.34280999454014,0.33941371083678,0.3360798593561,0.33280724864039,0.32959471039176,0.32644109899383,0.32334529104582,0.32030618490876,0.31732270026304,0.31439377767699,0.31151837818596,0.3086954828814,0.30592409250975,0.3032032270806,0.30053192548383,0.29790924511544,0.29533426151176,0.29280606799174,0.2903237753071,0.28788651130002,0.28549342056825,0.2831436641373,0.28083641913962,0.27857087850044,0.27634625063024,0.27416175912354,0.27201664246387,0.26991015373487,0.26784156033719,0.2658101437112,0.2638151990652,0.26185603510924,0.25993197379417,0.2580423500559,0.25618651156484,0.2543638184802,0.25257364320923,0.25081537017122,0.24908839556608,0.24739212714755,0.2457259840008,0.24408939632443,0.2424818052167,0.24090266246595,0.23935143034512,0.23782758141022,0.2363305983028,0.23485997355616,0.23341520940544,0.23199581760125,0.23060131922704,0.22923124451995,0.22788513269507,0.22656253177325,0.22526299841203,0.22398609774004,0.22273140319444,0.22149849636158,0.2202869668207,0.21909641199066,0.21792643697959,0.21677665443748,0.21564668441156,0.21453615420453,0.21344469823543,0.21237195790325,0.21131758145316,0.21028122384525,0.20926254662592,0.20826121780157,0.20727691171487,0.20630930892332,0.20535809608017,0.20442296581766,0.2035036166324,0.20259975277307,0.20171108413023,0.20083732612819,0.19997819961906,0.19913343077875,0.19830275100501,0.19748589681741,0.19668260975921,0.19589263630121,0.19511572774733,0.19435164014206,0.19360013417968,0.19286097511524,0.19213393267718,0.19141878098174,0.19071529844886,0.19002326771986,0.18934247557657,0.18867271286205,0.18801377440289,0.18736545893289,0.18672756901831,0.18609991098444,0.18548229484375,0.18487453422519,0.18427644630507,0.1836878517391,0.18310857459582,0.18253844229128,0.18197728552497,0.18142493821699,0.18088123744641,0.18034602339084,0.1798191392671,0.17930043127311,0.17878974853082,0.17828694303027,0.17779186957474,0.17730438572687,0.17682435175595,0.17635163058608,0.1758860877454,0.1754275913163,0.17497601188653,0.1745312225013,0.17409309861628,0.17366151805148,0.17323636094607,0.17281750971398,0.17240484900042,0.17199826563923,0.17159764861103,0.17120288900212,0.17081387996429,0.1704305166753,0.17005269630013,0.16968031795301,0.16931328266016,0.16895149332325,0.16859485468353,0.16824327328666,0.16789665744826,0.16755491722008,0.16721796435678,0.16688571228342,0.16655807606355,0.16623497236789,0.16591631944359,0.16560203708419,0.1652920466,0.16498627078916,0.1646846339092,0.16438706164921,0.16409348110243,0.16380382073949,0.16351801038206,0.16323598117709,0.16295766557147,0.16268299728722,0.16241191129715,0.16214434380096,0.16188023220185,0.16161951508351,0.1613621321876,0.16110802439167,0.16085713368744,0.16060940315955,0.16036477696472,0.16012320031128,0.15988461943911,0.15964898159994,0.15941623503805,0.15918632897137,0.15895921357285,0.1587348399523,0.15851316013848,0.15829412706158,0.15807769453607,0.15786381724377,0.15765245071736,0.15744355132417,0.15723707625021,0.15703298348461,0.15683123180432,0.15663178075904,0.15643459065654,0.15623962254822,0.15604683821489,0.15585620015293,0.15566767156062,0.15548121632477,0.15529679900763,0.15511438483401,0.15493393967865,0.15475543005387,0.1545788230974,0.15440408656049,0.15423118879624,0.15406009874813,0.15389078593877,0.1537232204589,0.15355737295657,0.15339321462655,0.15323071719989,0.15306985293375,0.15291059460141,0.1527529154824,0.15259678935289,0.1524421904763,0.15228909359395,0.15213747391605,0.15198730711271,0.1518385693053,0.15169123705776,0.15154528736827,0.15140069766099,0.15125744577792,0.15111550997103,0.15097486889441,0.15083550159667,0.15069738751346,0.15056050646006,0.15042483862427,0.15029036455923,0.15015706517658,0.15002492173962,0.1498939158566,0.14976402947424,0.14963524487128,0.1495075446522,0.14938091174099,0.14925532937517,0.14913078109978,0.14900725076161,0.14888472250341,0.14876318075836,0.14864261024452,0.14852299595943,0.14840432317485,0.14828657743154,0.14816974453418,0.14805381054637,0.14793876178572,0.14782458481908,0.14771126645778,0.14759879375301,0.14748715399132,0.14737633469014,0.14726632359342,0.14715710866735,0.14704867809616,0.14694102027799,0.14683412382088,0.14672797753876,0.14662257044761,0.14651789176161,0.1464139308894,0.14631067743044,0.14620812117137,0.14610625208252,0.1460050603144,0.14590453619436,0.14580467022318,0.14570545307187,0.14560687557844,0.14550892874474,0.14541160373339,0.14531489186475,0.14521878461392,0.1451232736079,0.14502835062264,0.14493400758033,0.14484023654657,0.14474702972771,0.14465437946823,0.14456227824809,0.14447071868022,0.144379693508,0.14428919560284,0.14419921796177,0.14410975370504,0.14402079607387,0.14393233842813,0.14384437424416,0.14375689711254,0.143669900736,0.14358337892726,0.14349732560704,0.14341173480196,0.14332660064263,0.14324191736165,0.14315767929174,0.14307388086386,0.14299051660533,0.14290758113811,0.14282506917696,0.14274297552773,0.1426612950857,0.14258002283385,0.14249915384123,0.14241868326143,0.1423386063309,0.14225891836748,0.14217961476886,0.14210069101108,0.14202214264709,0.14194396530533,0.14186615468828,0.14178870657115,0.14171161680046,0.14163488129278,0.14155849603336,0.14148245707493,0.14140676053638,0.1413314026016,0.14125637951822,0.14118168759644,0.1411073232079,0.14103328278452,0.14095956281738,0.14088615985564,0.14081307050547,0.14074029142899,0.14066781934321,0.14059565101907,0.14052378328042,0.14045221300301,0.14038093711361,0.14030995258901,0.14023925645509,0.14016884578599,0.14009871770315,0.14002886937446,0.13995929801344,0.13989000087835,0.13982097527142,0.13975221853801,0.13968372806582,0.13961550128414,0.13954753566307,0.13947982871277,0.13941237798274,0.13934518106111,0.1392782355739,0.13921153918437,0.13914508959229,0.13907888453336,0.13901292177845,0.13894719913305,0.13888171443658,0.1388164655618,0.13875145041423,0.13868666693149,0.13862211308278,0.13855778686827,0.13849368631858,0.13842980949416,0.13836615448484,0.13830271940922,0.1382395024142,0.13817650167445,0.13811371539192,0.13805114179533,0.13798877913972,0.13792662570594,0.13786467980023,0.13780293975372,0.137741403922,0.13768007068471,0.13761893844507,0.13755800562947,0.13749727068709,0.13743673208942,0.13737638832994,0.13731623792369,0.13725627940689,0.13719651133657,0.13713693229018,0.13707754086527,0.13701833567908,0.13695931536825,0.13690047858842,0.13684182401395,0.13678335033753,0.13672505626991,0.13666694053957,0.13660900189236,0.13655123909129,0.13649365091611,0.13643623616314,0.13637899364488,0.13632192218978,0.13626502064196,0.1362082878609,0.13615172272123,0.13609532411241,0.13603909093851,0.13598302211794,0.13592711658321,0.13587137328068,0.13581579117031,0.13576036922547,0.13570510643265,0.13565000179126,0.13559505431343,0.13554026302374,0.13548562695908,0.13543114516837,0.13537681671239,0.13532264066355,0.13526861610574,0.1352147421341,0.13516101785483,0.13510744238501,0.13505401485241,0.13500073439533,0.13494760016238],\"x\":[1,2,3,4,5,6,7,8,9,10,11,12,13,14,15,16,17,18,19,20,21,22,23,24,25,26,27,28,29,30,31,32,33,34,35,36,37,38,39,40,41,42,43,44,45,46,47,48,49,50,51,52,53,54,55,56,57,58,59,60,61,62,63,64,65,66,67,68,69,70,71,72,73,74,75,76,77,78,79,80,81,82,83,84,85,86,87,88,89,90,91,92,93,94,95,96,97,98,99,100,101,102,103,104,105,106,107,108,109,110,111,112,113,114,115,116,117,118,119,120,121,122,123,124,125,126,127,128,129,130,131,132,133,134,135,136,137,138,139,140,141,142,143,144,145,146,147,148,149,150,151,152,153,154,155,156,157,158,159,160,161,162,163,164,165,166,167,168,169,170,171,172,173,174,175,176,177,178,179,180,181,182,183,184,185,186,187,188,189,190,191,192,193,194,195,196,197,198,199,200,201,202,203,204,205,206,207,208,209,210,211,212,213,214,215,216,217,218,219,220,221,222,223,224,225,226,227,228,229,230,231,232,233,234,235,236,237,238,239,240,241,242,243,244,245,246,247,248,249,250,251,252,253,254,255,256,257,258,259,260,261,262,263,264,265,266,267,268,269,270,271,272,273,274,275,276,277,278,279,280,281,282,283,284,285,286,287,288,289,290,291,292,293,294,295,296,297,298,299,300,301,302,303,304,305,306,307,308,309,310,311,312,313,314,315,316,317,318,319,320,321,322,323,324,325,326,327,328,329,330,331,332,333,334,335,336,337,338,339,340,341,342,343,344,345,346,347,348,349,350,351,352,353,354,355,356,357,358,359,360,361,362,363,364,365,366,367,368,369,370,371,372,373,374,375,376,377,378,379,380,381,382,383,384,385,386,387,388,389,390,391,392,393,394,395,396,397,398,399,400,401,402,403,404,405,406,407,408,409,410,411,412,413,414,415,416,417,418,419,420,421,422,423,424,425,426,427,428,429,430,431,432,433,434,435,436,437,438,439,440,441,442,443,444,445,446,447,448,449,450,451,452,453,454,455,456,457,458,459,460,461,462,463,464,465,466,467,468,469,470,471,472,473,474,475,476,477,478,479,480,481,482,483,484,485,486,487,488,489,490,491,492,493,494,495,496,497,498,499,500]},\"column_names\":[\"y\",\"x\"],\"cont_ranges\":{},\"discrete_ranges\":{},\"selected\":[],\"id\":\"3d45818a-b5bc-48e0-c871-129881dfe385\",\"doc\":null,\"tags\":[]}},{\"id\":\"bb20367c-45be-4187-c160-91a65e1b87ee\",\"type\":\"Circle\",\"attributes\":{\"fill_alpha\":{\"units\":\"data\",\"value\":0.2},\"line_alpha\":{\"units\":\"data\",\"value\":1},\"doc\":null,\"size\":{\"units\":\"screen\",\"value\":10},\"fill_color\":{\"value\":\"blue\"},\"line_color\":{\"value\":\"blue\"},\"x\":{\"units\":\"data\",\"field\":\"x\"},\"id\":\"bb20367c-45be-4187-c160-91a65e1b87ee\",\"y\":{\"units\":\"data\",\"field\":\"y\"},\"tags\":[]}},{\"id\":\"75deb4e1-de4b-4277-c2b6-03402a290f7d\",\"type\":\"Circle\",\"attributes\":{\"fill_alpha\":{\"units\":\"data\",\"value\":0.2},\"line_alpha\":{\"units\":\"data\",\"value\":1},\"doc\":null,\"size\":{\"units\":\"screen\",\"value\":10},\"fill_color\":{\"value\":\"blue\"},\"line_color\":{\"value\":\"blue\"},\"x\":{\"units\":\"data\",\"field\":\"x\"},\"id\":\"75deb4e1-de4b-4277-c2b6-03402a290f7d\",\"y\":{\"units\":\"data\",\"field\":\"y\"},\"tags\":[]}},{\"id\":\"c77fc70e-c027-4bdd-cb74-9efe64b30c3f\",\"type\":\"GlyphRenderer\",\"attributes\":{\"name\":null,\"nonselection_glyph\":{\"type\":\"Circle\",\"id\":\"75deb4e1-de4b-4277-c2b6-03402a290f7d\"},\"doc\":null,\"server_data_source\":null,\"data_source\":{\"type\":\"ColumnDataSource\",\"id\":\"3d45818a-b5bc-48e0-c871-129881dfe385\"},\"glyph\":{\"type\":\"Circle\",\"id\":\"bb20367c-45be-4187-c160-91a65e1b87ee\"},\"selection_glyph\":null,\"id\":\"c77fc70e-c027-4bdd-cb74-9efe64b30c3f\",\"tags\":[]}},{\"id\":\"6761a806-b16f-4d65-cdfb-ac8a32d052d3\",\"type\":\"DataRange1d\",\"attributes\":{\"sources\":[{\"columns\":[\"x\"],\"source\":{\"type\":\"ColumnDataSource\",\"id\":\"80916607-4ec3-4111-c1ce-45221464354c\"}},{\"columns\":[\"x\"],\"source\":{\"type\":\"ColumnDataSource\",\"id\":\"3d45818a-b5bc-48e0-c871-129881dfe385\"}}],\"id\":\"6761a806-b16f-4d65-cdfb-ac8a32d052d3\",\"tags\":[],\"doc\":null}},{\"id\":\"94195310-aa19-4ca4-ccff-ddd71d30ae2e\",\"type\":\"DataRange1d\",\"attributes\":{\"sources\":[{\"columns\":[\"y\"],\"source\":{\"type\":\"ColumnDataSource\",\"id\":\"80916607-4ec3-4111-c1ce-45221464354c\"}},{\"columns\":[\"y\"],\"source\":{\"type\":\"ColumnDataSource\",\"id\":\"3d45818a-b5bc-48e0-c871-129881dfe385\"}}],\"id\":\"94195310-aa19-4ca4-ccff-ddd71d30ae2e\",\"tags\":[],\"doc\":null}},{\"id\":\"1a51a132-5544-45d0-c517-c7413397c262\",\"type\":\"ToolEvents\",\"attributes\":{\"tags\":[],\"id\":\"1a51a132-5544-45d0-c517-c7413397c262\",\"geometries\":[],\"doc\":null}},{\"id\":\"bb1614d0-945b-49bc-c939-478134e839e5\",\"type\":\"BasicTickFormatter\",\"attributes\":{\"id\":\"bb1614d0-945b-49bc-c939-478134e839e5\",\"tags\":[],\"doc\":null}},{\"id\":\"ba89f1af-8906-4b2e-cb32-cc24feeefc78\",\"type\":\"BasicTicker\",\"attributes\":{\"num_minor_ticks\":5,\"id\":\"ba89f1af-8906-4b2e-cb32-cc24feeefc78\",\"tags\":[],\"doc\":null}},{\"id\":\"6a3bde1f-0946-44d8-c4ae-464b440e8a88\",\"type\":\"LinearAxis\",\"attributes\":{\"formatter\":{\"type\":\"BasicTickFormatter\",\"id\":\"bb1614d0-945b-49bc-c939-478134e839e5\"},\"ticker\":{\"type\":\"BasicTicker\",\"id\":\"ba89f1af-8906-4b2e-cb32-cc24feeefc78\"},\"plot\":{\"id\":\"c743e878-2950-4f7e-cfc8-7835840a558a\",\"type\":\"Plot\",\"subtype\":\"Figure\"},\"axis_label\":null,\"id\":\"6a3bde1f-0946-44d8-c4ae-464b440e8a88\",\"doc\":null,\"tags\":[]}},{\"id\":\"c2b03050-7182-4818-c81f-517947bf8a35\",\"type\":\"Grid\",\"attributes\":{\"dimension\":0,\"plot\":{\"id\":\"c743e878-2950-4f7e-cfc8-7835840a558a\",\"type\":\"Plot\",\"subtype\":\"Figure\"},\"ticker\":{\"type\":\"BasicTicker\",\"id\":\"ba89f1af-8906-4b2e-cb32-cc24feeefc78\"},\"id\":\"c2b03050-7182-4818-c81f-517947bf8a35\",\"doc\":null,\"tags\":[]}},{\"id\":\"70af5f75-a406-4cb3-ccd2-c2d320ffe43a\",\"type\":\"BasicTickFormatter\",\"attributes\":{\"id\":\"70af5f75-a406-4cb3-ccd2-c2d320ffe43a\",\"tags\":[],\"doc\":null}},{\"id\":\"d8f84276-0c60-46a2-c679-e3d3417d7849\",\"type\":\"BasicTicker\",\"attributes\":{\"num_minor_ticks\":5,\"id\":\"d8f84276-0c60-46a2-c679-e3d3417d7849\",\"tags\":[],\"doc\":null}},{\"id\":\"78b1c040-27e8-48fc-c89a-a00850c8fc2e\",\"type\":\"LinearAxis\",\"attributes\":{\"formatter\":{\"type\":\"BasicTickFormatter\",\"id\":\"70af5f75-a406-4cb3-ccd2-c2d320ffe43a\"},\"ticker\":{\"type\":\"BasicTicker\",\"id\":\"d8f84276-0c60-46a2-c679-e3d3417d7849\"},\"plot\":{\"id\":\"c743e878-2950-4f7e-cfc8-7835840a558a\",\"type\":\"Plot\",\"subtype\":\"Figure\"},\"axis_label\":null,\"id\":\"78b1c040-27e8-48fc-c89a-a00850c8fc2e\",\"doc\":null,\"tags\":[]}},{\"id\":\"58a0b646-0879-4622-c6ba-6be7f1680868\",\"type\":\"Grid\",\"attributes\":{\"dimension\":1,\"plot\":{\"id\":\"c743e878-2950-4f7e-cfc8-7835840a558a\",\"type\":\"Plot\",\"subtype\":\"Figure\"},\"ticker\":{\"type\":\"BasicTicker\",\"id\":\"d8f84276-0c60-46a2-c679-e3d3417d7849\"},\"id\":\"58a0b646-0879-4622-c6ba-6be7f1680868\",\"doc\":null,\"tags\":[]}},{\"id\":\"90cd3bab-7862-4102-c12a-1a4193098f73\",\"type\":\"PanTool\",\"attributes\":{\"plot\":{\"id\":\"c743e878-2950-4f7e-cfc8-7835840a558a\",\"type\":\"Plot\",\"subtype\":\"Figure\"},\"dimensions\":[\"width\",\"height\"],\"id\":\"90cd3bab-7862-4102-c12a-1a4193098f73\",\"doc\":null,\"tags\":[]}},{\"id\":\"7d2b0a47-170c-4ac1-ca4a-6685398c9c2b\",\"type\":\"WheelZoomTool\",\"attributes\":{\"plot\":{\"id\":\"c743e878-2950-4f7e-cfc8-7835840a558a\",\"type\":\"Plot\",\"subtype\":\"Figure\"},\"dimensions\":[\"width\",\"height\"],\"id\":\"7d2b0a47-170c-4ac1-ca4a-6685398c9c2b\",\"doc\":null,\"tags\":[]}},{\"id\":\"79655b13-5385-4dc0-cd9f-9c4590daca1a\",\"type\":\"BoxZoomTool\",\"attributes\":{\"plot\":{\"id\":\"c743e878-2950-4f7e-cfc8-7835840a558a\",\"type\":\"Plot\",\"subtype\":\"Figure\"},\"id\":\"79655b13-5385-4dc0-cd9f-9c4590daca1a\",\"tags\":[],\"doc\":null}},{\"id\":\"49639db4-a51b-49a2-c935-bff03b70d736\",\"type\":\"PreviewSaveTool\",\"attributes\":{\"plot\":{\"id\":\"c743e878-2950-4f7e-cfc8-7835840a558a\",\"type\":\"Plot\",\"subtype\":\"Figure\"},\"id\":\"49639db4-a51b-49a2-c935-bff03b70d736\",\"tags\":[],\"doc\":null}},{\"id\":\"ae0cac3b-e2e6-4604-c6ee-599419a12508\",\"type\":\"ResizeTool\",\"attributes\":{\"plot\":{\"id\":\"c743e878-2950-4f7e-cfc8-7835840a558a\",\"type\":\"Plot\",\"subtype\":\"Figure\"},\"id\":\"ae0cac3b-e2e6-4604-c6ee-599419a12508\",\"tags\":[],\"doc\":null}},{\"id\":\"68582311-abde-4789-c715-78a4d0c0d2cc\",\"type\":\"ResetTool\",\"attributes\":{\"plot\":{\"id\":\"c743e878-2950-4f7e-cfc8-7835840a558a\",\"type\":\"Plot\",\"subtype\":\"Figure\"},\"id\":\"68582311-abde-4789-c715-78a4d0c0d2cc\",\"tags\":[],\"doc\":null}},{\"id\":\"c743e878-2950-4f7e-cfc8-7835840a558a\",\"type\":\"Plot\",\"attributes\":{\"x_range\":{\"type\":\"DataRange1d\",\"id\":\"6761a806-b16f-4d65-cdfb-ac8a32d052d3\"},\"tool_events\":{\"type\":\"ToolEvents\",\"id\":\"1a51a132-5544-45d0-c517-c7413397c262\"},\"below\":[{\"type\":\"LinearAxis\",\"id\":\"6a3bde1f-0946-44d8-c4ae-464b440e8a88\"}],\"renderers\":[{\"type\":\"GlyphRenderer\",\"id\":\"fb1c0a8c-3974-4ba7-cb54-d027d9fce98f\"},{\"type\":\"GlyphRenderer\",\"id\":\"c77fc70e-c027-4bdd-cb74-9efe64b30c3f\"},{\"type\":\"LinearAxis\",\"id\":\"6a3bde1f-0946-44d8-c4ae-464b440e8a88\"},{\"type\":\"Grid\",\"id\":\"c2b03050-7182-4818-c81f-517947bf8a35\"},{\"type\":\"LinearAxis\",\"id\":\"78b1c040-27e8-48fc-c89a-a00850c8fc2e\"},{\"type\":\"Grid\",\"id\":\"58a0b646-0879-4622-c6ba-6be7f1680868\"}],\"above\":[],\"tools\":[{\"type\":\"PanTool\",\"id\":\"90cd3bab-7862-4102-c12a-1a4193098f73\"},{\"type\":\"WheelZoomTool\",\"id\":\"7d2b0a47-170c-4ac1-ca4a-6685398c9c2b\"},{\"type\":\"BoxZoomTool\",\"id\":\"79655b13-5385-4dc0-cd9f-9c4590daca1a\"},{\"type\":\"PreviewSaveTool\",\"id\":\"49639db4-a51b-49a2-c935-bff03b70d736\"},{\"type\":\"ResizeTool\",\"id\":\"ae0cac3b-e2e6-4604-c6ee-599419a12508\"},{\"type\":\"ResetTool\",\"id\":\"68582311-abde-4789-c715-78a4d0c0d2cc\"}],\"doc\":null,\"right\":[],\"title\":\"Untitled Plot\",\"extra_x_ranges\":{},\"left\":[{\"type\":\"LinearAxis\",\"id\":\"78b1c040-27e8-48fc-c89a-a00850c8fc2e\"}],\"y_range\":{\"type\":\"DataRange1d\",\"id\":\"94195310-aa19-4ca4-ccff-ddd71d30ae2e\"},\"id\":\"c743e878-2950-4f7e-cfc8-7835840a558a\",\"extra_y_ranges\":{},\"tags\":[]}}];\n",
       "  Bokeh.load_models(all_models);\n",
       "  var model = Bokeh.Collections(modeltype).get(modelid);\n",
       "  $(\"#54fb40ed-43a2-470e-c73d-0ef9f3665fbd\").html(''); // clear any previous plot in window_id\n",
       "  var view = new model.default_view({model: model, el: \"#54fb40ed-43a2-470e-c73d-0ef9f3665fbd\"});\n",
       "    } else {\n",
       "  load_lib(bokehjs_url, function() {\n",
       "      console.log(\"Bokeh: BokehJS plotting callback run at\", new Date())\n",
       "      var modelid = \"c743e878-2950-4f7e-cfc8-7835840a558a\";\n",
       "      var modeltype = \"Plot\";\n",
       "      var all_models = [{\"id\":\"80916607-4ec3-4111-c1ce-45221464354c\",\"type\":\"ColumnDataSource\",\"attributes\":{\"data\":{\"y\":[0.32447758875165,0.34723840596598,0.37015458712033,0.39563427328517,0.42290064476035,0.45350734094617,0.4820943059116,0.51743960226831,0.54695875087392,0.57608948962946,0.60436572671483,0.6305445506098,0.65866542375515,0.68391206400994,0.70721665501437,0.72958906237862,0.7494756467024,0.76687640798571,0.78404412335897,0.79981356327196,0.81573836712499,0.82995416763769,0.84401460421036,0.85566689971258,0.86716383127476,0.87664103161656,0.88572982210829,0.89497397654005,0.90305290142158,0.90794686553251,0.91408374116368,0.91858929542453,0.92309484968539,0.92721199409617,0.93008622698672,0.93334886972734,0.93591237473782,0.93855356171833,0.94026256505865,0.94243766021906,0.94406898158937,0.94593334886973,0.94756467024004,0.94872989979026,0.95043890313058,0.95230327041094,0.95323545405111,0.95440068360134,0.95502213936145,0.95564359512157,0.95642041482172,0.95696418861182,0.95797405422202,0.95859550998213,0.95929464771227,0.96030451332246,0.96077060514255,0.96115901499262,0.96131437893265,0.96146974287268,0.96178047075274,0.9620911986328,0.96224656257283,0.96247960848287,0.96255729045289,0.96271265439292,0.96302338227297,0.96341179212305,0.96364483803309,0.96380020197312,0.96403324788317,0.9641886118232,0.9641886118232,0.96434397576323,0.96449933970325,0.96481006758331,0.96504311349336,0.9652761594034,0.96535384137342,0.96558688728346,0.96597529713354,0.96605297910355,0.96613066107356,0.96628602501359,0.96644138895362,0.96644138895362,0.96644138895362,0.96659675289365,0.96667443486367,0.9668297988037,0.96690748077371,0.96706284471374,0.96706284471374,0.96729589062379,0.9673735725938,0.96745125456382,0.96752893653383,0.96760661850385,0.96760661850385,0.96776198244387,0.96783966441389,0.96776198244387,0.96776198244387,0.9679173463839,0.9679173463839,0.96807271032393,0.96807271032393,0.96807271032393,0.96822807426396,0.96822807426396,0.96830575623398,0.96838343820399,0.96838343820399,0.96838343820399,0.96853880214402,0.96853880214402,0.96861648411404,0.96861648411404,0.96869416608405,0.96884953002408,0.96908257593413,0.96916025790414,0.96939330381418,0.96931562184417,0.96931562184417,0.96931562184417,0.96931562184417,0.96939330381418,0.96939330381418,0.96939330381418,0.96939330381418,0.9694709857842,0.9694709857842,0.96954866775421,0.96962634972423,0.96970403169424,0.9694709857842,0.96954866775421,0.96970403169424,0.96970403169424,0.96978171366426,0.96978171366426,0.9700147595743,0.9700147595743,0.97009244154432,0.97017012351433,0.97009244154432,0.97009244154432,0.97009244154432,0.97009244154432,0.97024780548435,0.97024780548435,0.97024780548435,0.97024780548435,0.97032548745436,0.97040316942438,0.97040316942438,0.97040316942438,0.97040316942438,0.97048085139439,0.97048085139439,0.97048085139439,0.97048085139439,0.97063621533442,0.97063621533442,0.97071389730444,0.97071389730444,0.97071389730444,0.97071389730444,0.97071389730444,0.97079157927445,0.97079157927445,0.97079157927445,0.97079157927445,0.97079157927445,0.97086926124447,0.97086926124447,0.97086926124447,0.97086926124447,0.97086926124447,0.97086926124447,0.97086926124447,0.97086926124447,0.97086926124447,0.97094694321448,0.97102462518449,0.97094694321448,0.97094694321448,0.97094694321448,0.97094694321448,0.97086926124447,0.97086926124447,0.97094694321448,0.97094694321448,0.97102462518449,0.97110230715451,0.97110230715451,0.97117998912452,0.97117998912452,0.97117998912452,0.97117998912452,0.97117998912452,0.97117998912452,0.97117998912452,0.97125767109454,0.97133535306455,0.97141303503457,0.97141303503457,0.97141303503457,0.9715683989746,0.9715683989746,0.97164608094461,0.97164608094461,0.97172376291463,0.97172376291463,0.97172376291463,0.97172376291463,0.97172376291463,0.97172376291463,0.97172376291463,0.97187912685466,0.97187912685466,0.97187912685466,0.97187912685466,0.97187912685466,0.97187912685466,0.97195680882467,0.97195680882467,0.97195680882467,0.97203449079469,0.97203449079469,0.9721121727647,0.9721121727647,0.9721121727647,0.97226753670473,0.97226753670473,0.97226753670473,0.97226753670473,0.97226753670473,0.97234521867475,0.97234521867475,0.97234521867475,0.97234521867475,0.97234521867475,0.97234521867475,0.97234521867475,0.97250058261478,0.97257826458479,0.9726559465548,0.9726559465548,0.9726559465548,0.97273362852482,0.97273362852482,0.97281131049483,0.97288899246485,0.97288899246485,0.97288899246485,0.97288899246485,0.97296667443486,0.97296667443486,0.97296667443486,0.97296667443486,0.97296667443486,0.97296667443486,0.97296667443486,0.97296667443486,0.97304435640488,0.97304435640488,0.97304435640488,0.97304435640488,0.97304435640488,0.97312203837489,0.97312203837489,0.97312203837489,0.97304435640488,0.97304435640488,0.97304435640488,0.97304435640488,0.97304435640488,0.97304435640488,0.97312203837489,0.97312203837489,0.97312203837489,0.97312203837489,0.97312203837489,0.97319972034491,0.97319972034491,0.97319972034491,0.97319972034491,0.97319972034491,0.97319972034491,0.97319972034491,0.97319972034491,0.97327740231492,0.97327740231492,0.97327740231492,0.97327740231492,0.97327740231492,0.97327740231492,0.97327740231492,0.97327740231492,0.97327740231492,0.97327740231492,0.97335508428494,0.97335508428494,0.97351044822497,0.97358813019498,0.97358813019498,0.97358813019498,0.97358813019498,0.97358813019498,0.97358813019498,0.97358813019498,0.973665812165,0.973665812165,0.973665812165,0.973665812165,0.973665812165,0.973665812165,0.973665812165,0.973665812165,0.973665812165,0.973665812165,0.973665812165,0.973665812165,0.97374349413501,0.97374349413501,0.97374349413501,0.97374349413501,0.97382117610503,0.97382117610503,0.97382117610503,0.97382117610503,0.97382117610503,0.97382117610503,0.97382117610503,0.97382117610503,0.97382117610503,0.97382117610503,0.97382117610503,0.97382117610503,0.97389885807504,0.97389885807504,0.97389885807504,0.97389885807504,0.97389885807504,0.97397654004506,0.97397654004506,0.97397654004506,0.97397654004506,0.97397654004506,0.97397654004506,0.97397654004506,0.97397654004506,0.97397654004506,0.97397654004506,0.97397654004506,0.97397654004506,0.97413190398509,0.97413190398509,0.97405422201507,0.97405422201507,0.97397654004506,0.97405422201507,0.97413190398509,0.97413190398509,0.97428726792511,0.97428726792511,0.97436494989513,0.97436494989513,0.97436494989513,0.97436494989513,0.97436494989513,0.97436494989513,0.97436494989513,0.97436494989513,0.97436494989513,0.97436494989513,0.97436494989513,0.97444263186514,0.97444263186514,0.97444263186514,0.97452031383516,0.97467567777519,0.97467567777519,0.97467567777519,0.97467567777519,0.97467567777519,0.97467567777519,0.97467567777519,0.97467567777519,0.97467567777519,0.97467567777519,0.97467567777519,0.97467567777519,0.97467567777519,0.97467567777519,0.97467567777519,0.97467567777519,0.97467567777519,0.97467567777519,0.97467567777519,0.97467567777519,0.97467567777519,0.97467567777519,0.97467567777519,0.97467567777519,0.97467567777519,0.97467567777519,0.9747533597452,0.97483104171522,0.97483104171522,0.97483104171522,0.97483104171522,0.97483104171522,0.97483104171522,0.97483104171522,0.97483104171522,0.97483104171522,0.97483104171522,0.97483104171522,0.97498640565525,0.97498640565525,0.97498640565525,0.97506408762526,0.97506408762526,0.97506408762526,0.97506408762526,0.97506408762526,0.97506408762526,0.97506408762526,0.97506408762526,0.97506408762526,0.97498640565525,0.97498640565525,0.97498640565525,0.97498640565525,0.97498640565525,0.97498640565525,0.97498640565525,0.97498640565525,0.97498640565525,0.97498640565525,0.97498640565525,0.97498640565525,0.97506408762526,0.97506408762526,0.97506408762526,0.97506408762526,0.97506408762526,0.97506408762526,0.97506408762526,0.97506408762526,0.97506408762526,0.97506408762526,0.97506408762526,0.97514176959528,0.97521945156529,0.97521945156529,0.97521945156529,0.97521945156529,0.97521945156529,0.97521945156529,0.97521945156529,0.97521945156529,0.97529713353531,0.97529713353531,0.97529713353531,0.97529713353531,0.97529713353531,0.97545249747534,0.97545249747534,0.97545249747534,0.97553017944535,0.97553017944535,0.97553017944535,0.97553017944535,0.97553017944535,0.97553017944535,0.97553017944535,0.97560786141537,0.97560786141537,0.97560786141537,0.97560786141537,0.97560786141537,0.97560786141537,0.97560786141537,0.97560786141537,0.97560786141537,0.97560786141537,0.97560786141537,0.97560786141537,0.97560786141537,0.97560786141537,0.97568554338538,0.97568554338538,0.97568554338538,0.97568554338538,0.97568554338538,0.97568554338538],\"x\":[1,2,3,4,5,6,7,8,9,10,11,12,13,14,15,16,17,18,19,20,21,22,23,24,25,26,27,28,29,30,31,32,33,34,35,36,37,38,39,40,41,42,43,44,45,46,47,48,49,50,51,52,53,54,55,56,57,58,59,60,61,62,63,64,65,66,67,68,69,70,71,72,73,74,75,76,77,78,79,80,81,82,83,84,85,86,87,88,89,90,91,92,93,94,95,96,97,98,99,100,101,102,103,104,105,106,107,108,109,110,111,112,113,114,115,116,117,118,119,120,121,122,123,124,125,126,127,128,129,130,131,132,133,134,135,136,137,138,139,140,141,142,143,144,145,146,147,148,149,150,151,152,153,154,155,156,157,158,159,160,161,162,163,164,165,166,167,168,169,170,171,172,173,174,175,176,177,178,179,180,181,182,183,184,185,186,187,188,189,190,191,192,193,194,195,196,197,198,199,200,201,202,203,204,205,206,207,208,209,210,211,212,213,214,215,216,217,218,219,220,221,222,223,224,225,226,227,228,229,230,231,232,233,234,235,236,237,238,239,240,241,242,243,244,245,246,247,248,249,250,251,252,253,254,255,256,257,258,259,260,261,262,263,264,265,266,267,268,269,270,271,272,273,274,275,276,277,278,279,280,281,282,283,284,285,286,287,288,289,290,291,292,293,294,295,296,297,298,299,300,301,302,303,304,305,306,307,308,309,310,311,312,313,314,315,316,317,318,319,320,321,322,323,324,325,326,327,328,329,330,331,332,333,334,335,336,337,338,339,340,341,342,343,344,345,346,347,348,349,350,351,352,353,354,355,356,357,358,359,360,361,362,363,364,365,366,367,368,369,370,371,372,373,374,375,376,377,378,379,380,381,382,383,384,385,386,387,388,389,390,391,392,393,394,395,396,397,398,399,400,401,402,403,404,405,406,407,408,409,410,411,412,413,414,415,416,417,418,419,420,421,422,423,424,425,426,427,428,429,430,431,432,433,434,435,436,437,438,439,440,441,442,443,444,445,446,447,448,449,450,451,452,453,454,455,456,457,458,459,460,461,462,463,464,465,466,467,468,469,470,471,472,473,474,475,476,477,478,479,480,481,482,483,484,485,486,487,488,489,490,491,492,493,494,495,496,497,498,499,500]},\"column_names\":[\"y\",\"x\"],\"cont_ranges\":{},\"discrete_ranges\":{},\"selected\":[],\"id\":\"80916607-4ec3-4111-c1ce-45221464354c\",\"doc\":null,\"tags\":[]}},{\"id\":\"38bd9b0b-8d2c-432c-c33c-6353b5ddd497\",\"type\":\"Circle\",\"attributes\":{\"fill_alpha\":{\"units\":\"data\",\"value\":0.2},\"line_alpha\":{\"units\":\"data\",\"value\":1},\"doc\":null,\"size\":{\"units\":\"screen\",\"value\":10},\"fill_color\":{\"value\":\"red\"},\"line_color\":{\"value\":\"red\"},\"x\":{\"units\":\"data\",\"field\":\"x\"},\"id\":\"38bd9b0b-8d2c-432c-c33c-6353b5ddd497\",\"y\":{\"units\":\"data\",\"field\":\"y\"},\"tags\":[]}},{\"id\":\"38e71985-908a-4f41-cfdb-a4f2127a8589\",\"type\":\"Circle\",\"attributes\":{\"fill_alpha\":{\"units\":\"data\",\"value\":0.2},\"line_alpha\":{\"units\":\"data\",\"value\":1},\"doc\":null,\"size\":{\"units\":\"screen\",\"value\":10},\"fill_color\":{\"value\":\"red\"},\"line_color\":{\"value\":\"red\"},\"x\":{\"units\":\"data\",\"field\":\"x\"},\"id\":\"38e71985-908a-4f41-cfdb-a4f2127a8589\",\"y\":{\"units\":\"data\",\"field\":\"y\"},\"tags\":[]}},{\"id\":\"fb1c0a8c-3974-4ba7-cb54-d027d9fce98f\",\"type\":\"GlyphRenderer\",\"attributes\":{\"name\":null,\"nonselection_glyph\":{\"type\":\"Circle\",\"id\":\"38e71985-908a-4f41-cfdb-a4f2127a8589\"},\"doc\":null,\"server_data_source\":null,\"data_source\":{\"type\":\"ColumnDataSource\",\"id\":\"80916607-4ec3-4111-c1ce-45221464354c\"},\"glyph\":{\"type\":\"Circle\",\"id\":\"38bd9b0b-8d2c-432c-c33c-6353b5ddd497\"},\"selection_glyph\":null,\"id\":\"fb1c0a8c-3974-4ba7-cb54-d027d9fce98f\",\"tags\":[]}},{\"id\":\"3d45818a-b5bc-48e0-c871-129881dfe385\",\"type\":\"ColumnDataSource\",\"attributes\":{\"data\":{\"y\":[1.1582173961224,1.1361213350708,1.1147748258627,1.0941310408148,1.0741472490968,1.0547844229757,1.0360068826684,1.0177819760011,1.0000797894488,0.98287288746865,0.96613607734017,0.94984619700434,0.93398192363767,0.918523600922,0.90345308317078,0.88875359465411,0.87440960262814,0.86040670272133,0.84673151546316,0.8333715928601,0.82031533403188,0.80755190901792,0.79507118995183,0.78286368888046,0.77092050157556,0.75923325675015,0.74779407014946,0.73659550303881,0.72563052465746,0.7148924782501,0.70437505032583,0.69407224282885,0.68397834793627,0.67408792522633,0.66439578098574,0.65489694944729,0.6455866757699,0.63646040059116,0.62751374599969,0.61874250278921,0.61014261887003,0.60171018872576,0.59344144381423,0.58533274382118,0.57738056868471,0.56958151131618,0.56193227095061,0.55442964706634,0.54707053381946,0.53985191494391,0.53277085907289,0.52582451544183,0.51901010993653,0.51232494145429,0.50576637854842,0.49933185632976,0.49301887360127,0.48682499020415,0.48074782455588,0.47478505136282,0.46893439949129,0.46319364998281,0.45756063420073,0.45203323209631,0.44660937058381,0.44128702201509,0.43606420274493,0.43093897177938,0.42590942950004,0.42097371645798,0.41613001223127,0.41137653434124,0.40671153722247,0.40213331124231,0.3976401817661,0.39323050826447,0.38890268345959,0.38465513250753,0.38048631221389,0.37639471028062,0.37237884458157,0.368437262465,0.36456854008114,0.36077128173322,0.35704411925046,0.35338571138168,0.34979474320826,0.34626992557533,0.34280999454014,0.33941371083678,0.3360798593561,0.33280724864039,0.32959471039176,0.32644109899383,0.32334529104582,0.32030618490876,0.31732270026304,0.31439377767699,0.31151837818596,0.3086954828814,0.30592409250975,0.3032032270806,0.30053192548383,0.29790924511544,0.29533426151176,0.29280606799174,0.2903237753071,0.28788651130002,0.28549342056825,0.2831436641373,0.28083641913962,0.27857087850044,0.27634625063024,0.27416175912354,0.27201664246387,0.26991015373487,0.26784156033719,0.2658101437112,0.2638151990652,0.26185603510924,0.25993197379417,0.2580423500559,0.25618651156484,0.2543638184802,0.25257364320923,0.25081537017122,0.24908839556608,0.24739212714755,0.2457259840008,0.24408939632443,0.2424818052167,0.24090266246595,0.23935143034512,0.23782758141022,0.2363305983028,0.23485997355616,0.23341520940544,0.23199581760125,0.23060131922704,0.22923124451995,0.22788513269507,0.22656253177325,0.22526299841203,0.22398609774004,0.22273140319444,0.22149849636158,0.2202869668207,0.21909641199066,0.21792643697959,0.21677665443748,0.21564668441156,0.21453615420453,0.21344469823543,0.21237195790325,0.21131758145316,0.21028122384525,0.20926254662592,0.20826121780157,0.20727691171487,0.20630930892332,0.20535809608017,0.20442296581766,0.2035036166324,0.20259975277307,0.20171108413023,0.20083732612819,0.19997819961906,0.19913343077875,0.19830275100501,0.19748589681741,0.19668260975921,0.19589263630121,0.19511572774733,0.19435164014206,0.19360013417968,0.19286097511524,0.19213393267718,0.19141878098174,0.19071529844886,0.19002326771986,0.18934247557657,0.18867271286205,0.18801377440289,0.18736545893289,0.18672756901831,0.18609991098444,0.18548229484375,0.18487453422519,0.18427644630507,0.1836878517391,0.18310857459582,0.18253844229128,0.18197728552497,0.18142493821699,0.18088123744641,0.18034602339084,0.1798191392671,0.17930043127311,0.17878974853082,0.17828694303027,0.17779186957474,0.17730438572687,0.17682435175595,0.17635163058608,0.1758860877454,0.1754275913163,0.17497601188653,0.1745312225013,0.17409309861628,0.17366151805148,0.17323636094607,0.17281750971398,0.17240484900042,0.17199826563923,0.17159764861103,0.17120288900212,0.17081387996429,0.1704305166753,0.17005269630013,0.16968031795301,0.16931328266016,0.16895149332325,0.16859485468353,0.16824327328666,0.16789665744826,0.16755491722008,0.16721796435678,0.16688571228342,0.16655807606355,0.16623497236789,0.16591631944359,0.16560203708419,0.1652920466,0.16498627078916,0.1646846339092,0.16438706164921,0.16409348110243,0.16380382073949,0.16351801038206,0.16323598117709,0.16295766557147,0.16268299728722,0.16241191129715,0.16214434380096,0.16188023220185,0.16161951508351,0.1613621321876,0.16110802439167,0.16085713368744,0.16060940315955,0.16036477696472,0.16012320031128,0.15988461943911,0.15964898159994,0.15941623503805,0.15918632897137,0.15895921357285,0.1587348399523,0.15851316013848,0.15829412706158,0.15807769453607,0.15786381724377,0.15765245071736,0.15744355132417,0.15723707625021,0.15703298348461,0.15683123180432,0.15663178075904,0.15643459065654,0.15623962254822,0.15604683821489,0.15585620015293,0.15566767156062,0.15548121632477,0.15529679900763,0.15511438483401,0.15493393967865,0.15475543005387,0.1545788230974,0.15440408656049,0.15423118879624,0.15406009874813,0.15389078593877,0.1537232204589,0.15355737295657,0.15339321462655,0.15323071719989,0.15306985293375,0.15291059460141,0.1527529154824,0.15259678935289,0.1524421904763,0.15228909359395,0.15213747391605,0.15198730711271,0.1518385693053,0.15169123705776,0.15154528736827,0.15140069766099,0.15125744577792,0.15111550997103,0.15097486889441,0.15083550159667,0.15069738751346,0.15056050646006,0.15042483862427,0.15029036455923,0.15015706517658,0.15002492173962,0.1498939158566,0.14976402947424,0.14963524487128,0.1495075446522,0.14938091174099,0.14925532937517,0.14913078109978,0.14900725076161,0.14888472250341,0.14876318075836,0.14864261024452,0.14852299595943,0.14840432317485,0.14828657743154,0.14816974453418,0.14805381054637,0.14793876178572,0.14782458481908,0.14771126645778,0.14759879375301,0.14748715399132,0.14737633469014,0.14726632359342,0.14715710866735,0.14704867809616,0.14694102027799,0.14683412382088,0.14672797753876,0.14662257044761,0.14651789176161,0.1464139308894,0.14631067743044,0.14620812117137,0.14610625208252,0.1460050603144,0.14590453619436,0.14580467022318,0.14570545307187,0.14560687557844,0.14550892874474,0.14541160373339,0.14531489186475,0.14521878461392,0.1451232736079,0.14502835062264,0.14493400758033,0.14484023654657,0.14474702972771,0.14465437946823,0.14456227824809,0.14447071868022,0.144379693508,0.14428919560284,0.14419921796177,0.14410975370504,0.14402079607387,0.14393233842813,0.14384437424416,0.14375689711254,0.143669900736,0.14358337892726,0.14349732560704,0.14341173480196,0.14332660064263,0.14324191736165,0.14315767929174,0.14307388086386,0.14299051660533,0.14290758113811,0.14282506917696,0.14274297552773,0.1426612950857,0.14258002283385,0.14249915384123,0.14241868326143,0.1423386063309,0.14225891836748,0.14217961476886,0.14210069101108,0.14202214264709,0.14194396530533,0.14186615468828,0.14178870657115,0.14171161680046,0.14163488129278,0.14155849603336,0.14148245707493,0.14140676053638,0.1413314026016,0.14125637951822,0.14118168759644,0.1411073232079,0.14103328278452,0.14095956281738,0.14088615985564,0.14081307050547,0.14074029142899,0.14066781934321,0.14059565101907,0.14052378328042,0.14045221300301,0.14038093711361,0.14030995258901,0.14023925645509,0.14016884578599,0.14009871770315,0.14002886937446,0.13995929801344,0.13989000087835,0.13982097527142,0.13975221853801,0.13968372806582,0.13961550128414,0.13954753566307,0.13947982871277,0.13941237798274,0.13934518106111,0.1392782355739,0.13921153918437,0.13914508959229,0.13907888453336,0.13901292177845,0.13894719913305,0.13888171443658,0.1388164655618,0.13875145041423,0.13868666693149,0.13862211308278,0.13855778686827,0.13849368631858,0.13842980949416,0.13836615448484,0.13830271940922,0.1382395024142,0.13817650167445,0.13811371539192,0.13805114179533,0.13798877913972,0.13792662570594,0.13786467980023,0.13780293975372,0.137741403922,0.13768007068471,0.13761893844507,0.13755800562947,0.13749727068709,0.13743673208942,0.13737638832994,0.13731623792369,0.13725627940689,0.13719651133657,0.13713693229018,0.13707754086527,0.13701833567908,0.13695931536825,0.13690047858842,0.13684182401395,0.13678335033753,0.13672505626991,0.13666694053957,0.13660900189236,0.13655123909129,0.13649365091611,0.13643623616314,0.13637899364488,0.13632192218978,0.13626502064196,0.1362082878609,0.13615172272123,0.13609532411241,0.13603909093851,0.13598302211794,0.13592711658321,0.13587137328068,0.13581579117031,0.13576036922547,0.13570510643265,0.13565000179126,0.13559505431343,0.13554026302374,0.13548562695908,0.13543114516837,0.13537681671239,0.13532264066355,0.13526861610574,0.1352147421341,0.13516101785483,0.13510744238501,0.13505401485241,0.13500073439533,0.13494760016238],\"x\":[1,2,3,4,5,6,7,8,9,10,11,12,13,14,15,16,17,18,19,20,21,22,23,24,25,26,27,28,29,30,31,32,33,34,35,36,37,38,39,40,41,42,43,44,45,46,47,48,49,50,51,52,53,54,55,56,57,58,59,60,61,62,63,64,65,66,67,68,69,70,71,72,73,74,75,76,77,78,79,80,81,82,83,84,85,86,87,88,89,90,91,92,93,94,95,96,97,98,99,100,101,102,103,104,105,106,107,108,109,110,111,112,113,114,115,116,117,118,119,120,121,122,123,124,125,126,127,128,129,130,131,132,133,134,135,136,137,138,139,140,141,142,143,144,145,146,147,148,149,150,151,152,153,154,155,156,157,158,159,160,161,162,163,164,165,166,167,168,169,170,171,172,173,174,175,176,177,178,179,180,181,182,183,184,185,186,187,188,189,190,191,192,193,194,195,196,197,198,199,200,201,202,203,204,205,206,207,208,209,210,211,212,213,214,215,216,217,218,219,220,221,222,223,224,225,226,227,228,229,230,231,232,233,234,235,236,237,238,239,240,241,242,243,244,245,246,247,248,249,250,251,252,253,254,255,256,257,258,259,260,261,262,263,264,265,266,267,268,269,270,271,272,273,274,275,276,277,278,279,280,281,282,283,284,285,286,287,288,289,290,291,292,293,294,295,296,297,298,299,300,301,302,303,304,305,306,307,308,309,310,311,312,313,314,315,316,317,318,319,320,321,322,323,324,325,326,327,328,329,330,331,332,333,334,335,336,337,338,339,340,341,342,343,344,345,346,347,348,349,350,351,352,353,354,355,356,357,358,359,360,361,362,363,364,365,366,367,368,369,370,371,372,373,374,375,376,377,378,379,380,381,382,383,384,385,386,387,388,389,390,391,392,393,394,395,396,397,398,399,400,401,402,403,404,405,406,407,408,409,410,411,412,413,414,415,416,417,418,419,420,421,422,423,424,425,426,427,428,429,430,431,432,433,434,435,436,437,438,439,440,441,442,443,444,445,446,447,448,449,450,451,452,453,454,455,456,457,458,459,460,461,462,463,464,465,466,467,468,469,470,471,472,473,474,475,476,477,478,479,480,481,482,483,484,485,486,487,488,489,490,491,492,493,494,495,496,497,498,499,500]},\"column_names\":[\"y\",\"x\"],\"cont_ranges\":{},\"discrete_ranges\":{},\"selected\":[],\"id\":\"3d45818a-b5bc-48e0-c871-129881dfe385\",\"doc\":null,\"tags\":[]}},{\"id\":\"bb20367c-45be-4187-c160-91a65e1b87ee\",\"type\":\"Circle\",\"attributes\":{\"fill_alpha\":{\"units\":\"data\",\"value\":0.2},\"line_alpha\":{\"units\":\"data\",\"value\":1},\"doc\":null,\"size\":{\"units\":\"screen\",\"value\":10},\"fill_color\":{\"value\":\"blue\"},\"line_color\":{\"value\":\"blue\"},\"x\":{\"units\":\"data\",\"field\":\"x\"},\"id\":\"bb20367c-45be-4187-c160-91a65e1b87ee\",\"y\":{\"units\":\"data\",\"field\":\"y\"},\"tags\":[]}},{\"id\":\"75deb4e1-de4b-4277-c2b6-03402a290f7d\",\"type\":\"Circle\",\"attributes\":{\"fill_alpha\":{\"units\":\"data\",\"value\":0.2},\"line_alpha\":{\"units\":\"data\",\"value\":1},\"doc\":null,\"size\":{\"units\":\"screen\",\"value\":10},\"fill_color\":{\"value\":\"blue\"},\"line_color\":{\"value\":\"blue\"},\"x\":{\"units\":\"data\",\"field\":\"x\"},\"id\":\"75deb4e1-de4b-4277-c2b6-03402a290f7d\",\"y\":{\"units\":\"data\",\"field\":\"y\"},\"tags\":[]}},{\"id\":\"c77fc70e-c027-4bdd-cb74-9efe64b30c3f\",\"type\":\"GlyphRenderer\",\"attributes\":{\"name\":null,\"nonselection_glyph\":{\"type\":\"Circle\",\"id\":\"75deb4e1-de4b-4277-c2b6-03402a290f7d\"},\"doc\":null,\"server_data_source\":null,\"data_source\":{\"type\":\"ColumnDataSource\",\"id\":\"3d45818a-b5bc-48e0-c871-129881dfe385\"},\"glyph\":{\"type\":\"Circle\",\"id\":\"bb20367c-45be-4187-c160-91a65e1b87ee\"},\"selection_glyph\":null,\"id\":\"c77fc70e-c027-4bdd-cb74-9efe64b30c3f\",\"tags\":[]}},{\"id\":\"6761a806-b16f-4d65-cdfb-ac8a32d052d3\",\"type\":\"DataRange1d\",\"attributes\":{\"sources\":[{\"columns\":[\"x\"],\"source\":{\"type\":\"ColumnDataSource\",\"id\":\"80916607-4ec3-4111-c1ce-45221464354c\"}},{\"columns\":[\"x\"],\"source\":{\"type\":\"ColumnDataSource\",\"id\":\"3d45818a-b5bc-48e0-c871-129881dfe385\"}}],\"id\":\"6761a806-b16f-4d65-cdfb-ac8a32d052d3\",\"tags\":[],\"doc\":null}},{\"id\":\"94195310-aa19-4ca4-ccff-ddd71d30ae2e\",\"type\":\"DataRange1d\",\"attributes\":{\"sources\":[{\"columns\":[\"y\"],\"source\":{\"type\":\"ColumnDataSource\",\"id\":\"80916607-4ec3-4111-c1ce-45221464354c\"}},{\"columns\":[\"y\"],\"source\":{\"type\":\"ColumnDataSource\",\"id\":\"3d45818a-b5bc-48e0-c871-129881dfe385\"}}],\"id\":\"94195310-aa19-4ca4-ccff-ddd71d30ae2e\",\"tags\":[],\"doc\":null}},{\"id\":\"1a51a132-5544-45d0-c517-c7413397c262\",\"type\":\"ToolEvents\",\"attributes\":{\"tags\":[],\"id\":\"1a51a132-5544-45d0-c517-c7413397c262\",\"geometries\":[],\"doc\":null}},{\"id\":\"bb1614d0-945b-49bc-c939-478134e839e5\",\"type\":\"BasicTickFormatter\",\"attributes\":{\"id\":\"bb1614d0-945b-49bc-c939-478134e839e5\",\"tags\":[],\"doc\":null}},{\"id\":\"ba89f1af-8906-4b2e-cb32-cc24feeefc78\",\"type\":\"BasicTicker\",\"attributes\":{\"num_minor_ticks\":5,\"id\":\"ba89f1af-8906-4b2e-cb32-cc24feeefc78\",\"tags\":[],\"doc\":null}},{\"id\":\"6a3bde1f-0946-44d8-c4ae-464b440e8a88\",\"type\":\"LinearAxis\",\"attributes\":{\"formatter\":{\"type\":\"BasicTickFormatter\",\"id\":\"bb1614d0-945b-49bc-c939-478134e839e5\"},\"ticker\":{\"type\":\"BasicTicker\",\"id\":\"ba89f1af-8906-4b2e-cb32-cc24feeefc78\"},\"plot\":{\"id\":\"c743e878-2950-4f7e-cfc8-7835840a558a\",\"type\":\"Plot\",\"subtype\":\"Figure\"},\"axis_label\":null,\"id\":\"6a3bde1f-0946-44d8-c4ae-464b440e8a88\",\"doc\":null,\"tags\":[]}},{\"id\":\"c2b03050-7182-4818-c81f-517947bf8a35\",\"type\":\"Grid\",\"attributes\":{\"dimension\":0,\"plot\":{\"id\":\"c743e878-2950-4f7e-cfc8-7835840a558a\",\"type\":\"Plot\",\"subtype\":\"Figure\"},\"ticker\":{\"type\":\"BasicTicker\",\"id\":\"ba89f1af-8906-4b2e-cb32-cc24feeefc78\"},\"id\":\"c2b03050-7182-4818-c81f-517947bf8a35\",\"doc\":null,\"tags\":[]}},{\"id\":\"70af5f75-a406-4cb3-ccd2-c2d320ffe43a\",\"type\":\"BasicTickFormatter\",\"attributes\":{\"id\":\"70af5f75-a406-4cb3-ccd2-c2d320ffe43a\",\"tags\":[],\"doc\":null}},{\"id\":\"d8f84276-0c60-46a2-c679-e3d3417d7849\",\"type\":\"BasicTicker\",\"attributes\":{\"num_minor_ticks\":5,\"id\":\"d8f84276-0c60-46a2-c679-e3d3417d7849\",\"tags\":[],\"doc\":null}},{\"id\":\"78b1c040-27e8-48fc-c89a-a00850c8fc2e\",\"type\":\"LinearAxis\",\"attributes\":{\"formatter\":{\"type\":\"BasicTickFormatter\",\"id\":\"70af5f75-a406-4cb3-ccd2-c2d320ffe43a\"},\"ticker\":{\"type\":\"BasicTicker\",\"id\":\"d8f84276-0c60-46a2-c679-e3d3417d7849\"},\"plot\":{\"id\":\"c743e878-2950-4f7e-cfc8-7835840a558a\",\"type\":\"Plot\",\"subtype\":\"Figure\"},\"axis_label\":null,\"id\":\"78b1c040-27e8-48fc-c89a-a00850c8fc2e\",\"doc\":null,\"tags\":[]}},{\"id\":\"58a0b646-0879-4622-c6ba-6be7f1680868\",\"type\":\"Grid\",\"attributes\":{\"dimension\":1,\"plot\":{\"id\":\"c743e878-2950-4f7e-cfc8-7835840a558a\",\"type\":\"Plot\",\"subtype\":\"Figure\"},\"ticker\":{\"type\":\"BasicTicker\",\"id\":\"d8f84276-0c60-46a2-c679-e3d3417d7849\"},\"id\":\"58a0b646-0879-4622-c6ba-6be7f1680868\",\"doc\":null,\"tags\":[]}},{\"id\":\"90cd3bab-7862-4102-c12a-1a4193098f73\",\"type\":\"PanTool\",\"attributes\":{\"plot\":{\"id\":\"c743e878-2950-4f7e-cfc8-7835840a558a\",\"type\":\"Plot\",\"subtype\":\"Figure\"},\"dimensions\":[\"width\",\"height\"],\"id\":\"90cd3bab-7862-4102-c12a-1a4193098f73\",\"doc\":null,\"tags\":[]}},{\"id\":\"7d2b0a47-170c-4ac1-ca4a-6685398c9c2b\",\"type\":\"WheelZoomTool\",\"attributes\":{\"plot\":{\"id\":\"c743e878-2950-4f7e-cfc8-7835840a558a\",\"type\":\"Plot\",\"subtype\":\"Figure\"},\"dimensions\":[\"width\",\"height\"],\"id\":\"7d2b0a47-170c-4ac1-ca4a-6685398c9c2b\",\"doc\":null,\"tags\":[]}},{\"id\":\"79655b13-5385-4dc0-cd9f-9c4590daca1a\",\"type\":\"BoxZoomTool\",\"attributes\":{\"plot\":{\"id\":\"c743e878-2950-4f7e-cfc8-7835840a558a\",\"type\":\"Plot\",\"subtype\":\"Figure\"},\"id\":\"79655b13-5385-4dc0-cd9f-9c4590daca1a\",\"tags\":[],\"doc\":null}},{\"id\":\"49639db4-a51b-49a2-c935-bff03b70d736\",\"type\":\"PreviewSaveTool\",\"attributes\":{\"plot\":{\"id\":\"c743e878-2950-4f7e-cfc8-7835840a558a\",\"type\":\"Plot\",\"subtype\":\"Figure\"},\"id\":\"49639db4-a51b-49a2-c935-bff03b70d736\",\"tags\":[],\"doc\":null}},{\"id\":\"ae0cac3b-e2e6-4604-c6ee-599419a12508\",\"type\":\"ResizeTool\",\"attributes\":{\"plot\":{\"id\":\"c743e878-2950-4f7e-cfc8-7835840a558a\",\"type\":\"Plot\",\"subtype\":\"Figure\"},\"id\":\"ae0cac3b-e2e6-4604-c6ee-599419a12508\",\"tags\":[],\"doc\":null}},{\"id\":\"68582311-abde-4789-c715-78a4d0c0d2cc\",\"type\":\"ResetTool\",\"attributes\":{\"plot\":{\"id\":\"c743e878-2950-4f7e-cfc8-7835840a558a\",\"type\":\"Plot\",\"subtype\":\"Figure\"},\"id\":\"68582311-abde-4789-c715-78a4d0c0d2cc\",\"tags\":[],\"doc\":null}},{\"id\":\"c743e878-2950-4f7e-cfc8-7835840a558a\",\"type\":\"Plot\",\"attributes\":{\"x_range\":{\"type\":\"DataRange1d\",\"id\":\"6761a806-b16f-4d65-cdfb-ac8a32d052d3\"},\"tool_events\":{\"type\":\"ToolEvents\",\"id\":\"1a51a132-5544-45d0-c517-c7413397c262\"},\"below\":[{\"type\":\"LinearAxis\",\"id\":\"6a3bde1f-0946-44d8-c4ae-464b440e8a88\"}],\"renderers\":[{\"type\":\"GlyphRenderer\",\"id\":\"fb1c0a8c-3974-4ba7-cb54-d027d9fce98f\"},{\"type\":\"GlyphRenderer\",\"id\":\"c77fc70e-c027-4bdd-cb74-9efe64b30c3f\"},{\"type\":\"LinearAxis\",\"id\":\"6a3bde1f-0946-44d8-c4ae-464b440e8a88\"},{\"type\":\"Grid\",\"id\":\"c2b03050-7182-4818-c81f-517947bf8a35\"},{\"type\":\"LinearAxis\",\"id\":\"78b1c040-27e8-48fc-c89a-a00850c8fc2e\"},{\"type\":\"Grid\",\"id\":\"58a0b646-0879-4622-c6ba-6be7f1680868\"}],\"above\":[],\"tools\":[{\"type\":\"PanTool\",\"id\":\"90cd3bab-7862-4102-c12a-1a4193098f73\"},{\"type\":\"WheelZoomTool\",\"id\":\"7d2b0a47-170c-4ac1-ca4a-6685398c9c2b\"},{\"type\":\"BoxZoomTool\",\"id\":\"79655b13-5385-4dc0-cd9f-9c4590daca1a\"},{\"type\":\"PreviewSaveTool\",\"id\":\"49639db4-a51b-49a2-c935-bff03b70d736\"},{\"type\":\"ResizeTool\",\"id\":\"ae0cac3b-e2e6-4604-c6ee-599419a12508\"},{\"type\":\"ResetTool\",\"id\":\"68582311-abde-4789-c715-78a4d0c0d2cc\"}],\"doc\":null,\"right\":[],\"title\":\"Untitled Plot\",\"extra_x_ranges\":{},\"left\":[{\"type\":\"LinearAxis\",\"id\":\"78b1c040-27e8-48fc-c89a-a00850c8fc2e\"}],\"y_range\":{\"type\":\"DataRange1d\",\"id\":\"94195310-aa19-4ca4-ccff-ddd71d30ae2e\"},\"id\":\"c743e878-2950-4f7e-cfc8-7835840a558a\",\"extra_y_ranges\":{},\"tags\":[]}}];\n",
       "      Bokeh.load_models(all_models);\n",
       "      var model = Bokeh.Collections(modeltype).get(modelid);\n",
       "      $(\"#54fb40ed-43a2-470e-c73d-0ef9f3665fbd\").html(''); // clear any previous plot in window_id\n",
       "      var view = new model.default_view({model: model, el: \"#54fb40ed-43a2-470e-c73d-0ef9f3665fbd\"});\n",
       "  });\n",
       "    }\n",
       "});\n",
       "</script>\n",
       "<div class=\"plotdiv\" id=\"54fb40ed-43a2-470e-c73d-0ef9f3665fbd\"></div>\n"
      ]
     },
     "metadata": {},
     "output_type": "display_data"
    },
    {
     "data": {
      "text/html": [
       "<script type=\"text/javascript\">\n",
       "$(function() {\n",
       "    if (typeof (window._bokeh_onload_callbacks) === \"undefined\"){\n",
       "  window._bokeh_onload_callbacks = [];\n",
       "    }\n",
       "    function load_lib(url, callback){\n",
       "  window._bokeh_onload_callbacks.push(callback);\n",
       "  if (window._bokeh_is_loading){\n",
       "      console.log(\"Bokeh: BokehJS is being loaded, scheduling callback at\", new Date());\n",
       "      return null;\n",
       "  }\n",
       "  console.log(\"Bokeh: BokehJS not loaded, scheduling load and callback at\", new Date());\n",
       "  window._bokeh_is_loading = true;\n",
       "  var s = document.createElement('script');\n",
       "  s.src = url;\n",
       "  s.async = true;\n",
       "  s.onreadystatechange = s.onload = function(){\n",
       "      Bokeh.embed.inject_css(\"https://cdn.pydata.org/bokeh-0.7.0.min.css\");\n",
       "      window._bokeh_onload_callbacks.forEach(function(callback){callback()});\n",
       "  };\n",
       "  s.onerror = function(){\n",
       "      console.warn(\"failed to load library \" + url);\n",
       "  };\n",
       "  document.getElementsByTagName(\"head\")[0].appendChild(s);\n",
       "    }\n",
       "\n",
       "    bokehjs_url = \"https://cdn.pydata.org/bokeh-0.7.0.min.js\"\n",
       "\n",
       "    var elt = document.getElementById(\"54fb40ed-43a2-470e-c73d-0ef9f3665fbd\");\n",
       "    if(elt==null) {\n",
       "  console.log(\"Bokeh: ERROR: autoload.js configured with elementid '54fb40ed-43a2-470e-c73d-0ef9f3665fbd'\"\n",
       "        + \"but no matching script tag was found. \")\n",
       "  return false;\n",
       "    }\n",
       "\n",
       "    if(typeof(Bokeh) !== \"undefined\") {\n",
       "  console.log(\"Bokeh: BokehJS loaded, going straight to plotting\");\n",
       "  var modelid = \"1f4bd097-4ffe-4fdd-cf4e-0f2c2a6b99f4\";\n",
       "  var modeltype = \"Plot\";\n",
       "  var all_models = [{\"id\":\"1f07709c-9180-46ad-c656-0a5c28549279\",\"type\":\"ColumnDataSource\",\"attributes\":{\"data\":{\"y\":[0.32447758875165,0.34723840596598,0.37015458712033,0.39563427328517,0.42290064476035,0.45350734094617,0.4820943059116,0.51743960226831,0.54695875087392,0.57608948962946,0.60436572671483,0.6305445506098,0.65866542375515,0.68391206400994,0.70721665501437,0.72958906237862,0.7494756467024,0.76687640798571,0.78404412335897,0.79981356327196,0.81573836712499,0.82995416763769,0.84401460421036,0.85566689971258,0.86716383127476,0.87664103161656,0.88572982210829,0.89497397654005,0.90305290142158,0.90794686553251,0.91408374116368,0.91858929542453,0.92309484968539,0.92721199409617,0.93008622698672,0.93334886972734,0.93591237473782,0.93855356171833,0.94026256505865,0.94243766021906,0.94406898158937,0.94593334886973,0.94756467024004,0.94872989979026,0.95043890313058,0.95230327041094,0.95323545405111,0.95440068360134,0.95502213936145,0.95564359512157,0.95642041482172,0.95696418861182,0.95797405422202,0.95859550998213,0.95929464771227,0.96030451332246,0.96077060514255,0.96115901499262,0.96131437893265,0.96146974287268,0.96178047075274,0.9620911986328,0.96224656257283,0.96247960848287,0.96255729045289,0.96271265439292,0.96302338227297,0.96341179212305,0.96364483803309,0.96380020197312,0.96403324788317,0.9641886118232,0.9641886118232,0.96434397576323,0.96449933970325,0.96481006758331,0.96504311349336,0.9652761594034,0.96535384137342,0.96558688728346,0.96597529713354,0.96605297910355,0.96613066107356,0.96628602501359,0.96644138895362,0.96644138895362,0.96644138895362,0.96659675289365,0.96667443486367,0.9668297988037,0.96690748077371,0.96706284471374,0.96706284471374,0.96729589062379,0.9673735725938,0.96745125456382,0.96752893653383,0.96760661850385,0.96760661850385,0.96776198244387,0.96783966441389,0.96776198244387,0.96776198244387,0.9679173463839,0.9679173463839,0.96807271032393,0.96807271032393,0.96807271032393,0.96822807426396,0.96822807426396,0.96830575623398,0.96838343820399,0.96838343820399,0.96838343820399,0.96853880214402,0.96853880214402,0.96861648411404,0.96861648411404,0.96869416608405,0.96884953002408,0.96908257593413,0.96916025790414,0.96939330381418,0.96931562184417,0.96931562184417,0.96931562184417,0.96931562184417,0.96939330381418,0.96939330381418,0.96939330381418,0.96939330381418,0.9694709857842,0.9694709857842,0.96954866775421,0.96962634972423,0.96970403169424,0.9694709857842,0.96954866775421,0.96970403169424,0.96970403169424,0.96978171366426,0.96978171366426,0.9700147595743,0.9700147595743,0.97009244154432,0.97017012351433,0.97009244154432,0.97009244154432,0.97009244154432,0.97009244154432,0.97024780548435,0.97024780548435,0.97024780548435,0.97024780548435,0.97032548745436,0.97040316942438,0.97040316942438,0.97040316942438,0.97040316942438,0.97048085139439,0.97048085139439,0.97048085139439,0.97048085139439,0.97063621533442,0.97063621533442,0.97071389730444,0.97071389730444,0.97071389730444,0.97071389730444,0.97071389730444,0.97079157927445,0.97079157927445,0.97079157927445,0.97079157927445,0.97079157927445,0.97086926124447,0.97086926124447,0.97086926124447,0.97086926124447,0.97086926124447,0.97086926124447,0.97086926124447,0.97086926124447,0.97086926124447,0.97094694321448,0.97102462518449,0.97094694321448,0.97094694321448,0.97094694321448,0.97094694321448,0.97086926124447,0.97086926124447,0.97094694321448,0.97094694321448,0.97102462518449,0.97110230715451,0.97110230715451,0.97117998912452,0.97117998912452,0.97117998912452,0.97117998912452,0.97117998912452,0.97117998912452,0.97117998912452,0.97125767109454,0.97133535306455,0.97141303503457,0.97141303503457,0.97141303503457,0.9715683989746,0.9715683989746,0.97164608094461,0.97164608094461,0.97172376291463,0.97172376291463,0.97172376291463,0.97172376291463,0.97172376291463,0.97172376291463,0.97172376291463,0.97187912685466,0.97187912685466,0.97187912685466,0.97187912685466,0.97187912685466,0.97187912685466,0.97195680882467,0.97195680882467,0.97195680882467,0.97203449079469,0.97203449079469,0.9721121727647,0.9721121727647,0.9721121727647,0.97226753670473,0.97226753670473,0.97226753670473,0.97226753670473,0.97226753670473,0.97234521867475,0.97234521867475,0.97234521867475,0.97234521867475,0.97234521867475,0.97234521867475,0.97234521867475,0.97250058261478,0.97257826458479,0.9726559465548,0.9726559465548,0.9726559465548,0.97273362852482,0.97273362852482,0.97281131049483,0.97288899246485,0.97288899246485,0.97288899246485,0.97288899246485,0.97296667443486,0.97296667443486,0.97296667443486,0.97296667443486,0.97296667443486,0.97296667443486,0.97296667443486,0.97296667443486,0.97304435640488,0.97304435640488,0.97304435640488,0.97304435640488,0.97304435640488,0.97312203837489,0.97312203837489,0.97312203837489,0.97304435640488,0.97304435640488,0.97304435640488,0.97304435640488,0.97304435640488,0.97304435640488,0.97312203837489,0.97312203837489,0.97312203837489,0.97312203837489,0.97312203837489,0.97319972034491,0.97319972034491,0.97319972034491,0.97319972034491,0.97319972034491,0.97319972034491,0.97319972034491,0.97319972034491,0.97327740231492,0.97327740231492,0.97327740231492,0.97327740231492,0.97327740231492,0.97327740231492,0.97327740231492,0.97327740231492,0.97327740231492,0.97327740231492,0.97335508428494,0.97335508428494,0.97351044822497,0.97358813019498,0.97358813019498,0.97358813019498,0.97358813019498,0.97358813019498,0.97358813019498,0.97358813019498,0.973665812165,0.973665812165,0.973665812165,0.973665812165,0.973665812165,0.973665812165,0.973665812165,0.973665812165,0.973665812165,0.973665812165,0.973665812165,0.973665812165,0.97374349413501,0.97374349413501,0.97374349413501,0.97374349413501,0.97382117610503,0.97382117610503,0.97382117610503,0.97382117610503,0.97382117610503,0.97382117610503,0.97382117610503,0.97382117610503,0.97382117610503,0.97382117610503,0.97382117610503,0.97382117610503,0.97389885807504,0.97389885807504,0.97389885807504,0.97389885807504,0.97389885807504,0.97397654004506,0.97397654004506,0.97397654004506,0.97397654004506,0.97397654004506,0.97397654004506,0.97397654004506,0.97397654004506,0.97397654004506,0.97397654004506,0.97397654004506,0.97397654004506,0.97413190398509,0.97413190398509,0.97405422201507,0.97405422201507,0.97397654004506,0.97405422201507,0.97413190398509,0.97413190398509,0.97428726792511,0.97428726792511,0.97436494989513,0.97436494989513,0.97436494989513,0.97436494989513,0.97436494989513,0.97436494989513,0.97436494989513,0.97436494989513,0.97436494989513,0.97436494989513,0.97436494989513,0.97444263186514,0.97444263186514,0.97444263186514,0.97452031383516,0.97467567777519,0.97467567777519,0.97467567777519,0.97467567777519,0.97467567777519,0.97467567777519,0.97467567777519,0.97467567777519,0.97467567777519,0.97467567777519,0.97467567777519,0.97467567777519,0.97467567777519,0.97467567777519,0.97467567777519,0.97467567777519,0.97467567777519,0.97467567777519,0.97467567777519,0.97467567777519,0.97467567777519,0.97467567777519,0.97467567777519,0.97467567777519,0.97467567777519,0.97467567777519,0.9747533597452,0.97483104171522,0.97483104171522,0.97483104171522,0.97483104171522,0.97483104171522,0.97483104171522,0.97483104171522,0.97483104171522,0.97483104171522,0.97483104171522,0.97483104171522,0.97498640565525,0.97498640565525,0.97498640565525,0.97506408762526,0.97506408762526,0.97506408762526,0.97506408762526,0.97506408762526,0.97506408762526,0.97506408762526,0.97506408762526,0.97506408762526,0.97498640565525,0.97498640565525,0.97498640565525,0.97498640565525,0.97498640565525,0.97498640565525,0.97498640565525,0.97498640565525,0.97498640565525,0.97498640565525,0.97498640565525,0.97498640565525,0.97506408762526,0.97506408762526,0.97506408762526,0.97506408762526,0.97506408762526,0.97506408762526,0.97506408762526,0.97506408762526,0.97506408762526,0.97506408762526,0.97506408762526,0.97514176959528,0.97521945156529,0.97521945156529,0.97521945156529,0.97521945156529,0.97521945156529,0.97521945156529,0.97521945156529,0.97521945156529,0.97529713353531,0.97529713353531,0.97529713353531,0.97529713353531,0.97529713353531,0.97545249747534,0.97545249747534,0.97545249747534,0.97553017944535,0.97553017944535,0.97553017944535,0.97553017944535,0.97553017944535,0.97553017944535,0.97553017944535,0.97560786141537,0.97560786141537,0.97560786141537,0.97560786141537,0.97560786141537,0.97560786141537,0.97560786141537,0.97560786141537,0.97560786141537,0.97560786141537,0.97560786141537,0.97560786141537,0.97560786141537,0.97560786141537,0.97568554338538,0.97568554338538,0.97568554338538,0.97568554338538,0.97568554338538,0.97568554338538],\"x\":[1,2,3,4,5,6,7,8,9,10,11,12,13,14,15,16,17,18,19,20,21,22,23,24,25,26,27,28,29,30,31,32,33,34,35,36,37,38,39,40,41,42,43,44,45,46,47,48,49,50,51,52,53,54,55,56,57,58,59,60,61,62,63,64,65,66,67,68,69,70,71,72,73,74,75,76,77,78,79,80,81,82,83,84,85,86,87,88,89,90,91,92,93,94,95,96,97,98,99,100,101,102,103,104,105,106,107,108,109,110,111,112,113,114,115,116,117,118,119,120,121,122,123,124,125,126,127,128,129,130,131,132,133,134,135,136,137,138,139,140,141,142,143,144,145,146,147,148,149,150,151,152,153,154,155,156,157,158,159,160,161,162,163,164,165,166,167,168,169,170,171,172,173,174,175,176,177,178,179,180,181,182,183,184,185,186,187,188,189,190,191,192,193,194,195,196,197,198,199,200,201,202,203,204,205,206,207,208,209,210,211,212,213,214,215,216,217,218,219,220,221,222,223,224,225,226,227,228,229,230,231,232,233,234,235,236,237,238,239,240,241,242,243,244,245,246,247,248,249,250,251,252,253,254,255,256,257,258,259,260,261,262,263,264,265,266,267,268,269,270,271,272,273,274,275,276,277,278,279,280,281,282,283,284,285,286,287,288,289,290,291,292,293,294,295,296,297,298,299,300,301,302,303,304,305,306,307,308,309,310,311,312,313,314,315,316,317,318,319,320,321,322,323,324,325,326,327,328,329,330,331,332,333,334,335,336,337,338,339,340,341,342,343,344,345,346,347,348,349,350,351,352,353,354,355,356,357,358,359,360,361,362,363,364,365,366,367,368,369,370,371,372,373,374,375,376,377,378,379,380,381,382,383,384,385,386,387,388,389,390,391,392,393,394,395,396,397,398,399,400,401,402,403,404,405,406,407,408,409,410,411,412,413,414,415,416,417,418,419,420,421,422,423,424,425,426,427,428,429,430,431,432,433,434,435,436,437,438,439,440,441,442,443,444,445,446,447,448,449,450,451,452,453,454,455,456,457,458,459,460,461,462,463,464,465,466,467,468,469,470,471,472,473,474,475,476,477,478,479,480,481,482,483,484,485,486,487,488,489,490,491,492,493,494,495,496,497,498,499,500]},\"column_names\":[\"y\",\"x\"],\"cont_ranges\":{},\"discrete_ranges\":{},\"selected\":[],\"id\":\"1f07709c-9180-46ad-c656-0a5c28549279\",\"doc\":null,\"tags\":[]}},{\"id\":\"c9ad566e-7db4-47e1-c7e4-45f268caa4b7\",\"type\":\"Circle\",\"attributes\":{\"fill_alpha\":{\"units\":\"data\",\"value\":0.2},\"line_alpha\":{\"units\":\"data\",\"value\":1},\"doc\":null,\"size\":{\"units\":\"screen\",\"value\":10},\"fill_color\":{\"value\":\"red\"},\"line_color\":{\"value\":\"red\"},\"x\":{\"units\":\"data\",\"field\":\"x\"},\"id\":\"c9ad566e-7db4-47e1-c7e4-45f268caa4b7\",\"y\":{\"units\":\"data\",\"field\":\"y\"},\"tags\":[]}},{\"id\":\"726d9651-26a7-4dbc-cde2-0196622ddb44\",\"type\":\"Circle\",\"attributes\":{\"fill_alpha\":{\"units\":\"data\",\"value\":0.2},\"line_alpha\":{\"units\":\"data\",\"value\":1},\"doc\":null,\"size\":{\"units\":\"screen\",\"value\":10},\"fill_color\":{\"value\":\"red\"},\"line_color\":{\"value\":\"red\"},\"x\":{\"units\":\"data\",\"field\":\"x\"},\"id\":\"726d9651-26a7-4dbc-cde2-0196622ddb44\",\"y\":{\"units\":\"data\",\"field\":\"y\"},\"tags\":[]}},{\"id\":\"86917684-608d-4f6b-cff3-146a5c5197c7\",\"type\":\"GlyphRenderer\",\"attributes\":{\"name\":null,\"nonselection_glyph\":{\"type\":\"Circle\",\"id\":\"726d9651-26a7-4dbc-cde2-0196622ddb44\"},\"doc\":null,\"server_data_source\":null,\"data_source\":{\"type\":\"ColumnDataSource\",\"id\":\"1f07709c-9180-46ad-c656-0a5c28549279\"},\"glyph\":{\"type\":\"Circle\",\"id\":\"c9ad566e-7db4-47e1-c7e4-45f268caa4b7\"},\"selection_glyph\":null,\"id\":\"86917684-608d-4f6b-cff3-146a5c5197c7\",\"tags\":[]}},{\"id\":\"c63eef67-c46d-48fa-c885-6d2dba752924\",\"type\":\"ColumnDataSource\",\"attributes\":{\"data\":{\"y\":[1.1582173961224,1.1361213350708,1.1147748258627,1.0941310408148,1.0741472490968,1.0547844229757,1.0360068826684,1.0177819760011,1.0000797894488,0.98287288746865,0.96613607734017,0.94984619700434,0.93398192363767,0.918523600922,0.90345308317078,0.88875359465411,0.87440960262814,0.86040670272133,0.84673151546316,0.8333715928601,0.82031533403188,0.80755190901792,0.79507118995183,0.78286368888046,0.77092050157556,0.75923325675015,0.74779407014946,0.73659550303881,0.72563052465746,0.7148924782501,0.70437505032583,0.69407224282885,0.68397834793627,0.67408792522633,0.66439578098574,0.65489694944729,0.6455866757699,0.63646040059116,0.62751374599969,0.61874250278921,0.61014261887003,0.60171018872576,0.59344144381423,0.58533274382118,0.57738056868471,0.56958151131618,0.56193227095061,0.55442964706634,0.54707053381946,0.53985191494391,0.53277085907289,0.52582451544183,0.51901010993653,0.51232494145429,0.50576637854842,0.49933185632976,0.49301887360127,0.48682499020415,0.48074782455588,0.47478505136282,0.46893439949129,0.46319364998281,0.45756063420073,0.45203323209631,0.44660937058381,0.44128702201509,0.43606420274493,0.43093897177938,0.42590942950004,0.42097371645798,0.41613001223127,0.41137653434124,0.40671153722247,0.40213331124231,0.3976401817661,0.39323050826447,0.38890268345959,0.38465513250753,0.38048631221389,0.37639471028062,0.37237884458157,0.368437262465,0.36456854008114,0.36077128173322,0.35704411925046,0.35338571138168,0.34979474320826,0.34626992557533,0.34280999454014,0.33941371083678,0.3360798593561,0.33280724864039,0.32959471039176,0.32644109899383,0.32334529104582,0.32030618490876,0.31732270026304,0.31439377767699,0.31151837818596,0.3086954828814,0.30592409250975,0.3032032270806,0.30053192548383,0.29790924511544,0.29533426151176,0.29280606799174,0.2903237753071,0.28788651130002,0.28549342056825,0.2831436641373,0.28083641913962,0.27857087850044,0.27634625063024,0.27416175912354,0.27201664246387,0.26991015373487,0.26784156033719,0.2658101437112,0.2638151990652,0.26185603510924,0.25993197379417,0.2580423500559,0.25618651156484,0.2543638184802,0.25257364320923,0.25081537017122,0.24908839556608,0.24739212714755,0.2457259840008,0.24408939632443,0.2424818052167,0.24090266246595,0.23935143034512,0.23782758141022,0.2363305983028,0.23485997355616,0.23341520940544,0.23199581760125,0.23060131922704,0.22923124451995,0.22788513269507,0.22656253177325,0.22526299841203,0.22398609774004,0.22273140319444,0.22149849636158,0.2202869668207,0.21909641199066,0.21792643697959,0.21677665443748,0.21564668441156,0.21453615420453,0.21344469823543,0.21237195790325,0.21131758145316,0.21028122384525,0.20926254662592,0.20826121780157,0.20727691171487,0.20630930892332,0.20535809608017,0.20442296581766,0.2035036166324,0.20259975277307,0.20171108413023,0.20083732612819,0.19997819961906,0.19913343077875,0.19830275100501,0.19748589681741,0.19668260975921,0.19589263630121,0.19511572774733,0.19435164014206,0.19360013417968,0.19286097511524,0.19213393267718,0.19141878098174,0.19071529844886,0.19002326771986,0.18934247557657,0.18867271286205,0.18801377440289,0.18736545893289,0.18672756901831,0.18609991098444,0.18548229484375,0.18487453422519,0.18427644630507,0.1836878517391,0.18310857459582,0.18253844229128,0.18197728552497,0.18142493821699,0.18088123744641,0.18034602339084,0.1798191392671,0.17930043127311,0.17878974853082,0.17828694303027,0.17779186957474,0.17730438572687,0.17682435175595,0.17635163058608,0.1758860877454,0.1754275913163,0.17497601188653,0.1745312225013,0.17409309861628,0.17366151805148,0.17323636094607,0.17281750971398,0.17240484900042,0.17199826563923,0.17159764861103,0.17120288900212,0.17081387996429,0.1704305166753,0.17005269630013,0.16968031795301,0.16931328266016,0.16895149332325,0.16859485468353,0.16824327328666,0.16789665744826,0.16755491722008,0.16721796435678,0.16688571228342,0.16655807606355,0.16623497236789,0.16591631944359,0.16560203708419,0.1652920466,0.16498627078916,0.1646846339092,0.16438706164921,0.16409348110243,0.16380382073949,0.16351801038206,0.16323598117709,0.16295766557147,0.16268299728722,0.16241191129715,0.16214434380096,0.16188023220185,0.16161951508351,0.1613621321876,0.16110802439167,0.16085713368744,0.16060940315955,0.16036477696472,0.16012320031128,0.15988461943911,0.15964898159994,0.15941623503805,0.15918632897137,0.15895921357285,0.1587348399523,0.15851316013848,0.15829412706158,0.15807769453607,0.15786381724377,0.15765245071736,0.15744355132417,0.15723707625021,0.15703298348461,0.15683123180432,0.15663178075904,0.15643459065654,0.15623962254822,0.15604683821489,0.15585620015293,0.15566767156062,0.15548121632477,0.15529679900763,0.15511438483401,0.15493393967865,0.15475543005387,0.1545788230974,0.15440408656049,0.15423118879624,0.15406009874813,0.15389078593877,0.1537232204589,0.15355737295657,0.15339321462655,0.15323071719989,0.15306985293375,0.15291059460141,0.1527529154824,0.15259678935289,0.1524421904763,0.15228909359395,0.15213747391605,0.15198730711271,0.1518385693053,0.15169123705776,0.15154528736827,0.15140069766099,0.15125744577792,0.15111550997103,0.15097486889441,0.15083550159667,0.15069738751346,0.15056050646006,0.15042483862427,0.15029036455923,0.15015706517658,0.15002492173962,0.1498939158566,0.14976402947424,0.14963524487128,0.1495075446522,0.14938091174099,0.14925532937517,0.14913078109978,0.14900725076161,0.14888472250341,0.14876318075836,0.14864261024452,0.14852299595943,0.14840432317485,0.14828657743154,0.14816974453418,0.14805381054637,0.14793876178572,0.14782458481908,0.14771126645778,0.14759879375301,0.14748715399132,0.14737633469014,0.14726632359342,0.14715710866735,0.14704867809616,0.14694102027799,0.14683412382088,0.14672797753876,0.14662257044761,0.14651789176161,0.1464139308894,0.14631067743044,0.14620812117137,0.14610625208252,0.1460050603144,0.14590453619436,0.14580467022318,0.14570545307187,0.14560687557844,0.14550892874474,0.14541160373339,0.14531489186475,0.14521878461392,0.1451232736079,0.14502835062264,0.14493400758033,0.14484023654657,0.14474702972771,0.14465437946823,0.14456227824809,0.14447071868022,0.144379693508,0.14428919560284,0.14419921796177,0.14410975370504,0.14402079607387,0.14393233842813,0.14384437424416,0.14375689711254,0.143669900736,0.14358337892726,0.14349732560704,0.14341173480196,0.14332660064263,0.14324191736165,0.14315767929174,0.14307388086386,0.14299051660533,0.14290758113811,0.14282506917696,0.14274297552773,0.1426612950857,0.14258002283385,0.14249915384123,0.14241868326143,0.1423386063309,0.14225891836748,0.14217961476886,0.14210069101108,0.14202214264709,0.14194396530533,0.14186615468828,0.14178870657115,0.14171161680046,0.14163488129278,0.14155849603336,0.14148245707493,0.14140676053638,0.1413314026016,0.14125637951822,0.14118168759644,0.1411073232079,0.14103328278452,0.14095956281738,0.14088615985564,0.14081307050547,0.14074029142899,0.14066781934321,0.14059565101907,0.14052378328042,0.14045221300301,0.14038093711361,0.14030995258901,0.14023925645509,0.14016884578599,0.14009871770315,0.14002886937446,0.13995929801344,0.13989000087835,0.13982097527142,0.13975221853801,0.13968372806582,0.13961550128414,0.13954753566307,0.13947982871277,0.13941237798274,0.13934518106111,0.1392782355739,0.13921153918437,0.13914508959229,0.13907888453336,0.13901292177845,0.13894719913305,0.13888171443658,0.1388164655618,0.13875145041423,0.13868666693149,0.13862211308278,0.13855778686827,0.13849368631858,0.13842980949416,0.13836615448484,0.13830271940922,0.1382395024142,0.13817650167445,0.13811371539192,0.13805114179533,0.13798877913972,0.13792662570594,0.13786467980023,0.13780293975372,0.137741403922,0.13768007068471,0.13761893844507,0.13755800562947,0.13749727068709,0.13743673208942,0.13737638832994,0.13731623792369,0.13725627940689,0.13719651133657,0.13713693229018,0.13707754086527,0.13701833567908,0.13695931536825,0.13690047858842,0.13684182401395,0.13678335033753,0.13672505626991,0.13666694053957,0.13660900189236,0.13655123909129,0.13649365091611,0.13643623616314,0.13637899364488,0.13632192218978,0.13626502064196,0.1362082878609,0.13615172272123,0.13609532411241,0.13603909093851,0.13598302211794,0.13592711658321,0.13587137328068,0.13581579117031,0.13576036922547,0.13570510643265,0.13565000179126,0.13559505431343,0.13554026302374,0.13548562695908,0.13543114516837,0.13537681671239,0.13532264066355,0.13526861610574,0.1352147421341,0.13516101785483,0.13510744238501,0.13505401485241,0.13500073439533,0.13494760016238],\"x\":[1,2,3,4,5,6,7,8,9,10,11,12,13,14,15,16,17,18,19,20,21,22,23,24,25,26,27,28,29,30,31,32,33,34,35,36,37,38,39,40,41,42,43,44,45,46,47,48,49,50,51,52,53,54,55,56,57,58,59,60,61,62,63,64,65,66,67,68,69,70,71,72,73,74,75,76,77,78,79,80,81,82,83,84,85,86,87,88,89,90,91,92,93,94,95,96,97,98,99,100,101,102,103,104,105,106,107,108,109,110,111,112,113,114,115,116,117,118,119,120,121,122,123,124,125,126,127,128,129,130,131,132,133,134,135,136,137,138,139,140,141,142,143,144,145,146,147,148,149,150,151,152,153,154,155,156,157,158,159,160,161,162,163,164,165,166,167,168,169,170,171,172,173,174,175,176,177,178,179,180,181,182,183,184,185,186,187,188,189,190,191,192,193,194,195,196,197,198,199,200,201,202,203,204,205,206,207,208,209,210,211,212,213,214,215,216,217,218,219,220,221,222,223,224,225,226,227,228,229,230,231,232,233,234,235,236,237,238,239,240,241,242,243,244,245,246,247,248,249,250,251,252,253,254,255,256,257,258,259,260,261,262,263,264,265,266,267,268,269,270,271,272,273,274,275,276,277,278,279,280,281,282,283,284,285,286,287,288,289,290,291,292,293,294,295,296,297,298,299,300,301,302,303,304,305,306,307,308,309,310,311,312,313,314,315,316,317,318,319,320,321,322,323,324,325,326,327,328,329,330,331,332,333,334,335,336,337,338,339,340,341,342,343,344,345,346,347,348,349,350,351,352,353,354,355,356,357,358,359,360,361,362,363,364,365,366,367,368,369,370,371,372,373,374,375,376,377,378,379,380,381,382,383,384,385,386,387,388,389,390,391,392,393,394,395,396,397,398,399,400,401,402,403,404,405,406,407,408,409,410,411,412,413,414,415,416,417,418,419,420,421,422,423,424,425,426,427,428,429,430,431,432,433,434,435,436,437,438,439,440,441,442,443,444,445,446,447,448,449,450,451,452,453,454,455,456,457,458,459,460,461,462,463,464,465,466,467,468,469,470,471,472,473,474,475,476,477,478,479,480,481,482,483,484,485,486,487,488,489,490,491,492,493,494,495,496,497,498,499,500]},\"column_names\":[\"y\",\"x\"],\"cont_ranges\":{},\"discrete_ranges\":{},\"selected\":[],\"id\":\"c63eef67-c46d-48fa-c885-6d2dba752924\",\"doc\":null,\"tags\":[]}},{\"id\":\"fa53e8bb-63ea-4b35-cbbb-060d9521a3d0\",\"type\":\"Circle\",\"attributes\":{\"fill_alpha\":{\"units\":\"data\",\"value\":0.2},\"line_alpha\":{\"units\":\"data\",\"value\":1},\"doc\":null,\"size\":{\"units\":\"screen\",\"value\":10},\"fill_color\":{\"value\":\"blue\"},\"line_color\":{\"value\":\"blue\"},\"x\":{\"units\":\"data\",\"field\":\"x\"},\"id\":\"fa53e8bb-63ea-4b35-cbbb-060d9521a3d0\",\"y\":{\"units\":\"data\",\"field\":\"y\"},\"tags\":[]}},{\"id\":\"26b910f7-7142-4da8-cdf7-b9d847846dc8\",\"type\":\"Circle\",\"attributes\":{\"fill_alpha\":{\"units\":\"data\",\"value\":0.2},\"line_alpha\":{\"units\":\"data\",\"value\":1},\"doc\":null,\"size\":{\"units\":\"screen\",\"value\":10},\"fill_color\":{\"value\":\"blue\"},\"line_color\":{\"value\":\"blue\"},\"x\":{\"units\":\"data\",\"field\":\"x\"},\"id\":\"26b910f7-7142-4da8-cdf7-b9d847846dc8\",\"y\":{\"units\":\"data\",\"field\":\"y\"},\"tags\":[]}},{\"id\":\"7e53a95b-08ef-4339-c32e-16902ef9f67f\",\"type\":\"GlyphRenderer\",\"attributes\":{\"name\":null,\"nonselection_glyph\":{\"type\":\"Circle\",\"id\":\"26b910f7-7142-4da8-cdf7-b9d847846dc8\"},\"doc\":null,\"server_data_source\":null,\"data_source\":{\"type\":\"ColumnDataSource\",\"id\":\"c63eef67-c46d-48fa-c885-6d2dba752924\"},\"glyph\":{\"type\":\"Circle\",\"id\":\"fa53e8bb-63ea-4b35-cbbb-060d9521a3d0\"},\"selection_glyph\":null,\"id\":\"7e53a95b-08ef-4339-c32e-16902ef9f67f\",\"tags\":[]}},{\"id\":\"7c1c3b2b-9737-4c82-cc53-e49f48d9a50e\",\"type\":\"DataRange1d\",\"attributes\":{\"sources\":[{\"columns\":[\"x\"],\"source\":{\"type\":\"ColumnDataSource\",\"id\":\"1f07709c-9180-46ad-c656-0a5c28549279\"}},{\"columns\":[\"x\"],\"source\":{\"type\":\"ColumnDataSource\",\"id\":\"c63eef67-c46d-48fa-c885-6d2dba752924\"}}],\"id\":\"7c1c3b2b-9737-4c82-cc53-e49f48d9a50e\",\"tags\":[],\"doc\":null}},{\"id\":\"9afa655f-a39a-4528-c531-0b258e1aed23\",\"type\":\"DataRange1d\",\"attributes\":{\"sources\":[{\"columns\":[\"y\"],\"source\":{\"type\":\"ColumnDataSource\",\"id\":\"1f07709c-9180-46ad-c656-0a5c28549279\"}},{\"columns\":[\"y\"],\"source\":{\"type\":\"ColumnDataSource\",\"id\":\"c63eef67-c46d-48fa-c885-6d2dba752924\"}}],\"id\":\"9afa655f-a39a-4528-c531-0b258e1aed23\",\"tags\":[],\"doc\":null}},{\"id\":\"d0d4b845-1e1d-4bba-cbfe-d0a02a0f6a0b\",\"type\":\"ToolEvents\",\"attributes\":{\"tags\":[],\"id\":\"d0d4b845-1e1d-4bba-cbfe-d0a02a0f6a0b\",\"geometries\":[],\"doc\":null}},{\"id\":\"b3fb7d0d-10e3-4e01-ce5f-102b01eb5a09\",\"type\":\"BasicTickFormatter\",\"attributes\":{\"id\":\"b3fb7d0d-10e3-4e01-ce5f-102b01eb5a09\",\"tags\":[],\"doc\":null}},{\"id\":\"170864b3-51c1-48bb-c8b5-822ee5016f7f\",\"type\":\"BasicTicker\",\"attributes\":{\"num_minor_ticks\":5,\"id\":\"170864b3-51c1-48bb-c8b5-822ee5016f7f\",\"tags\":[],\"doc\":null}},{\"id\":\"4687fd86-8de1-480a-c815-083767da76ca\",\"type\":\"LinearAxis\",\"attributes\":{\"formatter\":{\"type\":\"BasicTickFormatter\",\"id\":\"b3fb7d0d-10e3-4e01-ce5f-102b01eb5a09\"},\"ticker\":{\"type\":\"BasicTicker\",\"id\":\"170864b3-51c1-48bb-c8b5-822ee5016f7f\"},\"plot\":{\"id\":\"1f4bd097-4ffe-4fdd-cf4e-0f2c2a6b99f4\",\"type\":\"Plot\",\"subtype\":\"Figure\"},\"axis_label\":null,\"id\":\"4687fd86-8de1-480a-c815-083767da76ca\",\"doc\":null,\"tags\":[]}},{\"id\":\"f4cb1888-616c-45a0-c59e-109620a30fc8\",\"type\":\"Grid\",\"attributes\":{\"dimension\":0,\"plot\":{\"id\":\"1f4bd097-4ffe-4fdd-cf4e-0f2c2a6b99f4\",\"type\":\"Plot\",\"subtype\":\"Figure\"},\"ticker\":{\"type\":\"BasicTicker\",\"id\":\"170864b3-51c1-48bb-c8b5-822ee5016f7f\"},\"id\":\"f4cb1888-616c-45a0-c59e-109620a30fc8\",\"doc\":null,\"tags\":[]}},{\"id\":\"3dd3c44c-19a3-495b-c93f-c480dbfd62f0\",\"type\":\"BasicTickFormatter\",\"attributes\":{\"id\":\"3dd3c44c-19a3-495b-c93f-c480dbfd62f0\",\"tags\":[],\"doc\":null}},{\"id\":\"aa79834e-62fe-4931-c97a-215505fb245f\",\"type\":\"BasicTicker\",\"attributes\":{\"num_minor_ticks\":5,\"id\":\"aa79834e-62fe-4931-c97a-215505fb245f\",\"tags\":[],\"doc\":null}},{\"id\":\"305b746c-3634-4deb-cd6a-06ee12c7e68c\",\"type\":\"LinearAxis\",\"attributes\":{\"formatter\":{\"type\":\"BasicTickFormatter\",\"id\":\"3dd3c44c-19a3-495b-c93f-c480dbfd62f0\"},\"ticker\":{\"type\":\"BasicTicker\",\"id\":\"aa79834e-62fe-4931-c97a-215505fb245f\"},\"plot\":{\"id\":\"1f4bd097-4ffe-4fdd-cf4e-0f2c2a6b99f4\",\"type\":\"Plot\",\"subtype\":\"Figure\"},\"axis_label\":null,\"id\":\"305b746c-3634-4deb-cd6a-06ee12c7e68c\",\"doc\":null,\"tags\":[]}},{\"id\":\"0e95a6a2-8d86-410c-c12b-7da8a7372f42\",\"type\":\"Grid\",\"attributes\":{\"dimension\":1,\"plot\":{\"id\":\"1f4bd097-4ffe-4fdd-cf4e-0f2c2a6b99f4\",\"type\":\"Plot\",\"subtype\":\"Figure\"},\"ticker\":{\"type\":\"BasicTicker\",\"id\":\"aa79834e-62fe-4931-c97a-215505fb245f\"},\"id\":\"0e95a6a2-8d86-410c-c12b-7da8a7372f42\",\"doc\":null,\"tags\":[]}},{\"id\":\"646beeb2-f4a7-41fc-c111-cf6af0eff6d8\",\"type\":\"PanTool\",\"attributes\":{\"plot\":{\"id\":\"1f4bd097-4ffe-4fdd-cf4e-0f2c2a6b99f4\",\"type\":\"Plot\",\"subtype\":\"Figure\"},\"dimensions\":[\"width\",\"height\"],\"id\":\"646beeb2-f4a7-41fc-c111-cf6af0eff6d8\",\"doc\":null,\"tags\":[]}},{\"id\":\"4f4d10f5-e388-4b9b-cbf9-c9449d93716f\",\"type\":\"WheelZoomTool\",\"attributes\":{\"plot\":{\"id\":\"1f4bd097-4ffe-4fdd-cf4e-0f2c2a6b99f4\",\"type\":\"Plot\",\"subtype\":\"Figure\"},\"dimensions\":[\"width\",\"height\"],\"id\":\"4f4d10f5-e388-4b9b-cbf9-c9449d93716f\",\"doc\":null,\"tags\":[]}},{\"id\":\"640a6289-e4fe-4237-c22a-04d575afa26a\",\"type\":\"BoxZoomTool\",\"attributes\":{\"plot\":{\"id\":\"1f4bd097-4ffe-4fdd-cf4e-0f2c2a6b99f4\",\"type\":\"Plot\",\"subtype\":\"Figure\"},\"id\":\"640a6289-e4fe-4237-c22a-04d575afa26a\",\"tags\":[],\"doc\":null}},{\"id\":\"23a6007e-c94b-4abe-ca14-4511e4e7105c\",\"type\":\"PreviewSaveTool\",\"attributes\":{\"plot\":{\"id\":\"1f4bd097-4ffe-4fdd-cf4e-0f2c2a6b99f4\",\"type\":\"Plot\",\"subtype\":\"Figure\"},\"id\":\"23a6007e-c94b-4abe-ca14-4511e4e7105c\",\"tags\":[],\"doc\":null}},{\"id\":\"6df259df-00d6-4c1d-cc95-9a45b54cc3c1\",\"type\":\"ResizeTool\",\"attributes\":{\"plot\":{\"id\":\"1f4bd097-4ffe-4fdd-cf4e-0f2c2a6b99f4\",\"type\":\"Plot\",\"subtype\":\"Figure\"},\"id\":\"6df259df-00d6-4c1d-cc95-9a45b54cc3c1\",\"tags\":[],\"doc\":null}},{\"id\":\"859ec279-368f-4bd5-cbfe-edc6559df4c5\",\"type\":\"ResetTool\",\"attributes\":{\"plot\":{\"id\":\"1f4bd097-4ffe-4fdd-cf4e-0f2c2a6b99f4\",\"type\":\"Plot\",\"subtype\":\"Figure\"},\"id\":\"859ec279-368f-4bd5-cbfe-edc6559df4c5\",\"tags\":[],\"doc\":null}},{\"id\":\"1f4bd097-4ffe-4fdd-cf4e-0f2c2a6b99f4\",\"type\":\"Plot\",\"attributes\":{\"x_range\":{\"type\":\"DataRange1d\",\"id\":\"7c1c3b2b-9737-4c82-cc53-e49f48d9a50e\"},\"tool_events\":{\"type\":\"ToolEvents\",\"id\":\"d0d4b845-1e1d-4bba-cbfe-d0a02a0f6a0b\"},\"below\":[{\"type\":\"LinearAxis\",\"id\":\"4687fd86-8de1-480a-c815-083767da76ca\"}],\"renderers\":[{\"type\":\"GlyphRenderer\",\"id\":\"86917684-608d-4f6b-cff3-146a5c5197c7\"},{\"type\":\"GlyphRenderer\",\"id\":\"7e53a95b-08ef-4339-c32e-16902ef9f67f\"},{\"type\":\"LinearAxis\",\"id\":\"4687fd86-8de1-480a-c815-083767da76ca\"},{\"type\":\"Grid\",\"id\":\"f4cb1888-616c-45a0-c59e-109620a30fc8\"},{\"type\":\"LinearAxis\",\"id\":\"305b746c-3634-4deb-cd6a-06ee12c7e68c\"},{\"type\":\"Grid\",\"id\":\"0e95a6a2-8d86-410c-c12b-7da8a7372f42\"}],\"above\":[],\"tools\":[{\"type\":\"PanTool\",\"id\":\"646beeb2-f4a7-41fc-c111-cf6af0eff6d8\"},{\"type\":\"WheelZoomTool\",\"id\":\"4f4d10f5-e388-4b9b-cbf9-c9449d93716f\"},{\"type\":\"BoxZoomTool\",\"id\":\"640a6289-e4fe-4237-c22a-04d575afa26a\"},{\"type\":\"PreviewSaveTool\",\"id\":\"23a6007e-c94b-4abe-ca14-4511e4e7105c\"},{\"type\":\"ResizeTool\",\"id\":\"6df259df-00d6-4c1d-cc95-9a45b54cc3c1\"},{\"type\":\"ResetTool\",\"id\":\"859ec279-368f-4bd5-cbfe-edc6559df4c5\"}],\"doc\":null,\"right\":[],\"title\":\"loss and accuracy plot\",\"extra_x_ranges\":{},\"left\":[{\"type\":\"LinearAxis\",\"id\":\"305b746c-3634-4deb-cd6a-06ee12c7e68c\"}],\"y_range\":{\"type\":\"DataRange1d\",\"id\":\"9afa655f-a39a-4528-c531-0b258e1aed23\"},\"id\":\"1f4bd097-4ffe-4fdd-cf4e-0f2c2a6b99f4\",\"extra_y_ranges\":{},\"tags\":[]}}];\n",
       "  Bokeh.load_models(all_models);\n",
       "  var model = Bokeh.Collections(modeltype).get(modelid);\n",
       "  $(\"#54fb40ed-43a2-470e-c73d-0ef9f3665fbd\").html(''); // clear any previous plot in window_id\n",
       "  var view = new model.default_view({model: model, el: \"#54fb40ed-43a2-470e-c73d-0ef9f3665fbd\"});\n",
       "    } else {\n",
       "  load_lib(bokehjs_url, function() {\n",
       "      console.log(\"Bokeh: BokehJS plotting callback run at\", new Date())\n",
       "      var modelid = \"1f4bd097-4ffe-4fdd-cf4e-0f2c2a6b99f4\";\n",
       "      var modeltype = \"Plot\";\n",
       "      var all_models = [{\"id\":\"1f07709c-9180-46ad-c656-0a5c28549279\",\"type\":\"ColumnDataSource\",\"attributes\":{\"data\":{\"y\":[0.32447758875165,0.34723840596598,0.37015458712033,0.39563427328517,0.42290064476035,0.45350734094617,0.4820943059116,0.51743960226831,0.54695875087392,0.57608948962946,0.60436572671483,0.6305445506098,0.65866542375515,0.68391206400994,0.70721665501437,0.72958906237862,0.7494756467024,0.76687640798571,0.78404412335897,0.79981356327196,0.81573836712499,0.82995416763769,0.84401460421036,0.85566689971258,0.86716383127476,0.87664103161656,0.88572982210829,0.89497397654005,0.90305290142158,0.90794686553251,0.91408374116368,0.91858929542453,0.92309484968539,0.92721199409617,0.93008622698672,0.93334886972734,0.93591237473782,0.93855356171833,0.94026256505865,0.94243766021906,0.94406898158937,0.94593334886973,0.94756467024004,0.94872989979026,0.95043890313058,0.95230327041094,0.95323545405111,0.95440068360134,0.95502213936145,0.95564359512157,0.95642041482172,0.95696418861182,0.95797405422202,0.95859550998213,0.95929464771227,0.96030451332246,0.96077060514255,0.96115901499262,0.96131437893265,0.96146974287268,0.96178047075274,0.9620911986328,0.96224656257283,0.96247960848287,0.96255729045289,0.96271265439292,0.96302338227297,0.96341179212305,0.96364483803309,0.96380020197312,0.96403324788317,0.9641886118232,0.9641886118232,0.96434397576323,0.96449933970325,0.96481006758331,0.96504311349336,0.9652761594034,0.96535384137342,0.96558688728346,0.96597529713354,0.96605297910355,0.96613066107356,0.96628602501359,0.96644138895362,0.96644138895362,0.96644138895362,0.96659675289365,0.96667443486367,0.9668297988037,0.96690748077371,0.96706284471374,0.96706284471374,0.96729589062379,0.9673735725938,0.96745125456382,0.96752893653383,0.96760661850385,0.96760661850385,0.96776198244387,0.96783966441389,0.96776198244387,0.96776198244387,0.9679173463839,0.9679173463839,0.96807271032393,0.96807271032393,0.96807271032393,0.96822807426396,0.96822807426396,0.96830575623398,0.96838343820399,0.96838343820399,0.96838343820399,0.96853880214402,0.96853880214402,0.96861648411404,0.96861648411404,0.96869416608405,0.96884953002408,0.96908257593413,0.96916025790414,0.96939330381418,0.96931562184417,0.96931562184417,0.96931562184417,0.96931562184417,0.96939330381418,0.96939330381418,0.96939330381418,0.96939330381418,0.9694709857842,0.9694709857842,0.96954866775421,0.96962634972423,0.96970403169424,0.9694709857842,0.96954866775421,0.96970403169424,0.96970403169424,0.96978171366426,0.96978171366426,0.9700147595743,0.9700147595743,0.97009244154432,0.97017012351433,0.97009244154432,0.97009244154432,0.97009244154432,0.97009244154432,0.97024780548435,0.97024780548435,0.97024780548435,0.97024780548435,0.97032548745436,0.97040316942438,0.97040316942438,0.97040316942438,0.97040316942438,0.97048085139439,0.97048085139439,0.97048085139439,0.97048085139439,0.97063621533442,0.97063621533442,0.97071389730444,0.97071389730444,0.97071389730444,0.97071389730444,0.97071389730444,0.97079157927445,0.97079157927445,0.97079157927445,0.97079157927445,0.97079157927445,0.97086926124447,0.97086926124447,0.97086926124447,0.97086926124447,0.97086926124447,0.97086926124447,0.97086926124447,0.97086926124447,0.97086926124447,0.97094694321448,0.97102462518449,0.97094694321448,0.97094694321448,0.97094694321448,0.97094694321448,0.97086926124447,0.97086926124447,0.97094694321448,0.97094694321448,0.97102462518449,0.97110230715451,0.97110230715451,0.97117998912452,0.97117998912452,0.97117998912452,0.97117998912452,0.97117998912452,0.97117998912452,0.97117998912452,0.97125767109454,0.97133535306455,0.97141303503457,0.97141303503457,0.97141303503457,0.9715683989746,0.9715683989746,0.97164608094461,0.97164608094461,0.97172376291463,0.97172376291463,0.97172376291463,0.97172376291463,0.97172376291463,0.97172376291463,0.97172376291463,0.97187912685466,0.97187912685466,0.97187912685466,0.97187912685466,0.97187912685466,0.97187912685466,0.97195680882467,0.97195680882467,0.97195680882467,0.97203449079469,0.97203449079469,0.9721121727647,0.9721121727647,0.9721121727647,0.97226753670473,0.97226753670473,0.97226753670473,0.97226753670473,0.97226753670473,0.97234521867475,0.97234521867475,0.97234521867475,0.97234521867475,0.97234521867475,0.97234521867475,0.97234521867475,0.97250058261478,0.97257826458479,0.9726559465548,0.9726559465548,0.9726559465548,0.97273362852482,0.97273362852482,0.97281131049483,0.97288899246485,0.97288899246485,0.97288899246485,0.97288899246485,0.97296667443486,0.97296667443486,0.97296667443486,0.97296667443486,0.97296667443486,0.97296667443486,0.97296667443486,0.97296667443486,0.97304435640488,0.97304435640488,0.97304435640488,0.97304435640488,0.97304435640488,0.97312203837489,0.97312203837489,0.97312203837489,0.97304435640488,0.97304435640488,0.97304435640488,0.97304435640488,0.97304435640488,0.97304435640488,0.97312203837489,0.97312203837489,0.97312203837489,0.97312203837489,0.97312203837489,0.97319972034491,0.97319972034491,0.97319972034491,0.97319972034491,0.97319972034491,0.97319972034491,0.97319972034491,0.97319972034491,0.97327740231492,0.97327740231492,0.97327740231492,0.97327740231492,0.97327740231492,0.97327740231492,0.97327740231492,0.97327740231492,0.97327740231492,0.97327740231492,0.97335508428494,0.97335508428494,0.97351044822497,0.97358813019498,0.97358813019498,0.97358813019498,0.97358813019498,0.97358813019498,0.97358813019498,0.97358813019498,0.973665812165,0.973665812165,0.973665812165,0.973665812165,0.973665812165,0.973665812165,0.973665812165,0.973665812165,0.973665812165,0.973665812165,0.973665812165,0.973665812165,0.97374349413501,0.97374349413501,0.97374349413501,0.97374349413501,0.97382117610503,0.97382117610503,0.97382117610503,0.97382117610503,0.97382117610503,0.97382117610503,0.97382117610503,0.97382117610503,0.97382117610503,0.97382117610503,0.97382117610503,0.97382117610503,0.97389885807504,0.97389885807504,0.97389885807504,0.97389885807504,0.97389885807504,0.97397654004506,0.97397654004506,0.97397654004506,0.97397654004506,0.97397654004506,0.97397654004506,0.97397654004506,0.97397654004506,0.97397654004506,0.97397654004506,0.97397654004506,0.97397654004506,0.97413190398509,0.97413190398509,0.97405422201507,0.97405422201507,0.97397654004506,0.97405422201507,0.97413190398509,0.97413190398509,0.97428726792511,0.97428726792511,0.97436494989513,0.97436494989513,0.97436494989513,0.97436494989513,0.97436494989513,0.97436494989513,0.97436494989513,0.97436494989513,0.97436494989513,0.97436494989513,0.97436494989513,0.97444263186514,0.97444263186514,0.97444263186514,0.97452031383516,0.97467567777519,0.97467567777519,0.97467567777519,0.97467567777519,0.97467567777519,0.97467567777519,0.97467567777519,0.97467567777519,0.97467567777519,0.97467567777519,0.97467567777519,0.97467567777519,0.97467567777519,0.97467567777519,0.97467567777519,0.97467567777519,0.97467567777519,0.97467567777519,0.97467567777519,0.97467567777519,0.97467567777519,0.97467567777519,0.97467567777519,0.97467567777519,0.97467567777519,0.97467567777519,0.9747533597452,0.97483104171522,0.97483104171522,0.97483104171522,0.97483104171522,0.97483104171522,0.97483104171522,0.97483104171522,0.97483104171522,0.97483104171522,0.97483104171522,0.97483104171522,0.97498640565525,0.97498640565525,0.97498640565525,0.97506408762526,0.97506408762526,0.97506408762526,0.97506408762526,0.97506408762526,0.97506408762526,0.97506408762526,0.97506408762526,0.97506408762526,0.97498640565525,0.97498640565525,0.97498640565525,0.97498640565525,0.97498640565525,0.97498640565525,0.97498640565525,0.97498640565525,0.97498640565525,0.97498640565525,0.97498640565525,0.97498640565525,0.97506408762526,0.97506408762526,0.97506408762526,0.97506408762526,0.97506408762526,0.97506408762526,0.97506408762526,0.97506408762526,0.97506408762526,0.97506408762526,0.97506408762526,0.97514176959528,0.97521945156529,0.97521945156529,0.97521945156529,0.97521945156529,0.97521945156529,0.97521945156529,0.97521945156529,0.97521945156529,0.97529713353531,0.97529713353531,0.97529713353531,0.97529713353531,0.97529713353531,0.97545249747534,0.97545249747534,0.97545249747534,0.97553017944535,0.97553017944535,0.97553017944535,0.97553017944535,0.97553017944535,0.97553017944535,0.97553017944535,0.97560786141537,0.97560786141537,0.97560786141537,0.97560786141537,0.97560786141537,0.97560786141537,0.97560786141537,0.97560786141537,0.97560786141537,0.97560786141537,0.97560786141537,0.97560786141537,0.97560786141537,0.97560786141537,0.97568554338538,0.97568554338538,0.97568554338538,0.97568554338538,0.97568554338538,0.97568554338538],\"x\":[1,2,3,4,5,6,7,8,9,10,11,12,13,14,15,16,17,18,19,20,21,22,23,24,25,26,27,28,29,30,31,32,33,34,35,36,37,38,39,40,41,42,43,44,45,46,47,48,49,50,51,52,53,54,55,56,57,58,59,60,61,62,63,64,65,66,67,68,69,70,71,72,73,74,75,76,77,78,79,80,81,82,83,84,85,86,87,88,89,90,91,92,93,94,95,96,97,98,99,100,101,102,103,104,105,106,107,108,109,110,111,112,113,114,115,116,117,118,119,120,121,122,123,124,125,126,127,128,129,130,131,132,133,134,135,136,137,138,139,140,141,142,143,144,145,146,147,148,149,150,151,152,153,154,155,156,157,158,159,160,161,162,163,164,165,166,167,168,169,170,171,172,173,174,175,176,177,178,179,180,181,182,183,184,185,186,187,188,189,190,191,192,193,194,195,196,197,198,199,200,201,202,203,204,205,206,207,208,209,210,211,212,213,214,215,216,217,218,219,220,221,222,223,224,225,226,227,228,229,230,231,232,233,234,235,236,237,238,239,240,241,242,243,244,245,246,247,248,249,250,251,252,253,254,255,256,257,258,259,260,261,262,263,264,265,266,267,268,269,270,271,272,273,274,275,276,277,278,279,280,281,282,283,284,285,286,287,288,289,290,291,292,293,294,295,296,297,298,299,300,301,302,303,304,305,306,307,308,309,310,311,312,313,314,315,316,317,318,319,320,321,322,323,324,325,326,327,328,329,330,331,332,333,334,335,336,337,338,339,340,341,342,343,344,345,346,347,348,349,350,351,352,353,354,355,356,357,358,359,360,361,362,363,364,365,366,367,368,369,370,371,372,373,374,375,376,377,378,379,380,381,382,383,384,385,386,387,388,389,390,391,392,393,394,395,396,397,398,399,400,401,402,403,404,405,406,407,408,409,410,411,412,413,414,415,416,417,418,419,420,421,422,423,424,425,426,427,428,429,430,431,432,433,434,435,436,437,438,439,440,441,442,443,444,445,446,447,448,449,450,451,452,453,454,455,456,457,458,459,460,461,462,463,464,465,466,467,468,469,470,471,472,473,474,475,476,477,478,479,480,481,482,483,484,485,486,487,488,489,490,491,492,493,494,495,496,497,498,499,500]},\"column_names\":[\"y\",\"x\"],\"cont_ranges\":{},\"discrete_ranges\":{},\"selected\":[],\"id\":\"1f07709c-9180-46ad-c656-0a5c28549279\",\"doc\":null,\"tags\":[]}},{\"id\":\"c9ad566e-7db4-47e1-c7e4-45f268caa4b7\",\"type\":\"Circle\",\"attributes\":{\"fill_alpha\":{\"units\":\"data\",\"value\":0.2},\"line_alpha\":{\"units\":\"data\",\"value\":1},\"doc\":null,\"size\":{\"units\":\"screen\",\"value\":10},\"fill_color\":{\"value\":\"red\"},\"line_color\":{\"value\":\"red\"},\"x\":{\"units\":\"data\",\"field\":\"x\"},\"id\":\"c9ad566e-7db4-47e1-c7e4-45f268caa4b7\",\"y\":{\"units\":\"data\",\"field\":\"y\"},\"tags\":[]}},{\"id\":\"726d9651-26a7-4dbc-cde2-0196622ddb44\",\"type\":\"Circle\",\"attributes\":{\"fill_alpha\":{\"units\":\"data\",\"value\":0.2},\"line_alpha\":{\"units\":\"data\",\"value\":1},\"doc\":null,\"size\":{\"units\":\"screen\",\"value\":10},\"fill_color\":{\"value\":\"red\"},\"line_color\":{\"value\":\"red\"},\"x\":{\"units\":\"data\",\"field\":\"x\"},\"id\":\"726d9651-26a7-4dbc-cde2-0196622ddb44\",\"y\":{\"units\":\"data\",\"field\":\"y\"},\"tags\":[]}},{\"id\":\"86917684-608d-4f6b-cff3-146a5c5197c7\",\"type\":\"GlyphRenderer\",\"attributes\":{\"name\":null,\"nonselection_glyph\":{\"type\":\"Circle\",\"id\":\"726d9651-26a7-4dbc-cde2-0196622ddb44\"},\"doc\":null,\"server_data_source\":null,\"data_source\":{\"type\":\"ColumnDataSource\",\"id\":\"1f07709c-9180-46ad-c656-0a5c28549279\"},\"glyph\":{\"type\":\"Circle\",\"id\":\"c9ad566e-7db4-47e1-c7e4-45f268caa4b7\"},\"selection_glyph\":null,\"id\":\"86917684-608d-4f6b-cff3-146a5c5197c7\",\"tags\":[]}},{\"id\":\"c63eef67-c46d-48fa-c885-6d2dba752924\",\"type\":\"ColumnDataSource\",\"attributes\":{\"data\":{\"y\":[1.1582173961224,1.1361213350708,1.1147748258627,1.0941310408148,1.0741472490968,1.0547844229757,1.0360068826684,1.0177819760011,1.0000797894488,0.98287288746865,0.96613607734017,0.94984619700434,0.93398192363767,0.918523600922,0.90345308317078,0.88875359465411,0.87440960262814,0.86040670272133,0.84673151546316,0.8333715928601,0.82031533403188,0.80755190901792,0.79507118995183,0.78286368888046,0.77092050157556,0.75923325675015,0.74779407014946,0.73659550303881,0.72563052465746,0.7148924782501,0.70437505032583,0.69407224282885,0.68397834793627,0.67408792522633,0.66439578098574,0.65489694944729,0.6455866757699,0.63646040059116,0.62751374599969,0.61874250278921,0.61014261887003,0.60171018872576,0.59344144381423,0.58533274382118,0.57738056868471,0.56958151131618,0.56193227095061,0.55442964706634,0.54707053381946,0.53985191494391,0.53277085907289,0.52582451544183,0.51901010993653,0.51232494145429,0.50576637854842,0.49933185632976,0.49301887360127,0.48682499020415,0.48074782455588,0.47478505136282,0.46893439949129,0.46319364998281,0.45756063420073,0.45203323209631,0.44660937058381,0.44128702201509,0.43606420274493,0.43093897177938,0.42590942950004,0.42097371645798,0.41613001223127,0.41137653434124,0.40671153722247,0.40213331124231,0.3976401817661,0.39323050826447,0.38890268345959,0.38465513250753,0.38048631221389,0.37639471028062,0.37237884458157,0.368437262465,0.36456854008114,0.36077128173322,0.35704411925046,0.35338571138168,0.34979474320826,0.34626992557533,0.34280999454014,0.33941371083678,0.3360798593561,0.33280724864039,0.32959471039176,0.32644109899383,0.32334529104582,0.32030618490876,0.31732270026304,0.31439377767699,0.31151837818596,0.3086954828814,0.30592409250975,0.3032032270806,0.30053192548383,0.29790924511544,0.29533426151176,0.29280606799174,0.2903237753071,0.28788651130002,0.28549342056825,0.2831436641373,0.28083641913962,0.27857087850044,0.27634625063024,0.27416175912354,0.27201664246387,0.26991015373487,0.26784156033719,0.2658101437112,0.2638151990652,0.26185603510924,0.25993197379417,0.2580423500559,0.25618651156484,0.2543638184802,0.25257364320923,0.25081537017122,0.24908839556608,0.24739212714755,0.2457259840008,0.24408939632443,0.2424818052167,0.24090266246595,0.23935143034512,0.23782758141022,0.2363305983028,0.23485997355616,0.23341520940544,0.23199581760125,0.23060131922704,0.22923124451995,0.22788513269507,0.22656253177325,0.22526299841203,0.22398609774004,0.22273140319444,0.22149849636158,0.2202869668207,0.21909641199066,0.21792643697959,0.21677665443748,0.21564668441156,0.21453615420453,0.21344469823543,0.21237195790325,0.21131758145316,0.21028122384525,0.20926254662592,0.20826121780157,0.20727691171487,0.20630930892332,0.20535809608017,0.20442296581766,0.2035036166324,0.20259975277307,0.20171108413023,0.20083732612819,0.19997819961906,0.19913343077875,0.19830275100501,0.19748589681741,0.19668260975921,0.19589263630121,0.19511572774733,0.19435164014206,0.19360013417968,0.19286097511524,0.19213393267718,0.19141878098174,0.19071529844886,0.19002326771986,0.18934247557657,0.18867271286205,0.18801377440289,0.18736545893289,0.18672756901831,0.18609991098444,0.18548229484375,0.18487453422519,0.18427644630507,0.1836878517391,0.18310857459582,0.18253844229128,0.18197728552497,0.18142493821699,0.18088123744641,0.18034602339084,0.1798191392671,0.17930043127311,0.17878974853082,0.17828694303027,0.17779186957474,0.17730438572687,0.17682435175595,0.17635163058608,0.1758860877454,0.1754275913163,0.17497601188653,0.1745312225013,0.17409309861628,0.17366151805148,0.17323636094607,0.17281750971398,0.17240484900042,0.17199826563923,0.17159764861103,0.17120288900212,0.17081387996429,0.1704305166753,0.17005269630013,0.16968031795301,0.16931328266016,0.16895149332325,0.16859485468353,0.16824327328666,0.16789665744826,0.16755491722008,0.16721796435678,0.16688571228342,0.16655807606355,0.16623497236789,0.16591631944359,0.16560203708419,0.1652920466,0.16498627078916,0.1646846339092,0.16438706164921,0.16409348110243,0.16380382073949,0.16351801038206,0.16323598117709,0.16295766557147,0.16268299728722,0.16241191129715,0.16214434380096,0.16188023220185,0.16161951508351,0.1613621321876,0.16110802439167,0.16085713368744,0.16060940315955,0.16036477696472,0.16012320031128,0.15988461943911,0.15964898159994,0.15941623503805,0.15918632897137,0.15895921357285,0.1587348399523,0.15851316013848,0.15829412706158,0.15807769453607,0.15786381724377,0.15765245071736,0.15744355132417,0.15723707625021,0.15703298348461,0.15683123180432,0.15663178075904,0.15643459065654,0.15623962254822,0.15604683821489,0.15585620015293,0.15566767156062,0.15548121632477,0.15529679900763,0.15511438483401,0.15493393967865,0.15475543005387,0.1545788230974,0.15440408656049,0.15423118879624,0.15406009874813,0.15389078593877,0.1537232204589,0.15355737295657,0.15339321462655,0.15323071719989,0.15306985293375,0.15291059460141,0.1527529154824,0.15259678935289,0.1524421904763,0.15228909359395,0.15213747391605,0.15198730711271,0.1518385693053,0.15169123705776,0.15154528736827,0.15140069766099,0.15125744577792,0.15111550997103,0.15097486889441,0.15083550159667,0.15069738751346,0.15056050646006,0.15042483862427,0.15029036455923,0.15015706517658,0.15002492173962,0.1498939158566,0.14976402947424,0.14963524487128,0.1495075446522,0.14938091174099,0.14925532937517,0.14913078109978,0.14900725076161,0.14888472250341,0.14876318075836,0.14864261024452,0.14852299595943,0.14840432317485,0.14828657743154,0.14816974453418,0.14805381054637,0.14793876178572,0.14782458481908,0.14771126645778,0.14759879375301,0.14748715399132,0.14737633469014,0.14726632359342,0.14715710866735,0.14704867809616,0.14694102027799,0.14683412382088,0.14672797753876,0.14662257044761,0.14651789176161,0.1464139308894,0.14631067743044,0.14620812117137,0.14610625208252,0.1460050603144,0.14590453619436,0.14580467022318,0.14570545307187,0.14560687557844,0.14550892874474,0.14541160373339,0.14531489186475,0.14521878461392,0.1451232736079,0.14502835062264,0.14493400758033,0.14484023654657,0.14474702972771,0.14465437946823,0.14456227824809,0.14447071868022,0.144379693508,0.14428919560284,0.14419921796177,0.14410975370504,0.14402079607387,0.14393233842813,0.14384437424416,0.14375689711254,0.143669900736,0.14358337892726,0.14349732560704,0.14341173480196,0.14332660064263,0.14324191736165,0.14315767929174,0.14307388086386,0.14299051660533,0.14290758113811,0.14282506917696,0.14274297552773,0.1426612950857,0.14258002283385,0.14249915384123,0.14241868326143,0.1423386063309,0.14225891836748,0.14217961476886,0.14210069101108,0.14202214264709,0.14194396530533,0.14186615468828,0.14178870657115,0.14171161680046,0.14163488129278,0.14155849603336,0.14148245707493,0.14140676053638,0.1413314026016,0.14125637951822,0.14118168759644,0.1411073232079,0.14103328278452,0.14095956281738,0.14088615985564,0.14081307050547,0.14074029142899,0.14066781934321,0.14059565101907,0.14052378328042,0.14045221300301,0.14038093711361,0.14030995258901,0.14023925645509,0.14016884578599,0.14009871770315,0.14002886937446,0.13995929801344,0.13989000087835,0.13982097527142,0.13975221853801,0.13968372806582,0.13961550128414,0.13954753566307,0.13947982871277,0.13941237798274,0.13934518106111,0.1392782355739,0.13921153918437,0.13914508959229,0.13907888453336,0.13901292177845,0.13894719913305,0.13888171443658,0.1388164655618,0.13875145041423,0.13868666693149,0.13862211308278,0.13855778686827,0.13849368631858,0.13842980949416,0.13836615448484,0.13830271940922,0.1382395024142,0.13817650167445,0.13811371539192,0.13805114179533,0.13798877913972,0.13792662570594,0.13786467980023,0.13780293975372,0.137741403922,0.13768007068471,0.13761893844507,0.13755800562947,0.13749727068709,0.13743673208942,0.13737638832994,0.13731623792369,0.13725627940689,0.13719651133657,0.13713693229018,0.13707754086527,0.13701833567908,0.13695931536825,0.13690047858842,0.13684182401395,0.13678335033753,0.13672505626991,0.13666694053957,0.13660900189236,0.13655123909129,0.13649365091611,0.13643623616314,0.13637899364488,0.13632192218978,0.13626502064196,0.1362082878609,0.13615172272123,0.13609532411241,0.13603909093851,0.13598302211794,0.13592711658321,0.13587137328068,0.13581579117031,0.13576036922547,0.13570510643265,0.13565000179126,0.13559505431343,0.13554026302374,0.13548562695908,0.13543114516837,0.13537681671239,0.13532264066355,0.13526861610574,0.1352147421341,0.13516101785483,0.13510744238501,0.13505401485241,0.13500073439533,0.13494760016238],\"x\":[1,2,3,4,5,6,7,8,9,10,11,12,13,14,15,16,17,18,19,20,21,22,23,24,25,26,27,28,29,30,31,32,33,34,35,36,37,38,39,40,41,42,43,44,45,46,47,48,49,50,51,52,53,54,55,56,57,58,59,60,61,62,63,64,65,66,67,68,69,70,71,72,73,74,75,76,77,78,79,80,81,82,83,84,85,86,87,88,89,90,91,92,93,94,95,96,97,98,99,100,101,102,103,104,105,106,107,108,109,110,111,112,113,114,115,116,117,118,119,120,121,122,123,124,125,126,127,128,129,130,131,132,133,134,135,136,137,138,139,140,141,142,143,144,145,146,147,148,149,150,151,152,153,154,155,156,157,158,159,160,161,162,163,164,165,166,167,168,169,170,171,172,173,174,175,176,177,178,179,180,181,182,183,184,185,186,187,188,189,190,191,192,193,194,195,196,197,198,199,200,201,202,203,204,205,206,207,208,209,210,211,212,213,214,215,216,217,218,219,220,221,222,223,224,225,226,227,228,229,230,231,232,233,234,235,236,237,238,239,240,241,242,243,244,245,246,247,248,249,250,251,252,253,254,255,256,257,258,259,260,261,262,263,264,265,266,267,268,269,270,271,272,273,274,275,276,277,278,279,280,281,282,283,284,285,286,287,288,289,290,291,292,293,294,295,296,297,298,299,300,301,302,303,304,305,306,307,308,309,310,311,312,313,314,315,316,317,318,319,320,321,322,323,324,325,326,327,328,329,330,331,332,333,334,335,336,337,338,339,340,341,342,343,344,345,346,347,348,349,350,351,352,353,354,355,356,357,358,359,360,361,362,363,364,365,366,367,368,369,370,371,372,373,374,375,376,377,378,379,380,381,382,383,384,385,386,387,388,389,390,391,392,393,394,395,396,397,398,399,400,401,402,403,404,405,406,407,408,409,410,411,412,413,414,415,416,417,418,419,420,421,422,423,424,425,426,427,428,429,430,431,432,433,434,435,436,437,438,439,440,441,442,443,444,445,446,447,448,449,450,451,452,453,454,455,456,457,458,459,460,461,462,463,464,465,466,467,468,469,470,471,472,473,474,475,476,477,478,479,480,481,482,483,484,485,486,487,488,489,490,491,492,493,494,495,496,497,498,499,500]},\"column_names\":[\"y\",\"x\"],\"cont_ranges\":{},\"discrete_ranges\":{},\"selected\":[],\"id\":\"c63eef67-c46d-48fa-c885-6d2dba752924\",\"doc\":null,\"tags\":[]}},{\"id\":\"fa53e8bb-63ea-4b35-cbbb-060d9521a3d0\",\"type\":\"Circle\",\"attributes\":{\"fill_alpha\":{\"units\":\"data\",\"value\":0.2},\"line_alpha\":{\"units\":\"data\",\"value\":1},\"doc\":null,\"size\":{\"units\":\"screen\",\"value\":10},\"fill_color\":{\"value\":\"blue\"},\"line_color\":{\"value\":\"blue\"},\"x\":{\"units\":\"data\",\"field\":\"x\"},\"id\":\"fa53e8bb-63ea-4b35-cbbb-060d9521a3d0\",\"y\":{\"units\":\"data\",\"field\":\"y\"},\"tags\":[]}},{\"id\":\"26b910f7-7142-4da8-cdf7-b9d847846dc8\",\"type\":\"Circle\",\"attributes\":{\"fill_alpha\":{\"units\":\"data\",\"value\":0.2},\"line_alpha\":{\"units\":\"data\",\"value\":1},\"doc\":null,\"size\":{\"units\":\"screen\",\"value\":10},\"fill_color\":{\"value\":\"blue\"},\"line_color\":{\"value\":\"blue\"},\"x\":{\"units\":\"data\",\"field\":\"x\"},\"id\":\"26b910f7-7142-4da8-cdf7-b9d847846dc8\",\"y\":{\"units\":\"data\",\"field\":\"y\"},\"tags\":[]}},{\"id\":\"7e53a95b-08ef-4339-c32e-16902ef9f67f\",\"type\":\"GlyphRenderer\",\"attributes\":{\"name\":null,\"nonselection_glyph\":{\"type\":\"Circle\",\"id\":\"26b910f7-7142-4da8-cdf7-b9d847846dc8\"},\"doc\":null,\"server_data_source\":null,\"data_source\":{\"type\":\"ColumnDataSource\",\"id\":\"c63eef67-c46d-48fa-c885-6d2dba752924\"},\"glyph\":{\"type\":\"Circle\",\"id\":\"fa53e8bb-63ea-4b35-cbbb-060d9521a3d0\"},\"selection_glyph\":null,\"id\":\"7e53a95b-08ef-4339-c32e-16902ef9f67f\",\"tags\":[]}},{\"id\":\"7c1c3b2b-9737-4c82-cc53-e49f48d9a50e\",\"type\":\"DataRange1d\",\"attributes\":{\"sources\":[{\"columns\":[\"x\"],\"source\":{\"type\":\"ColumnDataSource\",\"id\":\"1f07709c-9180-46ad-c656-0a5c28549279\"}},{\"columns\":[\"x\"],\"source\":{\"type\":\"ColumnDataSource\",\"id\":\"c63eef67-c46d-48fa-c885-6d2dba752924\"}}],\"id\":\"7c1c3b2b-9737-4c82-cc53-e49f48d9a50e\",\"tags\":[],\"doc\":null}},{\"id\":\"9afa655f-a39a-4528-c531-0b258e1aed23\",\"type\":\"DataRange1d\",\"attributes\":{\"sources\":[{\"columns\":[\"y\"],\"source\":{\"type\":\"ColumnDataSource\",\"id\":\"1f07709c-9180-46ad-c656-0a5c28549279\"}},{\"columns\":[\"y\"],\"source\":{\"type\":\"ColumnDataSource\",\"id\":\"c63eef67-c46d-48fa-c885-6d2dba752924\"}}],\"id\":\"9afa655f-a39a-4528-c531-0b258e1aed23\",\"tags\":[],\"doc\":null}},{\"id\":\"d0d4b845-1e1d-4bba-cbfe-d0a02a0f6a0b\",\"type\":\"ToolEvents\",\"attributes\":{\"tags\":[],\"id\":\"d0d4b845-1e1d-4bba-cbfe-d0a02a0f6a0b\",\"geometries\":[],\"doc\":null}},{\"id\":\"b3fb7d0d-10e3-4e01-ce5f-102b01eb5a09\",\"type\":\"BasicTickFormatter\",\"attributes\":{\"id\":\"b3fb7d0d-10e3-4e01-ce5f-102b01eb5a09\",\"tags\":[],\"doc\":null}},{\"id\":\"170864b3-51c1-48bb-c8b5-822ee5016f7f\",\"type\":\"BasicTicker\",\"attributes\":{\"num_minor_ticks\":5,\"id\":\"170864b3-51c1-48bb-c8b5-822ee5016f7f\",\"tags\":[],\"doc\":null}},{\"id\":\"4687fd86-8de1-480a-c815-083767da76ca\",\"type\":\"LinearAxis\",\"attributes\":{\"formatter\":{\"type\":\"BasicTickFormatter\",\"id\":\"b3fb7d0d-10e3-4e01-ce5f-102b01eb5a09\"},\"ticker\":{\"type\":\"BasicTicker\",\"id\":\"170864b3-51c1-48bb-c8b5-822ee5016f7f\"},\"plot\":{\"id\":\"1f4bd097-4ffe-4fdd-cf4e-0f2c2a6b99f4\",\"type\":\"Plot\",\"subtype\":\"Figure\"},\"axis_label\":null,\"id\":\"4687fd86-8de1-480a-c815-083767da76ca\",\"doc\":null,\"tags\":[]}},{\"id\":\"f4cb1888-616c-45a0-c59e-109620a30fc8\",\"type\":\"Grid\",\"attributes\":{\"dimension\":0,\"plot\":{\"id\":\"1f4bd097-4ffe-4fdd-cf4e-0f2c2a6b99f4\",\"type\":\"Plot\",\"subtype\":\"Figure\"},\"ticker\":{\"type\":\"BasicTicker\",\"id\":\"170864b3-51c1-48bb-c8b5-822ee5016f7f\"},\"id\":\"f4cb1888-616c-45a0-c59e-109620a30fc8\",\"doc\":null,\"tags\":[]}},{\"id\":\"3dd3c44c-19a3-495b-c93f-c480dbfd62f0\",\"type\":\"BasicTickFormatter\",\"attributes\":{\"id\":\"3dd3c44c-19a3-495b-c93f-c480dbfd62f0\",\"tags\":[],\"doc\":null}},{\"id\":\"aa79834e-62fe-4931-c97a-215505fb245f\",\"type\":\"BasicTicker\",\"attributes\":{\"num_minor_ticks\":5,\"id\":\"aa79834e-62fe-4931-c97a-215505fb245f\",\"tags\":[],\"doc\":null}},{\"id\":\"305b746c-3634-4deb-cd6a-06ee12c7e68c\",\"type\":\"LinearAxis\",\"attributes\":{\"formatter\":{\"type\":\"BasicTickFormatter\",\"id\":\"3dd3c44c-19a3-495b-c93f-c480dbfd62f0\"},\"ticker\":{\"type\":\"BasicTicker\",\"id\":\"aa79834e-62fe-4931-c97a-215505fb245f\"},\"plot\":{\"id\":\"1f4bd097-4ffe-4fdd-cf4e-0f2c2a6b99f4\",\"type\":\"Plot\",\"subtype\":\"Figure\"},\"axis_label\":null,\"id\":\"305b746c-3634-4deb-cd6a-06ee12c7e68c\",\"doc\":null,\"tags\":[]}},{\"id\":\"0e95a6a2-8d86-410c-c12b-7da8a7372f42\",\"type\":\"Grid\",\"attributes\":{\"dimension\":1,\"plot\":{\"id\":\"1f4bd097-4ffe-4fdd-cf4e-0f2c2a6b99f4\",\"type\":\"Plot\",\"subtype\":\"Figure\"},\"ticker\":{\"type\":\"BasicTicker\",\"id\":\"aa79834e-62fe-4931-c97a-215505fb245f\"},\"id\":\"0e95a6a2-8d86-410c-c12b-7da8a7372f42\",\"doc\":null,\"tags\":[]}},{\"id\":\"646beeb2-f4a7-41fc-c111-cf6af0eff6d8\",\"type\":\"PanTool\",\"attributes\":{\"plot\":{\"id\":\"1f4bd097-4ffe-4fdd-cf4e-0f2c2a6b99f4\",\"type\":\"Plot\",\"subtype\":\"Figure\"},\"dimensions\":[\"width\",\"height\"],\"id\":\"646beeb2-f4a7-41fc-c111-cf6af0eff6d8\",\"doc\":null,\"tags\":[]}},{\"id\":\"4f4d10f5-e388-4b9b-cbf9-c9449d93716f\",\"type\":\"WheelZoomTool\",\"attributes\":{\"plot\":{\"id\":\"1f4bd097-4ffe-4fdd-cf4e-0f2c2a6b99f4\",\"type\":\"Plot\",\"subtype\":\"Figure\"},\"dimensions\":[\"width\",\"height\"],\"id\":\"4f4d10f5-e388-4b9b-cbf9-c9449d93716f\",\"doc\":null,\"tags\":[]}},{\"id\":\"640a6289-e4fe-4237-c22a-04d575afa26a\",\"type\":\"BoxZoomTool\",\"attributes\":{\"plot\":{\"id\":\"1f4bd097-4ffe-4fdd-cf4e-0f2c2a6b99f4\",\"type\":\"Plot\",\"subtype\":\"Figure\"},\"id\":\"640a6289-e4fe-4237-c22a-04d575afa26a\",\"tags\":[],\"doc\":null}},{\"id\":\"23a6007e-c94b-4abe-ca14-4511e4e7105c\",\"type\":\"PreviewSaveTool\",\"attributes\":{\"plot\":{\"id\":\"1f4bd097-4ffe-4fdd-cf4e-0f2c2a6b99f4\",\"type\":\"Plot\",\"subtype\":\"Figure\"},\"id\":\"23a6007e-c94b-4abe-ca14-4511e4e7105c\",\"tags\":[],\"doc\":null}},{\"id\":\"6df259df-00d6-4c1d-cc95-9a45b54cc3c1\",\"type\":\"ResizeTool\",\"attributes\":{\"plot\":{\"id\":\"1f4bd097-4ffe-4fdd-cf4e-0f2c2a6b99f4\",\"type\":\"Plot\",\"subtype\":\"Figure\"},\"id\":\"6df259df-00d6-4c1d-cc95-9a45b54cc3c1\",\"tags\":[],\"doc\":null}},{\"id\":\"859ec279-368f-4bd5-cbfe-edc6559df4c5\",\"type\":\"ResetTool\",\"attributes\":{\"plot\":{\"id\":\"1f4bd097-4ffe-4fdd-cf4e-0f2c2a6b99f4\",\"type\":\"Plot\",\"subtype\":\"Figure\"},\"id\":\"859ec279-368f-4bd5-cbfe-edc6559df4c5\",\"tags\":[],\"doc\":null}},{\"id\":\"1f4bd097-4ffe-4fdd-cf4e-0f2c2a6b99f4\",\"type\":\"Plot\",\"attributes\":{\"x_range\":{\"type\":\"DataRange1d\",\"id\":\"7c1c3b2b-9737-4c82-cc53-e49f48d9a50e\"},\"tool_events\":{\"type\":\"ToolEvents\",\"id\":\"d0d4b845-1e1d-4bba-cbfe-d0a02a0f6a0b\"},\"below\":[{\"type\":\"LinearAxis\",\"id\":\"4687fd86-8de1-480a-c815-083767da76ca\"}],\"renderers\":[{\"type\":\"GlyphRenderer\",\"id\":\"86917684-608d-4f6b-cff3-146a5c5197c7\"},{\"type\":\"GlyphRenderer\",\"id\":\"7e53a95b-08ef-4339-c32e-16902ef9f67f\"},{\"type\":\"LinearAxis\",\"id\":\"4687fd86-8de1-480a-c815-083767da76ca\"},{\"type\":\"Grid\",\"id\":\"f4cb1888-616c-45a0-c59e-109620a30fc8\"},{\"type\":\"LinearAxis\",\"id\":\"305b746c-3634-4deb-cd6a-06ee12c7e68c\"},{\"type\":\"Grid\",\"id\":\"0e95a6a2-8d86-410c-c12b-7da8a7372f42\"}],\"above\":[],\"tools\":[{\"type\":\"PanTool\",\"id\":\"646beeb2-f4a7-41fc-c111-cf6af0eff6d8\"},{\"type\":\"WheelZoomTool\",\"id\":\"4f4d10f5-e388-4b9b-cbf9-c9449d93716f\"},{\"type\":\"BoxZoomTool\",\"id\":\"640a6289-e4fe-4237-c22a-04d575afa26a\"},{\"type\":\"PreviewSaveTool\",\"id\":\"23a6007e-c94b-4abe-ca14-4511e4e7105c\"},{\"type\":\"ResizeTool\",\"id\":\"6df259df-00d6-4c1d-cc95-9a45b54cc3c1\"},{\"type\":\"ResetTool\",\"id\":\"859ec279-368f-4bd5-cbfe-edc6559df4c5\"}],\"doc\":null,\"right\":[],\"title\":\"loss and accuracy plot\",\"extra_x_ranges\":{},\"left\":[{\"type\":\"LinearAxis\",\"id\":\"305b746c-3634-4deb-cd6a-06ee12c7e68c\"}],\"y_range\":{\"type\":\"DataRange1d\",\"id\":\"9afa655f-a39a-4528-c531-0b258e1aed23\"},\"id\":\"1f4bd097-4ffe-4fdd-cf4e-0f2c2a6b99f4\",\"extra_y_ranges\":{},\"tags\":[]}}];\n",
       "      Bokeh.load_models(all_models);\n",
       "      var model = Bokeh.Collections(modeltype).get(modelid);\n",
       "      $(\"#54fb40ed-43a2-470e-c73d-0ef9f3665fbd\").html(''); // clear any previous plot in window_id\n",
       "      var view = new model.default_view({model: model, el: \"#54fb40ed-43a2-470e-c73d-0ef9f3665fbd\"});\n",
       "  });\n",
       "    }\n",
       "});\n",
       "</script>\n",
       "<div class=\"plotdiv\" id=\"3efc495f-e3c2-448d-c46e-43fafc3c538e\"></div>\n"
      ]
     },
     "metadata": {},
     "output_type": "display_data"
    },
    {
     "data": {
      "text/html": [
       "<script type=\"text/javascript\">\n",
       "$(function() {\n",
       "    if (typeof (window._bokeh_onload_callbacks) === \"undefined\"){\n",
       "  window._bokeh_onload_callbacks = [];\n",
       "    }\n",
       "    function load_lib(url, callback){\n",
       "  window._bokeh_onload_callbacks.push(callback);\n",
       "  if (window._bokeh_is_loading){\n",
       "      console.log(\"Bokeh: BokehJS is being loaded, scheduling callback at\", new Date());\n",
       "      return null;\n",
       "  }\n",
       "  console.log(\"Bokeh: BokehJS not loaded, scheduling load and callback at\", new Date());\n",
       "  window._bokeh_is_loading = true;\n",
       "  var s = document.createElement('script');\n",
       "  s.src = url;\n",
       "  s.async = true;\n",
       "  s.onreadystatechange = s.onload = function(){\n",
       "      Bokeh.embed.inject_css(\"https://cdn.pydata.org/bokeh-0.7.0.min.css\");\n",
       "      window._bokeh_onload_callbacks.forEach(function(callback){callback()});\n",
       "  };\n",
       "  s.onerror = function(){\n",
       "      console.warn(\"failed to load library \" + url);\n",
       "  };\n",
       "  document.getElementsByTagName(\"head\")[0].appendChild(s);\n",
       "    }\n",
       "\n",
       "    bokehjs_url = \"https://cdn.pydata.org/bokeh-0.7.0.min.js\"\n",
       "\n",
       "    var elt = document.getElementById(\"54fb40ed-43a2-470e-c73d-0ef9f3665fbd\");\n",
       "    if(elt==null) {\n",
       "  console.log(\"Bokeh: ERROR: autoload.js configured with elementid '54fb40ed-43a2-470e-c73d-0ef9f3665fbd'\"\n",
       "        + \"but no matching script tag was found. \")\n",
       "  return false;\n",
       "    }\n",
       "\n",
       "    if(typeof(Bokeh) !== \"undefined\") {\n",
       "  console.log(\"Bokeh: BokehJS loaded, going straight to plotting\");\n",
       "  var modelid = \"a04ed1b4-3c62-4b65-cbb4-c3d180329b66\";\n",
       "  var modeltype = \"Plot\";\n",
       "  var all_models = [{\"id\":\"77eec186-0054-431c-c372-a14b085461d5\",\"type\":\"ColumnDataSource\",\"attributes\":{\"data\":{\"y\":[0.32447758875165,0.34723840596598,0.37015458712033,0.39563427328517,0.42290064476035,0.45350734094617,0.4820943059116,0.51743960226831,0.54695875087392,0.57608948962946,0.60436572671483,0.6305445506098,0.65866542375515,0.68391206400994,0.70721665501437,0.72958906237862,0.7494756467024,0.76687640798571,0.78404412335897,0.79981356327196,0.81573836712499,0.82995416763769,0.84401460421036,0.85566689971258,0.86716383127476,0.87664103161656,0.88572982210829,0.89497397654005,0.90305290142158,0.90794686553251,0.91408374116368,0.91858929542453,0.92309484968539,0.92721199409617,0.93008622698672,0.93334886972734,0.93591237473782,0.93855356171833,0.94026256505865,0.94243766021906,0.94406898158937,0.94593334886973,0.94756467024004,0.94872989979026,0.95043890313058,0.95230327041094,0.95323545405111,0.95440068360134,0.95502213936145,0.95564359512157,0.95642041482172,0.95696418861182,0.95797405422202,0.95859550998213,0.95929464771227,0.96030451332246,0.96077060514255,0.96115901499262,0.96131437893265,0.96146974287268,0.96178047075274,0.9620911986328,0.96224656257283,0.96247960848287,0.96255729045289,0.96271265439292,0.96302338227297,0.96341179212305,0.96364483803309,0.96380020197312,0.96403324788317,0.9641886118232,0.9641886118232,0.96434397576323,0.96449933970325,0.96481006758331,0.96504311349336,0.9652761594034,0.96535384137342,0.96558688728346,0.96597529713354,0.96605297910355,0.96613066107356,0.96628602501359,0.96644138895362,0.96644138895362,0.96644138895362,0.96659675289365,0.96667443486367,0.9668297988037,0.96690748077371,0.96706284471374,0.96706284471374,0.96729589062379,0.9673735725938,0.96745125456382,0.96752893653383,0.96760661850385,0.96760661850385,0.96776198244387,0.96783966441389,0.96776198244387,0.96776198244387,0.9679173463839,0.9679173463839,0.96807271032393,0.96807271032393,0.96807271032393,0.96822807426396,0.96822807426396,0.96830575623398,0.96838343820399,0.96838343820399,0.96838343820399,0.96853880214402,0.96853880214402,0.96861648411404,0.96861648411404,0.96869416608405,0.96884953002408,0.96908257593413,0.96916025790414,0.96939330381418,0.96931562184417,0.96931562184417,0.96931562184417,0.96931562184417,0.96939330381418,0.96939330381418,0.96939330381418,0.96939330381418,0.9694709857842,0.9694709857842,0.96954866775421,0.96962634972423,0.96970403169424,0.9694709857842,0.96954866775421,0.96970403169424,0.96970403169424,0.96978171366426,0.96978171366426,0.9700147595743,0.9700147595743,0.97009244154432,0.97017012351433,0.97009244154432,0.97009244154432,0.97009244154432,0.97009244154432,0.97024780548435,0.97024780548435,0.97024780548435,0.97024780548435,0.97032548745436,0.97040316942438,0.97040316942438,0.97040316942438,0.97040316942438,0.97048085139439,0.97048085139439,0.97048085139439,0.97048085139439,0.97063621533442,0.97063621533442,0.97071389730444,0.97071389730444,0.97071389730444,0.97071389730444,0.97071389730444,0.97079157927445,0.97079157927445,0.97079157927445,0.97079157927445,0.97079157927445,0.97086926124447,0.97086926124447,0.97086926124447,0.97086926124447,0.97086926124447,0.97086926124447,0.97086926124447,0.97086926124447,0.97086926124447,0.97094694321448,0.97102462518449,0.97094694321448,0.97094694321448,0.97094694321448,0.97094694321448,0.97086926124447,0.97086926124447,0.97094694321448,0.97094694321448,0.97102462518449,0.97110230715451,0.97110230715451,0.97117998912452,0.97117998912452,0.97117998912452,0.97117998912452,0.97117998912452,0.97117998912452,0.97117998912452,0.97125767109454,0.97133535306455,0.97141303503457,0.97141303503457,0.97141303503457,0.9715683989746,0.9715683989746,0.97164608094461,0.97164608094461,0.97172376291463,0.97172376291463,0.97172376291463,0.97172376291463,0.97172376291463,0.97172376291463,0.97172376291463,0.97187912685466,0.97187912685466,0.97187912685466,0.97187912685466,0.97187912685466,0.97187912685466,0.97195680882467,0.97195680882467,0.97195680882467,0.97203449079469,0.97203449079469,0.9721121727647,0.9721121727647,0.9721121727647,0.97226753670473,0.97226753670473,0.97226753670473,0.97226753670473,0.97226753670473,0.97234521867475,0.97234521867475,0.97234521867475,0.97234521867475,0.97234521867475,0.97234521867475,0.97234521867475,0.97250058261478,0.97257826458479,0.9726559465548,0.9726559465548,0.9726559465548,0.97273362852482,0.97273362852482,0.97281131049483,0.97288899246485,0.97288899246485,0.97288899246485,0.97288899246485,0.97296667443486,0.97296667443486,0.97296667443486,0.97296667443486,0.97296667443486,0.97296667443486,0.97296667443486,0.97296667443486,0.97304435640488,0.97304435640488,0.97304435640488,0.97304435640488,0.97304435640488,0.97312203837489,0.97312203837489,0.97312203837489,0.97304435640488,0.97304435640488,0.97304435640488,0.97304435640488,0.97304435640488,0.97304435640488,0.97312203837489,0.97312203837489,0.97312203837489,0.97312203837489,0.97312203837489,0.97319972034491,0.97319972034491,0.97319972034491,0.97319972034491,0.97319972034491,0.97319972034491,0.97319972034491,0.97319972034491,0.97327740231492,0.97327740231492,0.97327740231492,0.97327740231492,0.97327740231492,0.97327740231492,0.97327740231492,0.97327740231492,0.97327740231492,0.97327740231492,0.97335508428494,0.97335508428494,0.97351044822497,0.97358813019498,0.97358813019498,0.97358813019498,0.97358813019498,0.97358813019498,0.97358813019498,0.97358813019498,0.973665812165,0.973665812165,0.973665812165,0.973665812165,0.973665812165,0.973665812165,0.973665812165,0.973665812165,0.973665812165,0.973665812165,0.973665812165,0.973665812165,0.97374349413501,0.97374349413501,0.97374349413501,0.97374349413501,0.97382117610503,0.97382117610503,0.97382117610503,0.97382117610503,0.97382117610503,0.97382117610503,0.97382117610503,0.97382117610503,0.97382117610503,0.97382117610503,0.97382117610503,0.97382117610503,0.97389885807504,0.97389885807504,0.97389885807504,0.97389885807504,0.97389885807504,0.97397654004506,0.97397654004506,0.97397654004506,0.97397654004506,0.97397654004506,0.97397654004506,0.97397654004506,0.97397654004506,0.97397654004506,0.97397654004506,0.97397654004506,0.97397654004506,0.97413190398509,0.97413190398509,0.97405422201507,0.97405422201507,0.97397654004506,0.97405422201507,0.97413190398509,0.97413190398509,0.97428726792511,0.97428726792511,0.97436494989513,0.97436494989513,0.97436494989513,0.97436494989513,0.97436494989513,0.97436494989513,0.97436494989513,0.97436494989513,0.97436494989513,0.97436494989513,0.97436494989513,0.97444263186514,0.97444263186514,0.97444263186514,0.97452031383516,0.97467567777519,0.97467567777519,0.97467567777519,0.97467567777519,0.97467567777519,0.97467567777519,0.97467567777519,0.97467567777519,0.97467567777519,0.97467567777519,0.97467567777519,0.97467567777519,0.97467567777519,0.97467567777519,0.97467567777519,0.97467567777519,0.97467567777519,0.97467567777519,0.97467567777519,0.97467567777519,0.97467567777519,0.97467567777519,0.97467567777519,0.97467567777519,0.97467567777519,0.97467567777519,0.9747533597452,0.97483104171522,0.97483104171522,0.97483104171522,0.97483104171522,0.97483104171522,0.97483104171522,0.97483104171522,0.97483104171522,0.97483104171522,0.97483104171522,0.97483104171522,0.97498640565525,0.97498640565525,0.97498640565525,0.97506408762526,0.97506408762526,0.97506408762526,0.97506408762526,0.97506408762526,0.97506408762526,0.97506408762526,0.97506408762526,0.97506408762526,0.97498640565525,0.97498640565525,0.97498640565525,0.97498640565525,0.97498640565525,0.97498640565525,0.97498640565525,0.97498640565525,0.97498640565525,0.97498640565525,0.97498640565525,0.97498640565525,0.97506408762526,0.97506408762526,0.97506408762526,0.97506408762526,0.97506408762526,0.97506408762526,0.97506408762526,0.97506408762526,0.97506408762526,0.97506408762526,0.97506408762526,0.97514176959528,0.97521945156529,0.97521945156529,0.97521945156529,0.97521945156529,0.97521945156529,0.97521945156529,0.97521945156529,0.97521945156529,0.97529713353531,0.97529713353531,0.97529713353531,0.97529713353531,0.97529713353531,0.97545249747534,0.97545249747534,0.97545249747534,0.97553017944535,0.97553017944535,0.97553017944535,0.97553017944535,0.97553017944535,0.97553017944535,0.97553017944535,0.97560786141537,0.97560786141537,0.97560786141537,0.97560786141537,0.97560786141537,0.97560786141537,0.97560786141537,0.97560786141537,0.97560786141537,0.97560786141537,0.97560786141537,0.97560786141537,0.97560786141537,0.97560786141537,0.97568554338538,0.97568554338538,0.97568554338538,0.97568554338538,0.97568554338538,0.97568554338538],\"x\":[1,2,3,4,5,6,7,8,9,10,11,12,13,14,15,16,17,18,19,20,21,22,23,24,25,26,27,28,29,30,31,32,33,34,35,36,37,38,39,40,41,42,43,44,45,46,47,48,49,50,51,52,53,54,55,56,57,58,59,60,61,62,63,64,65,66,67,68,69,70,71,72,73,74,75,76,77,78,79,80,81,82,83,84,85,86,87,88,89,90,91,92,93,94,95,96,97,98,99,100,101,102,103,104,105,106,107,108,109,110,111,112,113,114,115,116,117,118,119,120,121,122,123,124,125,126,127,128,129,130,131,132,133,134,135,136,137,138,139,140,141,142,143,144,145,146,147,148,149,150,151,152,153,154,155,156,157,158,159,160,161,162,163,164,165,166,167,168,169,170,171,172,173,174,175,176,177,178,179,180,181,182,183,184,185,186,187,188,189,190,191,192,193,194,195,196,197,198,199,200,201,202,203,204,205,206,207,208,209,210,211,212,213,214,215,216,217,218,219,220,221,222,223,224,225,226,227,228,229,230,231,232,233,234,235,236,237,238,239,240,241,242,243,244,245,246,247,248,249,250,251,252,253,254,255,256,257,258,259,260,261,262,263,264,265,266,267,268,269,270,271,272,273,274,275,276,277,278,279,280,281,282,283,284,285,286,287,288,289,290,291,292,293,294,295,296,297,298,299,300,301,302,303,304,305,306,307,308,309,310,311,312,313,314,315,316,317,318,319,320,321,322,323,324,325,326,327,328,329,330,331,332,333,334,335,336,337,338,339,340,341,342,343,344,345,346,347,348,349,350,351,352,353,354,355,356,357,358,359,360,361,362,363,364,365,366,367,368,369,370,371,372,373,374,375,376,377,378,379,380,381,382,383,384,385,386,387,388,389,390,391,392,393,394,395,396,397,398,399,400,401,402,403,404,405,406,407,408,409,410,411,412,413,414,415,416,417,418,419,420,421,422,423,424,425,426,427,428,429,430,431,432,433,434,435,436,437,438,439,440,441,442,443,444,445,446,447,448,449,450,451,452,453,454,455,456,457,458,459,460,461,462,463,464,465,466,467,468,469,470,471,472,473,474,475,476,477,478,479,480,481,482,483,484,485,486,487,488,489,490,491,492,493,494,495,496,497,498,499,500]},\"column_names\":[\"y\",\"x\"],\"cont_ranges\":{},\"discrete_ranges\":{},\"selected\":[],\"id\":\"77eec186-0054-431c-c372-a14b085461d5\",\"doc\":null,\"tags\":[]}},{\"id\":\"5a5b9abf-c699-4165-c113-4182642f97d5\",\"type\":\"Circle\",\"attributes\":{\"fill_alpha\":{\"units\":\"data\",\"value\":0.2},\"line_alpha\":{\"units\":\"data\",\"value\":1},\"doc\":null,\"size\":{\"units\":\"screen\",\"value\":10},\"fill_color\":{\"value\":\"red\"},\"line_color\":{\"value\":\"red\"},\"x\":{\"units\":\"data\",\"field\":\"x\"},\"id\":\"5a5b9abf-c699-4165-c113-4182642f97d5\",\"y\":{\"units\":\"data\",\"field\":\"y\"},\"tags\":[]}},{\"id\":\"595acf0b-a9ae-4013-c05d-28642b4958df\",\"type\":\"Circle\",\"attributes\":{\"fill_alpha\":{\"units\":\"data\",\"value\":0.2},\"line_alpha\":{\"units\":\"data\",\"value\":1},\"doc\":null,\"size\":{\"units\":\"screen\",\"value\":10},\"fill_color\":{\"value\":\"red\"},\"line_color\":{\"value\":\"red\"},\"x\":{\"units\":\"data\",\"field\":\"x\"},\"id\":\"595acf0b-a9ae-4013-c05d-28642b4958df\",\"y\":{\"units\":\"data\",\"field\":\"y\"},\"tags\":[]}},{\"id\":\"e9c556fc-44be-4b94-cb22-6242330a5b29\",\"type\":\"GlyphRenderer\",\"attributes\":{\"name\":null,\"nonselection_glyph\":{\"type\":\"Circle\",\"id\":\"595acf0b-a9ae-4013-c05d-28642b4958df\"},\"doc\":null,\"server_data_source\":null,\"data_source\":{\"type\":\"ColumnDataSource\",\"id\":\"77eec186-0054-431c-c372-a14b085461d5\"},\"glyph\":{\"type\":\"Circle\",\"id\":\"5a5b9abf-c699-4165-c113-4182642f97d5\"},\"selection_glyph\":null,\"id\":\"e9c556fc-44be-4b94-cb22-6242330a5b29\",\"tags\":[]}},{\"id\":\"63cdae29-d8e5-4d25-cd6f-c002c1bdd632\",\"type\":\"ColumnDataSource\",\"attributes\":{\"data\":{\"y\":[1.1582173961224,1.1361213350708,1.1147748258627,1.0941310408148,1.0741472490968,1.0547844229757,1.0360068826684,1.0177819760011,1.0000797894488,0.98287288746865,0.96613607734017,0.94984619700434,0.93398192363767,0.918523600922,0.90345308317078,0.88875359465411,0.87440960262814,0.86040670272133,0.84673151546316,0.8333715928601,0.82031533403188,0.80755190901792,0.79507118995183,0.78286368888046,0.77092050157556,0.75923325675015,0.74779407014946,0.73659550303881,0.72563052465746,0.7148924782501,0.70437505032583,0.69407224282885,0.68397834793627,0.67408792522633,0.66439578098574,0.65489694944729,0.6455866757699,0.63646040059116,0.62751374599969,0.61874250278921,0.61014261887003,0.60171018872576,0.59344144381423,0.58533274382118,0.57738056868471,0.56958151131618,0.56193227095061,0.55442964706634,0.54707053381946,0.53985191494391,0.53277085907289,0.52582451544183,0.51901010993653,0.51232494145429,0.50576637854842,0.49933185632976,0.49301887360127,0.48682499020415,0.48074782455588,0.47478505136282,0.46893439949129,0.46319364998281,0.45756063420073,0.45203323209631,0.44660937058381,0.44128702201509,0.43606420274493,0.43093897177938,0.42590942950004,0.42097371645798,0.41613001223127,0.41137653434124,0.40671153722247,0.40213331124231,0.3976401817661,0.39323050826447,0.38890268345959,0.38465513250753,0.38048631221389,0.37639471028062,0.37237884458157,0.368437262465,0.36456854008114,0.36077128173322,0.35704411925046,0.35338571138168,0.34979474320826,0.34626992557533,0.34280999454014,0.33941371083678,0.3360798593561,0.33280724864039,0.32959471039176,0.32644109899383,0.32334529104582,0.32030618490876,0.31732270026304,0.31439377767699,0.31151837818596,0.3086954828814,0.30592409250975,0.3032032270806,0.30053192548383,0.29790924511544,0.29533426151176,0.29280606799174,0.2903237753071,0.28788651130002,0.28549342056825,0.2831436641373,0.28083641913962,0.27857087850044,0.27634625063024,0.27416175912354,0.27201664246387,0.26991015373487,0.26784156033719,0.2658101437112,0.2638151990652,0.26185603510924,0.25993197379417,0.2580423500559,0.25618651156484,0.2543638184802,0.25257364320923,0.25081537017122,0.24908839556608,0.24739212714755,0.2457259840008,0.24408939632443,0.2424818052167,0.24090266246595,0.23935143034512,0.23782758141022,0.2363305983028,0.23485997355616,0.23341520940544,0.23199581760125,0.23060131922704,0.22923124451995,0.22788513269507,0.22656253177325,0.22526299841203,0.22398609774004,0.22273140319444,0.22149849636158,0.2202869668207,0.21909641199066,0.21792643697959,0.21677665443748,0.21564668441156,0.21453615420453,0.21344469823543,0.21237195790325,0.21131758145316,0.21028122384525,0.20926254662592,0.20826121780157,0.20727691171487,0.20630930892332,0.20535809608017,0.20442296581766,0.2035036166324,0.20259975277307,0.20171108413023,0.20083732612819,0.19997819961906,0.19913343077875,0.19830275100501,0.19748589681741,0.19668260975921,0.19589263630121,0.19511572774733,0.19435164014206,0.19360013417968,0.19286097511524,0.19213393267718,0.19141878098174,0.19071529844886,0.19002326771986,0.18934247557657,0.18867271286205,0.18801377440289,0.18736545893289,0.18672756901831,0.18609991098444,0.18548229484375,0.18487453422519,0.18427644630507,0.1836878517391,0.18310857459582,0.18253844229128,0.18197728552497,0.18142493821699,0.18088123744641,0.18034602339084,0.1798191392671,0.17930043127311,0.17878974853082,0.17828694303027,0.17779186957474,0.17730438572687,0.17682435175595,0.17635163058608,0.1758860877454,0.1754275913163,0.17497601188653,0.1745312225013,0.17409309861628,0.17366151805148,0.17323636094607,0.17281750971398,0.17240484900042,0.17199826563923,0.17159764861103,0.17120288900212,0.17081387996429,0.1704305166753,0.17005269630013,0.16968031795301,0.16931328266016,0.16895149332325,0.16859485468353,0.16824327328666,0.16789665744826,0.16755491722008,0.16721796435678,0.16688571228342,0.16655807606355,0.16623497236789,0.16591631944359,0.16560203708419,0.1652920466,0.16498627078916,0.1646846339092,0.16438706164921,0.16409348110243,0.16380382073949,0.16351801038206,0.16323598117709,0.16295766557147,0.16268299728722,0.16241191129715,0.16214434380096,0.16188023220185,0.16161951508351,0.1613621321876,0.16110802439167,0.16085713368744,0.16060940315955,0.16036477696472,0.16012320031128,0.15988461943911,0.15964898159994,0.15941623503805,0.15918632897137,0.15895921357285,0.1587348399523,0.15851316013848,0.15829412706158,0.15807769453607,0.15786381724377,0.15765245071736,0.15744355132417,0.15723707625021,0.15703298348461,0.15683123180432,0.15663178075904,0.15643459065654,0.15623962254822,0.15604683821489,0.15585620015293,0.15566767156062,0.15548121632477,0.15529679900763,0.15511438483401,0.15493393967865,0.15475543005387,0.1545788230974,0.15440408656049,0.15423118879624,0.15406009874813,0.15389078593877,0.1537232204589,0.15355737295657,0.15339321462655,0.15323071719989,0.15306985293375,0.15291059460141,0.1527529154824,0.15259678935289,0.1524421904763,0.15228909359395,0.15213747391605,0.15198730711271,0.1518385693053,0.15169123705776,0.15154528736827,0.15140069766099,0.15125744577792,0.15111550997103,0.15097486889441,0.15083550159667,0.15069738751346,0.15056050646006,0.15042483862427,0.15029036455923,0.15015706517658,0.15002492173962,0.1498939158566,0.14976402947424,0.14963524487128,0.1495075446522,0.14938091174099,0.14925532937517,0.14913078109978,0.14900725076161,0.14888472250341,0.14876318075836,0.14864261024452,0.14852299595943,0.14840432317485,0.14828657743154,0.14816974453418,0.14805381054637,0.14793876178572,0.14782458481908,0.14771126645778,0.14759879375301,0.14748715399132,0.14737633469014,0.14726632359342,0.14715710866735,0.14704867809616,0.14694102027799,0.14683412382088,0.14672797753876,0.14662257044761,0.14651789176161,0.1464139308894,0.14631067743044,0.14620812117137,0.14610625208252,0.1460050603144,0.14590453619436,0.14580467022318,0.14570545307187,0.14560687557844,0.14550892874474,0.14541160373339,0.14531489186475,0.14521878461392,0.1451232736079,0.14502835062264,0.14493400758033,0.14484023654657,0.14474702972771,0.14465437946823,0.14456227824809,0.14447071868022,0.144379693508,0.14428919560284,0.14419921796177,0.14410975370504,0.14402079607387,0.14393233842813,0.14384437424416,0.14375689711254,0.143669900736,0.14358337892726,0.14349732560704,0.14341173480196,0.14332660064263,0.14324191736165,0.14315767929174,0.14307388086386,0.14299051660533,0.14290758113811,0.14282506917696,0.14274297552773,0.1426612950857,0.14258002283385,0.14249915384123,0.14241868326143,0.1423386063309,0.14225891836748,0.14217961476886,0.14210069101108,0.14202214264709,0.14194396530533,0.14186615468828,0.14178870657115,0.14171161680046,0.14163488129278,0.14155849603336,0.14148245707493,0.14140676053638,0.1413314026016,0.14125637951822,0.14118168759644,0.1411073232079,0.14103328278452,0.14095956281738,0.14088615985564,0.14081307050547,0.14074029142899,0.14066781934321,0.14059565101907,0.14052378328042,0.14045221300301,0.14038093711361,0.14030995258901,0.14023925645509,0.14016884578599,0.14009871770315,0.14002886937446,0.13995929801344,0.13989000087835,0.13982097527142,0.13975221853801,0.13968372806582,0.13961550128414,0.13954753566307,0.13947982871277,0.13941237798274,0.13934518106111,0.1392782355739,0.13921153918437,0.13914508959229,0.13907888453336,0.13901292177845,0.13894719913305,0.13888171443658,0.1388164655618,0.13875145041423,0.13868666693149,0.13862211308278,0.13855778686827,0.13849368631858,0.13842980949416,0.13836615448484,0.13830271940922,0.1382395024142,0.13817650167445,0.13811371539192,0.13805114179533,0.13798877913972,0.13792662570594,0.13786467980023,0.13780293975372,0.137741403922,0.13768007068471,0.13761893844507,0.13755800562947,0.13749727068709,0.13743673208942,0.13737638832994,0.13731623792369,0.13725627940689,0.13719651133657,0.13713693229018,0.13707754086527,0.13701833567908,0.13695931536825,0.13690047858842,0.13684182401395,0.13678335033753,0.13672505626991,0.13666694053957,0.13660900189236,0.13655123909129,0.13649365091611,0.13643623616314,0.13637899364488,0.13632192218978,0.13626502064196,0.1362082878609,0.13615172272123,0.13609532411241,0.13603909093851,0.13598302211794,0.13592711658321,0.13587137328068,0.13581579117031,0.13576036922547,0.13570510643265,0.13565000179126,0.13559505431343,0.13554026302374,0.13548562695908,0.13543114516837,0.13537681671239,0.13532264066355,0.13526861610574,0.1352147421341,0.13516101785483,0.13510744238501,0.13505401485241,0.13500073439533,0.13494760016238],\"x\":[1,2,3,4,5,6,7,8,9,10,11,12,13,14,15,16,17,18,19,20,21,22,23,24,25,26,27,28,29,30,31,32,33,34,35,36,37,38,39,40,41,42,43,44,45,46,47,48,49,50,51,52,53,54,55,56,57,58,59,60,61,62,63,64,65,66,67,68,69,70,71,72,73,74,75,76,77,78,79,80,81,82,83,84,85,86,87,88,89,90,91,92,93,94,95,96,97,98,99,100,101,102,103,104,105,106,107,108,109,110,111,112,113,114,115,116,117,118,119,120,121,122,123,124,125,126,127,128,129,130,131,132,133,134,135,136,137,138,139,140,141,142,143,144,145,146,147,148,149,150,151,152,153,154,155,156,157,158,159,160,161,162,163,164,165,166,167,168,169,170,171,172,173,174,175,176,177,178,179,180,181,182,183,184,185,186,187,188,189,190,191,192,193,194,195,196,197,198,199,200,201,202,203,204,205,206,207,208,209,210,211,212,213,214,215,216,217,218,219,220,221,222,223,224,225,226,227,228,229,230,231,232,233,234,235,236,237,238,239,240,241,242,243,244,245,246,247,248,249,250,251,252,253,254,255,256,257,258,259,260,261,262,263,264,265,266,267,268,269,270,271,272,273,274,275,276,277,278,279,280,281,282,283,284,285,286,287,288,289,290,291,292,293,294,295,296,297,298,299,300,301,302,303,304,305,306,307,308,309,310,311,312,313,314,315,316,317,318,319,320,321,322,323,324,325,326,327,328,329,330,331,332,333,334,335,336,337,338,339,340,341,342,343,344,345,346,347,348,349,350,351,352,353,354,355,356,357,358,359,360,361,362,363,364,365,366,367,368,369,370,371,372,373,374,375,376,377,378,379,380,381,382,383,384,385,386,387,388,389,390,391,392,393,394,395,396,397,398,399,400,401,402,403,404,405,406,407,408,409,410,411,412,413,414,415,416,417,418,419,420,421,422,423,424,425,426,427,428,429,430,431,432,433,434,435,436,437,438,439,440,441,442,443,444,445,446,447,448,449,450,451,452,453,454,455,456,457,458,459,460,461,462,463,464,465,466,467,468,469,470,471,472,473,474,475,476,477,478,479,480,481,482,483,484,485,486,487,488,489,490,491,492,493,494,495,496,497,498,499,500]},\"column_names\":[\"y\",\"x\"],\"cont_ranges\":{},\"discrete_ranges\":{},\"selected\":[],\"id\":\"63cdae29-d8e5-4d25-cd6f-c002c1bdd632\",\"doc\":null,\"tags\":[]}},{\"id\":\"879eedd4-3204-4e47-ce4f-e4eee7874098\",\"type\":\"Circle\",\"attributes\":{\"fill_alpha\":{\"units\":\"data\",\"value\":0.2},\"line_alpha\":{\"units\":\"data\",\"value\":1},\"doc\":null,\"size\":{\"units\":\"screen\",\"value\":10},\"fill_color\":{\"value\":\"blue\"},\"line_color\":{\"value\":\"blue\"},\"x\":{\"units\":\"data\",\"field\":\"x\"},\"id\":\"879eedd4-3204-4e47-ce4f-e4eee7874098\",\"y\":{\"units\":\"data\",\"field\":\"y\"},\"tags\":[]}},{\"id\":\"d912b050-9b49-47dd-c708-a95a55d6bb2b\",\"type\":\"Circle\",\"attributes\":{\"fill_alpha\":{\"units\":\"data\",\"value\":0.2},\"line_alpha\":{\"units\":\"data\",\"value\":1},\"doc\":null,\"size\":{\"units\":\"screen\",\"value\":10},\"fill_color\":{\"value\":\"blue\"},\"line_color\":{\"value\":\"blue\"},\"x\":{\"units\":\"data\",\"field\":\"x\"},\"id\":\"d912b050-9b49-47dd-c708-a95a55d6bb2b\",\"y\":{\"units\":\"data\",\"field\":\"y\"},\"tags\":[]}},{\"id\":\"83cf6174-83d8-4560-c54d-eeb4c0590d89\",\"type\":\"GlyphRenderer\",\"attributes\":{\"name\":null,\"nonselection_glyph\":{\"type\":\"Circle\",\"id\":\"d912b050-9b49-47dd-c708-a95a55d6bb2b\"},\"doc\":null,\"server_data_source\":null,\"data_source\":{\"type\":\"ColumnDataSource\",\"id\":\"63cdae29-d8e5-4d25-cd6f-c002c1bdd632\"},\"glyph\":{\"type\":\"Circle\",\"id\":\"879eedd4-3204-4e47-ce4f-e4eee7874098\"},\"selection_glyph\":null,\"id\":\"83cf6174-83d8-4560-c54d-eeb4c0590d89\",\"tags\":[]}},{\"id\":\"c3e338b3-6705-46a9-c67d-b37158e63e27\",\"type\":\"DataRange1d\",\"attributes\":{\"sources\":[{\"columns\":[\"x\"],\"source\":{\"type\":\"ColumnDataSource\",\"id\":\"77eec186-0054-431c-c372-a14b085461d5\"}},{\"columns\":[\"x\"],\"source\":{\"type\":\"ColumnDataSource\",\"id\":\"63cdae29-d8e5-4d25-cd6f-c002c1bdd632\"}}],\"id\":\"c3e338b3-6705-46a9-c67d-b37158e63e27\",\"tags\":[],\"doc\":null}},{\"id\":\"84082131-4e92-4dae-cd99-46d07a0861bd\",\"type\":\"DataRange1d\",\"attributes\":{\"sources\":[{\"columns\":[\"y\"],\"source\":{\"type\":\"ColumnDataSource\",\"id\":\"77eec186-0054-431c-c372-a14b085461d5\"}},{\"columns\":[\"y\"],\"source\":{\"type\":\"ColumnDataSource\",\"id\":\"63cdae29-d8e5-4d25-cd6f-c002c1bdd632\"}}],\"id\":\"84082131-4e92-4dae-cd99-46d07a0861bd\",\"tags\":[],\"doc\":null}},{\"id\":\"3b2ab9be-6086-4d96-cd0b-29e168a85086\",\"type\":\"ToolEvents\",\"attributes\":{\"tags\":[],\"id\":\"3b2ab9be-6086-4d96-cd0b-29e168a85086\",\"geometries\":[],\"doc\":null}},{\"id\":\"d5b747fd-daeb-4556-c591-a030e515e25b\",\"type\":\"BasicTickFormatter\",\"attributes\":{\"id\":\"d5b747fd-daeb-4556-c591-a030e515e25b\",\"tags\":[],\"doc\":null}},{\"id\":\"69164ef6-6c17-4715-c721-37c02b62bef0\",\"type\":\"BasicTicker\",\"attributes\":{\"num_minor_ticks\":5,\"id\":\"69164ef6-6c17-4715-c721-37c02b62bef0\",\"tags\":[],\"doc\":null}},{\"id\":\"5ca795bb-e696-4f46-cf25-a9f5564f16c4\",\"type\":\"LinearAxis\",\"attributes\":{\"formatter\":{\"type\":\"BasicTickFormatter\",\"id\":\"d5b747fd-daeb-4556-c591-a030e515e25b\"},\"ticker\":{\"type\":\"BasicTicker\",\"id\":\"69164ef6-6c17-4715-c721-37c02b62bef0\"},\"plot\":{\"id\":\"a04ed1b4-3c62-4b65-cbb4-c3d180329b66\",\"type\":\"Plot\",\"subtype\":\"Figure\"},\"axis_label\":\"iteration\",\"id\":\"5ca795bb-e696-4f46-cf25-a9f5564f16c4\",\"doc\":null,\"tags\":[]}},{\"id\":\"dead1311-a44a-466b-c6df-2e448c3ddfb8\",\"type\":\"Grid\",\"attributes\":{\"dimension\":0,\"plot\":{\"id\":\"a04ed1b4-3c62-4b65-cbb4-c3d180329b66\",\"type\":\"Plot\",\"subtype\":\"Figure\"},\"ticker\":{\"type\":\"BasicTicker\",\"id\":\"69164ef6-6c17-4715-c721-37c02b62bef0\"},\"id\":\"dead1311-a44a-466b-c6df-2e448c3ddfb8\",\"doc\":null,\"tags\":[]}},{\"id\":\"68f2fcf8-32da-40e7-c0d0-7a2a27313279\",\"type\":\"BasicTickFormatter\",\"attributes\":{\"id\":\"68f2fcf8-32da-40e7-c0d0-7a2a27313279\",\"tags\":[],\"doc\":null}},{\"id\":\"5a378944-7b3c-4520-c586-07b43985377b\",\"type\":\"BasicTicker\",\"attributes\":{\"num_minor_ticks\":5,\"id\":\"5a378944-7b3c-4520-c586-07b43985377b\",\"tags\":[],\"doc\":null}},{\"id\":\"374867bb-f5ed-4c03-cc94-c879f6a8e7fd\",\"type\":\"LinearAxis\",\"attributes\":{\"formatter\":{\"type\":\"BasicTickFormatter\",\"id\":\"68f2fcf8-32da-40e7-c0d0-7a2a27313279\"},\"ticker\":{\"type\":\"BasicTicker\",\"id\":\"5a378944-7b3c-4520-c586-07b43985377b\"},\"plot\":{\"id\":\"a04ed1b4-3c62-4b65-cbb4-c3d180329b66\",\"type\":\"Plot\",\"subtype\":\"Figure\"},\"axis_label\":\"MSE - Accuracy\",\"id\":\"374867bb-f5ed-4c03-cc94-c879f6a8e7fd\",\"doc\":null,\"tags\":[]}},{\"id\":\"e25517cd-3e4d-4ec9-ce13-b140731388c2\",\"type\":\"Grid\",\"attributes\":{\"dimension\":1,\"plot\":{\"id\":\"a04ed1b4-3c62-4b65-cbb4-c3d180329b66\",\"type\":\"Plot\",\"subtype\":\"Figure\"},\"ticker\":{\"type\":\"BasicTicker\",\"id\":\"5a378944-7b3c-4520-c586-07b43985377b\"},\"id\":\"e25517cd-3e4d-4ec9-ce13-b140731388c2\",\"doc\":null,\"tags\":[]}},{\"id\":\"621fe168-14ef-4273-c28b-8b87a11b42a0\",\"type\":\"PanTool\",\"attributes\":{\"plot\":{\"id\":\"a04ed1b4-3c62-4b65-cbb4-c3d180329b66\",\"type\":\"Plot\",\"subtype\":\"Figure\"},\"dimensions\":[\"width\",\"height\"],\"id\":\"621fe168-14ef-4273-c28b-8b87a11b42a0\",\"doc\":null,\"tags\":[]}},{\"id\":\"38328263-8a7c-46bb-c6f9-c44451eaef01\",\"type\":\"WheelZoomTool\",\"attributes\":{\"plot\":{\"id\":\"a04ed1b4-3c62-4b65-cbb4-c3d180329b66\",\"type\":\"Plot\",\"subtype\":\"Figure\"},\"dimensions\":[\"width\",\"height\"],\"id\":\"38328263-8a7c-46bb-c6f9-c44451eaef01\",\"doc\":null,\"tags\":[]}},{\"id\":\"77dff367-a034-4c70-cc05-f6348dfc3182\",\"type\":\"BoxZoomTool\",\"attributes\":{\"plot\":{\"id\":\"a04ed1b4-3c62-4b65-cbb4-c3d180329b66\",\"type\":\"Plot\",\"subtype\":\"Figure\"},\"id\":\"77dff367-a034-4c70-cc05-f6348dfc3182\",\"tags\":[],\"doc\":null}},{\"id\":\"720ce3f4-adbd-4759-c74d-6d1c03a579fa\",\"type\":\"PreviewSaveTool\",\"attributes\":{\"plot\":{\"id\":\"a04ed1b4-3c62-4b65-cbb4-c3d180329b66\",\"type\":\"Plot\",\"subtype\":\"Figure\"},\"id\":\"720ce3f4-adbd-4759-c74d-6d1c03a579fa\",\"tags\":[],\"doc\":null}},{\"id\":\"1ca17190-8551-4779-c7cb-80a9f4e2a7df\",\"type\":\"ResizeTool\",\"attributes\":{\"plot\":{\"id\":\"a04ed1b4-3c62-4b65-cbb4-c3d180329b66\",\"type\":\"Plot\",\"subtype\":\"Figure\"},\"id\":\"1ca17190-8551-4779-c7cb-80a9f4e2a7df\",\"tags\":[],\"doc\":null}},{\"id\":\"2f86fe8e-949c-4a13-caa9-3e5857977ae1\",\"type\":\"ResetTool\",\"attributes\":{\"plot\":{\"id\":\"a04ed1b4-3c62-4b65-cbb4-c3d180329b66\",\"type\":\"Plot\",\"subtype\":\"Figure\"},\"id\":\"2f86fe8e-949c-4a13-caa9-3e5857977ae1\",\"tags\":[],\"doc\":null}},{\"id\":\"a04ed1b4-3c62-4b65-cbb4-c3d180329b66\",\"type\":\"Plot\",\"attributes\":{\"x_range\":{\"type\":\"DataRange1d\",\"id\":\"c3e338b3-6705-46a9-c67d-b37158e63e27\"},\"tool_events\":{\"type\":\"ToolEvents\",\"id\":\"3b2ab9be-6086-4d96-cd0b-29e168a85086\"},\"below\":[{\"type\":\"LinearAxis\",\"id\":\"5ca795bb-e696-4f46-cf25-a9f5564f16c4\"}],\"renderers\":[{\"type\":\"GlyphRenderer\",\"id\":\"e9c556fc-44be-4b94-cb22-6242330a5b29\"},{\"type\":\"GlyphRenderer\",\"id\":\"83cf6174-83d8-4560-c54d-eeb4c0590d89\"},{\"type\":\"LinearAxis\",\"id\":\"5ca795bb-e696-4f46-cf25-a9f5564f16c4\"},{\"type\":\"Grid\",\"id\":\"dead1311-a44a-466b-c6df-2e448c3ddfb8\"},{\"type\":\"LinearAxis\",\"id\":\"374867bb-f5ed-4c03-cc94-c879f6a8e7fd\"},{\"type\":\"Grid\",\"id\":\"e25517cd-3e4d-4ec9-ce13-b140731388c2\"}],\"above\":[],\"tools\":[{\"type\":\"PanTool\",\"id\":\"621fe168-14ef-4273-c28b-8b87a11b42a0\"},{\"type\":\"WheelZoomTool\",\"id\":\"38328263-8a7c-46bb-c6f9-c44451eaef01\"},{\"type\":\"BoxZoomTool\",\"id\":\"77dff367-a034-4c70-cc05-f6348dfc3182\"},{\"type\":\"PreviewSaveTool\",\"id\":\"720ce3f4-adbd-4759-c74d-6d1c03a579fa\"},{\"type\":\"ResizeTool\",\"id\":\"1ca17190-8551-4779-c7cb-80a9f4e2a7df\"},{\"type\":\"ResetTool\",\"id\":\"2f86fe8e-949c-4a13-caa9-3e5857977ae1\"}],\"doc\":null,\"right\":[],\"title\":\"loss and accuracy plot\",\"extra_x_ranges\":{},\"left\":[{\"type\":\"LinearAxis\",\"id\":\"374867bb-f5ed-4c03-cc94-c879f6a8e7fd\"}],\"y_range\":{\"type\":\"DataRange1d\",\"id\":\"84082131-4e92-4dae-cd99-46d07a0861bd\"},\"id\":\"a04ed1b4-3c62-4b65-cbb4-c3d180329b66\",\"extra_y_ranges\":{},\"tags\":[]}}];\n",
       "  Bokeh.load_models(all_models);\n",
       "  var model = Bokeh.Collections(modeltype).get(modelid);\n",
       "  $(\"#54fb40ed-43a2-470e-c73d-0ef9f3665fbd\").html(''); // clear any previous plot in window_id\n",
       "  var view = new model.default_view({model: model, el: \"#54fb40ed-43a2-470e-c73d-0ef9f3665fbd\"});\n",
       "    } else {\n",
       "  load_lib(bokehjs_url, function() {\n",
       "      console.log(\"Bokeh: BokehJS plotting callback run at\", new Date())\n",
       "      var modelid = \"a04ed1b4-3c62-4b65-cbb4-c3d180329b66\";\n",
       "      var modeltype = \"Plot\";\n",
       "      var all_models = [{\"id\":\"77eec186-0054-431c-c372-a14b085461d5\",\"type\":\"ColumnDataSource\",\"attributes\":{\"data\":{\"y\":[0.32447758875165,0.34723840596598,0.37015458712033,0.39563427328517,0.42290064476035,0.45350734094617,0.4820943059116,0.51743960226831,0.54695875087392,0.57608948962946,0.60436572671483,0.6305445506098,0.65866542375515,0.68391206400994,0.70721665501437,0.72958906237862,0.7494756467024,0.76687640798571,0.78404412335897,0.79981356327196,0.81573836712499,0.82995416763769,0.84401460421036,0.85566689971258,0.86716383127476,0.87664103161656,0.88572982210829,0.89497397654005,0.90305290142158,0.90794686553251,0.91408374116368,0.91858929542453,0.92309484968539,0.92721199409617,0.93008622698672,0.93334886972734,0.93591237473782,0.93855356171833,0.94026256505865,0.94243766021906,0.94406898158937,0.94593334886973,0.94756467024004,0.94872989979026,0.95043890313058,0.95230327041094,0.95323545405111,0.95440068360134,0.95502213936145,0.95564359512157,0.95642041482172,0.95696418861182,0.95797405422202,0.95859550998213,0.95929464771227,0.96030451332246,0.96077060514255,0.96115901499262,0.96131437893265,0.96146974287268,0.96178047075274,0.9620911986328,0.96224656257283,0.96247960848287,0.96255729045289,0.96271265439292,0.96302338227297,0.96341179212305,0.96364483803309,0.96380020197312,0.96403324788317,0.9641886118232,0.9641886118232,0.96434397576323,0.96449933970325,0.96481006758331,0.96504311349336,0.9652761594034,0.96535384137342,0.96558688728346,0.96597529713354,0.96605297910355,0.96613066107356,0.96628602501359,0.96644138895362,0.96644138895362,0.96644138895362,0.96659675289365,0.96667443486367,0.9668297988037,0.96690748077371,0.96706284471374,0.96706284471374,0.96729589062379,0.9673735725938,0.96745125456382,0.96752893653383,0.96760661850385,0.96760661850385,0.96776198244387,0.96783966441389,0.96776198244387,0.96776198244387,0.9679173463839,0.9679173463839,0.96807271032393,0.96807271032393,0.96807271032393,0.96822807426396,0.96822807426396,0.96830575623398,0.96838343820399,0.96838343820399,0.96838343820399,0.96853880214402,0.96853880214402,0.96861648411404,0.96861648411404,0.96869416608405,0.96884953002408,0.96908257593413,0.96916025790414,0.96939330381418,0.96931562184417,0.96931562184417,0.96931562184417,0.96931562184417,0.96939330381418,0.96939330381418,0.96939330381418,0.96939330381418,0.9694709857842,0.9694709857842,0.96954866775421,0.96962634972423,0.96970403169424,0.9694709857842,0.96954866775421,0.96970403169424,0.96970403169424,0.96978171366426,0.96978171366426,0.9700147595743,0.9700147595743,0.97009244154432,0.97017012351433,0.97009244154432,0.97009244154432,0.97009244154432,0.97009244154432,0.97024780548435,0.97024780548435,0.97024780548435,0.97024780548435,0.97032548745436,0.97040316942438,0.97040316942438,0.97040316942438,0.97040316942438,0.97048085139439,0.97048085139439,0.97048085139439,0.97048085139439,0.97063621533442,0.97063621533442,0.97071389730444,0.97071389730444,0.97071389730444,0.97071389730444,0.97071389730444,0.97079157927445,0.97079157927445,0.97079157927445,0.97079157927445,0.97079157927445,0.97086926124447,0.97086926124447,0.97086926124447,0.97086926124447,0.97086926124447,0.97086926124447,0.97086926124447,0.97086926124447,0.97086926124447,0.97094694321448,0.97102462518449,0.97094694321448,0.97094694321448,0.97094694321448,0.97094694321448,0.97086926124447,0.97086926124447,0.97094694321448,0.97094694321448,0.97102462518449,0.97110230715451,0.97110230715451,0.97117998912452,0.97117998912452,0.97117998912452,0.97117998912452,0.97117998912452,0.97117998912452,0.97117998912452,0.97125767109454,0.97133535306455,0.97141303503457,0.97141303503457,0.97141303503457,0.9715683989746,0.9715683989746,0.97164608094461,0.97164608094461,0.97172376291463,0.97172376291463,0.97172376291463,0.97172376291463,0.97172376291463,0.97172376291463,0.97172376291463,0.97187912685466,0.97187912685466,0.97187912685466,0.97187912685466,0.97187912685466,0.97187912685466,0.97195680882467,0.97195680882467,0.97195680882467,0.97203449079469,0.97203449079469,0.9721121727647,0.9721121727647,0.9721121727647,0.97226753670473,0.97226753670473,0.97226753670473,0.97226753670473,0.97226753670473,0.97234521867475,0.97234521867475,0.97234521867475,0.97234521867475,0.97234521867475,0.97234521867475,0.97234521867475,0.97250058261478,0.97257826458479,0.9726559465548,0.9726559465548,0.9726559465548,0.97273362852482,0.97273362852482,0.97281131049483,0.97288899246485,0.97288899246485,0.97288899246485,0.97288899246485,0.97296667443486,0.97296667443486,0.97296667443486,0.97296667443486,0.97296667443486,0.97296667443486,0.97296667443486,0.97296667443486,0.97304435640488,0.97304435640488,0.97304435640488,0.97304435640488,0.97304435640488,0.97312203837489,0.97312203837489,0.97312203837489,0.97304435640488,0.97304435640488,0.97304435640488,0.97304435640488,0.97304435640488,0.97304435640488,0.97312203837489,0.97312203837489,0.97312203837489,0.97312203837489,0.97312203837489,0.97319972034491,0.97319972034491,0.97319972034491,0.97319972034491,0.97319972034491,0.97319972034491,0.97319972034491,0.97319972034491,0.97327740231492,0.97327740231492,0.97327740231492,0.97327740231492,0.97327740231492,0.97327740231492,0.97327740231492,0.97327740231492,0.97327740231492,0.97327740231492,0.97335508428494,0.97335508428494,0.97351044822497,0.97358813019498,0.97358813019498,0.97358813019498,0.97358813019498,0.97358813019498,0.97358813019498,0.97358813019498,0.973665812165,0.973665812165,0.973665812165,0.973665812165,0.973665812165,0.973665812165,0.973665812165,0.973665812165,0.973665812165,0.973665812165,0.973665812165,0.973665812165,0.97374349413501,0.97374349413501,0.97374349413501,0.97374349413501,0.97382117610503,0.97382117610503,0.97382117610503,0.97382117610503,0.97382117610503,0.97382117610503,0.97382117610503,0.97382117610503,0.97382117610503,0.97382117610503,0.97382117610503,0.97382117610503,0.97389885807504,0.97389885807504,0.97389885807504,0.97389885807504,0.97389885807504,0.97397654004506,0.97397654004506,0.97397654004506,0.97397654004506,0.97397654004506,0.97397654004506,0.97397654004506,0.97397654004506,0.97397654004506,0.97397654004506,0.97397654004506,0.97397654004506,0.97413190398509,0.97413190398509,0.97405422201507,0.97405422201507,0.97397654004506,0.97405422201507,0.97413190398509,0.97413190398509,0.97428726792511,0.97428726792511,0.97436494989513,0.97436494989513,0.97436494989513,0.97436494989513,0.97436494989513,0.97436494989513,0.97436494989513,0.97436494989513,0.97436494989513,0.97436494989513,0.97436494989513,0.97444263186514,0.97444263186514,0.97444263186514,0.97452031383516,0.97467567777519,0.97467567777519,0.97467567777519,0.97467567777519,0.97467567777519,0.97467567777519,0.97467567777519,0.97467567777519,0.97467567777519,0.97467567777519,0.97467567777519,0.97467567777519,0.97467567777519,0.97467567777519,0.97467567777519,0.97467567777519,0.97467567777519,0.97467567777519,0.97467567777519,0.97467567777519,0.97467567777519,0.97467567777519,0.97467567777519,0.97467567777519,0.97467567777519,0.97467567777519,0.9747533597452,0.97483104171522,0.97483104171522,0.97483104171522,0.97483104171522,0.97483104171522,0.97483104171522,0.97483104171522,0.97483104171522,0.97483104171522,0.97483104171522,0.97483104171522,0.97498640565525,0.97498640565525,0.97498640565525,0.97506408762526,0.97506408762526,0.97506408762526,0.97506408762526,0.97506408762526,0.97506408762526,0.97506408762526,0.97506408762526,0.97506408762526,0.97498640565525,0.97498640565525,0.97498640565525,0.97498640565525,0.97498640565525,0.97498640565525,0.97498640565525,0.97498640565525,0.97498640565525,0.97498640565525,0.97498640565525,0.97498640565525,0.97506408762526,0.97506408762526,0.97506408762526,0.97506408762526,0.97506408762526,0.97506408762526,0.97506408762526,0.97506408762526,0.97506408762526,0.97506408762526,0.97506408762526,0.97514176959528,0.97521945156529,0.97521945156529,0.97521945156529,0.97521945156529,0.97521945156529,0.97521945156529,0.97521945156529,0.97521945156529,0.97529713353531,0.97529713353531,0.97529713353531,0.97529713353531,0.97529713353531,0.97545249747534,0.97545249747534,0.97545249747534,0.97553017944535,0.97553017944535,0.97553017944535,0.97553017944535,0.97553017944535,0.97553017944535,0.97553017944535,0.97560786141537,0.97560786141537,0.97560786141537,0.97560786141537,0.97560786141537,0.97560786141537,0.97560786141537,0.97560786141537,0.97560786141537,0.97560786141537,0.97560786141537,0.97560786141537,0.97560786141537,0.97560786141537,0.97568554338538,0.97568554338538,0.97568554338538,0.97568554338538,0.97568554338538,0.97568554338538],\"x\":[1,2,3,4,5,6,7,8,9,10,11,12,13,14,15,16,17,18,19,20,21,22,23,24,25,26,27,28,29,30,31,32,33,34,35,36,37,38,39,40,41,42,43,44,45,46,47,48,49,50,51,52,53,54,55,56,57,58,59,60,61,62,63,64,65,66,67,68,69,70,71,72,73,74,75,76,77,78,79,80,81,82,83,84,85,86,87,88,89,90,91,92,93,94,95,96,97,98,99,100,101,102,103,104,105,106,107,108,109,110,111,112,113,114,115,116,117,118,119,120,121,122,123,124,125,126,127,128,129,130,131,132,133,134,135,136,137,138,139,140,141,142,143,144,145,146,147,148,149,150,151,152,153,154,155,156,157,158,159,160,161,162,163,164,165,166,167,168,169,170,171,172,173,174,175,176,177,178,179,180,181,182,183,184,185,186,187,188,189,190,191,192,193,194,195,196,197,198,199,200,201,202,203,204,205,206,207,208,209,210,211,212,213,214,215,216,217,218,219,220,221,222,223,224,225,226,227,228,229,230,231,232,233,234,235,236,237,238,239,240,241,242,243,244,245,246,247,248,249,250,251,252,253,254,255,256,257,258,259,260,261,262,263,264,265,266,267,268,269,270,271,272,273,274,275,276,277,278,279,280,281,282,283,284,285,286,287,288,289,290,291,292,293,294,295,296,297,298,299,300,301,302,303,304,305,306,307,308,309,310,311,312,313,314,315,316,317,318,319,320,321,322,323,324,325,326,327,328,329,330,331,332,333,334,335,336,337,338,339,340,341,342,343,344,345,346,347,348,349,350,351,352,353,354,355,356,357,358,359,360,361,362,363,364,365,366,367,368,369,370,371,372,373,374,375,376,377,378,379,380,381,382,383,384,385,386,387,388,389,390,391,392,393,394,395,396,397,398,399,400,401,402,403,404,405,406,407,408,409,410,411,412,413,414,415,416,417,418,419,420,421,422,423,424,425,426,427,428,429,430,431,432,433,434,435,436,437,438,439,440,441,442,443,444,445,446,447,448,449,450,451,452,453,454,455,456,457,458,459,460,461,462,463,464,465,466,467,468,469,470,471,472,473,474,475,476,477,478,479,480,481,482,483,484,485,486,487,488,489,490,491,492,493,494,495,496,497,498,499,500]},\"column_names\":[\"y\",\"x\"],\"cont_ranges\":{},\"discrete_ranges\":{},\"selected\":[],\"id\":\"77eec186-0054-431c-c372-a14b085461d5\",\"doc\":null,\"tags\":[]}},{\"id\":\"5a5b9abf-c699-4165-c113-4182642f97d5\",\"type\":\"Circle\",\"attributes\":{\"fill_alpha\":{\"units\":\"data\",\"value\":0.2},\"line_alpha\":{\"units\":\"data\",\"value\":1},\"doc\":null,\"size\":{\"units\":\"screen\",\"value\":10},\"fill_color\":{\"value\":\"red\"},\"line_color\":{\"value\":\"red\"},\"x\":{\"units\":\"data\",\"field\":\"x\"},\"id\":\"5a5b9abf-c699-4165-c113-4182642f97d5\",\"y\":{\"units\":\"data\",\"field\":\"y\"},\"tags\":[]}},{\"id\":\"595acf0b-a9ae-4013-c05d-28642b4958df\",\"type\":\"Circle\",\"attributes\":{\"fill_alpha\":{\"units\":\"data\",\"value\":0.2},\"line_alpha\":{\"units\":\"data\",\"value\":1},\"doc\":null,\"size\":{\"units\":\"screen\",\"value\":10},\"fill_color\":{\"value\":\"red\"},\"line_color\":{\"value\":\"red\"},\"x\":{\"units\":\"data\",\"field\":\"x\"},\"id\":\"595acf0b-a9ae-4013-c05d-28642b4958df\",\"y\":{\"units\":\"data\",\"field\":\"y\"},\"tags\":[]}},{\"id\":\"e9c556fc-44be-4b94-cb22-6242330a5b29\",\"type\":\"GlyphRenderer\",\"attributes\":{\"name\":null,\"nonselection_glyph\":{\"type\":\"Circle\",\"id\":\"595acf0b-a9ae-4013-c05d-28642b4958df\"},\"doc\":null,\"server_data_source\":null,\"data_source\":{\"type\":\"ColumnDataSource\",\"id\":\"77eec186-0054-431c-c372-a14b085461d5\"},\"glyph\":{\"type\":\"Circle\",\"id\":\"5a5b9abf-c699-4165-c113-4182642f97d5\"},\"selection_glyph\":null,\"id\":\"e9c556fc-44be-4b94-cb22-6242330a5b29\",\"tags\":[]}},{\"id\":\"63cdae29-d8e5-4d25-cd6f-c002c1bdd632\",\"type\":\"ColumnDataSource\",\"attributes\":{\"data\":{\"y\":[1.1582173961224,1.1361213350708,1.1147748258627,1.0941310408148,1.0741472490968,1.0547844229757,1.0360068826684,1.0177819760011,1.0000797894488,0.98287288746865,0.96613607734017,0.94984619700434,0.93398192363767,0.918523600922,0.90345308317078,0.88875359465411,0.87440960262814,0.86040670272133,0.84673151546316,0.8333715928601,0.82031533403188,0.80755190901792,0.79507118995183,0.78286368888046,0.77092050157556,0.75923325675015,0.74779407014946,0.73659550303881,0.72563052465746,0.7148924782501,0.70437505032583,0.69407224282885,0.68397834793627,0.67408792522633,0.66439578098574,0.65489694944729,0.6455866757699,0.63646040059116,0.62751374599969,0.61874250278921,0.61014261887003,0.60171018872576,0.59344144381423,0.58533274382118,0.57738056868471,0.56958151131618,0.56193227095061,0.55442964706634,0.54707053381946,0.53985191494391,0.53277085907289,0.52582451544183,0.51901010993653,0.51232494145429,0.50576637854842,0.49933185632976,0.49301887360127,0.48682499020415,0.48074782455588,0.47478505136282,0.46893439949129,0.46319364998281,0.45756063420073,0.45203323209631,0.44660937058381,0.44128702201509,0.43606420274493,0.43093897177938,0.42590942950004,0.42097371645798,0.41613001223127,0.41137653434124,0.40671153722247,0.40213331124231,0.3976401817661,0.39323050826447,0.38890268345959,0.38465513250753,0.38048631221389,0.37639471028062,0.37237884458157,0.368437262465,0.36456854008114,0.36077128173322,0.35704411925046,0.35338571138168,0.34979474320826,0.34626992557533,0.34280999454014,0.33941371083678,0.3360798593561,0.33280724864039,0.32959471039176,0.32644109899383,0.32334529104582,0.32030618490876,0.31732270026304,0.31439377767699,0.31151837818596,0.3086954828814,0.30592409250975,0.3032032270806,0.30053192548383,0.29790924511544,0.29533426151176,0.29280606799174,0.2903237753071,0.28788651130002,0.28549342056825,0.2831436641373,0.28083641913962,0.27857087850044,0.27634625063024,0.27416175912354,0.27201664246387,0.26991015373487,0.26784156033719,0.2658101437112,0.2638151990652,0.26185603510924,0.25993197379417,0.2580423500559,0.25618651156484,0.2543638184802,0.25257364320923,0.25081537017122,0.24908839556608,0.24739212714755,0.2457259840008,0.24408939632443,0.2424818052167,0.24090266246595,0.23935143034512,0.23782758141022,0.2363305983028,0.23485997355616,0.23341520940544,0.23199581760125,0.23060131922704,0.22923124451995,0.22788513269507,0.22656253177325,0.22526299841203,0.22398609774004,0.22273140319444,0.22149849636158,0.2202869668207,0.21909641199066,0.21792643697959,0.21677665443748,0.21564668441156,0.21453615420453,0.21344469823543,0.21237195790325,0.21131758145316,0.21028122384525,0.20926254662592,0.20826121780157,0.20727691171487,0.20630930892332,0.20535809608017,0.20442296581766,0.2035036166324,0.20259975277307,0.20171108413023,0.20083732612819,0.19997819961906,0.19913343077875,0.19830275100501,0.19748589681741,0.19668260975921,0.19589263630121,0.19511572774733,0.19435164014206,0.19360013417968,0.19286097511524,0.19213393267718,0.19141878098174,0.19071529844886,0.19002326771986,0.18934247557657,0.18867271286205,0.18801377440289,0.18736545893289,0.18672756901831,0.18609991098444,0.18548229484375,0.18487453422519,0.18427644630507,0.1836878517391,0.18310857459582,0.18253844229128,0.18197728552497,0.18142493821699,0.18088123744641,0.18034602339084,0.1798191392671,0.17930043127311,0.17878974853082,0.17828694303027,0.17779186957474,0.17730438572687,0.17682435175595,0.17635163058608,0.1758860877454,0.1754275913163,0.17497601188653,0.1745312225013,0.17409309861628,0.17366151805148,0.17323636094607,0.17281750971398,0.17240484900042,0.17199826563923,0.17159764861103,0.17120288900212,0.17081387996429,0.1704305166753,0.17005269630013,0.16968031795301,0.16931328266016,0.16895149332325,0.16859485468353,0.16824327328666,0.16789665744826,0.16755491722008,0.16721796435678,0.16688571228342,0.16655807606355,0.16623497236789,0.16591631944359,0.16560203708419,0.1652920466,0.16498627078916,0.1646846339092,0.16438706164921,0.16409348110243,0.16380382073949,0.16351801038206,0.16323598117709,0.16295766557147,0.16268299728722,0.16241191129715,0.16214434380096,0.16188023220185,0.16161951508351,0.1613621321876,0.16110802439167,0.16085713368744,0.16060940315955,0.16036477696472,0.16012320031128,0.15988461943911,0.15964898159994,0.15941623503805,0.15918632897137,0.15895921357285,0.1587348399523,0.15851316013848,0.15829412706158,0.15807769453607,0.15786381724377,0.15765245071736,0.15744355132417,0.15723707625021,0.15703298348461,0.15683123180432,0.15663178075904,0.15643459065654,0.15623962254822,0.15604683821489,0.15585620015293,0.15566767156062,0.15548121632477,0.15529679900763,0.15511438483401,0.15493393967865,0.15475543005387,0.1545788230974,0.15440408656049,0.15423118879624,0.15406009874813,0.15389078593877,0.1537232204589,0.15355737295657,0.15339321462655,0.15323071719989,0.15306985293375,0.15291059460141,0.1527529154824,0.15259678935289,0.1524421904763,0.15228909359395,0.15213747391605,0.15198730711271,0.1518385693053,0.15169123705776,0.15154528736827,0.15140069766099,0.15125744577792,0.15111550997103,0.15097486889441,0.15083550159667,0.15069738751346,0.15056050646006,0.15042483862427,0.15029036455923,0.15015706517658,0.15002492173962,0.1498939158566,0.14976402947424,0.14963524487128,0.1495075446522,0.14938091174099,0.14925532937517,0.14913078109978,0.14900725076161,0.14888472250341,0.14876318075836,0.14864261024452,0.14852299595943,0.14840432317485,0.14828657743154,0.14816974453418,0.14805381054637,0.14793876178572,0.14782458481908,0.14771126645778,0.14759879375301,0.14748715399132,0.14737633469014,0.14726632359342,0.14715710866735,0.14704867809616,0.14694102027799,0.14683412382088,0.14672797753876,0.14662257044761,0.14651789176161,0.1464139308894,0.14631067743044,0.14620812117137,0.14610625208252,0.1460050603144,0.14590453619436,0.14580467022318,0.14570545307187,0.14560687557844,0.14550892874474,0.14541160373339,0.14531489186475,0.14521878461392,0.1451232736079,0.14502835062264,0.14493400758033,0.14484023654657,0.14474702972771,0.14465437946823,0.14456227824809,0.14447071868022,0.144379693508,0.14428919560284,0.14419921796177,0.14410975370504,0.14402079607387,0.14393233842813,0.14384437424416,0.14375689711254,0.143669900736,0.14358337892726,0.14349732560704,0.14341173480196,0.14332660064263,0.14324191736165,0.14315767929174,0.14307388086386,0.14299051660533,0.14290758113811,0.14282506917696,0.14274297552773,0.1426612950857,0.14258002283385,0.14249915384123,0.14241868326143,0.1423386063309,0.14225891836748,0.14217961476886,0.14210069101108,0.14202214264709,0.14194396530533,0.14186615468828,0.14178870657115,0.14171161680046,0.14163488129278,0.14155849603336,0.14148245707493,0.14140676053638,0.1413314026016,0.14125637951822,0.14118168759644,0.1411073232079,0.14103328278452,0.14095956281738,0.14088615985564,0.14081307050547,0.14074029142899,0.14066781934321,0.14059565101907,0.14052378328042,0.14045221300301,0.14038093711361,0.14030995258901,0.14023925645509,0.14016884578599,0.14009871770315,0.14002886937446,0.13995929801344,0.13989000087835,0.13982097527142,0.13975221853801,0.13968372806582,0.13961550128414,0.13954753566307,0.13947982871277,0.13941237798274,0.13934518106111,0.1392782355739,0.13921153918437,0.13914508959229,0.13907888453336,0.13901292177845,0.13894719913305,0.13888171443658,0.1388164655618,0.13875145041423,0.13868666693149,0.13862211308278,0.13855778686827,0.13849368631858,0.13842980949416,0.13836615448484,0.13830271940922,0.1382395024142,0.13817650167445,0.13811371539192,0.13805114179533,0.13798877913972,0.13792662570594,0.13786467980023,0.13780293975372,0.137741403922,0.13768007068471,0.13761893844507,0.13755800562947,0.13749727068709,0.13743673208942,0.13737638832994,0.13731623792369,0.13725627940689,0.13719651133657,0.13713693229018,0.13707754086527,0.13701833567908,0.13695931536825,0.13690047858842,0.13684182401395,0.13678335033753,0.13672505626991,0.13666694053957,0.13660900189236,0.13655123909129,0.13649365091611,0.13643623616314,0.13637899364488,0.13632192218978,0.13626502064196,0.1362082878609,0.13615172272123,0.13609532411241,0.13603909093851,0.13598302211794,0.13592711658321,0.13587137328068,0.13581579117031,0.13576036922547,0.13570510643265,0.13565000179126,0.13559505431343,0.13554026302374,0.13548562695908,0.13543114516837,0.13537681671239,0.13532264066355,0.13526861610574,0.1352147421341,0.13516101785483,0.13510744238501,0.13505401485241,0.13500073439533,0.13494760016238],\"x\":[1,2,3,4,5,6,7,8,9,10,11,12,13,14,15,16,17,18,19,20,21,22,23,24,25,26,27,28,29,30,31,32,33,34,35,36,37,38,39,40,41,42,43,44,45,46,47,48,49,50,51,52,53,54,55,56,57,58,59,60,61,62,63,64,65,66,67,68,69,70,71,72,73,74,75,76,77,78,79,80,81,82,83,84,85,86,87,88,89,90,91,92,93,94,95,96,97,98,99,100,101,102,103,104,105,106,107,108,109,110,111,112,113,114,115,116,117,118,119,120,121,122,123,124,125,126,127,128,129,130,131,132,133,134,135,136,137,138,139,140,141,142,143,144,145,146,147,148,149,150,151,152,153,154,155,156,157,158,159,160,161,162,163,164,165,166,167,168,169,170,171,172,173,174,175,176,177,178,179,180,181,182,183,184,185,186,187,188,189,190,191,192,193,194,195,196,197,198,199,200,201,202,203,204,205,206,207,208,209,210,211,212,213,214,215,216,217,218,219,220,221,222,223,224,225,226,227,228,229,230,231,232,233,234,235,236,237,238,239,240,241,242,243,244,245,246,247,248,249,250,251,252,253,254,255,256,257,258,259,260,261,262,263,264,265,266,267,268,269,270,271,272,273,274,275,276,277,278,279,280,281,282,283,284,285,286,287,288,289,290,291,292,293,294,295,296,297,298,299,300,301,302,303,304,305,306,307,308,309,310,311,312,313,314,315,316,317,318,319,320,321,322,323,324,325,326,327,328,329,330,331,332,333,334,335,336,337,338,339,340,341,342,343,344,345,346,347,348,349,350,351,352,353,354,355,356,357,358,359,360,361,362,363,364,365,366,367,368,369,370,371,372,373,374,375,376,377,378,379,380,381,382,383,384,385,386,387,388,389,390,391,392,393,394,395,396,397,398,399,400,401,402,403,404,405,406,407,408,409,410,411,412,413,414,415,416,417,418,419,420,421,422,423,424,425,426,427,428,429,430,431,432,433,434,435,436,437,438,439,440,441,442,443,444,445,446,447,448,449,450,451,452,453,454,455,456,457,458,459,460,461,462,463,464,465,466,467,468,469,470,471,472,473,474,475,476,477,478,479,480,481,482,483,484,485,486,487,488,489,490,491,492,493,494,495,496,497,498,499,500]},\"column_names\":[\"y\",\"x\"],\"cont_ranges\":{},\"discrete_ranges\":{},\"selected\":[],\"id\":\"63cdae29-d8e5-4d25-cd6f-c002c1bdd632\",\"doc\":null,\"tags\":[]}},{\"id\":\"879eedd4-3204-4e47-ce4f-e4eee7874098\",\"type\":\"Circle\",\"attributes\":{\"fill_alpha\":{\"units\":\"data\",\"value\":0.2},\"line_alpha\":{\"units\":\"data\",\"value\":1},\"doc\":null,\"size\":{\"units\":\"screen\",\"value\":10},\"fill_color\":{\"value\":\"blue\"},\"line_color\":{\"value\":\"blue\"},\"x\":{\"units\":\"data\",\"field\":\"x\"},\"id\":\"879eedd4-3204-4e47-ce4f-e4eee7874098\",\"y\":{\"units\":\"data\",\"field\":\"y\"},\"tags\":[]}},{\"id\":\"d912b050-9b49-47dd-c708-a95a55d6bb2b\",\"type\":\"Circle\",\"attributes\":{\"fill_alpha\":{\"units\":\"data\",\"value\":0.2},\"line_alpha\":{\"units\":\"data\",\"value\":1},\"doc\":null,\"size\":{\"units\":\"screen\",\"value\":10},\"fill_color\":{\"value\":\"blue\"},\"line_color\":{\"value\":\"blue\"},\"x\":{\"units\":\"data\",\"field\":\"x\"},\"id\":\"d912b050-9b49-47dd-c708-a95a55d6bb2b\",\"y\":{\"units\":\"data\",\"field\":\"y\"},\"tags\":[]}},{\"id\":\"83cf6174-83d8-4560-c54d-eeb4c0590d89\",\"type\":\"GlyphRenderer\",\"attributes\":{\"name\":null,\"nonselection_glyph\":{\"type\":\"Circle\",\"id\":\"d912b050-9b49-47dd-c708-a95a55d6bb2b\"},\"doc\":null,\"server_data_source\":null,\"data_source\":{\"type\":\"ColumnDataSource\",\"id\":\"63cdae29-d8e5-4d25-cd6f-c002c1bdd632\"},\"glyph\":{\"type\":\"Circle\",\"id\":\"879eedd4-3204-4e47-ce4f-e4eee7874098\"},\"selection_glyph\":null,\"id\":\"83cf6174-83d8-4560-c54d-eeb4c0590d89\",\"tags\":[]}},{\"id\":\"c3e338b3-6705-46a9-c67d-b37158e63e27\",\"type\":\"DataRange1d\",\"attributes\":{\"sources\":[{\"columns\":[\"x\"],\"source\":{\"type\":\"ColumnDataSource\",\"id\":\"77eec186-0054-431c-c372-a14b085461d5\"}},{\"columns\":[\"x\"],\"source\":{\"type\":\"ColumnDataSource\",\"id\":\"63cdae29-d8e5-4d25-cd6f-c002c1bdd632\"}}],\"id\":\"c3e338b3-6705-46a9-c67d-b37158e63e27\",\"tags\":[],\"doc\":null}},{\"id\":\"84082131-4e92-4dae-cd99-46d07a0861bd\",\"type\":\"DataRange1d\",\"attributes\":{\"sources\":[{\"columns\":[\"y\"],\"source\":{\"type\":\"ColumnDataSource\",\"id\":\"77eec186-0054-431c-c372-a14b085461d5\"}},{\"columns\":[\"y\"],\"source\":{\"type\":\"ColumnDataSource\",\"id\":\"63cdae29-d8e5-4d25-cd6f-c002c1bdd632\"}}],\"id\":\"84082131-4e92-4dae-cd99-46d07a0861bd\",\"tags\":[],\"doc\":null}},{\"id\":\"3b2ab9be-6086-4d96-cd0b-29e168a85086\",\"type\":\"ToolEvents\",\"attributes\":{\"tags\":[],\"id\":\"3b2ab9be-6086-4d96-cd0b-29e168a85086\",\"geometries\":[],\"doc\":null}},{\"id\":\"d5b747fd-daeb-4556-c591-a030e515e25b\",\"type\":\"BasicTickFormatter\",\"attributes\":{\"id\":\"d5b747fd-daeb-4556-c591-a030e515e25b\",\"tags\":[],\"doc\":null}},{\"id\":\"69164ef6-6c17-4715-c721-37c02b62bef0\",\"type\":\"BasicTicker\",\"attributes\":{\"num_minor_ticks\":5,\"id\":\"69164ef6-6c17-4715-c721-37c02b62bef0\",\"tags\":[],\"doc\":null}},{\"id\":\"5ca795bb-e696-4f46-cf25-a9f5564f16c4\",\"type\":\"LinearAxis\",\"attributes\":{\"formatter\":{\"type\":\"BasicTickFormatter\",\"id\":\"d5b747fd-daeb-4556-c591-a030e515e25b\"},\"ticker\":{\"type\":\"BasicTicker\",\"id\":\"69164ef6-6c17-4715-c721-37c02b62bef0\"},\"plot\":{\"id\":\"a04ed1b4-3c62-4b65-cbb4-c3d180329b66\",\"type\":\"Plot\",\"subtype\":\"Figure\"},\"axis_label\":\"iteration\",\"id\":\"5ca795bb-e696-4f46-cf25-a9f5564f16c4\",\"doc\":null,\"tags\":[]}},{\"id\":\"dead1311-a44a-466b-c6df-2e448c3ddfb8\",\"type\":\"Grid\",\"attributes\":{\"dimension\":0,\"plot\":{\"id\":\"a04ed1b4-3c62-4b65-cbb4-c3d180329b66\",\"type\":\"Plot\",\"subtype\":\"Figure\"},\"ticker\":{\"type\":\"BasicTicker\",\"id\":\"69164ef6-6c17-4715-c721-37c02b62bef0\"},\"id\":\"dead1311-a44a-466b-c6df-2e448c3ddfb8\",\"doc\":null,\"tags\":[]}},{\"id\":\"68f2fcf8-32da-40e7-c0d0-7a2a27313279\",\"type\":\"BasicTickFormatter\",\"attributes\":{\"id\":\"68f2fcf8-32da-40e7-c0d0-7a2a27313279\",\"tags\":[],\"doc\":null}},{\"id\":\"5a378944-7b3c-4520-c586-07b43985377b\",\"type\":\"BasicTicker\",\"attributes\":{\"num_minor_ticks\":5,\"id\":\"5a378944-7b3c-4520-c586-07b43985377b\",\"tags\":[],\"doc\":null}},{\"id\":\"374867bb-f5ed-4c03-cc94-c879f6a8e7fd\",\"type\":\"LinearAxis\",\"attributes\":{\"formatter\":{\"type\":\"BasicTickFormatter\",\"id\":\"68f2fcf8-32da-40e7-c0d0-7a2a27313279\"},\"ticker\":{\"type\":\"BasicTicker\",\"id\":\"5a378944-7b3c-4520-c586-07b43985377b\"},\"plot\":{\"id\":\"a04ed1b4-3c62-4b65-cbb4-c3d180329b66\",\"type\":\"Plot\",\"subtype\":\"Figure\"},\"axis_label\":\"MSE - Accuracy\",\"id\":\"374867bb-f5ed-4c03-cc94-c879f6a8e7fd\",\"doc\":null,\"tags\":[]}},{\"id\":\"e25517cd-3e4d-4ec9-ce13-b140731388c2\",\"type\":\"Grid\",\"attributes\":{\"dimension\":1,\"plot\":{\"id\":\"a04ed1b4-3c62-4b65-cbb4-c3d180329b66\",\"type\":\"Plot\",\"subtype\":\"Figure\"},\"ticker\":{\"type\":\"BasicTicker\",\"id\":\"5a378944-7b3c-4520-c586-07b43985377b\"},\"id\":\"e25517cd-3e4d-4ec9-ce13-b140731388c2\",\"doc\":null,\"tags\":[]}},{\"id\":\"621fe168-14ef-4273-c28b-8b87a11b42a0\",\"type\":\"PanTool\",\"attributes\":{\"plot\":{\"id\":\"a04ed1b4-3c62-4b65-cbb4-c3d180329b66\",\"type\":\"Plot\",\"subtype\":\"Figure\"},\"dimensions\":[\"width\",\"height\"],\"id\":\"621fe168-14ef-4273-c28b-8b87a11b42a0\",\"doc\":null,\"tags\":[]}},{\"id\":\"38328263-8a7c-46bb-c6f9-c44451eaef01\",\"type\":\"WheelZoomTool\",\"attributes\":{\"plot\":{\"id\":\"a04ed1b4-3c62-4b65-cbb4-c3d180329b66\",\"type\":\"Plot\",\"subtype\":\"Figure\"},\"dimensions\":[\"width\",\"height\"],\"id\":\"38328263-8a7c-46bb-c6f9-c44451eaef01\",\"doc\":null,\"tags\":[]}},{\"id\":\"77dff367-a034-4c70-cc05-f6348dfc3182\",\"type\":\"BoxZoomTool\",\"attributes\":{\"plot\":{\"id\":\"a04ed1b4-3c62-4b65-cbb4-c3d180329b66\",\"type\":\"Plot\",\"subtype\":\"Figure\"},\"id\":\"77dff367-a034-4c70-cc05-f6348dfc3182\",\"tags\":[],\"doc\":null}},{\"id\":\"720ce3f4-adbd-4759-c74d-6d1c03a579fa\",\"type\":\"PreviewSaveTool\",\"attributes\":{\"plot\":{\"id\":\"a04ed1b4-3c62-4b65-cbb4-c3d180329b66\",\"type\":\"Plot\",\"subtype\":\"Figure\"},\"id\":\"720ce3f4-adbd-4759-c74d-6d1c03a579fa\",\"tags\":[],\"doc\":null}},{\"id\":\"1ca17190-8551-4779-c7cb-80a9f4e2a7df\",\"type\":\"ResizeTool\",\"attributes\":{\"plot\":{\"id\":\"a04ed1b4-3c62-4b65-cbb4-c3d180329b66\",\"type\":\"Plot\",\"subtype\":\"Figure\"},\"id\":\"1ca17190-8551-4779-c7cb-80a9f4e2a7df\",\"tags\":[],\"doc\":null}},{\"id\":\"2f86fe8e-949c-4a13-caa9-3e5857977ae1\",\"type\":\"ResetTool\",\"attributes\":{\"plot\":{\"id\":\"a04ed1b4-3c62-4b65-cbb4-c3d180329b66\",\"type\":\"Plot\",\"subtype\":\"Figure\"},\"id\":\"2f86fe8e-949c-4a13-caa9-3e5857977ae1\",\"tags\":[],\"doc\":null}},{\"id\":\"a04ed1b4-3c62-4b65-cbb4-c3d180329b66\",\"type\":\"Plot\",\"attributes\":{\"x_range\":{\"type\":\"DataRange1d\",\"id\":\"c3e338b3-6705-46a9-c67d-b37158e63e27\"},\"tool_events\":{\"type\":\"ToolEvents\",\"id\":\"3b2ab9be-6086-4d96-cd0b-29e168a85086\"},\"below\":[{\"type\":\"LinearAxis\",\"id\":\"5ca795bb-e696-4f46-cf25-a9f5564f16c4\"}],\"renderers\":[{\"type\":\"GlyphRenderer\",\"id\":\"e9c556fc-44be-4b94-cb22-6242330a5b29\"},{\"type\":\"GlyphRenderer\",\"id\":\"83cf6174-83d8-4560-c54d-eeb4c0590d89\"},{\"type\":\"LinearAxis\",\"id\":\"5ca795bb-e696-4f46-cf25-a9f5564f16c4\"},{\"type\":\"Grid\",\"id\":\"dead1311-a44a-466b-c6df-2e448c3ddfb8\"},{\"type\":\"LinearAxis\",\"id\":\"374867bb-f5ed-4c03-cc94-c879f6a8e7fd\"},{\"type\":\"Grid\",\"id\":\"e25517cd-3e4d-4ec9-ce13-b140731388c2\"}],\"above\":[],\"tools\":[{\"type\":\"PanTool\",\"id\":\"621fe168-14ef-4273-c28b-8b87a11b42a0\"},{\"type\":\"WheelZoomTool\",\"id\":\"38328263-8a7c-46bb-c6f9-c44451eaef01\"},{\"type\":\"BoxZoomTool\",\"id\":\"77dff367-a034-4c70-cc05-f6348dfc3182\"},{\"type\":\"PreviewSaveTool\",\"id\":\"720ce3f4-adbd-4759-c74d-6d1c03a579fa\"},{\"type\":\"ResizeTool\",\"id\":\"1ca17190-8551-4779-c7cb-80a9f4e2a7df\"},{\"type\":\"ResetTool\",\"id\":\"2f86fe8e-949c-4a13-caa9-3e5857977ae1\"}],\"doc\":null,\"right\":[],\"title\":\"loss and accuracy plot\",\"extra_x_ranges\":{},\"left\":[{\"type\":\"LinearAxis\",\"id\":\"374867bb-f5ed-4c03-cc94-c879f6a8e7fd\"}],\"y_range\":{\"type\":\"DataRange1d\",\"id\":\"84082131-4e92-4dae-cd99-46d07a0861bd\"},\"id\":\"a04ed1b4-3c62-4b65-cbb4-c3d180329b66\",\"extra_y_ranges\":{},\"tags\":[]}}];\n",
       "      Bokeh.load_models(all_models);\n",
       "      var model = Bokeh.Collections(modeltype).get(modelid);\n",
       "      $(\"#54fb40ed-43a2-470e-c73d-0ef9f3665fbd\").html(''); // clear any previous plot in window_id\n",
       "      var view = new model.default_view({model: model, el: \"#54fb40ed-43a2-470e-c73d-0ef9f3665fbd\"});\n",
       "  });\n",
       "    }\n",
       "});\n",
       "</script>\n",
       "<div class=\"plotdiv\" id=\"09dfa364-055c-4f2d-cfeb-3c05cb99a532\"></div>\n"
      ]
     },
     "metadata": {},
     "output_type": "display_data"
    }
   ],
   "source": [
    "-- scatter plots \n",
    "plot = Plot():circle(batch_loss[\"iteration\"],batch_loss[\"accuracy\"],'red','accuracy'):circle(batch_loss[\"iteration\"],batch_loss[\"training\"],\"blue\",\"loss\"):draw()\n",
    "plot:title('loss and accuracy plot'):redraw() \n",
    "plot:xaxis('iteration'):yaxis('MSE - Accuracy'):redraw() \n",
    "--plot:legend(true) \n",
    "plot:save('out.html')"
   ]
  },
  {
   "cell_type": "code",
   "execution_count": null,
   "metadata": {
    "collapsed": true
   },
   "outputs": [],
   "source": []
  },
  {
   "cell_type": "markdown",
   "metadata": {
    "ExecuteTime": {
     "end_time": "2016-10-17T12:40:13",
     "start_time": "2016-10-17T10:40:13.592Z"
    },
    "run_control": {
     "marked": true
    }
   },
   "source": [
    "## Stochastic Gradient"
   ]
  },
  {
   "cell_type": "code",
   "execution_count": 18,
   "metadata": {
    "ExecuteTime": {
     "end_time": "2016-10-23T22:54:07",
     "start_time": "2016-10-23T20:53:21.745Z"
    },
    "collapsed": true
   },
   "outputs": [],
   "source": [
    " require 'nn'\n",
    " require 'gnuplot'\n",
    " require 'tools' "
   ]
  },
  {
   "cell_type": "code",
   "execution_count": 19,
   "metadata": {
    "ExecuteTime": {
     "end_time": "2016-10-23T22:54:11",
     "start_time": "2016-10-23T20:53:21.754Z"
    },
    "collapsed": true
   },
   "outputs": [],
   "source": [
    "local load_mnist = require 'load_mnist'\n",
    "xtrain,ytrain=load_mnist.get_train(2,3)\n",
    "xtest,ytest=load_mnist.get_test(2,3)"
   ]
  },
  {
   "cell_type": "code",
   "execution_count": 20,
   "metadata": {
    "ExecuteTime": {
     "end_time": "2016-10-23T22:54:11",
     "start_time": "2016-10-23T20:53:21.758Z"
    },
    "collapsed": true
   },
   "outputs": [],
   "source": [
    "--xtrain,ytrain,xtest,ytest = load_mnist.get(2,3)\n",
    "--gnuplot.imagesc(xtrain[1]:reshape(28,28))"
   ]
  },
  {
   "cell_type": "code",
   "execution_count": 1,
   "metadata": {
    "ExecuteTime": {
     "end_time": "2016-10-28T14:04:33",
     "start_time": "2016-10-28T12:04:33.450Z"
    },
    "collapsed": false
   },
   "outputs": [
    {
     "ename": "[string \"...\"]:3: attempt to index global 'xtrain' (a nil value)\nstack traceback:\n\t[string \"...\"]:3: in main chunk\n\t[C]: in function 'xpcall'\n\t/Users/david/torch/install/share/lua/5.1/itorch/main.lua:210: in function </Users/david/torch/install/share/lua/5.1/itorch/main.lua:174>\n\t/Users/david/torch/install/share/lua/5.1/lzmq/poller.lua:75: in function 'poll'\n\t/Users/david/torch/install/share/lua/5.1/lzmq/impl/loop.lua:307: in function 'poll'\n\t/Users/david/torch/install/share/lua/5.1/lzmq/impl/loop.lua:325: in function 'sleep_ex'\n\t/Users/david/torch/install/share/lua/5.1/lzmq/impl/loop.lua:370: in function 'start'\n\t/Users/david/torch/install/share/lua/5.1/itorch/main.lua:389: in main chunk\n\t[C]: in function 'require'\n\t(command line):1: in main chunk\n\t[C]: at 0x01022cad10",
     "evalue": "",
     "output_type": "error",
     "traceback": [
      "[string \"...\"]:3: attempt to index global 'xtrain' (a nil value)\nstack traceback:\n\t[string \"...\"]:3: in main chunk\n\t[C]: in function 'xpcall'\n\t/Users/david/torch/install/share/lua/5.1/itorch/main.lua:210: in function </Users/david/torch/install/share/lua/5.1/itorch/main.lua:174>\n\t/Users/david/torch/install/share/lua/5.1/lzmq/poller.lua:75: in function 'poll'\n\t/Users/david/torch/install/share/lua/5.1/lzmq/impl/loop.lua:307: in function 'poll'\n\t/Users/david/torch/install/share/lua/5.1/lzmq/impl/loop.lua:325: in function 'sleep_ex'\n\t/Users/david/torch/install/share/lua/5.1/lzmq/impl/loop.lua:370: in function 'start'\n\t/Users/david/torch/install/share/lua/5.1/itorch/main.lua:389: in main chunk\n\t[C]: in function 'require'\n\t(command line):1: in main chunk\n\t[C]: at 0x01022cad10"
     ]
    }
   ],
   "source": [
    "\n",
    "-- 1: Creation du jeux de données\n",
    "local DIMENSION=xtrain:size(2) -- dimension d'entrée\n",
    "local N=xtrain:size(1) -- nombre de points d'apprentissage\n",
    "\n",
    "function accuracy(y,out)\n",
    "\tlocal precision = 0\n",
    "\tfor i=1, out:size(1)do\n",
    "\t\tif out[i]*y[i] > 0 then\tprecision = precision+1\n",
    "\t\tend\n",
    "\tend\n",
    "\treturn precision/out:size(1)\n",
    "end\n",
    "\n",
    "\n",
    "local model= nn.Linear(DIMENSION,1)\n",
    "model:reset(0.1)\n",
    "local criterion= nn.MSECriterion()\n",
    "\n",
    "\n",
    "-- 3 : Boucle d'apprentissage\n",
    "local learning_rate= 1e-3 \n",
    "local maxEpoch= 500\n",
    "local all_losses={}\n",
    "local timer = torch.Timer()\n",
    "\n",
    "for iteration=1,maxEpoch do\n",
    "------ Evaluation de la loss moyenne \n",
    "-- TODO\n",
    "local loss=0  \n",
    "local x,y,out,delta\n",
    "\n",
    "---- calcul de la loss moyenne \n",
    "for j=1,xtrain:size(1) do\n",
    "  x=xtrain[j]\n",
    "  y=ytrain[j]\n",
    "  out=model:forward(x)\n",
    "  loss=loss+criterion:forward(out,y)\n",
    "end  \n",
    "\n",
    "loss=loss/xtrain:size(1)\t\n",
    "all_losses[iteration]=loss  --stockage de la loss moyenne (pour dessin)\n",
    "\n",
    "\n",
    "-- version gradient stochastique\n",
    "-- TODO    \n",
    "model:zeroGradParameters()\n",
    "local idx = math.random(xtrain:size(1));\n",
    "x=xtrain[idx]\n",
    "y=ytrain[idx]      \t\n",
    "out=model:forward(x)\n",
    "loss=criterion:forward(out,y)\n",
    "delta=criterion:backward(out,y)\n",
    "model:backward(x,delta) \n",
    "model:updateParameters(learning_rate)  \n",
    "\n",
    "\n",
    "-- plot de la frontiere ou plot du loss (utiliser l'un ou l'autre)\n",
    "--plot(xs,ys,model,100)  -- uniquement si DIMENSION=2\n",
    "--gnuplot.plot(torch.Tensor(all_losses)) \n",
    "end\n",
    "\n",
    "local function prediction(xtest,ytest)\n",
    "output = model:forward(xtest)\n",
    "return accuracy(ytest,output)\n",
    "  end\n",
    "\n",
    "print(timer:time().real)\n",
    "print(prediction(xtest,ytest))\n"
   ]
  },
  {
   "cell_type": "markdown",
   "metadata": {
    "ExecuteTime": {
     "end_time": "2016-10-17T10:21:27",
     "start_time": "2016-10-17T08:21:27.347Z"
    }
   },
   "source": [
    "# Train - Test"
   ]
  },
  {
   "cell_type": "markdown",
   "metadata": {},
   "source": [
    "When we are creating a machine learning model, we are evaluating its performance at generalization and not . Thus, we evaluate it on a __test__ dataset, which is that contains data that the model has never seen before.\n",
    "\n",
    "That is the the mnist dataset comes with a test dataset."
   ]
  },
  {
   "cell_type": "code",
   "execution_count": 24,
   "metadata": {
    "ExecuteTime": {
     "end_time": "2016-10-23T22:54:45",
     "start_time": "2016-10-23T20:54:45.717Z"
    },
    "collapsed": false
   },
   "outputs": [],
   "source": [
    "TRAIN_DIM = 0.8\n",
    "TEST_DIM = 1 - TRAIN_DIM\n",
    "\n",
    "train_set = ttraining_set:size()[1]*TRAIN_DIM\n",
    "test_set = training_set"
   ]
  },
  {
   "cell_type": "code",
   "execution_count": null,
   "metadata": {
    "ExecuteTime": {
     "start_time": "2016-10-23T20:55:20.151Z"
    },
    "collapsed": false
   },
   "outputs": [],
   "source": [
    "training_set.data[{}]"
   ]
  },
  {
   "cell_type": "markdown",
   "metadata": {},
   "source": [
    "# Deeper than Train - Test"
   ]
  },
  {
   "cell_type": "code",
   "execution_count": null,
   "metadata": {
    "collapsed": true
   },
   "outputs": [],
   "source": []
  },
  {
   "cell_type": "code",
   "execution_count": null,
   "metadata": {
    "collapsed": true
   },
   "outputs": [],
   "source": []
  },
  {
   "cell_type": "code",
   "execution_count": null,
   "metadata": {
    "collapsed": true
   },
   "outputs": [],
   "source": []
  }
 ],
 "metadata": {
  "kernelspec": {
   "display_name": "iTorch",
   "language": "lua",
   "name": "itorch"
  },
  "language_info": {
   "name": "lua",
   "version": "5.1"
  },
  "latex_envs": {
   "bibliofile": "biblio.bib",
   "cite_by": "apalike",
   "current_citInitial": 1,
   "eqLabelWithNumbers": true,
   "eqNumInitial": 0
  },
  "nav_menu": {},
  "toc": {
   "navigate_menu": true,
   "number_sections": true,
   "sideBar": true,
   "threshold": 6,
   "toc_cell": true,
   "toc_section_display": "block",
   "toc_window_display": false
  },
  "toc_position": {
   "height": "621px",
   "left": "0px",
   "right": "954.67px",
   "top": "131px",
   "width": "212px"
  }
 },
 "nbformat": 4,
 "nbformat_minor": 0
}
