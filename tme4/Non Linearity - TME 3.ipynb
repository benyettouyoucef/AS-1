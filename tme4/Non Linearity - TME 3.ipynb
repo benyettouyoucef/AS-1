{
 "cells": [
  {
   "cell_type": "markdown",
   "metadata": {},
   "source": [
    "# Introduction to Non Linearity"
   ]
  },
  {
   "cell_type": "code",
   "execution_count": 40,
   "metadata": {
    "ExecuteTime": {
     "end_time": "2016-10-28T15:27:29",
     "start_time": "2016-10-28T13:27:29.358Z"
    },
    "collapsed": false
   },
   "outputs": [],
   "source": [
    "require 'nn'\n",
    "require 'gnuplot'\n",
    "require 'tools' \n",
    "Plot = require 'itorch.Plot'"
   ]
  },
  {
   "cell_type": "markdown",
   "metadata": {},
   "source": [
    "## Context\n",
    "\n",
    "* **Master DAC** Machine Learning and Deep Learning\n",
    "* **Students** : Youcef Benyettou & David Panou\n",
    "\n",
    "\n",
    "This notebook follows the instructions given in _\"Non-Linearity Assignment\"_ written by **Prof. Denoyer** and **Prof. Baskiotis** at UPMC.\n",
    "Its intent is to demonstrate the expression capacity of simple neural networks for nonlinear problems."
   ]
  },
  {
   "cell_type": "markdown",
   "metadata": {},
   "source": [
    "# Linear problems"
   ]
  },
  {
   "cell_type": "markdown",
   "metadata": {},
   "source": [
    "Linear problems are problems in which a **linear model** linear models implementation can provide a good solution, or a good approximation to it.\n",
    "\n",
    "Those specific kind of datasets are thus called **linearly separable** and we go in depth of such problems in our previous [work](../tme3/Mini-Batch - Train-Test Criterion implementation - TME2.ipynb)\n",
    "\n",
    "In this part, we will go through an example of well-known non-linear problem - The XOR problem - and analyze how neural networks perform in this kind of issues."
   ]
  },
  {
   "cell_type": "markdown",
   "metadata": {},
   "source": [
    "# The XOR problem statement"
   ]
  },
  {
   "cell_type": "markdown",
   "metadata": {},
   "source": [
    "Compared to linear problem, the XOR problem is a somehow a bit more cumbersome to solve for linear models since there is no linear models that can achieve good results on it."
   ]
  },
  {
   "cell_type": "code",
   "execution_count": 23,
   "metadata": {
    "ExecuteTime": {
     "end_time": "2016-10-28T15:24:16",
     "start_time": "2016-10-28T13:24:16.044Z"
    },
    "collapsed": true
   },
   "outputs": [],
   "source": [
    "function create_xor_problem()\n",
    "    x = torch.Tensor(200,2)\n",
    "    y = torch.Tensor(200,1)\n",
    "    \n",
    "    dataset = {}\n",
    "    \n",
    "    for i=1,50 do\n",
    "            x[i]=torch.randn(2)\n",
    "            x[i][1]=x[i][1]+3\n",
    "            x[i][2]=x[i][2]+3\n",
    "            y[i]=torch.Tensor(1):fill(1)\n",
    "    end\n",
    "    for i=51,100 do\n",
    "            x[i]=torch.randn(2)\n",
    "            x[i][1]=x[i][1]-3\n",
    "            x[i][2]=x[i][2]-3\n",
    "            y[i]=torch.Tensor(1):fill(1)\n",
    "    end\n",
    "    for i=101,150 do\n",
    "            x[i]=torch.randn(2)\n",
    "            x[i][1]=x[i][1]-3\n",
    "            x[i][2]=x[i][2]+3\n",
    "            y[i]=torch.Tensor(1):fill(-1)\n",
    "    end\n",
    "    for i=151,200 do\n",
    "            x[i]=torch.randn(2)\n",
    "            x[i][1]=x[i][1]+3\n",
    "            x[i][2]=x[i][2]-3\n",
    "            y[i]=torch.Tensor(1):fill(-1)\n",
    "    end\n",
    "    \n",
    "    dataset[\"data\"] = x\n",
    "    dataset[\"labels\"] = y\n",
    "    \n",
    "    setmetatable(dataset,\n",
    "    {__index = function(t, i)\n",
    "                return {t.data[i], t.label[i]}\n",
    "               end})\n",
    "\n",
    "    function dataset:size()\n",
    "        return self.data:size()\n",
    "    end\n",
    "    \n",
    "    return dataset\n",
    "end"
   ]
  },
  {
   "cell_type": "code",
   "execution_count": 24,
   "metadata": {
    "ExecuteTime": {
     "end_time": "2016-10-28T15:24:16",
     "start_time": "2016-10-28T13:24:16.338Z"
    },
    "collapsed": true
   },
   "outputs": [],
   "source": [
    "dataset = create_xor_problem()"
   ]
  },
  {
   "cell_type": "markdown",
   "metadata": {},
   "source": [
    "## Prepare the dataset to representation"
   ]
  },
  {
   "cell_type": "code",
   "execution_count": 68,
   "metadata": {
    "ExecuteTime": {
     "end_time": "2016-10-28T15:36:06",
     "start_time": "2016-10-28T13:36:06.751Z"
    },
    "collapsed": false
   },
   "outputs": [],
   "source": [
    "function create_categorical_set(xs)\n",
    "    cat_1 = {}\n",
    "    cat_1[\"x\"] = {}\n",
    "    cat_1[\"y\"] = {}\n",
    "\n",
    "    cat_2 = {}\n",
    "    cat_2[\"x\"] = {}\n",
    "    cat_2[\"y\"] = {}\n",
    "\n",
    "    l = 1\n",
    "    j = 1\n",
    "    \n",
    "    ys = xs[\"labels\"]\n",
    "\n",
    "    for i=1,xs:size()[1] do\n",
    "        if ys[i][1]==1 then\n",
    "            cat_1[\"x\"][l]= xs[\"data\"][i][1]\n",
    "            cat_1[\"y\"][l]= xs[\"data\"][i][2]\n",
    "            l = l+1\n",
    "        else\n",
    "            cat_2[\"x\"][j]= xs[\"data\"][i][1]\n",
    "            cat_2[\"y\"][j]= xs[\"data\"][i][2]\n",
    "            j=j+1\n",
    "        end\n",
    "    end\n",
    "    \n",
    "    return {cat_1,cat_2}\n",
    "end"
   ]
  },
  {
   "cell_type": "code",
   "execution_count": 69,
   "metadata": {
    "ExecuteTime": {
     "end_time": "2016-10-28T15:36:07",
     "start_time": "2016-10-28T13:36:07.211Z"
    },
    "collapsed": true
   },
   "outputs": [],
   "source": [
    "categories = create_categorical_set(dataset)"
   ]
  },
  {
   "cell_type": "markdown",
   "metadata": {
    "ExecuteTime": {
     "end_time": "2016-10-28T14:51:54",
     "start_time": "2016-10-28T12:51:54.306Z"
    }
   },
   "source": [
    "## XOR problem representation"
   ]
  },
  {
   "cell_type": "markdown",
   "metadata": {},
   "source": [
    "### Using iTorch"
   ]
  },
  {
   "cell_type": "code",
   "execution_count": 71,
   "metadata": {
    "ExecuteTime": {
     "end_time": "2016-10-28T15:36:12",
     "start_time": "2016-10-28T13:36:12.272Z"
    },
    "collapsed": false
   },
   "outputs": [
    {
     "data": {
      "text/html": [
       "<script type=\"text/javascript\">\n",
       "$(function() {\n",
       "    if (typeof (window._bokeh_onload_callbacks) === \"undefined\"){\n",
       "  window._bokeh_onload_callbacks = [];\n",
       "    }\n",
       "    function load_lib(url, callback){\n",
       "  window._bokeh_onload_callbacks.push(callback);\n",
       "  if (window._bokeh_is_loading){\n",
       "      console.log(\"Bokeh: BokehJS is being loaded, scheduling callback at\", new Date());\n",
       "      return null;\n",
       "  }\n",
       "  console.log(\"Bokeh: BokehJS not loaded, scheduling load and callback at\", new Date());\n",
       "  window._bokeh_is_loading = true;\n",
       "  var s = document.createElement('script');\n",
       "  s.src = url;\n",
       "  s.async = true;\n",
       "  s.onreadystatechange = s.onload = function(){\n",
       "      Bokeh.embed.inject_css(\"https://cdn.pydata.org/bokeh-0.7.0.min.css\");\n",
       "      window._bokeh_onload_callbacks.forEach(function(callback){callback()});\n",
       "  };\n",
       "  s.onerror = function(){\n",
       "      console.warn(\"failed to load library \" + url);\n",
       "  };\n",
       "  document.getElementsByTagName(\"head\")[0].appendChild(s);\n",
       "    }\n",
       "\n",
       "    bokehjs_url = \"https://cdn.pydata.org/bokeh-0.7.0.min.js\"\n",
       "\n",
       "    var elt = document.getElementById(\"9cee84f4-107d-4a80-cacc-5e5f181e2fe9\");\n",
       "    if(elt==null) {\n",
       "  console.log(\"Bokeh: ERROR: autoload.js configured with elementid '9cee84f4-107d-4a80-cacc-5e5f181e2fe9'\"\n",
       "        + \"but no matching script tag was found. \")\n",
       "  return false;\n",
       "    }\n",
       "\n",
       "    if(typeof(Bokeh) !== \"undefined\") {\n",
       "  console.log(\"Bokeh: BokehJS loaded, going straight to plotting\");\n",
       "  var modelid = \"a62af82b-3482-49d0-c945-dcce430b3412\";\n",
       "  var modeltype = \"Plot\";\n",
       "  var all_models = [{\"id\":\"616005e0-cb44-4fa1-cf67-7d4c88ad14e3\",\"type\":\"ColumnDataSource\",\"attributes\":{\"data\":{\"y\":[3.8228562145022,1.3990452845063,3.0767663537101,0.99897876636809,3.6535321823578,3.5532810896749,2.5020815182587,3.1447852943034,3.4302419281251,4.5010650730613,4.7776209223565,1.8074136695795,1.8251865961597,4.12436582395,2.758974551308,2.9738300916992,3.4498786732457,1.5823688531446,2.8645312038484,4.0332410550518,3.2092212757393,2.6737574826564,4.6604794373932,4.8581452770007,4.6068994320713,5.508017193401,1.9458239093587,3.1916602527302,3.4777901090125,1.7407068668933,3.5470396782926,1.6599709893214,2.9601244356233,3.437103021127,1.4244057860292,3.9053707458325,2.2739921649181,2.6653840763726,3.7301777602558,1.8214078606591,3.8594999375885,1.8645684935765,4.0797885231403,4.5283039892233,3.3881900675234,2.9645657726093,-0.092627573639315,2.7063721468394,3.3328197922453,2.7063458623762,-3.7106310484536,-3.2591478235269,-4.879097550392,-2.6672178118494,-4.6256606163648,-2.3725868696574,-3.4053339374274,-1.7074531013927,-1.8332309914266,-2.8199891533664,-2.5756273325466,-3.993414167929,-3.5763868262129,-3.4023196215884,-3.500811323706,-5.0455152955563,-2.3621866011488,-3.718641964189,-3.3440670529594,-3.6240124190892,-3.4639974421278,-0.80611517167226,-2.1516692655466,-3.5101011925626,-1.2855129195138,-3.000979089218,-4.5410555923086,-3.4698862966131,-3.2405364451968,-4.9039725470743,-1.8588691539031,-2.7132826132648,-2.6259696692773,-3.1629610119064,-3.8638243500292,-1.5953552830522,-3.4723932795763,-2.7370923299518,-3.3486681774608,-4.6821085603018,-1.8608690416287,-2.5242809528165,-3.3902184979881,-2.8194284711981,-2.9056383379465,-4.5855668872789,-2.4011070868385,-1.9451418568333,-2.873193790163,-1.7890183054148],\"x\":[3.5151961231926,3.6264056640899,2.3164025883735,5.1473125777961,3.8802346398338,1.8692144460006,2.3616501045998,3.3975500942422,2.8138115362935,2.2609593888117,3.8047938171265,2.6139547606042,4.01499864996,2.7198754090617,2.8676115481325,3.2651103095767,4.1347351989469,1.4161381852353,2.4383990447692,2.7864341012386,1.52735264522,2.9164163070955,2.2347988612766,3.8698838851106,3.9962581011103,1.9962379721458,2.1091368082587,2.9990106143374,3.2032633484407,0.38816075652976,3.4607353549001,3.9404531874331,3.4144687666089,4.5178626912067,3.2288894973433,2.7083022377437,3.8079184388178,4.665307877614,2.5510522546101,3.0273921962141,2.9474209361301,1.0057935917091,3.8834912877242,3.1150763699035,1.6022741404838,2.6536828975255,3.0789711411811,1.6450418632088,4.0214852550742,4.5833344491828,-3.972149027301,-2.9707764067518,-4.6838126361344,-1.6605050518884,-2.0269968198275,-2.695713515167,-2.9151632407961,-0.73638758532288,-3.9560123199479,-4.4143869360899,-2.4105788733217,-3.1544541756991,-3.371071761359,-4.2453708208014,-2.736917404502,-2.3703314983867,-1.7175685948741,-3.9979032285786,-3.9470066165845,-3.2415348900375,-2.3836008476088,-2.8327837914804,-3.963085970272,-2.8874068560323,-3.4366567576449,-5.198217002654,-4.5343301684908,-1.6740514829683,-4.5981581924816,-1.6633958730951,-4.3021120464781,-2.1558892029275,-0.70819352735017,-2.6300552923904,-2.0286141050783,-3.7145835260068,-3.1595390887163,-3.4453924670671,-3.0147975445791,-2.5547670333978,-1.3625504540171,-4.1628188934043,-4.3015461245922,-3.0524365926827,-3.4547348794259,-2.8977512177418,-3.7932754381023,-3.6689521259724,-1.2780825063688,-4.2413415067105]},\"column_names\":[\"y\",\"x\"],\"cont_ranges\":{},\"discrete_ranges\":{},\"selected\":[],\"id\":\"616005e0-cb44-4fa1-cf67-7d4c88ad14e3\",\"doc\":null,\"tags\":[]}},{\"id\":\"7a37fee1-5147-4a1e-ca9d-5b56a8245cc8\",\"type\":\"Circle\",\"attributes\":{\"fill_alpha\":{\"units\":\"data\",\"value\":0.2},\"line_alpha\":{\"units\":\"data\",\"value\":1},\"doc\":null,\"size\":{\"units\":\"screen\",\"value\":10},\"fill_color\":{\"value\":\"red\"},\"line_color\":{\"value\":\"red\"},\"x\":{\"units\":\"data\",\"field\":\"x\"},\"id\":\"7a37fee1-5147-4a1e-ca9d-5b56a8245cc8\",\"y\":{\"units\":\"data\",\"field\":\"y\"},\"tags\":[]}},{\"id\":\"49149f5a-09c9-4c89-cc0b-cdc74a2b0906\",\"type\":\"Circle\",\"attributes\":{\"fill_alpha\":{\"units\":\"data\",\"value\":0.2},\"line_alpha\":{\"units\":\"data\",\"value\":1},\"doc\":null,\"size\":{\"units\":\"screen\",\"value\":10},\"fill_color\":{\"value\":\"red\"},\"line_color\":{\"value\":\"red\"},\"x\":{\"units\":\"data\",\"field\":\"x\"},\"id\":\"49149f5a-09c9-4c89-cc0b-cdc74a2b0906\",\"y\":{\"units\":\"data\",\"field\":\"y\"},\"tags\":[]}},{\"id\":\"a65d778e-ac5a-4d2c-cd64-e4ed29d5ebd2\",\"type\":\"GlyphRenderer\",\"attributes\":{\"name\":null,\"nonselection_glyph\":{\"type\":\"Circle\",\"id\":\"49149f5a-09c9-4c89-cc0b-cdc74a2b0906\"},\"doc\":null,\"server_data_source\":null,\"data_source\":{\"type\":\"ColumnDataSource\",\"id\":\"616005e0-cb44-4fa1-cf67-7d4c88ad14e3\"},\"glyph\":{\"type\":\"Circle\",\"id\":\"7a37fee1-5147-4a1e-ca9d-5b56a8245cc8\"},\"selection_glyph\":null,\"id\":\"a65d778e-ac5a-4d2c-cd64-e4ed29d5ebd2\",\"tags\":[]}},{\"id\":\"9fbd22d3-07b9-4ac4-ca21-4c371a1280f1\",\"type\":\"ColumnDataSource\",\"attributes\":{\"data\":{\"y\":[1.7186064393951,1.7149976041572,2.840576083918,2.5636364866468,0.87940490174474,4.4990536657832,4.2728209585018,4.6525000227202,1.3827936704824,4.5129864476729,4.2577946207012,3.9938523370686,2.8904998836174,2.9803477096799,4.2229743420794,1.0392135076079,3.3792721787861,4.1485471379432,3.896436284346,3.4549341685037,4.0608721132561,1.7709786897557,2.9815073114381,3.6075727141365,3.8702685158287,2.2714445649134,3.7359853624368,3.5092303701728,3.5105430284954,3.8784162800302,3.0245255019091,3.535533734326,2.7589584595428,1.3389381730619,2.9832216404116,2.4806003027746,3.2576798416045,2.5610317901655,2.1767303418243,3.0350278206652,2.9451045886705,2.3835040126777,3.0881884589747,3.6366582678047,3.4823348826807,2.9998256430303,3.6744675541922,3.2089254299132,1.4774962135649,4.1027582866444,-1.3063943240638,-4.7825663269651,-3.7064827775233,-3.4406086571807,-3.1368035905156,-2.9285239765336,-3.4645698313948,-1.1640083862386,-3.3411626694336,-2.456899008354,-3.1586043255611,-1.9253495119334,-3.6245738927591,-2.0272179548348,-5.3838028432185,-3.2535232661209,-2.2633325229134,-3.6285178101499,-1.5972801984515,-1.553448458084,-2.2439499145425,-2.7599660069729,-3.2523292492973,-3.3738964038702,-3.7661458191569,-3.6183533508199,-2.6225694471584,-1.5900991740592,-1.8384421190932,-2.5454493922603,-1.0390256654954,-2.6362058848441,-2.6378925712228,-4.6566346996286,-3.9941328531088,-3.0092236077659,-3.2116324112034,-2.2115060807232,-3.1795034030732,-2.4474582301461,-1.0036440911717,-4.1022388834219,-3.2092677459674,-3.4849050302996,-2.5458557089188,-4.3089004171207,-0.77593346192674,-2.4194893608991,-3.4333762661956,-2.4578941802033],\"x\":[-3.2692041316983,-3.7796051797157,0.078309153235403,-4.3421909354049,-2.8990906954528,-4.4910959542357,-1.9943855088195,-2.2754035133724,-3.2990395229158,-2.0154941215478,-3.0733050169207,-2.8428787078343,-3.6394496743006,-2.6764387632972,-3.4126433928788,-2.9314864027924,-1.3525353371806,-1.7741573312584,-2.9506742498208,-1.306835915558,-0.95522615096455,-2.5558127798887,-3.3648825170399,-3.3236651660394,-2.8452531062784,-3.9400270325728,-2.0126424757883,-2.658879169747,-2.1703550266792,-2.902985753399,-2.2293791497462,-2.9052016379446,-4.2765217780832,-3.3162733668286,-3.7805153564168,-2.1852326342601,-5.516219212134,-1.4987067320885,-3.6694309414129,-2.4190792444481,-3.9140123842196,-3.0330052686247,-2.5775464390318,-4.2837598670497,-3.2273628051772,-1.987182017639,-2.7978753651292,-2.9639135207343,-3.9438125971283,-3.1560439207509,3.2943481404007,1.4947375218643,1.5365989932734,2.8050788165933,2.9499184566903,3.1535610884424,2.1617696803373,2.3649107034979,0.28841141188401,3.4835579002254,0.96604114189252,3.0509443088127,2.0847274870955,2.839664595821,1.6803209062904,3.5001064673447,3.4862256802203,5.0016441283642,1.539251119322,1.646706456976,1.7311633016216,1.9239465362252,2.2571781861345,2.0793659595492,2.6500644771436,2.9347613272493,2.1464607250788,4.3714866795371,3.780540266155,3.0792724842216,1.6693844290589,2.6100334825267,3.5491448171968,1.85656075356,4.5234643470879,3.1010813032803,4.4163113228848,3.2965424580814,2.7918440904235,3.4078816141572,2.7294023778986,1.7447138539339,3.365926997831,3.5088481069714,1.3506232568289,3.7059464406441,4.3375605621455,3.2303642137289,1.6763079411121,3.0340144158471]},\"column_names\":[\"y\",\"x\"],\"cont_ranges\":{},\"discrete_ranges\":{},\"selected\":[],\"id\":\"9fbd22d3-07b9-4ac4-ca21-4c371a1280f1\",\"doc\":null,\"tags\":[]}},{\"id\":\"93454dab-5673-45b5-c537-8a7394ce86a3\",\"type\":\"Circle\",\"attributes\":{\"fill_alpha\":{\"units\":\"data\",\"value\":0.2},\"line_alpha\":{\"units\":\"data\",\"value\":1},\"doc\":null,\"size\":{\"units\":\"screen\",\"value\":10},\"fill_color\":{\"value\":\"blue\"},\"line_color\":{\"value\":\"blue\"},\"x\":{\"units\":\"data\",\"field\":\"x\"},\"id\":\"93454dab-5673-45b5-c537-8a7394ce86a3\",\"y\":{\"units\":\"data\",\"field\":\"y\"},\"tags\":[]}},{\"id\":\"da842dee-e5fa-4447-c44f-a2e631eb89b1\",\"type\":\"Circle\",\"attributes\":{\"fill_alpha\":{\"units\":\"data\",\"value\":0.2},\"line_alpha\":{\"units\":\"data\",\"value\":1},\"doc\":null,\"size\":{\"units\":\"screen\",\"value\":10},\"fill_color\":{\"value\":\"blue\"},\"line_color\":{\"value\":\"blue\"},\"x\":{\"units\":\"data\",\"field\":\"x\"},\"id\":\"da842dee-e5fa-4447-c44f-a2e631eb89b1\",\"y\":{\"units\":\"data\",\"field\":\"y\"},\"tags\":[]}},{\"id\":\"e33202b8-6d11-4066-c067-82c3122b56ae\",\"type\":\"GlyphRenderer\",\"attributes\":{\"name\":null,\"nonselection_glyph\":{\"type\":\"Circle\",\"id\":\"da842dee-e5fa-4447-c44f-a2e631eb89b1\"},\"doc\":null,\"server_data_source\":null,\"data_source\":{\"type\":\"ColumnDataSource\",\"id\":\"9fbd22d3-07b9-4ac4-ca21-4c371a1280f1\"},\"glyph\":{\"type\":\"Circle\",\"id\":\"93454dab-5673-45b5-c537-8a7394ce86a3\"},\"selection_glyph\":null,\"id\":\"e33202b8-6d11-4066-c067-82c3122b56ae\",\"tags\":[]}},{\"id\":\"d653b4e6-571d-45a1-c5d2-e046260b6d04\",\"type\":\"DataRange1d\",\"attributes\":{\"sources\":[{\"columns\":[\"x\"],\"source\":{\"type\":\"ColumnDataSource\",\"id\":\"616005e0-cb44-4fa1-cf67-7d4c88ad14e3\"}},{\"columns\":[\"x\"],\"source\":{\"type\":\"ColumnDataSource\",\"id\":\"9fbd22d3-07b9-4ac4-ca21-4c371a1280f1\"}}],\"id\":\"d653b4e6-571d-45a1-c5d2-e046260b6d04\",\"tags\":[],\"doc\":null}},{\"id\":\"e5d03609-26ea-4944-c920-c76e4838e0b9\",\"type\":\"DataRange1d\",\"attributes\":{\"sources\":[{\"columns\":[\"y\"],\"source\":{\"type\":\"ColumnDataSource\",\"id\":\"616005e0-cb44-4fa1-cf67-7d4c88ad14e3\"}},{\"columns\":[\"y\"],\"source\":{\"type\":\"ColumnDataSource\",\"id\":\"9fbd22d3-07b9-4ac4-ca21-4c371a1280f1\"}}],\"id\":\"e5d03609-26ea-4944-c920-c76e4838e0b9\",\"tags\":[],\"doc\":null}},{\"id\":\"4add050b-5bf5-451e-c561-11128ce7e478\",\"type\":\"ToolEvents\",\"attributes\":{\"tags\":[],\"id\":\"4add050b-5bf5-451e-c561-11128ce7e478\",\"geometries\":[],\"doc\":null}},{\"id\":\"99aedfb6-bedb-41f1-c111-af529cd3c40f\",\"type\":\"BasicTickFormatter\",\"attributes\":{\"id\":\"99aedfb6-bedb-41f1-c111-af529cd3c40f\",\"tags\":[],\"doc\":null}},{\"id\":\"16d97213-1f2d-4e8d-ce5b-8e5cf994c54d\",\"type\":\"BasicTicker\",\"attributes\":{\"num_minor_ticks\":5,\"id\":\"16d97213-1f2d-4e8d-ce5b-8e5cf994c54d\",\"tags\":[],\"doc\":null}},{\"id\":\"e84f92a8-038e-4789-c738-8163e79af5cc\",\"type\":\"LinearAxis\",\"attributes\":{\"formatter\":{\"type\":\"BasicTickFormatter\",\"id\":\"99aedfb6-bedb-41f1-c111-af529cd3c40f\"},\"ticker\":{\"type\":\"BasicTicker\",\"id\":\"16d97213-1f2d-4e8d-ce5b-8e5cf994c54d\"},\"plot\":{\"id\":\"a62af82b-3482-49d0-c945-dcce430b3412\",\"type\":\"Plot\",\"subtype\":\"Figure\"},\"axis_label\":null,\"id\":\"e84f92a8-038e-4789-c738-8163e79af5cc\",\"doc\":null,\"tags\":[]}},{\"id\":\"efc503c1-177a-4a90-ca40-8df96baeb8ec\",\"type\":\"Grid\",\"attributes\":{\"dimension\":0,\"plot\":{\"id\":\"a62af82b-3482-49d0-c945-dcce430b3412\",\"type\":\"Plot\",\"subtype\":\"Figure\"},\"ticker\":{\"type\":\"BasicTicker\",\"id\":\"16d97213-1f2d-4e8d-ce5b-8e5cf994c54d\"},\"id\":\"efc503c1-177a-4a90-ca40-8df96baeb8ec\",\"doc\":null,\"tags\":[]}},{\"id\":\"71f82791-3c8e-4775-c733-351aa8d8ccfd\",\"type\":\"BasicTickFormatter\",\"attributes\":{\"id\":\"71f82791-3c8e-4775-c733-351aa8d8ccfd\",\"tags\":[],\"doc\":null}},{\"id\":\"77d84a91-a67f-4e9a-ce4a-e66abf9dd448\",\"type\":\"BasicTicker\",\"attributes\":{\"num_minor_ticks\":5,\"id\":\"77d84a91-a67f-4e9a-ce4a-e66abf9dd448\",\"tags\":[],\"doc\":null}},{\"id\":\"a65884b6-f852-4272-c2a0-8d6e08dae103\",\"type\":\"LinearAxis\",\"attributes\":{\"formatter\":{\"type\":\"BasicTickFormatter\",\"id\":\"71f82791-3c8e-4775-c733-351aa8d8ccfd\"},\"ticker\":{\"type\":\"BasicTicker\",\"id\":\"77d84a91-a67f-4e9a-ce4a-e66abf9dd448\"},\"plot\":{\"id\":\"a62af82b-3482-49d0-c945-dcce430b3412\",\"type\":\"Plot\",\"subtype\":\"Figure\"},\"axis_label\":null,\"id\":\"a65884b6-f852-4272-c2a0-8d6e08dae103\",\"doc\":null,\"tags\":[]}},{\"id\":\"9a8fda9d-a1eb-4edd-ceab-fa125cca7155\",\"type\":\"Grid\",\"attributes\":{\"dimension\":1,\"plot\":{\"id\":\"a62af82b-3482-49d0-c945-dcce430b3412\",\"type\":\"Plot\",\"subtype\":\"Figure\"},\"ticker\":{\"type\":\"BasicTicker\",\"id\":\"77d84a91-a67f-4e9a-ce4a-e66abf9dd448\"},\"id\":\"9a8fda9d-a1eb-4edd-ceab-fa125cca7155\",\"doc\":null,\"tags\":[]}},{\"id\":\"eac357e9-64d1-4849-c82a-f29d3d50d0a6\",\"type\":\"PanTool\",\"attributes\":{\"plot\":{\"id\":\"a62af82b-3482-49d0-c945-dcce430b3412\",\"type\":\"Plot\",\"subtype\":\"Figure\"},\"dimensions\":[\"width\",\"height\"],\"id\":\"eac357e9-64d1-4849-c82a-f29d3d50d0a6\",\"doc\":null,\"tags\":[]}},{\"id\":\"b080f2fa-7233-4bf2-cb6f-5f9f8d094fc7\",\"type\":\"WheelZoomTool\",\"attributes\":{\"plot\":{\"id\":\"a62af82b-3482-49d0-c945-dcce430b3412\",\"type\":\"Plot\",\"subtype\":\"Figure\"},\"dimensions\":[\"width\",\"height\"],\"id\":\"b080f2fa-7233-4bf2-cb6f-5f9f8d094fc7\",\"doc\":null,\"tags\":[]}},{\"id\":\"9b80f4cd-4cb9-40f0-c04a-d1a20fd98f6c\",\"type\":\"BoxZoomTool\",\"attributes\":{\"plot\":{\"id\":\"a62af82b-3482-49d0-c945-dcce430b3412\",\"type\":\"Plot\",\"subtype\":\"Figure\"},\"id\":\"9b80f4cd-4cb9-40f0-c04a-d1a20fd98f6c\",\"tags\":[],\"doc\":null}},{\"id\":\"4ce93e97-a14d-4fd8-cfc2-f4ccc39d99d6\",\"type\":\"PreviewSaveTool\",\"attributes\":{\"plot\":{\"id\":\"a62af82b-3482-49d0-c945-dcce430b3412\",\"type\":\"Plot\",\"subtype\":\"Figure\"},\"id\":\"4ce93e97-a14d-4fd8-cfc2-f4ccc39d99d6\",\"tags\":[],\"doc\":null}},{\"id\":\"dc45e33c-b7d9-41c6-c1bc-81d137bd3785\",\"type\":\"ResizeTool\",\"attributes\":{\"plot\":{\"id\":\"a62af82b-3482-49d0-c945-dcce430b3412\",\"type\":\"Plot\",\"subtype\":\"Figure\"},\"id\":\"dc45e33c-b7d9-41c6-c1bc-81d137bd3785\",\"tags\":[],\"doc\":null}},{\"id\":\"7142c424-76a1-4a32-ca03-613f6f9c1f67\",\"type\":\"ResetTool\",\"attributes\":{\"plot\":{\"id\":\"a62af82b-3482-49d0-c945-dcce430b3412\",\"type\":\"Plot\",\"subtype\":\"Figure\"},\"id\":\"7142c424-76a1-4a32-ca03-613f6f9c1f67\",\"tags\":[],\"doc\":null}},{\"id\":\"a62af82b-3482-49d0-c945-dcce430b3412\",\"type\":\"Plot\",\"attributes\":{\"x_range\":{\"type\":\"DataRange1d\",\"id\":\"d653b4e6-571d-45a1-c5d2-e046260b6d04\"},\"tool_events\":{\"type\":\"ToolEvents\",\"id\":\"4add050b-5bf5-451e-c561-11128ce7e478\"},\"below\":[{\"type\":\"LinearAxis\",\"id\":\"e84f92a8-038e-4789-c738-8163e79af5cc\"}],\"renderers\":[{\"type\":\"GlyphRenderer\",\"id\":\"a65d778e-ac5a-4d2c-cd64-e4ed29d5ebd2\"},{\"type\":\"GlyphRenderer\",\"id\":\"e33202b8-6d11-4066-c067-82c3122b56ae\"},{\"type\":\"LinearAxis\",\"id\":\"e84f92a8-038e-4789-c738-8163e79af5cc\"},{\"type\":\"Grid\",\"id\":\"efc503c1-177a-4a90-ca40-8df96baeb8ec\"},{\"type\":\"LinearAxis\",\"id\":\"a65884b6-f852-4272-c2a0-8d6e08dae103\"},{\"type\":\"Grid\",\"id\":\"9a8fda9d-a1eb-4edd-ceab-fa125cca7155\"}],\"above\":[],\"tools\":[{\"type\":\"PanTool\",\"id\":\"eac357e9-64d1-4849-c82a-f29d3d50d0a6\"},{\"type\":\"WheelZoomTool\",\"id\":\"b080f2fa-7233-4bf2-cb6f-5f9f8d094fc7\"},{\"type\":\"BoxZoomTool\",\"id\":\"9b80f4cd-4cb9-40f0-c04a-d1a20fd98f6c\"},{\"type\":\"PreviewSaveTool\",\"id\":\"4ce93e97-a14d-4fd8-cfc2-f4ccc39d99d6\"},{\"type\":\"ResizeTool\",\"id\":\"dc45e33c-b7d9-41c6-c1bc-81d137bd3785\"},{\"type\":\"ResetTool\",\"id\":\"7142c424-76a1-4a32-ca03-613f6f9c1f67\"}],\"doc\":null,\"right\":[],\"title\":\"Untitled Plot\",\"extra_x_ranges\":{},\"left\":[{\"type\":\"LinearAxis\",\"id\":\"a65884b6-f852-4272-c2a0-8d6e08dae103\"}],\"y_range\":{\"type\":\"DataRange1d\",\"id\":\"e5d03609-26ea-4944-c920-c76e4838e0b9\"},\"id\":\"a62af82b-3482-49d0-c945-dcce430b3412\",\"extra_y_ranges\":{},\"tags\":[]}}];\n",
       "  Bokeh.load_models(all_models);\n",
       "  var model = Bokeh.Collections(modeltype).get(modelid);\n",
       "  $(\"#9cee84f4-107d-4a80-cacc-5e5f181e2fe9\").html(''); // clear any previous plot in window_id\n",
       "  var view = new model.default_view({model: model, el: \"#9cee84f4-107d-4a80-cacc-5e5f181e2fe9\"});\n",
       "    } else {\n",
       "  load_lib(bokehjs_url, function() {\n",
       "      console.log(\"Bokeh: BokehJS plotting callback run at\", new Date())\n",
       "      var modelid = \"a62af82b-3482-49d0-c945-dcce430b3412\";\n",
       "      var modeltype = \"Plot\";\n",
       "      var all_models = [{\"id\":\"616005e0-cb44-4fa1-cf67-7d4c88ad14e3\",\"type\":\"ColumnDataSource\",\"attributes\":{\"data\":{\"y\":[3.8228562145022,1.3990452845063,3.0767663537101,0.99897876636809,3.6535321823578,3.5532810896749,2.5020815182587,3.1447852943034,3.4302419281251,4.5010650730613,4.7776209223565,1.8074136695795,1.8251865961597,4.12436582395,2.758974551308,2.9738300916992,3.4498786732457,1.5823688531446,2.8645312038484,4.0332410550518,3.2092212757393,2.6737574826564,4.6604794373932,4.8581452770007,4.6068994320713,5.508017193401,1.9458239093587,3.1916602527302,3.4777901090125,1.7407068668933,3.5470396782926,1.6599709893214,2.9601244356233,3.437103021127,1.4244057860292,3.9053707458325,2.2739921649181,2.6653840763726,3.7301777602558,1.8214078606591,3.8594999375885,1.8645684935765,4.0797885231403,4.5283039892233,3.3881900675234,2.9645657726093,-0.092627573639315,2.7063721468394,3.3328197922453,2.7063458623762,-3.7106310484536,-3.2591478235269,-4.879097550392,-2.6672178118494,-4.6256606163648,-2.3725868696574,-3.4053339374274,-1.7074531013927,-1.8332309914266,-2.8199891533664,-2.5756273325466,-3.993414167929,-3.5763868262129,-3.4023196215884,-3.500811323706,-5.0455152955563,-2.3621866011488,-3.718641964189,-3.3440670529594,-3.6240124190892,-3.4639974421278,-0.80611517167226,-2.1516692655466,-3.5101011925626,-1.2855129195138,-3.000979089218,-4.5410555923086,-3.4698862966131,-3.2405364451968,-4.9039725470743,-1.8588691539031,-2.7132826132648,-2.6259696692773,-3.1629610119064,-3.8638243500292,-1.5953552830522,-3.4723932795763,-2.7370923299518,-3.3486681774608,-4.6821085603018,-1.8608690416287,-2.5242809528165,-3.3902184979881,-2.8194284711981,-2.9056383379465,-4.5855668872789,-2.4011070868385,-1.9451418568333,-2.873193790163,-1.7890183054148],\"x\":[3.5151961231926,3.6264056640899,2.3164025883735,5.1473125777961,3.8802346398338,1.8692144460006,2.3616501045998,3.3975500942422,2.8138115362935,2.2609593888117,3.8047938171265,2.6139547606042,4.01499864996,2.7198754090617,2.8676115481325,3.2651103095767,4.1347351989469,1.4161381852353,2.4383990447692,2.7864341012386,1.52735264522,2.9164163070955,2.2347988612766,3.8698838851106,3.9962581011103,1.9962379721458,2.1091368082587,2.9990106143374,3.2032633484407,0.38816075652976,3.4607353549001,3.9404531874331,3.4144687666089,4.5178626912067,3.2288894973433,2.7083022377437,3.8079184388178,4.665307877614,2.5510522546101,3.0273921962141,2.9474209361301,1.0057935917091,3.8834912877242,3.1150763699035,1.6022741404838,2.6536828975255,3.0789711411811,1.6450418632088,4.0214852550742,4.5833344491828,-3.972149027301,-2.9707764067518,-4.6838126361344,-1.6605050518884,-2.0269968198275,-2.695713515167,-2.9151632407961,-0.73638758532288,-3.9560123199479,-4.4143869360899,-2.4105788733217,-3.1544541756991,-3.371071761359,-4.2453708208014,-2.736917404502,-2.3703314983867,-1.7175685948741,-3.9979032285786,-3.9470066165845,-3.2415348900375,-2.3836008476088,-2.8327837914804,-3.963085970272,-2.8874068560323,-3.4366567576449,-5.198217002654,-4.5343301684908,-1.6740514829683,-4.5981581924816,-1.6633958730951,-4.3021120464781,-2.1558892029275,-0.70819352735017,-2.6300552923904,-2.0286141050783,-3.7145835260068,-3.1595390887163,-3.4453924670671,-3.0147975445791,-2.5547670333978,-1.3625504540171,-4.1628188934043,-4.3015461245922,-3.0524365926827,-3.4547348794259,-2.8977512177418,-3.7932754381023,-3.6689521259724,-1.2780825063688,-4.2413415067105]},\"column_names\":[\"y\",\"x\"],\"cont_ranges\":{},\"discrete_ranges\":{},\"selected\":[],\"id\":\"616005e0-cb44-4fa1-cf67-7d4c88ad14e3\",\"doc\":null,\"tags\":[]}},{\"id\":\"7a37fee1-5147-4a1e-ca9d-5b56a8245cc8\",\"type\":\"Circle\",\"attributes\":{\"fill_alpha\":{\"units\":\"data\",\"value\":0.2},\"line_alpha\":{\"units\":\"data\",\"value\":1},\"doc\":null,\"size\":{\"units\":\"screen\",\"value\":10},\"fill_color\":{\"value\":\"red\"},\"line_color\":{\"value\":\"red\"},\"x\":{\"units\":\"data\",\"field\":\"x\"},\"id\":\"7a37fee1-5147-4a1e-ca9d-5b56a8245cc8\",\"y\":{\"units\":\"data\",\"field\":\"y\"},\"tags\":[]}},{\"id\":\"49149f5a-09c9-4c89-cc0b-cdc74a2b0906\",\"type\":\"Circle\",\"attributes\":{\"fill_alpha\":{\"units\":\"data\",\"value\":0.2},\"line_alpha\":{\"units\":\"data\",\"value\":1},\"doc\":null,\"size\":{\"units\":\"screen\",\"value\":10},\"fill_color\":{\"value\":\"red\"},\"line_color\":{\"value\":\"red\"},\"x\":{\"units\":\"data\",\"field\":\"x\"},\"id\":\"49149f5a-09c9-4c89-cc0b-cdc74a2b0906\",\"y\":{\"units\":\"data\",\"field\":\"y\"},\"tags\":[]}},{\"id\":\"a65d778e-ac5a-4d2c-cd64-e4ed29d5ebd2\",\"type\":\"GlyphRenderer\",\"attributes\":{\"name\":null,\"nonselection_glyph\":{\"type\":\"Circle\",\"id\":\"49149f5a-09c9-4c89-cc0b-cdc74a2b0906\"},\"doc\":null,\"server_data_source\":null,\"data_source\":{\"type\":\"ColumnDataSource\",\"id\":\"616005e0-cb44-4fa1-cf67-7d4c88ad14e3\"},\"glyph\":{\"type\":\"Circle\",\"id\":\"7a37fee1-5147-4a1e-ca9d-5b56a8245cc8\"},\"selection_glyph\":null,\"id\":\"a65d778e-ac5a-4d2c-cd64-e4ed29d5ebd2\",\"tags\":[]}},{\"id\":\"9fbd22d3-07b9-4ac4-ca21-4c371a1280f1\",\"type\":\"ColumnDataSource\",\"attributes\":{\"data\":{\"y\":[1.7186064393951,1.7149976041572,2.840576083918,2.5636364866468,0.87940490174474,4.4990536657832,4.2728209585018,4.6525000227202,1.3827936704824,4.5129864476729,4.2577946207012,3.9938523370686,2.8904998836174,2.9803477096799,4.2229743420794,1.0392135076079,3.3792721787861,4.1485471379432,3.896436284346,3.4549341685037,4.0608721132561,1.7709786897557,2.9815073114381,3.6075727141365,3.8702685158287,2.2714445649134,3.7359853624368,3.5092303701728,3.5105430284954,3.8784162800302,3.0245255019091,3.535533734326,2.7589584595428,1.3389381730619,2.9832216404116,2.4806003027746,3.2576798416045,2.5610317901655,2.1767303418243,3.0350278206652,2.9451045886705,2.3835040126777,3.0881884589747,3.6366582678047,3.4823348826807,2.9998256430303,3.6744675541922,3.2089254299132,1.4774962135649,4.1027582866444,-1.3063943240638,-4.7825663269651,-3.7064827775233,-3.4406086571807,-3.1368035905156,-2.9285239765336,-3.4645698313948,-1.1640083862386,-3.3411626694336,-2.456899008354,-3.1586043255611,-1.9253495119334,-3.6245738927591,-2.0272179548348,-5.3838028432185,-3.2535232661209,-2.2633325229134,-3.6285178101499,-1.5972801984515,-1.553448458084,-2.2439499145425,-2.7599660069729,-3.2523292492973,-3.3738964038702,-3.7661458191569,-3.6183533508199,-2.6225694471584,-1.5900991740592,-1.8384421190932,-2.5454493922603,-1.0390256654954,-2.6362058848441,-2.6378925712228,-4.6566346996286,-3.9941328531088,-3.0092236077659,-3.2116324112034,-2.2115060807232,-3.1795034030732,-2.4474582301461,-1.0036440911717,-4.1022388834219,-3.2092677459674,-3.4849050302996,-2.5458557089188,-4.3089004171207,-0.77593346192674,-2.4194893608991,-3.4333762661956,-2.4578941802033],\"x\":[-3.2692041316983,-3.7796051797157,0.078309153235403,-4.3421909354049,-2.8990906954528,-4.4910959542357,-1.9943855088195,-2.2754035133724,-3.2990395229158,-2.0154941215478,-3.0733050169207,-2.8428787078343,-3.6394496743006,-2.6764387632972,-3.4126433928788,-2.9314864027924,-1.3525353371806,-1.7741573312584,-2.9506742498208,-1.306835915558,-0.95522615096455,-2.5558127798887,-3.3648825170399,-3.3236651660394,-2.8452531062784,-3.9400270325728,-2.0126424757883,-2.658879169747,-2.1703550266792,-2.902985753399,-2.2293791497462,-2.9052016379446,-4.2765217780832,-3.3162733668286,-3.7805153564168,-2.1852326342601,-5.516219212134,-1.4987067320885,-3.6694309414129,-2.4190792444481,-3.9140123842196,-3.0330052686247,-2.5775464390318,-4.2837598670497,-3.2273628051772,-1.987182017639,-2.7978753651292,-2.9639135207343,-3.9438125971283,-3.1560439207509,3.2943481404007,1.4947375218643,1.5365989932734,2.8050788165933,2.9499184566903,3.1535610884424,2.1617696803373,2.3649107034979,0.28841141188401,3.4835579002254,0.96604114189252,3.0509443088127,2.0847274870955,2.839664595821,1.6803209062904,3.5001064673447,3.4862256802203,5.0016441283642,1.539251119322,1.646706456976,1.7311633016216,1.9239465362252,2.2571781861345,2.0793659595492,2.6500644771436,2.9347613272493,2.1464607250788,4.3714866795371,3.780540266155,3.0792724842216,1.6693844290589,2.6100334825267,3.5491448171968,1.85656075356,4.5234643470879,3.1010813032803,4.4163113228848,3.2965424580814,2.7918440904235,3.4078816141572,2.7294023778986,1.7447138539339,3.365926997831,3.5088481069714,1.3506232568289,3.7059464406441,4.3375605621455,3.2303642137289,1.6763079411121,3.0340144158471]},\"column_names\":[\"y\",\"x\"],\"cont_ranges\":{},\"discrete_ranges\":{},\"selected\":[],\"id\":\"9fbd22d3-07b9-4ac4-ca21-4c371a1280f1\",\"doc\":null,\"tags\":[]}},{\"id\":\"93454dab-5673-45b5-c537-8a7394ce86a3\",\"type\":\"Circle\",\"attributes\":{\"fill_alpha\":{\"units\":\"data\",\"value\":0.2},\"line_alpha\":{\"units\":\"data\",\"value\":1},\"doc\":null,\"size\":{\"units\":\"screen\",\"value\":10},\"fill_color\":{\"value\":\"blue\"},\"line_color\":{\"value\":\"blue\"},\"x\":{\"units\":\"data\",\"field\":\"x\"},\"id\":\"93454dab-5673-45b5-c537-8a7394ce86a3\",\"y\":{\"units\":\"data\",\"field\":\"y\"},\"tags\":[]}},{\"id\":\"da842dee-e5fa-4447-c44f-a2e631eb89b1\",\"type\":\"Circle\",\"attributes\":{\"fill_alpha\":{\"units\":\"data\",\"value\":0.2},\"line_alpha\":{\"units\":\"data\",\"value\":1},\"doc\":null,\"size\":{\"units\":\"screen\",\"value\":10},\"fill_color\":{\"value\":\"blue\"},\"line_color\":{\"value\":\"blue\"},\"x\":{\"units\":\"data\",\"field\":\"x\"},\"id\":\"da842dee-e5fa-4447-c44f-a2e631eb89b1\",\"y\":{\"units\":\"data\",\"field\":\"y\"},\"tags\":[]}},{\"id\":\"e33202b8-6d11-4066-c067-82c3122b56ae\",\"type\":\"GlyphRenderer\",\"attributes\":{\"name\":null,\"nonselection_glyph\":{\"type\":\"Circle\",\"id\":\"da842dee-e5fa-4447-c44f-a2e631eb89b1\"},\"doc\":null,\"server_data_source\":null,\"data_source\":{\"type\":\"ColumnDataSource\",\"id\":\"9fbd22d3-07b9-4ac4-ca21-4c371a1280f1\"},\"glyph\":{\"type\":\"Circle\",\"id\":\"93454dab-5673-45b5-c537-8a7394ce86a3\"},\"selection_glyph\":null,\"id\":\"e33202b8-6d11-4066-c067-82c3122b56ae\",\"tags\":[]}},{\"id\":\"d653b4e6-571d-45a1-c5d2-e046260b6d04\",\"type\":\"DataRange1d\",\"attributes\":{\"sources\":[{\"columns\":[\"x\"],\"source\":{\"type\":\"ColumnDataSource\",\"id\":\"616005e0-cb44-4fa1-cf67-7d4c88ad14e3\"}},{\"columns\":[\"x\"],\"source\":{\"type\":\"ColumnDataSource\",\"id\":\"9fbd22d3-07b9-4ac4-ca21-4c371a1280f1\"}}],\"id\":\"d653b4e6-571d-45a1-c5d2-e046260b6d04\",\"tags\":[],\"doc\":null}},{\"id\":\"e5d03609-26ea-4944-c920-c76e4838e0b9\",\"type\":\"DataRange1d\",\"attributes\":{\"sources\":[{\"columns\":[\"y\"],\"source\":{\"type\":\"ColumnDataSource\",\"id\":\"616005e0-cb44-4fa1-cf67-7d4c88ad14e3\"}},{\"columns\":[\"y\"],\"source\":{\"type\":\"ColumnDataSource\",\"id\":\"9fbd22d3-07b9-4ac4-ca21-4c371a1280f1\"}}],\"id\":\"e5d03609-26ea-4944-c920-c76e4838e0b9\",\"tags\":[],\"doc\":null}},{\"id\":\"4add050b-5bf5-451e-c561-11128ce7e478\",\"type\":\"ToolEvents\",\"attributes\":{\"tags\":[],\"id\":\"4add050b-5bf5-451e-c561-11128ce7e478\",\"geometries\":[],\"doc\":null}},{\"id\":\"99aedfb6-bedb-41f1-c111-af529cd3c40f\",\"type\":\"BasicTickFormatter\",\"attributes\":{\"id\":\"99aedfb6-bedb-41f1-c111-af529cd3c40f\",\"tags\":[],\"doc\":null}},{\"id\":\"16d97213-1f2d-4e8d-ce5b-8e5cf994c54d\",\"type\":\"BasicTicker\",\"attributes\":{\"num_minor_ticks\":5,\"id\":\"16d97213-1f2d-4e8d-ce5b-8e5cf994c54d\",\"tags\":[],\"doc\":null}},{\"id\":\"e84f92a8-038e-4789-c738-8163e79af5cc\",\"type\":\"LinearAxis\",\"attributes\":{\"formatter\":{\"type\":\"BasicTickFormatter\",\"id\":\"99aedfb6-bedb-41f1-c111-af529cd3c40f\"},\"ticker\":{\"type\":\"BasicTicker\",\"id\":\"16d97213-1f2d-4e8d-ce5b-8e5cf994c54d\"},\"plot\":{\"id\":\"a62af82b-3482-49d0-c945-dcce430b3412\",\"type\":\"Plot\",\"subtype\":\"Figure\"},\"axis_label\":null,\"id\":\"e84f92a8-038e-4789-c738-8163e79af5cc\",\"doc\":null,\"tags\":[]}},{\"id\":\"efc503c1-177a-4a90-ca40-8df96baeb8ec\",\"type\":\"Grid\",\"attributes\":{\"dimension\":0,\"plot\":{\"id\":\"a62af82b-3482-49d0-c945-dcce430b3412\",\"type\":\"Plot\",\"subtype\":\"Figure\"},\"ticker\":{\"type\":\"BasicTicker\",\"id\":\"16d97213-1f2d-4e8d-ce5b-8e5cf994c54d\"},\"id\":\"efc503c1-177a-4a90-ca40-8df96baeb8ec\",\"doc\":null,\"tags\":[]}},{\"id\":\"71f82791-3c8e-4775-c733-351aa8d8ccfd\",\"type\":\"BasicTickFormatter\",\"attributes\":{\"id\":\"71f82791-3c8e-4775-c733-351aa8d8ccfd\",\"tags\":[],\"doc\":null}},{\"id\":\"77d84a91-a67f-4e9a-ce4a-e66abf9dd448\",\"type\":\"BasicTicker\",\"attributes\":{\"num_minor_ticks\":5,\"id\":\"77d84a91-a67f-4e9a-ce4a-e66abf9dd448\",\"tags\":[],\"doc\":null}},{\"id\":\"a65884b6-f852-4272-c2a0-8d6e08dae103\",\"type\":\"LinearAxis\",\"attributes\":{\"formatter\":{\"type\":\"BasicTickFormatter\",\"id\":\"71f82791-3c8e-4775-c733-351aa8d8ccfd\"},\"ticker\":{\"type\":\"BasicTicker\",\"id\":\"77d84a91-a67f-4e9a-ce4a-e66abf9dd448\"},\"plot\":{\"id\":\"a62af82b-3482-49d0-c945-dcce430b3412\",\"type\":\"Plot\",\"subtype\":\"Figure\"},\"axis_label\":null,\"id\":\"a65884b6-f852-4272-c2a0-8d6e08dae103\",\"doc\":null,\"tags\":[]}},{\"id\":\"9a8fda9d-a1eb-4edd-ceab-fa125cca7155\",\"type\":\"Grid\",\"attributes\":{\"dimension\":1,\"plot\":{\"id\":\"a62af82b-3482-49d0-c945-dcce430b3412\",\"type\":\"Plot\",\"subtype\":\"Figure\"},\"ticker\":{\"type\":\"BasicTicker\",\"id\":\"77d84a91-a67f-4e9a-ce4a-e66abf9dd448\"},\"id\":\"9a8fda9d-a1eb-4edd-ceab-fa125cca7155\",\"doc\":null,\"tags\":[]}},{\"id\":\"eac357e9-64d1-4849-c82a-f29d3d50d0a6\",\"type\":\"PanTool\",\"attributes\":{\"plot\":{\"id\":\"a62af82b-3482-49d0-c945-dcce430b3412\",\"type\":\"Plot\",\"subtype\":\"Figure\"},\"dimensions\":[\"width\",\"height\"],\"id\":\"eac357e9-64d1-4849-c82a-f29d3d50d0a6\",\"doc\":null,\"tags\":[]}},{\"id\":\"b080f2fa-7233-4bf2-cb6f-5f9f8d094fc7\",\"type\":\"WheelZoomTool\",\"attributes\":{\"plot\":{\"id\":\"a62af82b-3482-49d0-c945-dcce430b3412\",\"type\":\"Plot\",\"subtype\":\"Figure\"},\"dimensions\":[\"width\",\"height\"],\"id\":\"b080f2fa-7233-4bf2-cb6f-5f9f8d094fc7\",\"doc\":null,\"tags\":[]}},{\"id\":\"9b80f4cd-4cb9-40f0-c04a-d1a20fd98f6c\",\"type\":\"BoxZoomTool\",\"attributes\":{\"plot\":{\"id\":\"a62af82b-3482-49d0-c945-dcce430b3412\",\"type\":\"Plot\",\"subtype\":\"Figure\"},\"id\":\"9b80f4cd-4cb9-40f0-c04a-d1a20fd98f6c\",\"tags\":[],\"doc\":null}},{\"id\":\"4ce93e97-a14d-4fd8-cfc2-f4ccc39d99d6\",\"type\":\"PreviewSaveTool\",\"attributes\":{\"plot\":{\"id\":\"a62af82b-3482-49d0-c945-dcce430b3412\",\"type\":\"Plot\",\"subtype\":\"Figure\"},\"id\":\"4ce93e97-a14d-4fd8-cfc2-f4ccc39d99d6\",\"tags\":[],\"doc\":null}},{\"id\":\"dc45e33c-b7d9-41c6-c1bc-81d137bd3785\",\"type\":\"ResizeTool\",\"attributes\":{\"plot\":{\"id\":\"a62af82b-3482-49d0-c945-dcce430b3412\",\"type\":\"Plot\",\"subtype\":\"Figure\"},\"id\":\"dc45e33c-b7d9-41c6-c1bc-81d137bd3785\",\"tags\":[],\"doc\":null}},{\"id\":\"7142c424-76a1-4a32-ca03-613f6f9c1f67\",\"type\":\"ResetTool\",\"attributes\":{\"plot\":{\"id\":\"a62af82b-3482-49d0-c945-dcce430b3412\",\"type\":\"Plot\",\"subtype\":\"Figure\"},\"id\":\"7142c424-76a1-4a32-ca03-613f6f9c1f67\",\"tags\":[],\"doc\":null}},{\"id\":\"a62af82b-3482-49d0-c945-dcce430b3412\",\"type\":\"Plot\",\"attributes\":{\"x_range\":{\"type\":\"DataRange1d\",\"id\":\"d653b4e6-571d-45a1-c5d2-e046260b6d04\"},\"tool_events\":{\"type\":\"ToolEvents\",\"id\":\"4add050b-5bf5-451e-c561-11128ce7e478\"},\"below\":[{\"type\":\"LinearAxis\",\"id\":\"e84f92a8-038e-4789-c738-8163e79af5cc\"}],\"renderers\":[{\"type\":\"GlyphRenderer\",\"id\":\"a65d778e-ac5a-4d2c-cd64-e4ed29d5ebd2\"},{\"type\":\"GlyphRenderer\",\"id\":\"e33202b8-6d11-4066-c067-82c3122b56ae\"},{\"type\":\"LinearAxis\",\"id\":\"e84f92a8-038e-4789-c738-8163e79af5cc\"},{\"type\":\"Grid\",\"id\":\"efc503c1-177a-4a90-ca40-8df96baeb8ec\"},{\"type\":\"LinearAxis\",\"id\":\"a65884b6-f852-4272-c2a0-8d6e08dae103\"},{\"type\":\"Grid\",\"id\":\"9a8fda9d-a1eb-4edd-ceab-fa125cca7155\"}],\"above\":[],\"tools\":[{\"type\":\"PanTool\",\"id\":\"eac357e9-64d1-4849-c82a-f29d3d50d0a6\"},{\"type\":\"WheelZoomTool\",\"id\":\"b080f2fa-7233-4bf2-cb6f-5f9f8d094fc7\"},{\"type\":\"BoxZoomTool\",\"id\":\"9b80f4cd-4cb9-40f0-c04a-d1a20fd98f6c\"},{\"type\":\"PreviewSaveTool\",\"id\":\"4ce93e97-a14d-4fd8-cfc2-f4ccc39d99d6\"},{\"type\":\"ResizeTool\",\"id\":\"dc45e33c-b7d9-41c6-c1bc-81d137bd3785\"},{\"type\":\"ResetTool\",\"id\":\"7142c424-76a1-4a32-ca03-613f6f9c1f67\"}],\"doc\":null,\"right\":[],\"title\":\"Untitled Plot\",\"extra_x_ranges\":{},\"left\":[{\"type\":\"LinearAxis\",\"id\":\"a65884b6-f852-4272-c2a0-8d6e08dae103\"}],\"y_range\":{\"type\":\"DataRange1d\",\"id\":\"e5d03609-26ea-4944-c920-c76e4838e0b9\"},\"id\":\"a62af82b-3482-49d0-c945-dcce430b3412\",\"extra_y_ranges\":{},\"tags\":[]}}];\n",
       "      Bokeh.load_models(all_models);\n",
       "      var model = Bokeh.Collections(modeltype).get(modelid);\n",
       "      $(\"#9cee84f4-107d-4a80-cacc-5e5f181e2fe9\").html(''); // clear any previous plot in window_id\n",
       "      var view = new model.default_view({model: model, el: \"#9cee84f4-107d-4a80-cacc-5e5f181e2fe9\"});\n",
       "  });\n",
       "    }\n",
       "});\n",
       "</script>\n",
       "<div class=\"plotdiv\" id=\"9cee84f4-107d-4a80-cacc-5e5f181e2fe9\"></div>\n"
      ]
     },
     "metadata": {},
     "output_type": "display_data"
    },
    {
     "data": {
      "text/html": [
       "<script type=\"text/javascript\">\n",
       "$(function() {\n",
       "    if (typeof (window._bokeh_onload_callbacks) === \"undefined\"){\n",
       "  window._bokeh_onload_callbacks = [];\n",
       "    }\n",
       "    function load_lib(url, callback){\n",
       "  window._bokeh_onload_callbacks.push(callback);\n",
       "  if (window._bokeh_is_loading){\n",
       "      console.log(\"Bokeh: BokehJS is being loaded, scheduling callback at\", new Date());\n",
       "      return null;\n",
       "  }\n",
       "  console.log(\"Bokeh: BokehJS not loaded, scheduling load and callback at\", new Date());\n",
       "  window._bokeh_is_loading = true;\n",
       "  var s = document.createElement('script');\n",
       "  s.src = url;\n",
       "  s.async = true;\n",
       "  s.onreadystatechange = s.onload = function(){\n",
       "      Bokeh.embed.inject_css(\"https://cdn.pydata.org/bokeh-0.7.0.min.css\");\n",
       "      window._bokeh_onload_callbacks.forEach(function(callback){callback()});\n",
       "  };\n",
       "  s.onerror = function(){\n",
       "      console.warn(\"failed to load library \" + url);\n",
       "  };\n",
       "  document.getElementsByTagName(\"head\")[0].appendChild(s);\n",
       "    }\n",
       "\n",
       "    bokehjs_url = \"https://cdn.pydata.org/bokeh-0.7.0.min.js\"\n",
       "\n",
       "    var elt = document.getElementById(\"9cee84f4-107d-4a80-cacc-5e5f181e2fe9\");\n",
       "    if(elt==null) {\n",
       "  console.log(\"Bokeh: ERROR: autoload.js configured with elementid '9cee84f4-107d-4a80-cacc-5e5f181e2fe9'\"\n",
       "        + \"but no matching script tag was found. \")\n",
       "  return false;\n",
       "    }\n",
       "\n",
       "    if(typeof(Bokeh) !== \"undefined\") {\n",
       "  console.log(\"Bokeh: BokehJS loaded, going straight to plotting\");\n",
       "  var modelid = \"7b33f688-74c9-43a9-c36e-a761a74e3f19\";\n",
       "  var modeltype = \"Plot\";\n",
       "  var all_models = [{\"id\":\"d6c7e5ca-3bf6-4ebc-cead-b4ca26ee3b08\",\"type\":\"ColumnDataSource\",\"attributes\":{\"data\":{\"y\":[3.8228562145022,1.3990452845063,3.0767663537101,0.99897876636809,3.6535321823578,3.5532810896749,2.5020815182587,3.1447852943034,3.4302419281251,4.5010650730613,4.7776209223565,1.8074136695795,1.8251865961597,4.12436582395,2.758974551308,2.9738300916992,3.4498786732457,1.5823688531446,2.8645312038484,4.0332410550518,3.2092212757393,2.6737574826564,4.6604794373932,4.8581452770007,4.6068994320713,5.508017193401,1.9458239093587,3.1916602527302,3.4777901090125,1.7407068668933,3.5470396782926,1.6599709893214,2.9601244356233,3.437103021127,1.4244057860292,3.9053707458325,2.2739921649181,2.6653840763726,3.7301777602558,1.8214078606591,3.8594999375885,1.8645684935765,4.0797885231403,4.5283039892233,3.3881900675234,2.9645657726093,-0.092627573639315,2.7063721468394,3.3328197922453,2.7063458623762,-3.7106310484536,-3.2591478235269,-4.879097550392,-2.6672178118494,-4.6256606163648,-2.3725868696574,-3.4053339374274,-1.7074531013927,-1.8332309914266,-2.8199891533664,-2.5756273325466,-3.993414167929,-3.5763868262129,-3.4023196215884,-3.500811323706,-5.0455152955563,-2.3621866011488,-3.718641964189,-3.3440670529594,-3.6240124190892,-3.4639974421278,-0.80611517167226,-2.1516692655466,-3.5101011925626,-1.2855129195138,-3.000979089218,-4.5410555923086,-3.4698862966131,-3.2405364451968,-4.9039725470743,-1.8588691539031,-2.7132826132648,-2.6259696692773,-3.1629610119064,-3.8638243500292,-1.5953552830522,-3.4723932795763,-2.7370923299518,-3.3486681774608,-4.6821085603018,-1.8608690416287,-2.5242809528165,-3.3902184979881,-2.8194284711981,-2.9056383379465,-4.5855668872789,-2.4011070868385,-1.9451418568333,-2.873193790163,-1.7890183054148],\"x\":[3.5151961231926,3.6264056640899,2.3164025883735,5.1473125777961,3.8802346398338,1.8692144460006,2.3616501045998,3.3975500942422,2.8138115362935,2.2609593888117,3.8047938171265,2.6139547606042,4.01499864996,2.7198754090617,2.8676115481325,3.2651103095767,4.1347351989469,1.4161381852353,2.4383990447692,2.7864341012386,1.52735264522,2.9164163070955,2.2347988612766,3.8698838851106,3.9962581011103,1.9962379721458,2.1091368082587,2.9990106143374,3.2032633484407,0.38816075652976,3.4607353549001,3.9404531874331,3.4144687666089,4.5178626912067,3.2288894973433,2.7083022377437,3.8079184388178,4.665307877614,2.5510522546101,3.0273921962141,2.9474209361301,1.0057935917091,3.8834912877242,3.1150763699035,1.6022741404838,2.6536828975255,3.0789711411811,1.6450418632088,4.0214852550742,4.5833344491828,-3.972149027301,-2.9707764067518,-4.6838126361344,-1.6605050518884,-2.0269968198275,-2.695713515167,-2.9151632407961,-0.73638758532288,-3.9560123199479,-4.4143869360899,-2.4105788733217,-3.1544541756991,-3.371071761359,-4.2453708208014,-2.736917404502,-2.3703314983867,-1.7175685948741,-3.9979032285786,-3.9470066165845,-3.2415348900375,-2.3836008476088,-2.8327837914804,-3.963085970272,-2.8874068560323,-3.4366567576449,-5.198217002654,-4.5343301684908,-1.6740514829683,-4.5981581924816,-1.6633958730951,-4.3021120464781,-2.1558892029275,-0.70819352735017,-2.6300552923904,-2.0286141050783,-3.7145835260068,-3.1595390887163,-3.4453924670671,-3.0147975445791,-2.5547670333978,-1.3625504540171,-4.1628188934043,-4.3015461245922,-3.0524365926827,-3.4547348794259,-2.8977512177418,-3.7932754381023,-3.6689521259724,-1.2780825063688,-4.2413415067105]},\"column_names\":[\"y\",\"x\"],\"cont_ranges\":{},\"discrete_ranges\":{},\"selected\":[],\"id\":\"d6c7e5ca-3bf6-4ebc-cead-b4ca26ee3b08\",\"doc\":null,\"tags\":[]}},{\"id\":\"fc888b4c-5e98-4a04-cad4-66b07b62ce32\",\"type\":\"Circle\",\"attributes\":{\"fill_alpha\":{\"units\":\"data\",\"value\":0.2},\"line_alpha\":{\"units\":\"data\",\"value\":1},\"doc\":null,\"size\":{\"units\":\"screen\",\"value\":10},\"fill_color\":{\"value\":\"red\"},\"line_color\":{\"value\":\"red\"},\"x\":{\"units\":\"data\",\"field\":\"x\"},\"id\":\"fc888b4c-5e98-4a04-cad4-66b07b62ce32\",\"y\":{\"units\":\"data\",\"field\":\"y\"},\"tags\":[]}},{\"id\":\"1f298b0c-d8e4-45a8-c58f-5d346dc99186\",\"type\":\"Circle\",\"attributes\":{\"fill_alpha\":{\"units\":\"data\",\"value\":0.2},\"line_alpha\":{\"units\":\"data\",\"value\":1},\"doc\":null,\"size\":{\"units\":\"screen\",\"value\":10},\"fill_color\":{\"value\":\"red\"},\"line_color\":{\"value\":\"red\"},\"x\":{\"units\":\"data\",\"field\":\"x\"},\"id\":\"1f298b0c-d8e4-45a8-c58f-5d346dc99186\",\"y\":{\"units\":\"data\",\"field\":\"y\"},\"tags\":[]}},{\"id\":\"ce7b483f-00a2-49c3-c94d-93ef1c8337bd\",\"type\":\"GlyphRenderer\",\"attributes\":{\"name\":null,\"nonselection_glyph\":{\"type\":\"Circle\",\"id\":\"1f298b0c-d8e4-45a8-c58f-5d346dc99186\"},\"doc\":null,\"server_data_source\":null,\"data_source\":{\"type\":\"ColumnDataSource\",\"id\":\"d6c7e5ca-3bf6-4ebc-cead-b4ca26ee3b08\"},\"glyph\":{\"type\":\"Circle\",\"id\":\"fc888b4c-5e98-4a04-cad4-66b07b62ce32\"},\"selection_glyph\":null,\"id\":\"ce7b483f-00a2-49c3-c94d-93ef1c8337bd\",\"tags\":[]}},{\"id\":\"fb23cd0d-a3c5-402d-c0c6-97cc1cfa068d\",\"type\":\"ColumnDataSource\",\"attributes\":{\"data\":{\"y\":[1.7186064393951,1.7149976041572,2.840576083918,2.5636364866468,0.87940490174474,4.4990536657832,4.2728209585018,4.6525000227202,1.3827936704824,4.5129864476729,4.2577946207012,3.9938523370686,2.8904998836174,2.9803477096799,4.2229743420794,1.0392135076079,3.3792721787861,4.1485471379432,3.896436284346,3.4549341685037,4.0608721132561,1.7709786897557,2.9815073114381,3.6075727141365,3.8702685158287,2.2714445649134,3.7359853624368,3.5092303701728,3.5105430284954,3.8784162800302,3.0245255019091,3.535533734326,2.7589584595428,1.3389381730619,2.9832216404116,2.4806003027746,3.2576798416045,2.5610317901655,2.1767303418243,3.0350278206652,2.9451045886705,2.3835040126777,3.0881884589747,3.6366582678047,3.4823348826807,2.9998256430303,3.6744675541922,3.2089254299132,1.4774962135649,4.1027582866444,-1.3063943240638,-4.7825663269651,-3.7064827775233,-3.4406086571807,-3.1368035905156,-2.9285239765336,-3.4645698313948,-1.1640083862386,-3.3411626694336,-2.456899008354,-3.1586043255611,-1.9253495119334,-3.6245738927591,-2.0272179548348,-5.3838028432185,-3.2535232661209,-2.2633325229134,-3.6285178101499,-1.5972801984515,-1.553448458084,-2.2439499145425,-2.7599660069729,-3.2523292492973,-3.3738964038702,-3.7661458191569,-3.6183533508199,-2.6225694471584,-1.5900991740592,-1.8384421190932,-2.5454493922603,-1.0390256654954,-2.6362058848441,-2.6378925712228,-4.6566346996286,-3.9941328531088,-3.0092236077659,-3.2116324112034,-2.2115060807232,-3.1795034030732,-2.4474582301461,-1.0036440911717,-4.1022388834219,-3.2092677459674,-3.4849050302996,-2.5458557089188,-4.3089004171207,-0.77593346192674,-2.4194893608991,-3.4333762661956,-2.4578941802033],\"x\":[-3.2692041316983,-3.7796051797157,0.078309153235403,-4.3421909354049,-2.8990906954528,-4.4910959542357,-1.9943855088195,-2.2754035133724,-3.2990395229158,-2.0154941215478,-3.0733050169207,-2.8428787078343,-3.6394496743006,-2.6764387632972,-3.4126433928788,-2.9314864027924,-1.3525353371806,-1.7741573312584,-2.9506742498208,-1.306835915558,-0.95522615096455,-2.5558127798887,-3.3648825170399,-3.3236651660394,-2.8452531062784,-3.9400270325728,-2.0126424757883,-2.658879169747,-2.1703550266792,-2.902985753399,-2.2293791497462,-2.9052016379446,-4.2765217780832,-3.3162733668286,-3.7805153564168,-2.1852326342601,-5.516219212134,-1.4987067320885,-3.6694309414129,-2.4190792444481,-3.9140123842196,-3.0330052686247,-2.5775464390318,-4.2837598670497,-3.2273628051772,-1.987182017639,-2.7978753651292,-2.9639135207343,-3.9438125971283,-3.1560439207509,3.2943481404007,1.4947375218643,1.5365989932734,2.8050788165933,2.9499184566903,3.1535610884424,2.1617696803373,2.3649107034979,0.28841141188401,3.4835579002254,0.96604114189252,3.0509443088127,2.0847274870955,2.839664595821,1.6803209062904,3.5001064673447,3.4862256802203,5.0016441283642,1.539251119322,1.646706456976,1.7311633016216,1.9239465362252,2.2571781861345,2.0793659595492,2.6500644771436,2.9347613272493,2.1464607250788,4.3714866795371,3.780540266155,3.0792724842216,1.6693844290589,2.6100334825267,3.5491448171968,1.85656075356,4.5234643470879,3.1010813032803,4.4163113228848,3.2965424580814,2.7918440904235,3.4078816141572,2.7294023778986,1.7447138539339,3.365926997831,3.5088481069714,1.3506232568289,3.7059464406441,4.3375605621455,3.2303642137289,1.6763079411121,3.0340144158471]},\"column_names\":[\"y\",\"x\"],\"cont_ranges\":{},\"discrete_ranges\":{},\"selected\":[],\"id\":\"fb23cd0d-a3c5-402d-c0c6-97cc1cfa068d\",\"doc\":null,\"tags\":[]}},{\"id\":\"4702a18f-691f-47b7-c768-a1b99b634bb3\",\"type\":\"Circle\",\"attributes\":{\"fill_alpha\":{\"units\":\"data\",\"value\":0.2},\"line_alpha\":{\"units\":\"data\",\"value\":1},\"doc\":null,\"size\":{\"units\":\"screen\",\"value\":10},\"fill_color\":{\"value\":\"blue\"},\"line_color\":{\"value\":\"blue\"},\"x\":{\"units\":\"data\",\"field\":\"x\"},\"id\":\"4702a18f-691f-47b7-c768-a1b99b634bb3\",\"y\":{\"units\":\"data\",\"field\":\"y\"},\"tags\":[]}},{\"id\":\"2f1d6cb0-d1ea-4f95-cf82-eae2dcd58ce3\",\"type\":\"Circle\",\"attributes\":{\"fill_alpha\":{\"units\":\"data\",\"value\":0.2},\"line_alpha\":{\"units\":\"data\",\"value\":1},\"doc\":null,\"size\":{\"units\":\"screen\",\"value\":10},\"fill_color\":{\"value\":\"blue\"},\"line_color\":{\"value\":\"blue\"},\"x\":{\"units\":\"data\",\"field\":\"x\"},\"id\":\"2f1d6cb0-d1ea-4f95-cf82-eae2dcd58ce3\",\"y\":{\"units\":\"data\",\"field\":\"y\"},\"tags\":[]}},{\"id\":\"1483721b-34a5-4066-c055-71b6138eae06\",\"type\":\"GlyphRenderer\",\"attributes\":{\"name\":null,\"nonselection_glyph\":{\"type\":\"Circle\",\"id\":\"2f1d6cb0-d1ea-4f95-cf82-eae2dcd58ce3\"},\"doc\":null,\"server_data_source\":null,\"data_source\":{\"type\":\"ColumnDataSource\",\"id\":\"fb23cd0d-a3c5-402d-c0c6-97cc1cfa068d\"},\"glyph\":{\"type\":\"Circle\",\"id\":\"4702a18f-691f-47b7-c768-a1b99b634bb3\"},\"selection_glyph\":null,\"id\":\"1483721b-34a5-4066-c055-71b6138eae06\",\"tags\":[]}},{\"id\":\"ee235e71-ca48-457d-c5d4-023316c56f60\",\"type\":\"DataRange1d\",\"attributes\":{\"sources\":[{\"columns\":[\"x\"],\"source\":{\"type\":\"ColumnDataSource\",\"id\":\"d6c7e5ca-3bf6-4ebc-cead-b4ca26ee3b08\"}},{\"columns\":[\"x\"],\"source\":{\"type\":\"ColumnDataSource\",\"id\":\"fb23cd0d-a3c5-402d-c0c6-97cc1cfa068d\"}}],\"id\":\"ee235e71-ca48-457d-c5d4-023316c56f60\",\"tags\":[],\"doc\":null}},{\"id\":\"f8bba0c1-25c3-4a8e-ca98-61870a3c6a14\",\"type\":\"DataRange1d\",\"attributes\":{\"sources\":[{\"columns\":[\"y\"],\"source\":{\"type\":\"ColumnDataSource\",\"id\":\"d6c7e5ca-3bf6-4ebc-cead-b4ca26ee3b08\"}},{\"columns\":[\"y\"],\"source\":{\"type\":\"ColumnDataSource\",\"id\":\"fb23cd0d-a3c5-402d-c0c6-97cc1cfa068d\"}}],\"id\":\"f8bba0c1-25c3-4a8e-ca98-61870a3c6a14\",\"tags\":[],\"doc\":null}},{\"id\":\"adb05000-fa94-46d1-c65a-42aaf4aad545\",\"type\":\"ToolEvents\",\"attributes\":{\"tags\":[],\"id\":\"adb05000-fa94-46d1-c65a-42aaf4aad545\",\"geometries\":[],\"doc\":null}},{\"id\":\"d347ec52-3763-4eb1-cecd-42ca5d604078\",\"type\":\"BasicTickFormatter\",\"attributes\":{\"id\":\"d347ec52-3763-4eb1-cecd-42ca5d604078\",\"tags\":[],\"doc\":null}},{\"id\":\"268b1ed0-7ecc-495e-c960-f1a929382d99\",\"type\":\"BasicTicker\",\"attributes\":{\"num_minor_ticks\":5,\"id\":\"268b1ed0-7ecc-495e-c960-f1a929382d99\",\"tags\":[],\"doc\":null}},{\"id\":\"cca13569-da3c-41cb-c1b4-042ea050d81a\",\"type\":\"LinearAxis\",\"attributes\":{\"formatter\":{\"type\":\"BasicTickFormatter\",\"id\":\"d347ec52-3763-4eb1-cecd-42ca5d604078\"},\"ticker\":{\"type\":\"BasicTicker\",\"id\":\"268b1ed0-7ecc-495e-c960-f1a929382d99\"},\"plot\":{\"id\":\"7b33f688-74c9-43a9-c36e-a761a74e3f19\",\"type\":\"Plot\",\"subtype\":\"Figure\"},\"axis_label\":null,\"id\":\"cca13569-da3c-41cb-c1b4-042ea050d81a\",\"doc\":null,\"tags\":[]}},{\"id\":\"4112452d-89f9-4c2a-ccb3-a0a10992417f\",\"type\":\"Grid\",\"attributes\":{\"dimension\":0,\"plot\":{\"id\":\"7b33f688-74c9-43a9-c36e-a761a74e3f19\",\"type\":\"Plot\",\"subtype\":\"Figure\"},\"ticker\":{\"type\":\"BasicTicker\",\"id\":\"268b1ed0-7ecc-495e-c960-f1a929382d99\"},\"id\":\"4112452d-89f9-4c2a-ccb3-a0a10992417f\",\"doc\":null,\"tags\":[]}},{\"id\":\"7cba1b42-fb9d-40ce-c08e-cd16842e2324\",\"type\":\"BasicTickFormatter\",\"attributes\":{\"id\":\"7cba1b42-fb9d-40ce-c08e-cd16842e2324\",\"tags\":[],\"doc\":null}},{\"id\":\"d17ee0ee-9171-403c-c079-023cdb9d53af\",\"type\":\"BasicTicker\",\"attributes\":{\"num_minor_ticks\":5,\"id\":\"d17ee0ee-9171-403c-c079-023cdb9d53af\",\"tags\":[],\"doc\":null}},{\"id\":\"900c3751-9ec1-4dff-cdf1-a32d57ce2271\",\"type\":\"LinearAxis\",\"attributes\":{\"formatter\":{\"type\":\"BasicTickFormatter\",\"id\":\"7cba1b42-fb9d-40ce-c08e-cd16842e2324\"},\"ticker\":{\"type\":\"BasicTicker\",\"id\":\"d17ee0ee-9171-403c-c079-023cdb9d53af\"},\"plot\":{\"id\":\"7b33f688-74c9-43a9-c36e-a761a74e3f19\",\"type\":\"Plot\",\"subtype\":\"Figure\"},\"axis_label\":null,\"id\":\"900c3751-9ec1-4dff-cdf1-a32d57ce2271\",\"doc\":null,\"tags\":[]}},{\"id\":\"849c5a2e-096b-4a60-ca6c-1e6f545f6da0\",\"type\":\"Grid\",\"attributes\":{\"dimension\":1,\"plot\":{\"id\":\"7b33f688-74c9-43a9-c36e-a761a74e3f19\",\"type\":\"Plot\",\"subtype\":\"Figure\"},\"ticker\":{\"type\":\"BasicTicker\",\"id\":\"d17ee0ee-9171-403c-c079-023cdb9d53af\"},\"id\":\"849c5a2e-096b-4a60-ca6c-1e6f545f6da0\",\"doc\":null,\"tags\":[]}},{\"id\":\"dae14046-5479-4ca0-cc88-0cbeaf4124f8\",\"type\":\"PanTool\",\"attributes\":{\"plot\":{\"id\":\"7b33f688-74c9-43a9-c36e-a761a74e3f19\",\"type\":\"Plot\",\"subtype\":\"Figure\"},\"dimensions\":[\"width\",\"height\"],\"id\":\"dae14046-5479-4ca0-cc88-0cbeaf4124f8\",\"doc\":null,\"tags\":[]}},{\"id\":\"35d12d5d-e783-476d-c714-acb56ae666ea\",\"type\":\"WheelZoomTool\",\"attributes\":{\"plot\":{\"id\":\"7b33f688-74c9-43a9-c36e-a761a74e3f19\",\"type\":\"Plot\",\"subtype\":\"Figure\"},\"dimensions\":[\"width\",\"height\"],\"id\":\"35d12d5d-e783-476d-c714-acb56ae666ea\",\"doc\":null,\"tags\":[]}},{\"id\":\"d63ab810-ca87-430e-c3d7-dd5e294d2410\",\"type\":\"BoxZoomTool\",\"attributes\":{\"plot\":{\"id\":\"7b33f688-74c9-43a9-c36e-a761a74e3f19\",\"type\":\"Plot\",\"subtype\":\"Figure\"},\"id\":\"d63ab810-ca87-430e-c3d7-dd5e294d2410\",\"tags\":[],\"doc\":null}},{\"id\":\"b46dd6f1-4cf3-4703-c741-7bc0a3fb4a01\",\"type\":\"PreviewSaveTool\",\"attributes\":{\"plot\":{\"id\":\"7b33f688-74c9-43a9-c36e-a761a74e3f19\",\"type\":\"Plot\",\"subtype\":\"Figure\"},\"id\":\"b46dd6f1-4cf3-4703-c741-7bc0a3fb4a01\",\"tags\":[],\"doc\":null}},{\"id\":\"bbe76c08-5bb2-43e1-c3ac-2bc510c6f5e6\",\"type\":\"ResizeTool\",\"attributes\":{\"plot\":{\"id\":\"7b33f688-74c9-43a9-c36e-a761a74e3f19\",\"type\":\"Plot\",\"subtype\":\"Figure\"},\"id\":\"bbe76c08-5bb2-43e1-c3ac-2bc510c6f5e6\",\"tags\":[],\"doc\":null}},{\"id\":\"ae91db65-6e3a-4113-c121-63d48f2963ba\",\"type\":\"ResetTool\",\"attributes\":{\"plot\":{\"id\":\"7b33f688-74c9-43a9-c36e-a761a74e3f19\",\"type\":\"Plot\",\"subtype\":\"Figure\"},\"id\":\"ae91db65-6e3a-4113-c121-63d48f2963ba\",\"tags\":[],\"doc\":null}},{\"id\":\"7b33f688-74c9-43a9-c36e-a761a74e3f19\",\"type\":\"Plot\",\"attributes\":{\"x_range\":{\"type\":\"DataRange1d\",\"id\":\"ee235e71-ca48-457d-c5d4-023316c56f60\"},\"tool_events\":{\"type\":\"ToolEvents\",\"id\":\"adb05000-fa94-46d1-c65a-42aaf4aad545\"},\"below\":[{\"type\":\"LinearAxis\",\"id\":\"cca13569-da3c-41cb-c1b4-042ea050d81a\"}],\"renderers\":[{\"type\":\"GlyphRenderer\",\"id\":\"ce7b483f-00a2-49c3-c94d-93ef1c8337bd\"},{\"type\":\"GlyphRenderer\",\"id\":\"1483721b-34a5-4066-c055-71b6138eae06\"},{\"type\":\"LinearAxis\",\"id\":\"cca13569-da3c-41cb-c1b4-042ea050d81a\"},{\"type\":\"Grid\",\"id\":\"4112452d-89f9-4c2a-ccb3-a0a10992417f\"},{\"type\":\"LinearAxis\",\"id\":\"900c3751-9ec1-4dff-cdf1-a32d57ce2271\"},{\"type\":\"Grid\",\"id\":\"849c5a2e-096b-4a60-ca6c-1e6f545f6da0\"}],\"above\":[],\"tools\":[{\"type\":\"PanTool\",\"id\":\"dae14046-5479-4ca0-cc88-0cbeaf4124f8\"},{\"type\":\"WheelZoomTool\",\"id\":\"35d12d5d-e783-476d-c714-acb56ae666ea\"},{\"type\":\"BoxZoomTool\",\"id\":\"d63ab810-ca87-430e-c3d7-dd5e294d2410\"},{\"type\":\"PreviewSaveTool\",\"id\":\"b46dd6f1-4cf3-4703-c741-7bc0a3fb4a01\"},{\"type\":\"ResizeTool\",\"id\":\"bbe76c08-5bb2-43e1-c3ac-2bc510c6f5e6\"},{\"type\":\"ResetTool\",\"id\":\"ae91db65-6e3a-4113-c121-63d48f2963ba\"}],\"doc\":null,\"right\":[],\"title\":\"XOR Problem Representation\",\"extra_x_ranges\":{},\"left\":[{\"type\":\"LinearAxis\",\"id\":\"900c3751-9ec1-4dff-cdf1-a32d57ce2271\"}],\"y_range\":{\"type\":\"DataRange1d\",\"id\":\"f8bba0c1-25c3-4a8e-ca98-61870a3c6a14\"},\"id\":\"7b33f688-74c9-43a9-c36e-a761a74e3f19\",\"extra_y_ranges\":{},\"tags\":[]}}];\n",
       "  Bokeh.load_models(all_models);\n",
       "  var model = Bokeh.Collections(modeltype).get(modelid);\n",
       "  $(\"#9cee84f4-107d-4a80-cacc-5e5f181e2fe9\").html(''); // clear any previous plot in window_id\n",
       "  var view = new model.default_view({model: model, el: \"#9cee84f4-107d-4a80-cacc-5e5f181e2fe9\"});\n",
       "    } else {\n",
       "  load_lib(bokehjs_url, function() {\n",
       "      console.log(\"Bokeh: BokehJS plotting callback run at\", new Date())\n",
       "      var modelid = \"7b33f688-74c9-43a9-c36e-a761a74e3f19\";\n",
       "      var modeltype = \"Plot\";\n",
       "      var all_models = [{\"id\":\"d6c7e5ca-3bf6-4ebc-cead-b4ca26ee3b08\",\"type\":\"ColumnDataSource\",\"attributes\":{\"data\":{\"y\":[3.8228562145022,1.3990452845063,3.0767663537101,0.99897876636809,3.6535321823578,3.5532810896749,2.5020815182587,3.1447852943034,3.4302419281251,4.5010650730613,4.7776209223565,1.8074136695795,1.8251865961597,4.12436582395,2.758974551308,2.9738300916992,3.4498786732457,1.5823688531446,2.8645312038484,4.0332410550518,3.2092212757393,2.6737574826564,4.6604794373932,4.8581452770007,4.6068994320713,5.508017193401,1.9458239093587,3.1916602527302,3.4777901090125,1.7407068668933,3.5470396782926,1.6599709893214,2.9601244356233,3.437103021127,1.4244057860292,3.9053707458325,2.2739921649181,2.6653840763726,3.7301777602558,1.8214078606591,3.8594999375885,1.8645684935765,4.0797885231403,4.5283039892233,3.3881900675234,2.9645657726093,-0.092627573639315,2.7063721468394,3.3328197922453,2.7063458623762,-3.7106310484536,-3.2591478235269,-4.879097550392,-2.6672178118494,-4.6256606163648,-2.3725868696574,-3.4053339374274,-1.7074531013927,-1.8332309914266,-2.8199891533664,-2.5756273325466,-3.993414167929,-3.5763868262129,-3.4023196215884,-3.500811323706,-5.0455152955563,-2.3621866011488,-3.718641964189,-3.3440670529594,-3.6240124190892,-3.4639974421278,-0.80611517167226,-2.1516692655466,-3.5101011925626,-1.2855129195138,-3.000979089218,-4.5410555923086,-3.4698862966131,-3.2405364451968,-4.9039725470743,-1.8588691539031,-2.7132826132648,-2.6259696692773,-3.1629610119064,-3.8638243500292,-1.5953552830522,-3.4723932795763,-2.7370923299518,-3.3486681774608,-4.6821085603018,-1.8608690416287,-2.5242809528165,-3.3902184979881,-2.8194284711981,-2.9056383379465,-4.5855668872789,-2.4011070868385,-1.9451418568333,-2.873193790163,-1.7890183054148],\"x\":[3.5151961231926,3.6264056640899,2.3164025883735,5.1473125777961,3.8802346398338,1.8692144460006,2.3616501045998,3.3975500942422,2.8138115362935,2.2609593888117,3.8047938171265,2.6139547606042,4.01499864996,2.7198754090617,2.8676115481325,3.2651103095767,4.1347351989469,1.4161381852353,2.4383990447692,2.7864341012386,1.52735264522,2.9164163070955,2.2347988612766,3.8698838851106,3.9962581011103,1.9962379721458,2.1091368082587,2.9990106143374,3.2032633484407,0.38816075652976,3.4607353549001,3.9404531874331,3.4144687666089,4.5178626912067,3.2288894973433,2.7083022377437,3.8079184388178,4.665307877614,2.5510522546101,3.0273921962141,2.9474209361301,1.0057935917091,3.8834912877242,3.1150763699035,1.6022741404838,2.6536828975255,3.0789711411811,1.6450418632088,4.0214852550742,4.5833344491828,-3.972149027301,-2.9707764067518,-4.6838126361344,-1.6605050518884,-2.0269968198275,-2.695713515167,-2.9151632407961,-0.73638758532288,-3.9560123199479,-4.4143869360899,-2.4105788733217,-3.1544541756991,-3.371071761359,-4.2453708208014,-2.736917404502,-2.3703314983867,-1.7175685948741,-3.9979032285786,-3.9470066165845,-3.2415348900375,-2.3836008476088,-2.8327837914804,-3.963085970272,-2.8874068560323,-3.4366567576449,-5.198217002654,-4.5343301684908,-1.6740514829683,-4.5981581924816,-1.6633958730951,-4.3021120464781,-2.1558892029275,-0.70819352735017,-2.6300552923904,-2.0286141050783,-3.7145835260068,-3.1595390887163,-3.4453924670671,-3.0147975445791,-2.5547670333978,-1.3625504540171,-4.1628188934043,-4.3015461245922,-3.0524365926827,-3.4547348794259,-2.8977512177418,-3.7932754381023,-3.6689521259724,-1.2780825063688,-4.2413415067105]},\"column_names\":[\"y\",\"x\"],\"cont_ranges\":{},\"discrete_ranges\":{},\"selected\":[],\"id\":\"d6c7e5ca-3bf6-4ebc-cead-b4ca26ee3b08\",\"doc\":null,\"tags\":[]}},{\"id\":\"fc888b4c-5e98-4a04-cad4-66b07b62ce32\",\"type\":\"Circle\",\"attributes\":{\"fill_alpha\":{\"units\":\"data\",\"value\":0.2},\"line_alpha\":{\"units\":\"data\",\"value\":1},\"doc\":null,\"size\":{\"units\":\"screen\",\"value\":10},\"fill_color\":{\"value\":\"red\"},\"line_color\":{\"value\":\"red\"},\"x\":{\"units\":\"data\",\"field\":\"x\"},\"id\":\"fc888b4c-5e98-4a04-cad4-66b07b62ce32\",\"y\":{\"units\":\"data\",\"field\":\"y\"},\"tags\":[]}},{\"id\":\"1f298b0c-d8e4-45a8-c58f-5d346dc99186\",\"type\":\"Circle\",\"attributes\":{\"fill_alpha\":{\"units\":\"data\",\"value\":0.2},\"line_alpha\":{\"units\":\"data\",\"value\":1},\"doc\":null,\"size\":{\"units\":\"screen\",\"value\":10},\"fill_color\":{\"value\":\"red\"},\"line_color\":{\"value\":\"red\"},\"x\":{\"units\":\"data\",\"field\":\"x\"},\"id\":\"1f298b0c-d8e4-45a8-c58f-5d346dc99186\",\"y\":{\"units\":\"data\",\"field\":\"y\"},\"tags\":[]}},{\"id\":\"ce7b483f-00a2-49c3-c94d-93ef1c8337bd\",\"type\":\"GlyphRenderer\",\"attributes\":{\"name\":null,\"nonselection_glyph\":{\"type\":\"Circle\",\"id\":\"1f298b0c-d8e4-45a8-c58f-5d346dc99186\"},\"doc\":null,\"server_data_source\":null,\"data_source\":{\"type\":\"ColumnDataSource\",\"id\":\"d6c7e5ca-3bf6-4ebc-cead-b4ca26ee3b08\"},\"glyph\":{\"type\":\"Circle\",\"id\":\"fc888b4c-5e98-4a04-cad4-66b07b62ce32\"},\"selection_glyph\":null,\"id\":\"ce7b483f-00a2-49c3-c94d-93ef1c8337bd\",\"tags\":[]}},{\"id\":\"fb23cd0d-a3c5-402d-c0c6-97cc1cfa068d\",\"type\":\"ColumnDataSource\",\"attributes\":{\"data\":{\"y\":[1.7186064393951,1.7149976041572,2.840576083918,2.5636364866468,0.87940490174474,4.4990536657832,4.2728209585018,4.6525000227202,1.3827936704824,4.5129864476729,4.2577946207012,3.9938523370686,2.8904998836174,2.9803477096799,4.2229743420794,1.0392135076079,3.3792721787861,4.1485471379432,3.896436284346,3.4549341685037,4.0608721132561,1.7709786897557,2.9815073114381,3.6075727141365,3.8702685158287,2.2714445649134,3.7359853624368,3.5092303701728,3.5105430284954,3.8784162800302,3.0245255019091,3.535533734326,2.7589584595428,1.3389381730619,2.9832216404116,2.4806003027746,3.2576798416045,2.5610317901655,2.1767303418243,3.0350278206652,2.9451045886705,2.3835040126777,3.0881884589747,3.6366582678047,3.4823348826807,2.9998256430303,3.6744675541922,3.2089254299132,1.4774962135649,4.1027582866444,-1.3063943240638,-4.7825663269651,-3.7064827775233,-3.4406086571807,-3.1368035905156,-2.9285239765336,-3.4645698313948,-1.1640083862386,-3.3411626694336,-2.456899008354,-3.1586043255611,-1.9253495119334,-3.6245738927591,-2.0272179548348,-5.3838028432185,-3.2535232661209,-2.2633325229134,-3.6285178101499,-1.5972801984515,-1.553448458084,-2.2439499145425,-2.7599660069729,-3.2523292492973,-3.3738964038702,-3.7661458191569,-3.6183533508199,-2.6225694471584,-1.5900991740592,-1.8384421190932,-2.5454493922603,-1.0390256654954,-2.6362058848441,-2.6378925712228,-4.6566346996286,-3.9941328531088,-3.0092236077659,-3.2116324112034,-2.2115060807232,-3.1795034030732,-2.4474582301461,-1.0036440911717,-4.1022388834219,-3.2092677459674,-3.4849050302996,-2.5458557089188,-4.3089004171207,-0.77593346192674,-2.4194893608991,-3.4333762661956,-2.4578941802033],\"x\":[-3.2692041316983,-3.7796051797157,0.078309153235403,-4.3421909354049,-2.8990906954528,-4.4910959542357,-1.9943855088195,-2.2754035133724,-3.2990395229158,-2.0154941215478,-3.0733050169207,-2.8428787078343,-3.6394496743006,-2.6764387632972,-3.4126433928788,-2.9314864027924,-1.3525353371806,-1.7741573312584,-2.9506742498208,-1.306835915558,-0.95522615096455,-2.5558127798887,-3.3648825170399,-3.3236651660394,-2.8452531062784,-3.9400270325728,-2.0126424757883,-2.658879169747,-2.1703550266792,-2.902985753399,-2.2293791497462,-2.9052016379446,-4.2765217780832,-3.3162733668286,-3.7805153564168,-2.1852326342601,-5.516219212134,-1.4987067320885,-3.6694309414129,-2.4190792444481,-3.9140123842196,-3.0330052686247,-2.5775464390318,-4.2837598670497,-3.2273628051772,-1.987182017639,-2.7978753651292,-2.9639135207343,-3.9438125971283,-3.1560439207509,3.2943481404007,1.4947375218643,1.5365989932734,2.8050788165933,2.9499184566903,3.1535610884424,2.1617696803373,2.3649107034979,0.28841141188401,3.4835579002254,0.96604114189252,3.0509443088127,2.0847274870955,2.839664595821,1.6803209062904,3.5001064673447,3.4862256802203,5.0016441283642,1.539251119322,1.646706456976,1.7311633016216,1.9239465362252,2.2571781861345,2.0793659595492,2.6500644771436,2.9347613272493,2.1464607250788,4.3714866795371,3.780540266155,3.0792724842216,1.6693844290589,2.6100334825267,3.5491448171968,1.85656075356,4.5234643470879,3.1010813032803,4.4163113228848,3.2965424580814,2.7918440904235,3.4078816141572,2.7294023778986,1.7447138539339,3.365926997831,3.5088481069714,1.3506232568289,3.7059464406441,4.3375605621455,3.2303642137289,1.6763079411121,3.0340144158471]},\"column_names\":[\"y\",\"x\"],\"cont_ranges\":{},\"discrete_ranges\":{},\"selected\":[],\"id\":\"fb23cd0d-a3c5-402d-c0c6-97cc1cfa068d\",\"doc\":null,\"tags\":[]}},{\"id\":\"4702a18f-691f-47b7-c768-a1b99b634bb3\",\"type\":\"Circle\",\"attributes\":{\"fill_alpha\":{\"units\":\"data\",\"value\":0.2},\"line_alpha\":{\"units\":\"data\",\"value\":1},\"doc\":null,\"size\":{\"units\":\"screen\",\"value\":10},\"fill_color\":{\"value\":\"blue\"},\"line_color\":{\"value\":\"blue\"},\"x\":{\"units\":\"data\",\"field\":\"x\"},\"id\":\"4702a18f-691f-47b7-c768-a1b99b634bb3\",\"y\":{\"units\":\"data\",\"field\":\"y\"},\"tags\":[]}},{\"id\":\"2f1d6cb0-d1ea-4f95-cf82-eae2dcd58ce3\",\"type\":\"Circle\",\"attributes\":{\"fill_alpha\":{\"units\":\"data\",\"value\":0.2},\"line_alpha\":{\"units\":\"data\",\"value\":1},\"doc\":null,\"size\":{\"units\":\"screen\",\"value\":10},\"fill_color\":{\"value\":\"blue\"},\"line_color\":{\"value\":\"blue\"},\"x\":{\"units\":\"data\",\"field\":\"x\"},\"id\":\"2f1d6cb0-d1ea-4f95-cf82-eae2dcd58ce3\",\"y\":{\"units\":\"data\",\"field\":\"y\"},\"tags\":[]}},{\"id\":\"1483721b-34a5-4066-c055-71b6138eae06\",\"type\":\"GlyphRenderer\",\"attributes\":{\"name\":null,\"nonselection_glyph\":{\"type\":\"Circle\",\"id\":\"2f1d6cb0-d1ea-4f95-cf82-eae2dcd58ce3\"},\"doc\":null,\"server_data_source\":null,\"data_source\":{\"type\":\"ColumnDataSource\",\"id\":\"fb23cd0d-a3c5-402d-c0c6-97cc1cfa068d\"},\"glyph\":{\"type\":\"Circle\",\"id\":\"4702a18f-691f-47b7-c768-a1b99b634bb3\"},\"selection_glyph\":null,\"id\":\"1483721b-34a5-4066-c055-71b6138eae06\",\"tags\":[]}},{\"id\":\"ee235e71-ca48-457d-c5d4-023316c56f60\",\"type\":\"DataRange1d\",\"attributes\":{\"sources\":[{\"columns\":[\"x\"],\"source\":{\"type\":\"ColumnDataSource\",\"id\":\"d6c7e5ca-3bf6-4ebc-cead-b4ca26ee3b08\"}},{\"columns\":[\"x\"],\"source\":{\"type\":\"ColumnDataSource\",\"id\":\"fb23cd0d-a3c5-402d-c0c6-97cc1cfa068d\"}}],\"id\":\"ee235e71-ca48-457d-c5d4-023316c56f60\",\"tags\":[],\"doc\":null}},{\"id\":\"f8bba0c1-25c3-4a8e-ca98-61870a3c6a14\",\"type\":\"DataRange1d\",\"attributes\":{\"sources\":[{\"columns\":[\"y\"],\"source\":{\"type\":\"ColumnDataSource\",\"id\":\"d6c7e5ca-3bf6-4ebc-cead-b4ca26ee3b08\"}},{\"columns\":[\"y\"],\"source\":{\"type\":\"ColumnDataSource\",\"id\":\"fb23cd0d-a3c5-402d-c0c6-97cc1cfa068d\"}}],\"id\":\"f8bba0c1-25c3-4a8e-ca98-61870a3c6a14\",\"tags\":[],\"doc\":null}},{\"id\":\"adb05000-fa94-46d1-c65a-42aaf4aad545\",\"type\":\"ToolEvents\",\"attributes\":{\"tags\":[],\"id\":\"adb05000-fa94-46d1-c65a-42aaf4aad545\",\"geometries\":[],\"doc\":null}},{\"id\":\"d347ec52-3763-4eb1-cecd-42ca5d604078\",\"type\":\"BasicTickFormatter\",\"attributes\":{\"id\":\"d347ec52-3763-4eb1-cecd-42ca5d604078\",\"tags\":[],\"doc\":null}},{\"id\":\"268b1ed0-7ecc-495e-c960-f1a929382d99\",\"type\":\"BasicTicker\",\"attributes\":{\"num_minor_ticks\":5,\"id\":\"268b1ed0-7ecc-495e-c960-f1a929382d99\",\"tags\":[],\"doc\":null}},{\"id\":\"cca13569-da3c-41cb-c1b4-042ea050d81a\",\"type\":\"LinearAxis\",\"attributes\":{\"formatter\":{\"type\":\"BasicTickFormatter\",\"id\":\"d347ec52-3763-4eb1-cecd-42ca5d604078\"},\"ticker\":{\"type\":\"BasicTicker\",\"id\":\"268b1ed0-7ecc-495e-c960-f1a929382d99\"},\"plot\":{\"id\":\"7b33f688-74c9-43a9-c36e-a761a74e3f19\",\"type\":\"Plot\",\"subtype\":\"Figure\"},\"axis_label\":null,\"id\":\"cca13569-da3c-41cb-c1b4-042ea050d81a\",\"doc\":null,\"tags\":[]}},{\"id\":\"4112452d-89f9-4c2a-ccb3-a0a10992417f\",\"type\":\"Grid\",\"attributes\":{\"dimension\":0,\"plot\":{\"id\":\"7b33f688-74c9-43a9-c36e-a761a74e3f19\",\"type\":\"Plot\",\"subtype\":\"Figure\"},\"ticker\":{\"type\":\"BasicTicker\",\"id\":\"268b1ed0-7ecc-495e-c960-f1a929382d99\"},\"id\":\"4112452d-89f9-4c2a-ccb3-a0a10992417f\",\"doc\":null,\"tags\":[]}},{\"id\":\"7cba1b42-fb9d-40ce-c08e-cd16842e2324\",\"type\":\"BasicTickFormatter\",\"attributes\":{\"id\":\"7cba1b42-fb9d-40ce-c08e-cd16842e2324\",\"tags\":[],\"doc\":null}},{\"id\":\"d17ee0ee-9171-403c-c079-023cdb9d53af\",\"type\":\"BasicTicker\",\"attributes\":{\"num_minor_ticks\":5,\"id\":\"d17ee0ee-9171-403c-c079-023cdb9d53af\",\"tags\":[],\"doc\":null}},{\"id\":\"900c3751-9ec1-4dff-cdf1-a32d57ce2271\",\"type\":\"LinearAxis\",\"attributes\":{\"formatter\":{\"type\":\"BasicTickFormatter\",\"id\":\"7cba1b42-fb9d-40ce-c08e-cd16842e2324\"},\"ticker\":{\"type\":\"BasicTicker\",\"id\":\"d17ee0ee-9171-403c-c079-023cdb9d53af\"},\"plot\":{\"id\":\"7b33f688-74c9-43a9-c36e-a761a74e3f19\",\"type\":\"Plot\",\"subtype\":\"Figure\"},\"axis_label\":null,\"id\":\"900c3751-9ec1-4dff-cdf1-a32d57ce2271\",\"doc\":null,\"tags\":[]}},{\"id\":\"849c5a2e-096b-4a60-ca6c-1e6f545f6da0\",\"type\":\"Grid\",\"attributes\":{\"dimension\":1,\"plot\":{\"id\":\"7b33f688-74c9-43a9-c36e-a761a74e3f19\",\"type\":\"Plot\",\"subtype\":\"Figure\"},\"ticker\":{\"type\":\"BasicTicker\",\"id\":\"d17ee0ee-9171-403c-c079-023cdb9d53af\"},\"id\":\"849c5a2e-096b-4a60-ca6c-1e6f545f6da0\",\"doc\":null,\"tags\":[]}},{\"id\":\"dae14046-5479-4ca0-cc88-0cbeaf4124f8\",\"type\":\"PanTool\",\"attributes\":{\"plot\":{\"id\":\"7b33f688-74c9-43a9-c36e-a761a74e3f19\",\"type\":\"Plot\",\"subtype\":\"Figure\"},\"dimensions\":[\"width\",\"height\"],\"id\":\"dae14046-5479-4ca0-cc88-0cbeaf4124f8\",\"doc\":null,\"tags\":[]}},{\"id\":\"35d12d5d-e783-476d-c714-acb56ae666ea\",\"type\":\"WheelZoomTool\",\"attributes\":{\"plot\":{\"id\":\"7b33f688-74c9-43a9-c36e-a761a74e3f19\",\"type\":\"Plot\",\"subtype\":\"Figure\"},\"dimensions\":[\"width\",\"height\"],\"id\":\"35d12d5d-e783-476d-c714-acb56ae666ea\",\"doc\":null,\"tags\":[]}},{\"id\":\"d63ab810-ca87-430e-c3d7-dd5e294d2410\",\"type\":\"BoxZoomTool\",\"attributes\":{\"plot\":{\"id\":\"7b33f688-74c9-43a9-c36e-a761a74e3f19\",\"type\":\"Plot\",\"subtype\":\"Figure\"},\"id\":\"d63ab810-ca87-430e-c3d7-dd5e294d2410\",\"tags\":[],\"doc\":null}},{\"id\":\"b46dd6f1-4cf3-4703-c741-7bc0a3fb4a01\",\"type\":\"PreviewSaveTool\",\"attributes\":{\"plot\":{\"id\":\"7b33f688-74c9-43a9-c36e-a761a74e3f19\",\"type\":\"Plot\",\"subtype\":\"Figure\"},\"id\":\"b46dd6f1-4cf3-4703-c741-7bc0a3fb4a01\",\"tags\":[],\"doc\":null}},{\"id\":\"bbe76c08-5bb2-43e1-c3ac-2bc510c6f5e6\",\"type\":\"ResizeTool\",\"attributes\":{\"plot\":{\"id\":\"7b33f688-74c9-43a9-c36e-a761a74e3f19\",\"type\":\"Plot\",\"subtype\":\"Figure\"},\"id\":\"bbe76c08-5bb2-43e1-c3ac-2bc510c6f5e6\",\"tags\":[],\"doc\":null}},{\"id\":\"ae91db65-6e3a-4113-c121-63d48f2963ba\",\"type\":\"ResetTool\",\"attributes\":{\"plot\":{\"id\":\"7b33f688-74c9-43a9-c36e-a761a74e3f19\",\"type\":\"Plot\",\"subtype\":\"Figure\"},\"id\":\"ae91db65-6e3a-4113-c121-63d48f2963ba\",\"tags\":[],\"doc\":null}},{\"id\":\"7b33f688-74c9-43a9-c36e-a761a74e3f19\",\"type\":\"Plot\",\"attributes\":{\"x_range\":{\"type\":\"DataRange1d\",\"id\":\"ee235e71-ca48-457d-c5d4-023316c56f60\"},\"tool_events\":{\"type\":\"ToolEvents\",\"id\":\"adb05000-fa94-46d1-c65a-42aaf4aad545\"},\"below\":[{\"type\":\"LinearAxis\",\"id\":\"cca13569-da3c-41cb-c1b4-042ea050d81a\"}],\"renderers\":[{\"type\":\"GlyphRenderer\",\"id\":\"ce7b483f-00a2-49c3-c94d-93ef1c8337bd\"},{\"type\":\"GlyphRenderer\",\"id\":\"1483721b-34a5-4066-c055-71b6138eae06\"},{\"type\":\"LinearAxis\",\"id\":\"cca13569-da3c-41cb-c1b4-042ea050d81a\"},{\"type\":\"Grid\",\"id\":\"4112452d-89f9-4c2a-ccb3-a0a10992417f\"},{\"type\":\"LinearAxis\",\"id\":\"900c3751-9ec1-4dff-cdf1-a32d57ce2271\"},{\"type\":\"Grid\",\"id\":\"849c5a2e-096b-4a60-ca6c-1e6f545f6da0\"}],\"above\":[],\"tools\":[{\"type\":\"PanTool\",\"id\":\"dae14046-5479-4ca0-cc88-0cbeaf4124f8\"},{\"type\":\"WheelZoomTool\",\"id\":\"35d12d5d-e783-476d-c714-acb56ae666ea\"},{\"type\":\"BoxZoomTool\",\"id\":\"d63ab810-ca87-430e-c3d7-dd5e294d2410\"},{\"type\":\"PreviewSaveTool\",\"id\":\"b46dd6f1-4cf3-4703-c741-7bc0a3fb4a01\"},{\"type\":\"ResizeTool\",\"id\":\"bbe76c08-5bb2-43e1-c3ac-2bc510c6f5e6\"},{\"type\":\"ResetTool\",\"id\":\"ae91db65-6e3a-4113-c121-63d48f2963ba\"}],\"doc\":null,\"right\":[],\"title\":\"XOR Problem Representation\",\"extra_x_ranges\":{},\"left\":[{\"type\":\"LinearAxis\",\"id\":\"900c3751-9ec1-4dff-cdf1-a32d57ce2271\"}],\"y_range\":{\"type\":\"DataRange1d\",\"id\":\"f8bba0c1-25c3-4a8e-ca98-61870a3c6a14\"},\"id\":\"7b33f688-74c9-43a9-c36e-a761a74e3f19\",\"extra_y_ranges\":{},\"tags\":[]}}];\n",
       "      Bokeh.load_models(all_models);\n",
       "      var model = Bokeh.Collections(modeltype).get(modelid);\n",
       "      $(\"#9cee84f4-107d-4a80-cacc-5e5f181e2fe9\").html(''); // clear any previous plot in window_id\n",
       "      var view = new model.default_view({model: model, el: \"#9cee84f4-107d-4a80-cacc-5e5f181e2fe9\"});\n",
       "  });\n",
       "    }\n",
       "});\n",
       "</script>\n",
       "<div class=\"plotdiv\" id=\"b621d74e-12d0-4229-c2f1-0ff703decdee\"></div>\n"
      ]
     },
     "metadata": {},
     "output_type": "display_data"
    }
   ],
   "source": [
    "-- scatter plots \n",
    "plot = Plot():circle(categories[1][\"x\"],categories[1][\"y\"],'red','accuracy'):circle(categories[2][\"x\"],categories[2][\"y\"],'blue','category_2'):draw()\n",
    "plot:title('XOR Problem Representation'):redraw() \n",
    "--plot:xaxis('iteration'):yaxis('MSE - Accuracy'):redraw() \n",
    "--plot:legend(true) \n",
    "plot:save('out.html')"
   ]
  },
  {
   "cell_type": "markdown",
   "metadata": {},
   "source": [
    "### Using gnuplot"
   ]
  },
  {
   "cell_type": "markdown",
   "metadata": {
    "variables": {
     "<span class=\"cm-number\">101</span>,<span class=\"cm-number\">200</span>": "<p><strong>[string &quot;<span class=\"cm-number\">101</span>,&lt;span clas...&quot;]:1: unexpected symbol near &#39;&lt;&#39;</strong>: </p>\n",
     "<span class=\"cm-number\">1</span>,<span class=\"cm-number\">100</span>": "<p><strong>[string &quot;<span class=\"cm-number\">1</span>,&lt;span class=...&quot;]:1: unexpected symbol near &#39;&lt;&#39;</strong>: </p>\n"
    }
   },
   "source": [
    "```lua\n",
    "gnuplot.figure()\n",
    "gnuplot.plot({x[{{1,100}}],'+' },{x[{{101,200}}],'+'})\n",
    "```"
   ]
  },
  {
   "cell_type": "markdown",
   "metadata": {
    "ExecuteTime": {
     "end_time": "2016-10-28T15:24:18",
     "start_time": "2016-10-28T13:24:18.151Z"
    },
    "variables": {
     "<span class=\"cm-number\">101</span>,<span class=\"cm-number\">200</span>": "<p><strong>[string &quot;<span class=\"cm-number\">101</span>,&lt;span clas...&quot;]:1: unexpected symbol near &#39;&lt;&#39;</strong>: </p>\n",
     "<span class=\"cm-number\">1</span>,<span class=\"cm-number\">100</span>": "<p><strong>[string &quot;<span class=\"cm-number\">1</span>,&lt;span class=...&quot;]:1: unexpected symbol near &#39;&lt;&#39;</strong>: </p>\n"
    }
   },
   "source": [
    "We are using the previously used "
   ]
  },
  {
   "cell_type": "code",
   "execution_count": null,
   "metadata": {
    "collapsed": true
   },
   "outputs": [],
   "source": [
    "function accuracy(labels,output)\n",
    "    -- This method computes the accuracy of a set of prediction y, compared to some expected labels\n",
    "    local pred_signs = torch.sign(output)\n",
    "    local correct_classification = torch.cmul(pred_signs,labels)\n",
    "    --local eval_params = torch.Tensor(1):fill(1):double()\n",
    "    return torch.mean(correct_classification:eq(1):double())\n",
    "end"
   ]
  },
  {
   "cell_type": "markdown",
   "metadata": {},
   "source": [
    "# Creating the Neural Network"
   ]
  },
  {
   "cell_type": "markdown",
   "metadata": {
    "ExecuteTime": {
     "end_time": "2016-10-28T15:52:48",
     "start_time": "2016-10-28T13:52:48.467Z"
    }
   },
   "source": [
    "The Neural Network we are about to create will be a 2->5->1 neural network."
   ]
  },
  {
   "cell_type": "code",
   "execution_count": 90,
   "metadata": {
    "ExecuteTime": {
     "end_time": "2016-10-28T15:55:37",
     "start_time": "2016-10-28T13:55:37.618Z"
    },
    "collapsed": false
   },
   "outputs": [
    {
     "data": {
      "text/plain": [
       "Precision : 0.97\t\n"
      ]
     },
     "execution_count": 90,
     "metadata": {},
     "output_type": "execute_result"
    }
   ],
   "source": [
    "-- 2 : creation du modele\n",
    "\n",
    "model1= nn.Linear(2,5)\n",
    "model2= nn.Linear(5,1)\n",
    "\n",
    "criterion= nn.MSECriterion() \n",
    "tanh = nn.Tanh()\n",
    "tanh1 = nn.Tanh()\n",
    "tanh2 = nn.Tanh()\n",
    "\n",
    "output1=torch.Tensor(5):fill(0) --o1\n",
    "y1=torch.Tensor(5):fill(0) --o2\n",
    "y2=torch.Tensor(1):fill(0) --o4\n",
    "output2=torch.Tensor(1):fill(0) --o3\n",
    "delta1 = 0\n",
    "delta2 = 0\n",
    "delta1tanh = 0\n",
    "delta2tanh = 0\n",
    "idx = 0\n",
    "\n",
    "\n",
    "-- 3 : Boucle d'apprentissage\n",
    "learning_rate= 0.01 \n",
    "maxEpoch= 500\n",
    "loss = 0\n",
    "all_losses={}\n",
    "\n",
    "\n",
    "for iteration=1,maxEpoch do\n",
    "\tmodel1:zeroGradParameters()\n",
    "        model2:zeroGradParameters()\n",
    "\tidx=math.random(x:size(1))\n",
    "\t--forward\n",
    "\toutput1 = model1:forward(x[idx])\n",
    "    \ty1 = tanh1:forward(output1)\n",
    "\toutput2 = model2:forward(y1)\n",
    "   \ty2 = tanh2:forward(output2) \n",
    "\tloss = loss + criterion:forward(y2,y[idx])\n",
    "\n",
    "\t--backward\n",
    "\tdelta2 = criterion:backward(y2,y[idx])\n",
    "\tdelta2tanh = tanh2:backward(output2,delta2)\n",
    "\tdelta1 = model2:backward(y1,delta2tanh)\n",
    "\tmodel2:updateParameters(learning_rate)\t\n",
    "\tdelta1tanh = tanh1:backward(output1,delta1)\n",
    "\tmodel1:backward(x[idx],delta1tanh)\n",
    "\tmodel1:updateParameters(learning_rate)\n",
    "\t\n",
    "end\t\n",
    "\t\n",
    "\n",
    "out1 = model1:forward(x)\n",
    "out2 = tanh1:forward(out1)\n",
    "out3 = model2:forward(out2)\n",
    "pred = tanh2:forward(out3)\n",
    "acc = accuracy(y,pred)\n",
    "print('Precision : '..acc)\n",
    "\n",
    "\n"
   ]
  },
  {
   "cell_type": "code",
   "execution_count": null,
   "metadata": {
    "collapsed": true
   },
   "outputs": [],
   "source": []
  },
  {
   "cell_type": "code",
   "execution_count": null,
   "metadata": {
    "collapsed": true
   },
   "outputs": [],
   "source": []
  },
  {
   "cell_type": "code",
   "execution_count": null,
   "metadata": {
    "collapsed": true
   },
   "outputs": [],
   "source": []
  },
  {
   "cell_type": "code",
   "execution_count": null,
   "metadata": {
    "collapsed": true
   },
   "outputs": [],
   "source": []
  }
 ],
 "metadata": {
  "kernelspec": {
   "display_name": "iTorch",
   "language": "lua",
   "name": "itorch"
  },
  "language_info": {
   "name": "lua",
   "version": "5.1"
  },
  "latex_envs": {
   "bibliofile": "biblio.bib",
   "cite_by": "apalike",
   "current_citInitial": 1,
   "eqLabelWithNumbers": true,
   "eqNumInitial": 0
  },
  "nav_menu": {},
  "toc": {
   "navigate_menu": true,
   "number_sections": true,
   "sideBar": true,
   "threshold": 6,
   "toc_cell": false,
   "toc_section_display": "block",
   "toc_window_display": false
  }
 },
 "nbformat": 4,
 "nbformat_minor": 0
}
