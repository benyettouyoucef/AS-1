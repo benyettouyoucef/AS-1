{
 "cells": [
  {
   "cell_type": "markdown",
   "metadata": {
    "collapsed": true
   },
   "source": [
    "# Highway Neural Networks "
   ]
  },
  {
   "cell_type": "markdown",
   "metadata": {},
   "source": [
    "Highway Neural Networks have been introduced by __Rupesh Kumar, Klaus Greff, Jurgen Schmidhuber __ in [this paper](https://arxiv.org/pdf/1505.00387v2.pdf). \n",
    "\n",
    "The goal of this paper was to be able to train Deep Neural Networks easily since the gradient tended to be vanishing by preventing the "
   ]
  },
  {
   "cell_type": "code",
   "execution_count": 2,
   "metadata": {
    "ExecuteTime": {
     "end_time": "2016-10-25T09:53:16",
     "start_time": "2016-10-25T07:53:16.392Z"
    },
    "collapsed": true
   },
   "outputs": [],
   "source": [
    "require 'nn';\n",
    "require 'nngraph'"
   ]
  },
  {
   "cell_type": "markdown",
   "metadata": {},
   "source": [
    "# Loading data "
   ]
  },
  {
   "cell_type": "code",
   "execution_count": 1,
   "metadata": {
    "ExecuteTime": {
     "end_time": "2016-10-25T09:53:13",
     "start_time": "2016-10-25T07:53:13.202Z"
    },
    "collapsed": false
   },
   "outputs": [
    {
     "data": {
      "text/plain": [
       "{\n",
       "  mnist_pipeline : function: 0x072bc070\n",
       "  mnist_munging : function: 0x06fbd290\n",
       "  train : \n",
       "    {\n",
       "      data : ByteTensor - size: 60000x28x28\n",
       "      size : 60000\n",
       "      label : ByteTensor - size: 60000\n",
       "    }\n",
       "  convert_to_tensor : function: 0x0751d2f0\n",
       "  classify_training_examples : function: 0x0700f188\n",
       "  reshaped_data : ByteTensor - size: 60000x784\n",
       "  get_target_classes : function: 0x0751ed48\n",
       "}\n"
      ]
     },
     "execution_count": 1,
     "metadata": {},
     "output_type": "execute_result"
    }
   ],
   "source": [
    "require 'david_tools'"
   ]
  },
  {
   "cell_type": "code",
   "execution_count": 4,
   "metadata": {
    "ExecuteTime": {
     "end_time": "2016-10-25T09:54:04",
     "start_time": "2016-10-25T07:54:02.871Z"
    },
    "collapsed": false
   },
   "outputs": [
    {
     "data": {
      "text/plain": [
       "times : \t\n",
       "{\n",
       "  reshaping : 1.0438530445099\n",
       "}\n"
      ]
     },
     "execution_count": 4,
     "metadata": {},
     "output_type": "execute_result"
    },
    {
     "data": {
      "text/plain": [
       "times : \t\n",
       "{\n",
       "  classifying : 0.1857168674469\n",
       "}\n",
       "# of example of class 1 : 6742\t\n",
       "# of example of class 2 : 5958\t\n"
      ]
     },
     "execution_count": 4,
     "metadata": {},
     "output_type": "execute_result"
    },
    {
     "data": {
      "text/plain": [
       "times : \t\n",
       "{\n",
       "  look_up_building : 0.014348983764648\n",
       "  global : 0.014357089996338\n",
       "  shuffling : 0.12929487228394\n",
       "}\n"
      ]
     },
     "execution_count": 4,
     "metadata": {},
     "output_type": "execute_result"
    }
   ],
   "source": [
    "training_set = mnist_pipeline(1,2)"
   ]
  },
  {
   "cell_type": "code",
   "execution_count": null,
   "metadata": {
    "collapsed": true
   },
   "outputs": [],
   "source": [
    "-- Reshaping the data\n",
    "model = nn.Linear(training_set.data:size()[1],50)"
   ]
  },
  {
   "cell_type": "code",
   "execution_count": null,
   "metadata": {
    "collapsed": true
   },
   "outputs": [],
   "source": [
    "net = nn.Sequential()\n",
    "net:add(nn.SpatialConvolution(1, 6, 5, 5)) -- 1 input image channel, 6 output channels, 5x5 convolution kernel\n",
    "net:add(nn.ReLU())                       -- non-linearity \n",
    "net:add(nn.SpatialMaxPooling(2,2,2,2))     -- A max-pooling operation that looks at 2x2 windows and finds the max.\n",
    "net:add(nn.SpatialConvolution(6, 16, 5, 5))\n",
    "net:add(nn.ReLU())                       -- non-linearity \n",
    "net:add(nn.SpatialMaxPooling(2,2,2,2))\n",
    "net:add(nn.View(16*5*5))                    -- reshapes from a 3D tensor of 16x5x5 into 1D tensor of 16*5*5\n",
    "net:add(nn.Linear(16*5*5, 120))             -- fully connected layer (matrix multiplication between input and weights)\n",
    "net:add(nn.ReLU())                       -- non-linearity \n",
    "net:add(nn.Linear(120, 84))\n",
    "net:add(nn.ReLU())                       -- non-linearity \n",
    "net:add(nn.Linear(84, 15))                   -- 15 is the number of outputs of the network (in this case, 15 digits)\n",
    "net:add(nn.LogSoftMax())                     -- converts the output to a log-probability. Useful for classification problems"
   ]
  },
  {
   "cell_type": "code",
   "execution_count": null,
   "metadata": {
    "collapsed": true
   },
   "outputs": [],
   "source": [
    "-- linear units\n",
    "\n",
    "model = nn.Sequential()\n",
    "model:add()"
   ]
  },
  {
   "cell_type": "code",
   "execution_count": 7,
   "metadata": {
    "ExecuteTime": {
     "end_time": "2016-10-25T09:57:21",
     "start_time": "2016-10-25T07:57:21.399Z"
    },
    "collapsed": true
   },
   "outputs": [],
   "source": []
  },
  {
   "cell_type": "code",
   "execution_count": 8,
   "metadata": {
    "ExecuteTime": {
     "end_time": "2016-10-25T09:57:21",
     "start_time": "2016-10-25T07:57:21.796Z"
    },
    "collapsed": true
   },
   "outputs": [],
   "source": [
    "x1 = nn.Identity()()\n",
    "x2 = nn.Identity()()"
   ]
  },
  {
   "cell_type": "code",
   "execution_count": 9,
   "metadata": {
    "ExecuteTime": {
     "end_time": "2016-10-25T09:57:22",
     "start_time": "2016-10-25T07:57:22.174Z"
    },
    "collapsed": false
   },
   "outputs": [],
   "source": [
    "a = nn.CAddTable()({x1, x2})\n",
    "m = nn.gModule({x1, x2}, {a})"
   ]
  },
  {
   "cell_type": "code",
   "execution_count": 10,
   "metadata": {
    "ExecuteTime": {
     "end_time": "2016-10-25T09:57:25",
     "start_time": "2016-10-25T07:57:25.346Z"
    },
    "collapsed": false,
    "scrolled": false
   },
   "outputs": [
    {
     "data": {
      "text/plain": [
       "nngraph.Node\n",
       "{\n",
       "  data : \n",
       "    {\n",
       "      annotations : \n",
       "        {\n",
       "          _debugLabel : [[string \"a = nn.CAddTable()({x1, x2})...\"]]:1_\n",
       "        }\n",
       "      module : \n",
       "        nn.CAddTable\n",
       "        {\n",
       "          gradInput : table: 0x56589718\n",
       "          _type : torch.DoubleTensor\n",
       "          output : DoubleTensor - empty\n",
       "        }\n",
       "      reverseMap : \n",
       "        {\n",
       "          nngraph.Node : true\n",
       "        }\n",
       "      forwardNodeId : 1\n",
       "      mapindex : \n",
       "        {\n",
       "          1 : \n",
       "            {\n",
       "              annotations : \n",
       "                {\n",
       "                  _debugLabel : [[string \"x1 = nn.Identity()()...\"]]:1_\n",
       "                }\n",
       "              module : \n",
       "                nn.Identity\n",
       "                {\n",
       "                  gradInput : DoubleTensor - empty\n",
       "                  _type : torch.DoubleTensor\n",
       "                  output : DoubleTensor - empty\n",
       "                }\n",
       "              reverseMap : \n",
       "                {\n",
       "                  nngraph.Node : true\n",
       "                }\n",
       "              forwardNodeId : 3\n",
       "              mapindex : \n",
       "                {\n",
       "                  1 : table: 0x5658b278\n",
       "                  table: 0x5658b278 : 1\n",
       "                }\n",
       "            }\n",
       "          2 : \n",
       "            {\n",
       "              annotations : \n",
       "  "
      ]
     },
     "execution_count": 10,
     "metadata": {},
     "output_type": "execute_result"
    },
    {
     "data": {
      "text/plain": [
       "              {\n",
       "                  _debugLabel : [[string \"x1 = nn.Identity()()...\"]]:2_\n",
       "                }\n",
       "              module : \n",
       "                nn.Identity\n",
       "                {\n",
       "                  gradInput : DoubleTensor - empty\n",
       "                  _type : torch.DoubleTensor\n",
       "                  output : DoubleTensor - empty\n",
       "                }\n",
       "              reverseMap : \n",
       "                {\n",
       "                  nngraph.Node : true\n",
       "                }\n",
       "              forwardNodeId : 4\n",
       "              mapindex : \n",
       "                {\n",
       "                  1 : table: 0x5658b2d8\n",
       "                  table: 0x5658b2d8 : 1\n",
       "                }\n",
       "            }\n",
       "          table: 0x56586b88 : 2\n",
       "          table: 0x56586300 : 1\n",
       "        }\n",
       "    }\n",
       "  visited : false\n",
       "  id : 2\n",
       "  marked : false\n",
       "  children : \n",
       "    {\n",
       "      1 : \n",
       "        nngraph.Node\n",
       "        {\n",
       "          data : \n",
       "            {\n",
       "              annotations : \n",
       "                {\n",
       "                  _debugLabel : [[string \"x1 = nn.Identity()()...\"]]:1_\n",
       "                }\n",
       "              module : \n",
       "                nn.Identity\n",
       "                {\n",
       "                  gradInput : DoubleTensor - empty\n",
       "                  _type : torch.DoubleTensor\n",
       "                  output : DoubleTensor - empty\n",
       "                }\n",
       "              reverseMap : \n",
       "                {\n",
       "                  nngraph.Node : true\n",
       "                }\n",
       "              forwardNodeId : 3\n",
       "              mapindex : \n",
       "                {\n",
       "                  1 : table: 0x5658b278\n",
       "                  table: 0x5658b278 : 1\n",
       "                }\n",
       "            }\n",
       "          visited : false\n",
       "          id : 3\n",
       "          marked : false\n",
       "          children : \n",
       "            {\n",
       "              1 : \n",
       "                nngraph.Node\n",
       "                {\n",
       "                  data : table: 0x5658b278\n",
       "                  visited : false\n",
       "                  id : 5\n",
       "                  marked : false\n",
       "                  children : table: 0x5658b418\n",
       "                }\n",
       "              nngraph.Node : 1\n",
       "            }\n",
       "        }\n",
       "      2 : \n",
       "        nngraph.Node\n",
       "        {\n",
       "          data : \n",
       "            {\n",
       "              annotations : \n",
       "                {\n",
       "                  _debugLabel : [[string \"x1 = nn.Identity()()...\"]]:2_\n",
       "                }\n",
       "              module : \n",
       "                nn.Identity\n",
       "                {\n",
       "                  gradInput : DoubleTensor - empty\n",
       "                  _type : torch.DoubleTensor\n",
       "                  output : DoubleTensor - empty\n",
       "                }\n",
       "              reverseMap : \n",
       "                {\n",
       "                  nngraph.Node : true\n",
       "                }\n",
       "              forwardNodeId : 4\n",
       "              mapindex : \n",
       "        "
      ]
     },
     "execution_count": 10,
     "metadata": {},
     "output_type": "execute_result"
    },
    {
     "data": {
      "text/plain": [
       "        {\n",
       "                  1 : table: 0x5658b2d8\n",
       "                  table: 0x5658b2d8 : 1\n",
       "                }\n",
       "            }\n",
       "          visited : false\n",
       "          id : 4\n",
       "          marked : false\n",
       "          children : \n",
       "            {\n",
       "              1 : \n",
       "                nngraph.Node\n",
       "                {\n",
       "                  data : table: 0x5658b2d8\n",
       "                  visited : false\n",
       "                  id : 6\n",
       "                  marked : false\n",
       "                  children : table: 0x5658b7e8\n",
       "                }\n",
       "              nngraph.Node : 1\n",
       "            }\n",
       "        }\n",
       "      nngraph.Node : 1\n",
       "      nngraph.Node : 2\n",
       "    }\n",
       "}\n"
      ]
     },
     "execution_count": 10,
     "metadata": {},
     "output_type": "execute_result"
    }
   ],
   "source": [
    "a"
   ]
  },
  {
   "cell_type": "code",
   "execution_count": null,
   "metadata": {
    "collapsed": true
   },
   "outputs": [],
   "source": []
  }
 ],
 "metadata": {
  "kernelspec": {
   "display_name": "iTorch",
   "language": "lua",
   "name": "itorch"
  },
  "language_info": {
   "name": "lua",
   "version": "5.1"
  },
  "latex_envs": {
   "bibliofile": "biblio.bib",
   "cite_by": "apalike",
   "current_citInitial": 1,
   "eqLabelWithNumbers": true,
   "eqNumInitial": 0
  },
  "nav_menu": {},
  "toc": {
   "navigate_menu": true,
   "number_sections": true,
   "sideBar": true,
   "threshold": 6,
   "toc_cell": false,
   "toc_section_display": "block",
   "toc_window_display": false
  }
 },
 "nbformat": 4,
 "nbformat_minor": 0
}
